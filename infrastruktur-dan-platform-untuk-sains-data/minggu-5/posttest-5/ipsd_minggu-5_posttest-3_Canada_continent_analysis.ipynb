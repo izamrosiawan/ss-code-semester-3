{
 "cells": [
  {
   "cell_type": "markdown",
   "metadata": {},
   "source": [
    "# Analisis Jumlah Imigran ke Canada per Benua\n",
    "*Revisi: hanya menampilkan total per Continent, setelah data dibersihkan sesuai instruksi*"
   ]
  },
  {
   "cell_type": "code",
   "execution_count": 1,
   "metadata": {},
   "outputs": [],
   "source": [
    "import pandas as pd\n",
    "import matplotlib.pyplot as plt"
   ]
  },
  {
   "cell_type": "code",
   "execution_count": 2,
   "metadata": {},
   "outputs": [],
   "source": [
    "# Load data dari file Excel\n",
    "df = pd.read_excel('Canada.xlsx', sheet_name=None)\n",
    "df_canada = df['Canada by Citizenship']"
   ]
  },
  {
   "cell_type": "code",
   "execution_count": 3,
   "metadata": {},
   "outputs": [],
   "source": [
    "# Bersihkan data sesuai instruksi\n",
    "# Hapus baris dengan OdName 'Unknown', 'Total' dan AreaName 'World'\n",
    "df_clean = df_canada[(df_canada['OdName'] != 'Unknown') &\n",
    "                    (df_canada['OdName'] != 'Total') &\n",
    "                    (df_canada['AreaName'] != 'World')].copy()"
   ]
  },
  {
   "cell_type": "code",
   "execution_count": 4,
   "metadata": {},
   "outputs": [],
   "source": [
    "# Tambahkan kolom total imigran (1980-2013)\n",
    "years = list(range(1980, 2014))\n",
    "df_clean['Total'] = df_clean[years].sum(axis=1)"
   ]
  },
  {
   "cell_type": "code",
   "execution_count": 5,
   "metadata": {},
   "outputs": [],
   "source": [
    "# Group by AreaName (Continent) dan jumlahkan total\n",
    "df_continent = df_clean.groupby('AreaName')['Total'].sum().sort_values(ascending=False)\n",
    "df_continent"
   ]
  },
  {
   "cell_type": "code",
   "execution_count": 6,
   "metadata": {},
   "outputs": [],
   "source": [
    "# Visualisasi hasil (seperti contoh ![image1](image1))\n",
    "plt.figure(figsize=(8,6))\n",
    "df_continent.plot(kind='bar')\n",
    "plt.title('Total Imigran per Benua (1980-2013)')\n",
    "plt.ylabel('Jumlah Imigran')\n",
    "plt.xlabel('Continent')\n",
    "plt.tight_layout()\n",
    "plt.show()"
   ]
  }
 ],
 "metadata": {
  "kernelspec": {
   "display_name": "Python 3",
   "language": "python",
   "name": "python3"
  },
  "language_info": {
   "name": "python",
   "version": "3.8"
  }
 },
 "nbformat": 4,
 "nbformat_minor": 5
}