{
 "cells": [
  {
   "cell_type": "code",
   "execution_count": 54,
   "id": "311382c0",
   "metadata": {},
   "outputs": [],
   "source": [
    "# Import library\n",
    "import pandas as pd\n",
    "import matplotlib.pyplot as plt"
   ]
  },
  {
   "cell_type": "code",
   "execution_count": 55,
   "id": "a2157bcc",
   "metadata": {},
   "outputs": [],
   "source": [
    "# Load data dari file Excel\n",
    "df = pd.read_excel('Canada.xlsx', sheet_name=None)"
   ]
  },
  {
   "cell_type": "markdown",
   "id": "65349cb1",
   "metadata": {},
   "source": [
    "1. Pembersihan Data"
   ]
  },
  {
   "cell_type": "markdown",
   "id": "86d4f10b",
   "metadata": {},
   "source": [
    "a. Hapus kolom kosong\n"
   ]
  },
  {
   "cell_type": "code",
   "execution_count": 56,
   "id": "3e965b4f",
   "metadata": {},
   "outputs": [],
   "source": [
    "# Hapus kolom yang seluruh nilainya NaN dari df['Canada by Citizenship']\n",
    "df_drop = df['Canada by Citizenship'].dropna(axis=1, how='all')"
   ]
  },
  {
   "cell_type": "markdown",
   "id": "4eeb9dc1",
   "metadata": {},
   "source": [
    "b. Tambahkan kolom baru Total_1980_2013 yang berisi total migran per negara."
   ]
  },
  {
   "cell_type": "code",
   "execution_count": null,
   "id": "97f26227",
   "metadata": {},
   "outputs": [],
   "source": []
  },
  {
   "cell_type": "markdown",
   "id": "bdb6f473",
   "metadata": {},
   "source": [
    "c. Tampilkan 5 negara dengan total imigran tertinggi beserta jumlahnya."
   ]
  },
  {
   "cell_type": "markdown",
   "id": "a636c62f",
   "metadata": {},
   "source": [
    "d. Ubah nama kolom pada dataset agar lebih mudah dibaca:\n",
    "• OdName menjadi Country\n",
    "• AreaName menjadi Continent\n",
    "• RegName menjadi Region"
   ]
  },
  {
   "cell_type": "markdown",
   "id": "d230d16c",
   "metadata": {},
   "source": [
    "2. Analisis\n"
   ]
  },
  {
   "cell_type": "markdown",
   "id": "7d7ba1a1",
   "metadata": {},
   "source": [
    "a. Hitung total imigran (dari seluruh negara) per tahun (1980–2013) dan tampilkan tahun dengan\n",
    "total tertinggi dan terendah."
   ]
  },
  {
   "cell_type": "markdown",
   "id": "243a7291",
   "metadata": {},
   "source": [
    "b. Gambarkan line chart tren total imigran per tahun dengan label sumbu yang jelas. (x=tahun,\n",
    "y=jumlah imigran)"
   ]
  },
  {
   "cell_type": "markdown",
   "id": "3f438bc0",
   "metadata": {},
   "source": [
    "c. Sebutkan tren umum migrasi ke Kanada berdasarkan grafik tersebut (apakah meningkat,\n",
    "menurun, atau fluktuatif ?).\n"
   ]
  },
  {
   "cell_type": "markdown",
   "id": "8e7f94de",
   "metadata": {},
   "source": [
    "3. Analisis Per Wilayah\n"
   ]
  },
  {
   "cell_type": "markdown",
   "id": "04222e3f",
   "metadata": {},
   "source": [
    "a. Kelompokkan data berdasarkan AreaName, hitung total imigran 1980–2013 untuk tiap\n",
    "wilayah.\n"
   ]
  },
  {
   "cell_type": "markdown",
   "id": "2de8ca3a",
   "metadata": {},
   "source": [
    "b. Tampilkan hasilnya dalam bar chart"
   ]
  },
  {
   "cell_type": "markdown",
   "id": "2d7f2f9e",
   "metadata": {},
   "source": [
    "c. Sebutkan wilayah dengan total imigran terbanyak dan paling sedikit, lalu tulis interpretasi\n",
    "singkatnya"
   ]
  },
  {
   "cell_type": "markdown",
   "id": "d90c397e",
   "metadata": {},
   "source": [
    "4. Tambahan:"
   ]
  },
  {
   "cell_type": "markdown",
   "id": "eda0c948",
   "metadata": {},
   "source": [
    "Lakukan komparasi jumlah imigran dari Pakistan dan Afghanistan selama tahun 1980–2013.\n",
    "• Hitung total imigran masing-masing negara untuk setiap tahun.\n",
    "• Buat stacked area chart yang menampilkan kontribusi kedua negara dari tahun ke tahun.\n",
    "• Jelaskan bagaimana tren migrasi Pakistan dan Afghanistan ke Kanada, apakah salah satu\n",
    "negara mendominasi, dan bagaimana perubahan dari waktu ke waktu"
   ]
  },
  {
   "cell_type": "markdown",
   "id": "3a8c4241",
   "metadata": {},
   "source": [
    "5. Insight"
   ]
  },
  {
   "cell_type": "markdown",
   "id": "264fa38b",
   "metadata": {},
   "source": [
    "• Negara mana paling banyak mengirim imigran?\n",
    "• Benua yang paling berkontribusi terhadap total migran ke Kanada?\n",
    "• Apakah jumlah migrasi cenderung naik dari tahun ke tahun?\n"
   ]
  },
  {
   "cell_type": "markdown",
   "id": "7eca1197",
   "metadata": {},
   "source": []
  }
 ],
 "metadata": {
  "kernelspec": {
   "display_name": "Python 3",
   "language": "python",
   "name": "python3"
  },
  "language_info": {
   "codemirror_mode": {
    "name": "ipython",
    "version": 3
   },
   "file_extension": ".py",
   "mimetype": "text/x-python",
   "name": "python",
   "nbconvert_exporter": "python",
   "pygments_lexer": "ipython3",
   "version": "3.11.9"
  }
 },
 "nbformat": 4,
 "nbformat_minor": 5
}
