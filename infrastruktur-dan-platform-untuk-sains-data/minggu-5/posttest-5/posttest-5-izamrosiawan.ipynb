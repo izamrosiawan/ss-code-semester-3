{
 "cells": [
  {
   "cell_type": "markdown",
   "metadata": {},
   "source": [
    "# Analisis Data Canada.xlsx\n",
    "*IPSd Minggu 5 - Posttest 3*"
   ]
  },
  {
   "cell_type": "code",
   "execution_count": 49,
   "metadata": {},
   "outputs": [],
   "source": [
    "# Import library\n",
    "import pandas as pd\n",
    "import matplotlib.pyplot as plt"
   ]
  },
  {
   "cell_type": "code",
   "execution_count": 50,
   "metadata": {},
   "outputs": [
    {
     "data": {
      "text/plain": [
       "['Canada by Citizenship']"
      ]
     },
     "execution_count": 50,
     "metadata": {},
     "output_type": "execute_result"
    }
   ],
   "source": [
    "# Load data dari file Excel\n",
    "df = pd.read_excel('Canada.xlsx', sheet_name=None)\n",
    "list(df.keys())  # Melihat sheet yang tersedia"
   ]
  },
  {
   "cell_type": "code",
   "execution_count": 51,
   "metadata": {},
   "outputs": [
    {
     "data": {
      "application/vnd.microsoft.datawrangler.viewer.v0+json": {
       "columns": [
        {
         "name": "index",
         "rawType": "int64",
         "type": "integer"
        },
        {
         "name": "OdName",
         "rawType": "object",
         "type": "string"
        },
        {
         "name": "AreaName",
         "rawType": "object",
         "type": "string"
        },
        {
         "name": "RegName",
         "rawType": "object",
         "type": "string"
        },
        {
         "name": "DevName",
         "rawType": "object",
         "type": "string"
        },
        {
         "name": "Unnamed: 4",
         "rawType": "float64",
         "type": "float"
        },
        {
         "name": "Unnamed: 5",
         "rawType": "float64",
         "type": "float"
        },
        {
         "name": "Unnamed: 6",
         "rawType": "float64",
         "type": "float"
        },
        {
         "name": "Unnamed: 7",
         "rawType": "float64",
         "type": "float"
        },
        {
         "name": "Unnamed: 8",
         "rawType": "float64",
         "type": "float"
        },
        {
         "name": "1980",
         "rawType": "int64",
         "type": "integer"
        },
        {
         "name": "1981",
         "rawType": "int64",
         "type": "integer"
        },
        {
         "name": "1982",
         "rawType": "int64",
         "type": "integer"
        },
        {
         "name": "1983",
         "rawType": "int64",
         "type": "integer"
        },
        {
         "name": "1984",
         "rawType": "int64",
         "type": "integer"
        },
        {
         "name": "1985",
         "rawType": "int64",
         "type": "integer"
        },
        {
         "name": "1986",
         "rawType": "int64",
         "type": "integer"
        },
        {
         "name": "1987",
         "rawType": "int64",
         "type": "integer"
        },
        {
         "name": "1988",
         "rawType": "int64",
         "type": "integer"
        },
        {
         "name": "1989",
         "rawType": "int64",
         "type": "integer"
        },
        {
         "name": "1990",
         "rawType": "int64",
         "type": "integer"
        },
        {
         "name": "1991",
         "rawType": "int64",
         "type": "integer"
        },
        {
         "name": "1992",
         "rawType": "int64",
         "type": "integer"
        },
        {
         "name": "1993",
         "rawType": "int64",
         "type": "integer"
        },
        {
         "name": "1994",
         "rawType": "int64",
         "type": "integer"
        },
        {
         "name": "1995",
         "rawType": "int64",
         "type": "integer"
        },
        {
         "name": "1996",
         "rawType": "int64",
         "type": "integer"
        },
        {
         "name": "1997",
         "rawType": "int64",
         "type": "integer"
        },
        {
         "name": "1998",
         "rawType": "int64",
         "type": "integer"
        },
        {
         "name": "1999",
         "rawType": "int64",
         "type": "integer"
        },
        {
         "name": "2000",
         "rawType": "int64",
         "type": "integer"
        },
        {
         "name": "2001",
         "rawType": "int64",
         "type": "integer"
        },
        {
         "name": "2002",
         "rawType": "int64",
         "type": "integer"
        },
        {
         "name": "2003",
         "rawType": "int64",
         "type": "integer"
        },
        {
         "name": "2004",
         "rawType": "int64",
         "type": "integer"
        },
        {
         "name": "2005",
         "rawType": "int64",
         "type": "integer"
        },
        {
         "name": "2006",
         "rawType": "int64",
         "type": "integer"
        },
        {
         "name": "2007",
         "rawType": "int64",
         "type": "integer"
        },
        {
         "name": "2008",
         "rawType": "int64",
         "type": "integer"
        },
        {
         "name": "2009",
         "rawType": "int64",
         "type": "integer"
        },
        {
         "name": "2010",
         "rawType": "int64",
         "type": "integer"
        },
        {
         "name": "2011",
         "rawType": "int64",
         "type": "integer"
        },
        {
         "name": "2012",
         "rawType": "int64",
         "type": "integer"
        },
        {
         "name": "2013",
         "rawType": "int64",
         "type": "integer"
        }
       ],
       "ref": "c7574c46-8d25-4166-bd85-25ec0c795b68",
       "rows": [
        [
         "0",
         "Afghanistan",
         "Asia",
         "Southern Asia",
         "Developing regions",
         null,
         null,
         null,
         null,
         null,
         "16",
         "39",
         "39",
         "47",
         "71",
         "340",
         "496",
         "741",
         "828",
         "1076",
         "1028",
         "1378",
         "1170",
         "713",
         "858",
         "1537",
         "2212",
         "2555",
         "1999",
         "2395",
         "3326",
         "4067",
         "3697",
         "3479",
         "2978",
         "3436",
         "3009",
         "2652",
         "2111",
         "1746",
         "1758",
         "2203",
         "2635",
         "2004"
        ],
        [
         "1",
         "Albania",
         "Europe",
         "Southern Europe",
         "Developed regions",
         null,
         null,
         null,
         null,
         null,
         "1",
         "0",
         "0",
         "0",
         "0",
         "0",
         "1",
         "2",
         "2",
         "3",
         "3",
         "21",
         "56",
         "96",
         "71",
         "63",
         "113",
         "307",
         "574",
         "1264",
         "1816",
         "1602",
         "1021",
         "853",
         "1450",
         "1223",
         "856",
         "702",
         "560",
         "716",
         "561",
         "539",
         "620",
         "603"
        ],
        [
         "2",
         "Algeria",
         "Africa",
         "Northern Africa",
         "Developing regions",
         null,
         null,
         null,
         null,
         null,
         "80",
         "67",
         "71",
         "69",
         "63",
         "44",
         "69",
         "132",
         "242",
         "434",
         "491",
         "872",
         "795",
         "717",
         "595",
         "1106",
         "2054",
         "1842",
         "2292",
         "2389",
         "2867",
         "3418",
         "3406",
         "3072",
         "3616",
         "3626",
         "4807",
         "3623",
         "4005",
         "5393",
         "4752",
         "4325",
         "3774",
         "4331"
        ],
        [
         "3",
         "American Samoa",
         "Oceania",
         "Polynesia",
         "Developing regions",
         null,
         null,
         null,
         null,
         null,
         "0",
         "1",
         "0",
         "0",
         "0",
         "0",
         "0",
         "1",
         "0",
         "1",
         "2",
         "0",
         "0",
         "0",
         "0",
         "0",
         "0",
         "0",
         "0",
         "0",
         "0",
         "0",
         "0",
         "0",
         "0",
         "0",
         "1",
         "0",
         "0",
         "0",
         "0",
         "0",
         "0",
         "0"
        ],
        [
         "4",
         "Andorra",
         "Europe",
         "Southern Europe",
         "Developed regions",
         null,
         null,
         null,
         null,
         null,
         "0",
         "0",
         "0",
         "0",
         "0",
         "0",
         "2",
         "0",
         "0",
         "0",
         "3",
         "0",
         "1",
         "0",
         "0",
         "0",
         "0",
         "0",
         "2",
         "0",
         "0",
         "1",
         "0",
         "2",
         "0",
         "0",
         "1",
         "1",
         "0",
         "0",
         "0",
         "0",
         "1",
         "1"
        ]
       ],
       "shape": {
        "columns": 43,
        "rows": 5
       }
      },
      "text/html": [
       "<div>\n",
       "<style scoped>\n",
       "    .dataframe tbody tr th:only-of-type {\n",
       "        vertical-align: middle;\n",
       "    }\n",
       "\n",
       "    .dataframe tbody tr th {\n",
       "        vertical-align: top;\n",
       "    }\n",
       "\n",
       "    .dataframe thead th {\n",
       "        text-align: right;\n",
       "    }\n",
       "</style>\n",
       "<table border=\"1\" class=\"dataframe\">\n",
       "  <thead>\n",
       "    <tr style=\"text-align: right;\">\n",
       "      <th></th>\n",
       "      <th>OdName</th>\n",
       "      <th>AreaName</th>\n",
       "      <th>RegName</th>\n",
       "      <th>DevName</th>\n",
       "      <th>Unnamed: 4</th>\n",
       "      <th>Unnamed: 5</th>\n",
       "      <th>Unnamed: 6</th>\n",
       "      <th>Unnamed: 7</th>\n",
       "      <th>Unnamed: 8</th>\n",
       "      <th>1980</th>\n",
       "      <th>...</th>\n",
       "      <th>2004</th>\n",
       "      <th>2005</th>\n",
       "      <th>2006</th>\n",
       "      <th>2007</th>\n",
       "      <th>2008</th>\n",
       "      <th>2009</th>\n",
       "      <th>2010</th>\n",
       "      <th>2011</th>\n",
       "      <th>2012</th>\n",
       "      <th>2013</th>\n",
       "    </tr>\n",
       "  </thead>\n",
       "  <tbody>\n",
       "    <tr>\n",
       "      <th>0</th>\n",
       "      <td>Afghanistan</td>\n",
       "      <td>Asia</td>\n",
       "      <td>Southern Asia</td>\n",
       "      <td>Developing regions</td>\n",
       "      <td>NaN</td>\n",
       "      <td>NaN</td>\n",
       "      <td>NaN</td>\n",
       "      <td>NaN</td>\n",
       "      <td>NaN</td>\n",
       "      <td>16</td>\n",
       "      <td>...</td>\n",
       "      <td>2978</td>\n",
       "      <td>3436</td>\n",
       "      <td>3009</td>\n",
       "      <td>2652</td>\n",
       "      <td>2111</td>\n",
       "      <td>1746</td>\n",
       "      <td>1758</td>\n",
       "      <td>2203</td>\n",
       "      <td>2635</td>\n",
       "      <td>2004</td>\n",
       "    </tr>\n",
       "    <tr>\n",
       "      <th>1</th>\n",
       "      <td>Albania</td>\n",
       "      <td>Europe</td>\n",
       "      <td>Southern Europe</td>\n",
       "      <td>Developed regions</td>\n",
       "      <td>NaN</td>\n",
       "      <td>NaN</td>\n",
       "      <td>NaN</td>\n",
       "      <td>NaN</td>\n",
       "      <td>NaN</td>\n",
       "      <td>1</td>\n",
       "      <td>...</td>\n",
       "      <td>1450</td>\n",
       "      <td>1223</td>\n",
       "      <td>856</td>\n",
       "      <td>702</td>\n",
       "      <td>560</td>\n",
       "      <td>716</td>\n",
       "      <td>561</td>\n",
       "      <td>539</td>\n",
       "      <td>620</td>\n",
       "      <td>603</td>\n",
       "    </tr>\n",
       "    <tr>\n",
       "      <th>2</th>\n",
       "      <td>Algeria</td>\n",
       "      <td>Africa</td>\n",
       "      <td>Northern Africa</td>\n",
       "      <td>Developing regions</td>\n",
       "      <td>NaN</td>\n",
       "      <td>NaN</td>\n",
       "      <td>NaN</td>\n",
       "      <td>NaN</td>\n",
       "      <td>NaN</td>\n",
       "      <td>80</td>\n",
       "      <td>...</td>\n",
       "      <td>3616</td>\n",
       "      <td>3626</td>\n",
       "      <td>4807</td>\n",
       "      <td>3623</td>\n",
       "      <td>4005</td>\n",
       "      <td>5393</td>\n",
       "      <td>4752</td>\n",
       "      <td>4325</td>\n",
       "      <td>3774</td>\n",
       "      <td>4331</td>\n",
       "    </tr>\n",
       "    <tr>\n",
       "      <th>3</th>\n",
       "      <td>American Samoa</td>\n",
       "      <td>Oceania</td>\n",
       "      <td>Polynesia</td>\n",
       "      <td>Developing regions</td>\n",
       "      <td>NaN</td>\n",
       "      <td>NaN</td>\n",
       "      <td>NaN</td>\n",
       "      <td>NaN</td>\n",
       "      <td>NaN</td>\n",
       "      <td>0</td>\n",
       "      <td>...</td>\n",
       "      <td>0</td>\n",
       "      <td>0</td>\n",
       "      <td>1</td>\n",
       "      <td>0</td>\n",
       "      <td>0</td>\n",
       "      <td>0</td>\n",
       "      <td>0</td>\n",
       "      <td>0</td>\n",
       "      <td>0</td>\n",
       "      <td>0</td>\n",
       "    </tr>\n",
       "    <tr>\n",
       "      <th>4</th>\n",
       "      <td>Andorra</td>\n",
       "      <td>Europe</td>\n",
       "      <td>Southern Europe</td>\n",
       "      <td>Developed regions</td>\n",
       "      <td>NaN</td>\n",
       "      <td>NaN</td>\n",
       "      <td>NaN</td>\n",
       "      <td>NaN</td>\n",
       "      <td>NaN</td>\n",
       "      <td>0</td>\n",
       "      <td>...</td>\n",
       "      <td>0</td>\n",
       "      <td>0</td>\n",
       "      <td>1</td>\n",
       "      <td>1</td>\n",
       "      <td>0</td>\n",
       "      <td>0</td>\n",
       "      <td>0</td>\n",
       "      <td>0</td>\n",
       "      <td>1</td>\n",
       "      <td>1</td>\n",
       "    </tr>\n",
       "  </tbody>\n",
       "</table>\n",
       "<p>5 rows × 43 columns</p>\n",
       "</div>"
      ],
      "text/plain": [
       "           OdName AreaName          RegName             DevName  Unnamed: 4  \\\n",
       "0     Afghanistan     Asia    Southern Asia  Developing regions         NaN   \n",
       "1         Albania   Europe  Southern Europe   Developed regions         NaN   \n",
       "2         Algeria   Africa  Northern Africa  Developing regions         NaN   \n",
       "3  American Samoa  Oceania        Polynesia  Developing regions         NaN   \n",
       "4         Andorra   Europe  Southern Europe   Developed regions         NaN   \n",
       "\n",
       "   Unnamed: 5  Unnamed: 6  Unnamed: 7  Unnamed: 8  1980  ...  2004  2005  \\\n",
       "0         NaN         NaN         NaN         NaN    16  ...  2978  3436   \n",
       "1         NaN         NaN         NaN         NaN     1  ...  1450  1223   \n",
       "2         NaN         NaN         NaN         NaN    80  ...  3616  3626   \n",
       "3         NaN         NaN         NaN         NaN     0  ...     0     0   \n",
       "4         NaN         NaN         NaN         NaN     0  ...     0     0   \n",
       "\n",
       "   2006  2007  2008  2009  2010  2011  2012  2013  \n",
       "0  3009  2652  2111  1746  1758  2203  2635  2004  \n",
       "1   856   702   560   716   561   539   620   603  \n",
       "2  4807  3623  4005  5393  4752  4325  3774  4331  \n",
       "3     1     0     0     0     0     0     0     0  \n",
       "4     1     1     0     0     0     0     1     1  \n",
       "\n",
       "[5 rows x 43 columns]"
      ]
     },
     "execution_count": 51,
     "metadata": {},
     "output_type": "execute_result"
    }
   ],
   "source": [
    "# Misal sheet utama bernama 'Canada by Citizenship'\n",
    "df_canada = df['Canada by Citizenship']\n",
    "df_canada.head()"
   ]
  },
  {
   "cell_type": "code",
   "execution_count": 52,
   "metadata": {},
   "outputs": [
    {
     "data": {
      "application/vnd.microsoft.datawrangler.viewer.v0+json": {
       "columns": [
        {
         "name": "Country",
         "rawType": "object",
         "type": "string"
        },
        {
         "name": "1980",
         "rawType": "int64",
         "type": "integer"
        },
        {
         "name": "1981",
         "rawType": "int64",
         "type": "integer"
        },
        {
         "name": "1982",
         "rawType": "int64",
         "type": "integer"
        },
        {
         "name": "1983",
         "rawType": "int64",
         "type": "integer"
        },
        {
         "name": "1984",
         "rawType": "int64",
         "type": "integer"
        },
        {
         "name": "1985",
         "rawType": "int64",
         "type": "integer"
        },
        {
         "name": "1986",
         "rawType": "int64",
         "type": "integer"
        },
        {
         "name": "1987",
         "rawType": "int64",
         "type": "integer"
        },
        {
         "name": "1988",
         "rawType": "int64",
         "type": "integer"
        },
        {
         "name": "1989",
         "rawType": "int64",
         "type": "integer"
        },
        {
         "name": "1990",
         "rawType": "int64",
         "type": "integer"
        },
        {
         "name": "1991",
         "rawType": "int64",
         "type": "integer"
        },
        {
         "name": "1992",
         "rawType": "int64",
         "type": "integer"
        },
        {
         "name": "1993",
         "rawType": "int64",
         "type": "integer"
        },
        {
         "name": "1994",
         "rawType": "int64",
         "type": "integer"
        },
        {
         "name": "1995",
         "rawType": "int64",
         "type": "integer"
        },
        {
         "name": "1996",
         "rawType": "int64",
         "type": "integer"
        },
        {
         "name": "1997",
         "rawType": "int64",
         "type": "integer"
        },
        {
         "name": "1998",
         "rawType": "int64",
         "type": "integer"
        },
        {
         "name": "1999",
         "rawType": "int64",
         "type": "integer"
        },
        {
         "name": "2000",
         "rawType": "int64",
         "type": "integer"
        },
        {
         "name": "2001",
         "rawType": "int64",
         "type": "integer"
        },
        {
         "name": "2002",
         "rawType": "int64",
         "type": "integer"
        },
        {
         "name": "2003",
         "rawType": "int64",
         "type": "integer"
        },
        {
         "name": "2004",
         "rawType": "int64",
         "type": "integer"
        },
        {
         "name": "2005",
         "rawType": "int64",
         "type": "integer"
        },
        {
         "name": "2006",
         "rawType": "int64",
         "type": "integer"
        },
        {
         "name": "2007",
         "rawType": "int64",
         "type": "integer"
        },
        {
         "name": "2008",
         "rawType": "int64",
         "type": "integer"
        },
        {
         "name": "2009",
         "rawType": "int64",
         "type": "integer"
        },
        {
         "name": "2010",
         "rawType": "int64",
         "type": "integer"
        },
        {
         "name": "2011",
         "rawType": "int64",
         "type": "integer"
        },
        {
         "name": "2012",
         "rawType": "int64",
         "type": "integer"
        },
        {
         "name": "2013",
         "rawType": "int64",
         "type": "integer"
        }
       ],
       "ref": "a54e143a-d02f-4f98-9510-cfa41bb56798",
       "rows": [
        [
         "Afghanistan",
         "16",
         "39",
         "39",
         "47",
         "71",
         "340",
         "496",
         "741",
         "828",
         "1076",
         "1028",
         "1378",
         "1170",
         "713",
         "858",
         "1537",
         "2212",
         "2555",
         "1999",
         "2395",
         "3326",
         "4067",
         "3697",
         "3479",
         "2978",
         "3436",
         "3009",
         "2652",
         "2111",
         "1746",
         "1758",
         "2203",
         "2635",
         "2004"
        ],
        [
         "Albania",
         "1",
         "0",
         "0",
         "0",
         "0",
         "0",
         "1",
         "2",
         "2",
         "3",
         "3",
         "21",
         "56",
         "96",
         "71",
         "63",
         "113",
         "307",
         "574",
         "1264",
         "1816",
         "1602",
         "1021",
         "853",
         "1450",
         "1223",
         "856",
         "702",
         "560",
         "716",
         "561",
         "539",
         "620",
         "603"
        ],
        [
         "Algeria",
         "80",
         "67",
         "71",
         "69",
         "63",
         "44",
         "69",
         "132",
         "242",
         "434",
         "491",
         "872",
         "795",
         "717",
         "595",
         "1106",
         "2054",
         "1842",
         "2292",
         "2389",
         "2867",
         "3418",
         "3406",
         "3072",
         "3616",
         "3626",
         "4807",
         "3623",
         "4005",
         "5393",
         "4752",
         "4325",
         "3774",
         "4331"
        ],
        [
         "American Samoa",
         "0",
         "1",
         "0",
         "0",
         "0",
         "0",
         "0",
         "1",
         "0",
         "1",
         "2",
         "0",
         "0",
         "0",
         "0",
         "0",
         "0",
         "0",
         "0",
         "0",
         "0",
         "0",
         "0",
         "0",
         "0",
         "0",
         "1",
         "0",
         "0",
         "0",
         "0",
         "0",
         "0",
         "0"
        ],
        [
         "Andorra",
         "0",
         "0",
         "0",
         "0",
         "0",
         "0",
         "2",
         "0",
         "0",
         "0",
         "3",
         "0",
         "1",
         "0",
         "0",
         "0",
         "0",
         "0",
         "2",
         "0",
         "0",
         "1",
         "0",
         "2",
         "0",
         "0",
         "1",
         "1",
         "0",
         "0",
         "0",
         "0",
         "1",
         "1"
        ]
       ],
       "shape": {
        "columns": 34,
        "rows": 5
       }
      },
      "text/html": [
       "<div>\n",
       "<style scoped>\n",
       "    .dataframe tbody tr th:only-of-type {\n",
       "        vertical-align: middle;\n",
       "    }\n",
       "\n",
       "    .dataframe tbody tr th {\n",
       "        vertical-align: top;\n",
       "    }\n",
       "\n",
       "    .dataframe thead th {\n",
       "        text-align: right;\n",
       "    }\n",
       "</style>\n",
       "<table border=\"1\" class=\"dataframe\">\n",
       "  <thead>\n",
       "    <tr style=\"text-align: right;\">\n",
       "      <th></th>\n",
       "      <th>1980</th>\n",
       "      <th>1981</th>\n",
       "      <th>1982</th>\n",
       "      <th>1983</th>\n",
       "      <th>1984</th>\n",
       "      <th>1985</th>\n",
       "      <th>1986</th>\n",
       "      <th>1987</th>\n",
       "      <th>1988</th>\n",
       "      <th>1989</th>\n",
       "      <th>...</th>\n",
       "      <th>2004</th>\n",
       "      <th>2005</th>\n",
       "      <th>2006</th>\n",
       "      <th>2007</th>\n",
       "      <th>2008</th>\n",
       "      <th>2009</th>\n",
       "      <th>2010</th>\n",
       "      <th>2011</th>\n",
       "      <th>2012</th>\n",
       "      <th>2013</th>\n",
       "    </tr>\n",
       "    <tr>\n",
       "      <th>Country</th>\n",
       "      <th></th>\n",
       "      <th></th>\n",
       "      <th></th>\n",
       "      <th></th>\n",
       "      <th></th>\n",
       "      <th></th>\n",
       "      <th></th>\n",
       "      <th></th>\n",
       "      <th></th>\n",
       "      <th></th>\n",
       "      <th></th>\n",
       "      <th></th>\n",
       "      <th></th>\n",
       "      <th></th>\n",
       "      <th></th>\n",
       "      <th></th>\n",
       "      <th></th>\n",
       "      <th></th>\n",
       "      <th></th>\n",
       "      <th></th>\n",
       "      <th></th>\n",
       "    </tr>\n",
       "  </thead>\n",
       "  <tbody>\n",
       "    <tr>\n",
       "      <th>Afghanistan</th>\n",
       "      <td>16</td>\n",
       "      <td>39</td>\n",
       "      <td>39</td>\n",
       "      <td>47</td>\n",
       "      <td>71</td>\n",
       "      <td>340</td>\n",
       "      <td>496</td>\n",
       "      <td>741</td>\n",
       "      <td>828</td>\n",
       "      <td>1076</td>\n",
       "      <td>...</td>\n",
       "      <td>2978</td>\n",
       "      <td>3436</td>\n",
       "      <td>3009</td>\n",
       "      <td>2652</td>\n",
       "      <td>2111</td>\n",
       "      <td>1746</td>\n",
       "      <td>1758</td>\n",
       "      <td>2203</td>\n",
       "      <td>2635</td>\n",
       "      <td>2004</td>\n",
       "    </tr>\n",
       "    <tr>\n",
       "      <th>Albania</th>\n",
       "      <td>1</td>\n",
       "      <td>0</td>\n",
       "      <td>0</td>\n",
       "      <td>0</td>\n",
       "      <td>0</td>\n",
       "      <td>0</td>\n",
       "      <td>1</td>\n",
       "      <td>2</td>\n",
       "      <td>2</td>\n",
       "      <td>3</td>\n",
       "      <td>...</td>\n",
       "      <td>1450</td>\n",
       "      <td>1223</td>\n",
       "      <td>856</td>\n",
       "      <td>702</td>\n",
       "      <td>560</td>\n",
       "      <td>716</td>\n",
       "      <td>561</td>\n",
       "      <td>539</td>\n",
       "      <td>620</td>\n",
       "      <td>603</td>\n",
       "    </tr>\n",
       "    <tr>\n",
       "      <th>Algeria</th>\n",
       "      <td>80</td>\n",
       "      <td>67</td>\n",
       "      <td>71</td>\n",
       "      <td>69</td>\n",
       "      <td>63</td>\n",
       "      <td>44</td>\n",
       "      <td>69</td>\n",
       "      <td>132</td>\n",
       "      <td>242</td>\n",
       "      <td>434</td>\n",
       "      <td>...</td>\n",
       "      <td>3616</td>\n",
       "      <td>3626</td>\n",
       "      <td>4807</td>\n",
       "      <td>3623</td>\n",
       "      <td>4005</td>\n",
       "      <td>5393</td>\n",
       "      <td>4752</td>\n",
       "      <td>4325</td>\n",
       "      <td>3774</td>\n",
       "      <td>4331</td>\n",
       "    </tr>\n",
       "    <tr>\n",
       "      <th>American Samoa</th>\n",
       "      <td>0</td>\n",
       "      <td>1</td>\n",
       "      <td>0</td>\n",
       "      <td>0</td>\n",
       "      <td>0</td>\n",
       "      <td>0</td>\n",
       "      <td>0</td>\n",
       "      <td>1</td>\n",
       "      <td>0</td>\n",
       "      <td>1</td>\n",
       "      <td>...</td>\n",
       "      <td>0</td>\n",
       "      <td>0</td>\n",
       "      <td>1</td>\n",
       "      <td>0</td>\n",
       "      <td>0</td>\n",
       "      <td>0</td>\n",
       "      <td>0</td>\n",
       "      <td>0</td>\n",
       "      <td>0</td>\n",
       "      <td>0</td>\n",
       "    </tr>\n",
       "    <tr>\n",
       "      <th>Andorra</th>\n",
       "      <td>0</td>\n",
       "      <td>0</td>\n",
       "      <td>0</td>\n",
       "      <td>0</td>\n",
       "      <td>0</td>\n",
       "      <td>0</td>\n",
       "      <td>2</td>\n",
       "      <td>0</td>\n",
       "      <td>0</td>\n",
       "      <td>0</td>\n",
       "      <td>...</td>\n",
       "      <td>0</td>\n",
       "      <td>0</td>\n",
       "      <td>1</td>\n",
       "      <td>1</td>\n",
       "      <td>0</td>\n",
       "      <td>0</td>\n",
       "      <td>0</td>\n",
       "      <td>0</td>\n",
       "      <td>1</td>\n",
       "      <td>1</td>\n",
       "    </tr>\n",
       "  </tbody>\n",
       "</table>\n",
       "<p>5 rows × 34 columns</p>\n",
       "</div>"
      ],
      "text/plain": [
       "                1980  1981  1982  1983  1984  1985  1986  1987  1988  1989  \\\n",
       "Country                                                                      \n",
       "Afghanistan       16    39    39    47    71   340   496   741   828  1076   \n",
       "Albania            1     0     0     0     0     0     1     2     2     3   \n",
       "Algeria           80    67    71    69    63    44    69   132   242   434   \n",
       "American Samoa     0     1     0     0     0     0     0     1     0     1   \n",
       "Andorra            0     0     0     0     0     0     2     0     0     0   \n",
       "\n",
       "                ...  2004  2005  2006  2007  2008  2009  2010  2011  2012  \\\n",
       "Country         ...                                                         \n",
       "Afghanistan     ...  2978  3436  3009  2652  2111  1746  1758  2203  2635   \n",
       "Albania         ...  1450  1223   856   702   560   716   561   539   620   \n",
       "Algeria         ...  3616  3626  4807  3623  4005  5393  4752  4325  3774   \n",
       "American Samoa  ...     0     0     1     0     0     0     0     0     0   \n",
       "Andorra         ...     0     0     1     1     0     0     0     0     1   \n",
       "\n",
       "                2013  \n",
       "Country               \n",
       "Afghanistan     2004  \n",
       "Albania          603  \n",
       "Algeria         4331  \n",
       "American Samoa     0  \n",
       "Andorra            1  \n",
       "\n",
       "[5 rows x 34 columns]"
      ]
     },
     "execution_count": 52,
     "metadata": {},
     "output_type": "execute_result"
    }
   ],
   "source": [
    "# Bersihkan dan olah data\n",
    "df_canada = df_canada.dropna(how='all')\n",
    "df_canada = df_canada.drop(['AreaName', 'RegName', 'DevName', 'Unnamed: 4', 'Unnamed: 5', 'Unnamed: 6', 'Unnamed: 7', 'Unnamed: 8'], axis=1)\n",
    "df_canada = df_canada.rename(columns={'OdName': 'Country'})\n",
    "df_canada.set_index('Country', inplace=True)\n",
    "df_canada.head()"
   ]
  },
  {
   "cell_type": "markdown",
   "id": "d39ad3a0",
   "metadata": {},
   "source": []
  },
  {
   "cell_type": "code",
   "execution_count": 53,
   "metadata": {},
   "outputs": [
    {
     "data": {
      "application/vnd.microsoft.datawrangler.viewer.v0+json": {
       "columns": [
        {
         "name": "Country",
         "rawType": "object",
         "type": "unknown"
        },
        {
         "name": "Total",
         "rawType": "int64",
         "type": "integer"
        }
       ],
       "ref": "82a8fc57-70de-4676-bd1c-f9bde66b2a2b",
       "rows": [
        [
         null,
         "6924212"
        ],
        [
         "India",
         "691904"
        ],
        [
         "China",
         "659962"
        ],
        [
         "United Kingdom of Great Britain and Northern Ireland",
         "551500"
        ],
        [
         null,
         "515059"
        ]
       ],
       "shape": {
        "columns": 1,
        "rows": 5
       }
      },
      "text/plain": [
       "Country\n",
       "NaN                                                     6924212\n",
       "India                                                    691904\n",
       "China                                                    659962\n",
       "United Kingdom of Great Britain and Northern Ireland     551500\n",
       "NaN                                                      515059\n",
       "Name: Total, dtype: int64"
      ]
     },
     "execution_count": 53,
     "metadata": {},
     "output_type": "execute_result"
    }
   ],
   "source": [
    "# Contoh Analisis: Imigrasi terbanyak ke Canada (top 5 negara)\n",
    "df_canada['Total'] = df_canada.loc[:, 1980:2013].sum(axis=1)\n",
    "top5 = df_canada['Total'].sort_values(ascending=False).head()\n",
    "top5"
   ]
  },
  {
   "cell_type": "code",
   "execution_count": 54,
   "metadata": {},
   "outputs": [
    {
     "data": {
      "image/png": "[encoded data removed]",
      "text/plain": [
       "<Figure size 1200x600 with 1 Axes>"
      ]
     },
     "metadata": {},
     "output_type": "display_data"
    }
   ],
   "source": [
    "# Visualisasi: Imigran per tahun dari 5 negara terbesar\n",
    "years = list(range(1980, 2014))\n",
    "df_top5 = df_canada.loc[top5.index, years].transpose()\n",
    "df_top5.plot(kind='line', figsize=(12,6))\n",
    "plt.title('Imigrasi ke Canada dari 5 Negara Terbesar (1980-2013)')\n",
    "plt.xlabel('Tahun')\n",
    "plt.ylabel('Jumlah Imigran')\n",
    "plt.grid(True)\n",
    "plt.legend(top5.index)\n",
    "plt.show()"
   ]
  },
  {
   "cell_type": "code",
   "execution_count": null,
   "id": "74e9cf6f",
   "metadata": {},
   "outputs": [],
   "source": []
  }
 ],
 "metadata": {
  "kernelspec": {
   "display_name": "Python 3",
   "language": "python",
   "name": "python3"
  },
  "language_info": {
   "codemirror_mode": {
    "name": "ipython",
    "version": 3
   },
   "file_extension": ".py",
   "mimetype": "text/x-python",
   "name": "python",
   "nbconvert_exporter": "python",
   "pygments_lexer": "ipython3",
   "version": "3.11.9"
  }
 },
 "nbformat": 4,
 "nbformat_minor": 5
}
