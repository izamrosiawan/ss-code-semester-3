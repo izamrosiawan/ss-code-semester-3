{
 "cells": [
  {
   "cell_type": "code",
   "execution_count": 28,
   "id": "311382c0",
   "metadata": {},
   "outputs": [],
   "source": [
    "# Import library\n",
    "import pandas as pd\n",
    "import matplotlib.pyplot as plt"
   ]
  },
  {
   "cell_type": "code",
   "execution_count": 32,
   "id": "a2157bcc",
   "metadata": {},
   "outputs": [],
   "source": [
    "# Load data dari file Excel\n",
    "df = pd.read_excel('Canada.xlsx', sheet_name=None)"
   ]
  },
  {
   "cell_type": "markdown",
   "id": "65349cb1",
   "metadata": {},
   "source": [
    "1. Pembersihan Data"
   ]
  },
  {
   "cell_type": "markdown",
   "id": "86d4f10b",
   "metadata": {},
   "source": [
    "a. Hapus kolom kosong\n"
   ]
  },
  {
   "cell_type": "code",
   "execution_count": 33,
   "id": "3e965b4f",
   "metadata": {},
   "outputs": [],
   "source": [
    "# Hapus kolom yang seluruh nilainya NaN dari df['Canada by Citizenship']\n",
    "df_drop = df['Canada by Citizenship'].dropna(axis=1, how='all')"
   ]
  },
  {
   "cell_type": "code",
   "execution_count": 34,
   "id": "abd5cb75",
   "metadata": {},
   "outputs": [
    {
     "name": "stdout",
     "output_type": "stream",
     "text": [
      "Kolom dalam dataset:\n",
      "['OdName', 'AreaName', 'RegName', 'DevName', 1980, 1981, 1982, 1983, 1984, 1985, 1986, 1987, 1988, 1989, 1990, 1991, 1992, 1993, 1994, 1995, 1996, 1997, 1998, 1999, 2000, 2001, 2002, 2003, 2004, 2005, 2006, 2007, 2008, 2009, 2010, 2011, 2012, 2013]\n",
      "\n",
      "Shape data: (197, 38)\n",
      "\n",
      "Beberapa baris pertama:\n"
     ]
    },
    {
     "data": {
      "application/vnd.microsoft.datawrangler.viewer.v0+json": {
       "columns": [
        {
         "name": "index",
         "rawType": "int64",
         "type": "integer"
        },
        {
         "name": "OdName",
         "rawType": "object",
         "type": "string"
        },
        {
         "name": "AreaName",
         "rawType": "object",
         "type": "string"
        },
        {
         "name": "RegName",
         "rawType": "object",
         "type": "string"
        },
        {
         "name": "DevName",
         "rawType": "object",
         "type": "string"
        },
        {
         "name": "1980",
         "rawType": "int64",
         "type": "integer"
        },
        {
         "name": "1981",
         "rawType": "int64",
         "type": "integer"
        },
        {
         "name": "1982",
         "rawType": "int64",
         "type": "integer"
        },
        {
         "name": "1983",
         "rawType": "int64",
         "type": "integer"
        },
        {
         "name": "1984",
         "rawType": "int64",
         "type": "integer"
        },
        {
         "name": "1985",
         "rawType": "int64",
         "type": "integer"
        },
        {
         "name": "1986",
         "rawType": "int64",
         "type": "integer"
        },
        {
         "name": "1987",
         "rawType": "int64",
         "type": "integer"
        },
        {
         "name": "1988",
         "rawType": "int64",
         "type": "integer"
        },
        {
         "name": "1989",
         "rawType": "int64",
         "type": "integer"
        },
        {
         "name": "1990",
         "rawType": "int64",
         "type": "integer"
        },
        {
         "name": "1991",
         "rawType": "int64",
         "type": "integer"
        },
        {
         "name": "1992",
         "rawType": "int64",
         "type": "integer"
        },
        {
         "name": "1993",
         "rawType": "int64",
         "type": "integer"
        },
        {
         "name": "1994",
         "rawType": "int64",
         "type": "integer"
        },
        {
         "name": "1995",
         "rawType": "int64",
         "type": "integer"
        },
        {
         "name": "1996",
         "rawType": "int64",
         "type": "integer"
        },
        {
         "name": "1997",
         "rawType": "int64",
         "type": "integer"
        },
        {
         "name": "1998",
         "rawType": "int64",
         "type": "integer"
        },
        {
         "name": "1999",
         "rawType": "int64",
         "type": "integer"
        },
        {
         "name": "2000",
         "rawType": "int64",
         "type": "integer"
        },
        {
         "name": "2001",
         "rawType": "int64",
         "type": "integer"
        },
        {
         "name": "2002",
         "rawType": "int64",
         "type": "integer"
        },
        {
         "name": "2003",
         "rawType": "int64",
         "type": "integer"
        },
        {
         "name": "2004",
         "rawType": "int64",
         "type": "integer"
        },
        {
         "name": "2005",
         "rawType": "int64",
         "type": "integer"
        },
        {
         "name": "2006",
         "rawType": "int64",
         "type": "integer"
        },
        {
         "name": "2007",
         "rawType": "int64",
         "type": "integer"
        },
        {
         "name": "2008",
         "rawType": "int64",
         "type": "integer"
        },
        {
         "name": "2009",
         "rawType": "int64",
         "type": "integer"
        },
        {
         "name": "2010",
         "rawType": "int64",
         "type": "integer"
        },
        {
         "name": "2011",
         "rawType": "int64",
         "type": "integer"
        },
        {
         "name": "2012",
         "rawType": "int64",
         "type": "integer"
        },
        {
         "name": "2013",
         "rawType": "int64",
         "type": "integer"
        }
       ],
       "ref": "f60e53bc-5628-4db4-90c5-d3743d273af0",
       "rows": [
        [
         "0",
         "Afghanistan",
         "Asia",
         "Southern Asia",
         "Developing regions",
         "16",
         "39",
         "39",
         "47",
         "71",
         "340",
         "496",
         "741",
         "828",
         "1076",
         "1028",
         "1378",
         "1170",
         "713",
         "858",
         "1537",
         "2212",
         "2555",
         "1999",
         "2395",
         "3326",
         "4067",
         "3697",
         "3479",
         "2978",
         "3436",
         "3009",
         "2652",
         "2111",
         "1746",
         "1758",
         "2203",
         "2635",
         "2004"
        ],
        [
         "1",
         "Albania",
         "Europe",
         "Southern Europe",
         "Developed regions",
         "1",
         "0",
         "0",
         "0",
         "0",
         "0",
         "1",
         "2",
         "2",
         "3",
         "3",
         "21",
         "56",
         "96",
         "71",
         "63",
         "113",
         "307",
         "574",
         "1264",
         "1816",
         "1602",
         "1021",
         "853",
         "1450",
         "1223",
         "856",
         "702",
         "560",
         "716",
         "561",
         "539",
         "620",
         "603"
        ],
        [
         "2",
         "Algeria",
         "Africa",
         "Northern Africa",
         "Developing regions",
         "80",
         "67",
         "71",
         "69",
         "63",
         "44",
         "69",
         "132",
         "242",
         "434",
         "491",
         "872",
         "795",
         "717",
         "595",
         "1106",
         "2054",
         "1842",
         "2292",
         "2389",
         "2867",
         "3418",
         "3406",
         "3072",
         "3616",
         "3626",
         "4807",
         "3623",
         "4005",
         "5393",
         "4752",
         "4325",
         "3774",
         "4331"
        ],
        [
         "3",
         "American Samoa",
         "Oceania",
         "Polynesia",
         "Developing regions",
         "0",
         "1",
         "0",
         "0",
         "0",
         "0",
         "0",
         "1",
         "0",
         "1",
         "2",
         "0",
         "0",
         "0",
         "0",
         "0",
         "0",
         "0",
         "0",
         "0",
         "0",
         "0",
         "0",
         "0",
         "0",
         "0",
         "1",
         "0",
         "0",
         "0",
         "0",
         "0",
         "0",
         "0"
        ],
        [
         "4",
         "Andorra",
         "Europe",
         "Southern Europe",
         "Developed regions",
         "0",
         "0",
         "0",
         "0",
         "0",
         "0",
         "2",
         "0",
         "0",
         "0",
         "3",
         "0",
         "1",
         "0",
         "0",
         "0",
         "0",
         "0",
         "2",
         "0",
         "0",
         "1",
         "0",
         "2",
         "0",
         "0",
         "1",
         "1",
         "0",
         "0",
         "0",
         "0",
         "1",
         "1"
        ]
       ],
       "shape": {
        "columns": 38,
        "rows": 5
       }
      },
      "text/html": [
       "<div>\n",
       "<style scoped>\n",
       "    .dataframe tbody tr th:only-of-type {\n",
       "        vertical-align: middle;\n",
       "    }\n",
       "\n",
       "    .dataframe tbody tr th {\n",
       "        vertical-align: top;\n",
       "    }\n",
       "\n",
       "    .dataframe thead th {\n",
       "        text-align: right;\n",
       "    }\n",
       "</style>\n",
       "<table border=\"1\" class=\"dataframe\">\n",
       "  <thead>\n",
       "    <tr style=\"text-align: right;\">\n",
       "      <th></th>\n",
       "      <th>OdName</th>\n",
       "      <th>AreaName</th>\n",
       "      <th>RegName</th>\n",
       "      <th>DevName</th>\n",
       "      <th>1980</th>\n",
       "      <th>1981</th>\n",
       "      <th>1982</th>\n",
       "      <th>1983</th>\n",
       "      <th>1984</th>\n",
       "      <th>1985</th>\n",
       "      <th>...</th>\n",
       "      <th>2004</th>\n",
       "      <th>2005</th>\n",
       "      <th>2006</th>\n",
       "      <th>2007</th>\n",
       "      <th>2008</th>\n",
       "      <th>2009</th>\n",
       "      <th>2010</th>\n",
       "      <th>2011</th>\n",
       "      <th>2012</th>\n",
       "      <th>2013</th>\n",
       "    </tr>\n",
       "  </thead>\n",
       "  <tbody>\n",
       "    <tr>\n",
       "      <th>0</th>\n",
       "      <td>Afghanistan</td>\n",
       "      <td>Asia</td>\n",
       "      <td>Southern Asia</td>\n",
       "      <td>Developing regions</td>\n",
       "      <td>16</td>\n",
       "      <td>39</td>\n",
       "      <td>39</td>\n",
       "      <td>47</td>\n",
       "      <td>71</td>\n",
       "      <td>340</td>\n",
       "      <td>...</td>\n",
       "      <td>2978</td>\n",
       "      <td>3436</td>\n",
       "      <td>3009</td>\n",
       "      <td>2652</td>\n",
       "      <td>2111</td>\n",
       "      <td>1746</td>\n",
       "      <td>1758</td>\n",
       "      <td>2203</td>\n",
       "      <td>2635</td>\n",
       "      <td>2004</td>\n",
       "    </tr>\n",
       "    <tr>\n",
       "      <th>1</th>\n",
       "      <td>Albania</td>\n",
       "      <td>Europe</td>\n",
       "      <td>Southern Europe</td>\n",
       "      <td>Developed regions</td>\n",
       "      <td>1</td>\n",
       "      <td>0</td>\n",
       "      <td>0</td>\n",
       "      <td>0</td>\n",
       "      <td>0</td>\n",
       "      <td>0</td>\n",
       "      <td>...</td>\n",
       "      <td>1450</td>\n",
       "      <td>1223</td>\n",
       "      <td>856</td>\n",
       "      <td>702</td>\n",
       "      <td>560</td>\n",
       "      <td>716</td>\n",
       "      <td>561</td>\n",
       "      <td>539</td>\n",
       "      <td>620</td>\n",
       "      <td>603</td>\n",
       "    </tr>\n",
       "    <tr>\n",
       "      <th>2</th>\n",
       "      <td>Algeria</td>\n",
       "      <td>Africa</td>\n",
       "      <td>Northern Africa</td>\n",
       "      <td>Developing regions</td>\n",
       "      <td>80</td>\n",
       "      <td>67</td>\n",
       "      <td>71</td>\n",
       "      <td>69</td>\n",
       "      <td>63</td>\n",
       "      <td>44</td>\n",
       "      <td>...</td>\n",
       "      <td>3616</td>\n",
       "      <td>3626</td>\n",
       "      <td>4807</td>\n",
       "      <td>3623</td>\n",
       "      <td>4005</td>\n",
       "      <td>5393</td>\n",
       "      <td>4752</td>\n",
       "      <td>4325</td>\n",
       "      <td>3774</td>\n",
       "      <td>4331</td>\n",
       "    </tr>\n",
       "    <tr>\n",
       "      <th>3</th>\n",
       "      <td>American Samoa</td>\n",
       "      <td>Oceania</td>\n",
       "      <td>Polynesia</td>\n",
       "      <td>Developing regions</td>\n",
       "      <td>0</td>\n",
       "      <td>1</td>\n",
       "      <td>0</td>\n",
       "      <td>0</td>\n",
       "      <td>0</td>\n",
       "      <td>0</td>\n",
       "      <td>...</td>\n",
       "      <td>0</td>\n",
       "      <td>0</td>\n",
       "      <td>1</td>\n",
       "      <td>0</td>\n",
       "      <td>0</td>\n",
       "      <td>0</td>\n",
       "      <td>0</td>\n",
       "      <td>0</td>\n",
       "      <td>0</td>\n",
       "      <td>0</td>\n",
       "    </tr>\n",
       "    <tr>\n",
       "      <th>4</th>\n",
       "      <td>Andorra</td>\n",
       "      <td>Europe</td>\n",
       "      <td>Southern Europe</td>\n",
       "      <td>Developed regions</td>\n",
       "      <td>0</td>\n",
       "      <td>0</td>\n",
       "      <td>0</td>\n",
       "      <td>0</td>\n",
       "      <td>0</td>\n",
       "      <td>0</td>\n",
       "      <td>...</td>\n",
       "      <td>0</td>\n",
       "      <td>0</td>\n",
       "      <td>1</td>\n",
       "      <td>1</td>\n",
       "      <td>0</td>\n",
       "      <td>0</td>\n",
       "      <td>0</td>\n",
       "      <td>0</td>\n",
       "      <td>1</td>\n",
       "      <td>1</td>\n",
       "    </tr>\n",
       "  </tbody>\n",
       "</table>\n",
       "<p>5 rows × 38 columns</p>\n",
       "</div>"
      ],
      "text/plain": [
       "           OdName AreaName          RegName             DevName  1980  1981  \\\n",
       "0     Afghanistan     Asia    Southern Asia  Developing regions    16    39   \n",
       "1         Albania   Europe  Southern Europe   Developed regions     1     0   \n",
       "2         Algeria   Africa  Northern Africa  Developing regions    80    67   \n",
       "3  American Samoa  Oceania        Polynesia  Developing regions     0     1   \n",
       "4         Andorra   Europe  Southern Europe   Developed regions     0     0   \n",
       "\n",
       "   1982  1983  1984  1985  ...  2004  2005  2006  2007  2008  2009  2010  \\\n",
       "0    39    47    71   340  ...  2978  3436  3009  2652  2111  1746  1758   \n",
       "1     0     0     0     0  ...  1450  1223   856   702   560   716   561   \n",
       "2    71    69    63    44  ...  3616  3626  4807  3623  4005  5393  4752   \n",
       "3     0     0     0     0  ...     0     0     1     0     0     0     0   \n",
       "4     0     0     0     0  ...     0     0     1     1     0     0     0   \n",
       "\n",
       "   2011  2012  2013  \n",
       "0  2203  2635  2004  \n",
       "1   539   620   603  \n",
       "2  4325  3774  4331  \n",
       "3     0     0     0  \n",
       "4     0     1     1  \n",
       "\n",
       "[5 rows x 38 columns]"
      ]
     },
     "execution_count": 34,
     "metadata": {},
     "output_type": "execute_result"
    }
   ],
   "source": [
    "# Periksa struktur data dan nama kolom\n",
    "print(\"Kolom dalam dataset:\")\n",
    "print(df_drop.columns.tolist())\n",
    "print(f\"\\nShape data: {df_drop.shape}\")\n",
    "print(f\"\\nBeberapa baris pertama:\")\n",
    "df_drop.head()"
   ]
  },
  {
   "cell_type": "markdown",
   "id": "4eeb9dc1",
   "metadata": {},
   "source": [
    "b. Tambahkan kolom baru Total_1980_2013 yang berisi total migran per negara."
   ]
  },
  {
   "cell_type": "code",
   "execution_count": 35,
   "id": "4eeb9dc1",
   "metadata": {},
   "outputs": [
    {
     "name": "stdout",
     "output_type": "stream",
     "text": [
      "Kolom tahun yang ditemukan: [1980, 1981, 1982, 1983, 1984, 1985, 1986, 1987, 1988, 1989, 1990, 1991, 1992, 1993, 1994, 1995, 1996, 1997, 1998, 1999, 2000, 2001, 2002, 2003, 2004, 2005, 2006, 2007, 2008, 2009, 2010, 2011, 2012, 2013]\n",
      "\n",
      "Kolom baru 'Total_1980_2013' telah ditambahkan\n",
      "Shape data sekarang: (197, 39)\n",
      "\n",
      "Beberapa negara dengan total migran:\n"
     ]
    },
    {
     "name": "stderr",
     "output_type": "stream",
     "text": [
      "C:\\Users\\LENOVO\\AppData\\Local\\Temp\\ipykernel_5980\\2189240384.py:6: SettingWithCopyWarning: \n",
      "A value is trying to be set on a copy of a slice from a DataFrame.\n",
      "Try using .loc[row_indexer,col_indexer] = value instead\n",
      "\n",
      "See the caveats in the documentation: https://pandas.pydata.org/pandas-docs/stable/user_guide/indexing.html#returning-a-view-versus-a-copy\n",
      "  df_drop['Total_1980_2013'] = df_drop[year_columns].sum(axis=1)\n"
     ]
    },
    {
     "data": {
      "application/vnd.microsoft.datawrangler.viewer.v0+json": {
       "columns": [
        {
         "name": "index",
         "rawType": "int64",
         "type": "integer"
        },
        {
         "name": "OdName",
         "rawType": "object",
         "type": "string"
        },
        {
         "name": "Total_1980_2013",
         "rawType": "int64",
         "type": "integer"
        }
       ],
       "ref": "47d1f8c0-7da5-4e98-b4b8-a98150ed5019",
       "rows": [
        [
         "0",
         "Afghanistan",
         "58639"
        ],
        [
         "1",
         "Albania",
         "15699"
        ],
        [
         "2",
         "Algeria",
         "69439"
        ],
        [
         "3",
         "American Samoa",
         "6"
        ],
        [
         "4",
         "Andorra",
         "15"
        ],
        [
         "5",
         "Angola",
         "2113"
        ],
        [
         "6",
         "Antigua and Barbuda",
         "981"
        ],
        [
         "7",
         "Argentina",
         "19596"
        ],
        [
         "8",
         "Armenia",
         "3310"
        ],
        [
         "9",
         "Australia",
         "23829"
        ]
       ],
       "shape": {
        "columns": 2,
        "rows": 10
       }
      },
      "text/html": [
       "<div>\n",
       "<style scoped>\n",
       "    .dataframe tbody tr th:only-of-type {\n",
       "        vertical-align: middle;\n",
       "    }\n",
       "\n",
       "    .dataframe tbody tr th {\n",
       "        vertical-align: top;\n",
       "    }\n",
       "\n",
       "    .dataframe thead th {\n",
       "        text-align: right;\n",
       "    }\n",
       "</style>\n",
       "<table border=\"1\" class=\"dataframe\">\n",
       "  <thead>\n",
       "    <tr style=\"text-align: right;\">\n",
       "      <th></th>\n",
       "      <th>OdName</th>\n",
       "      <th>Total_1980_2013</th>\n",
       "    </tr>\n",
       "  </thead>\n",
       "  <tbody>\n",
       "    <tr>\n",
       "      <th>0</th>\n",
       "      <td>Afghanistan</td>\n",
       "      <td>58639</td>\n",
       "    </tr>\n",
       "    <tr>\n",
       "      <th>1</th>\n",
       "      <td>Albania</td>\n",
       "      <td>15699</td>\n",
       "    </tr>\n",
       "    <tr>\n",
       "      <th>2</th>\n",
       "      <td>Algeria</td>\n",
       "      <td>69439</td>\n",
       "    </tr>\n",
       "    <tr>\n",
       "      <th>3</th>\n",
       "      <td>American Samoa</td>\n",
       "      <td>6</td>\n",
       "    </tr>\n",
       "    <tr>\n",
       "      <th>4</th>\n",
       "      <td>Andorra</td>\n",
       "      <td>15</td>\n",
       "    </tr>\n",
       "    <tr>\n",
       "      <th>5</th>\n",
       "      <td>Angola</td>\n",
       "      <td>2113</td>\n",
       "    </tr>\n",
       "    <tr>\n",
       "      <th>6</th>\n",
       "      <td>Antigua and Barbuda</td>\n",
       "      <td>981</td>\n",
       "    </tr>\n",
       "    <tr>\n",
       "      <th>7</th>\n",
       "      <td>Argentina</td>\n",
       "      <td>19596</td>\n",
       "    </tr>\n",
       "    <tr>\n",
       "      <th>8</th>\n",
       "      <td>Armenia</td>\n",
       "      <td>3310</td>\n",
       "    </tr>\n",
       "    <tr>\n",
       "      <th>9</th>\n",
       "      <td>Australia</td>\n",
       "      <td>23829</td>\n",
       "    </tr>\n",
       "  </tbody>\n",
       "</table>\n",
       "</div>"
      ],
      "text/plain": [
       "                OdName  Total_1980_2013\n",
       "0          Afghanistan            58639\n",
       "1              Albania            15699\n",
       "2              Algeria            69439\n",
       "3       American Samoa                6\n",
       "4              Andorra               15\n",
       "5               Angola             2113\n",
       "6  Antigua and Barbuda              981\n",
       "7            Argentina            19596\n",
       "8              Armenia             3310\n",
       "9            Australia            23829"
      ]
     },
     "execution_count": 35,
     "metadata": {},
     "output_type": "execute_result"
    }
   ],
   "source": [
    "# Identifikasi kolom tahun (1980-2013)\n",
    "year_columns = [col for col in df_drop.columns if isinstance(col, int) and 1980 <= col <= 2013]\n",
    "print(f\"Kolom tahun yang ditemukan: {year_columns}\")\n",
    "\n",
    "# Tambahkan kolom Total_1980_2013 yang berisi total migran per negara\n",
    "df_drop['Total_1980_2013'] = df_drop[year_columns].sum(axis=1)\n",
    "\n",
    "# Tampilkan beberapa baris untuk verifikasi\n",
    "print(f\"\\nKolom baru 'Total_1980_2013' telah ditambahkan\")\n",
    "print(f\"Shape data sekarang: {df_drop.shape}\")\n",
    "print(f\"\\nBeberapa negara dengan total migran:\")\n",
    "df_drop[['OdName', 'Total_1980_2013']].head(10)"
   ]
  },
  {
   "cell_type": "markdown",
   "id": "bdb6f473",
   "metadata": {},
   "source": [
    "c. Tampilkan 5 negara dengan total imigran tertinggi beserta jumlahnya."
   ]
  },
  {
   "cell_type": "markdown",
   "id": "a636c62f",
   "metadata": {},
   "source": [
    "d. Ubah nama kolom pada dataset agar lebih mudah dibaca:\n",
    "• OdName menjadi Country\n",
    "• AreaName menjadi Continent\n",
    "• RegName menjadi Region"
   ]
  },
  {
   "cell_type": "markdown",
   "id": "d230d16c",
   "metadata": {},
   "source": [
    "2. Analisis\n"
   ]
  },
  {
   "cell_type": "markdown",
   "id": "7d7ba1a1",
   "metadata": {},
   "source": [
    "a. Hitung total imigran (dari seluruh negara) per tahun (1980–2013) dan tampilkan tahun dengan\n",
    "total tertinggi dan terendah."
   ]
  },
  {
   "cell_type": "markdown",
   "id": "243a7291",
   "metadata": {},
   "source": [
    "b. Gambarkan line chart tren total imigran per tahun dengan label sumbu yang jelas. (x=tahun,\n",
    "y=jumlah imigran)"
   ]
  },
  {
   "cell_type": "markdown",
   "id": "3f438bc0",
   "metadata": {},
   "source": [
    "c. Sebutkan tren umum migrasi ke Kanada berdasarkan grafik tersebut (apakah meningkat,\n",
    "menurun, atau fluktuatif ?).\n"
   ]
  },
  {
   "cell_type": "markdown",
   "id": "8e7f94de",
   "metadata": {},
   "source": [
    "3. Analisis Per Wilayah\n"
   ]
  },
  {
   "cell_type": "markdown",
   "id": "04222e3f",
   "metadata": {},
   "source": [
    "a. Kelompokkan data berdasarkan AreaName, hitung total imigran 1980–2013 untuk tiap\n",
    "wilayah.\n"
   ]
  },
  {
   "cell_type": "markdown",
   "id": "2de8ca3a",
   "metadata": {},
   "source": [
    "b. Tampilkan hasilnya dalam bar chart"
   ]
  },
  {
   "cell_type": "markdown",
   "id": "2d7f2f9e",
   "metadata": {},
   "source": [
    "c. Sebutkan wilayah dengan total imigran terbanyak dan paling sedikit, lalu tulis interpretasi\n",
    "singkatnya"
   ]
  },
  {
   "cell_type": "markdown",
   "id": "d90c397e",
   "metadata": {},
   "source": [
    "4. Tambahan:"
   ]
  },
  {
   "cell_type": "markdown",
   "id": "eda0c948",
   "metadata": {},
   "source": [
    "Lakukan komparasi jumlah imigran dari Pakistan dan Afghanistan selama tahun 1980–2013.\n",
    "• Hitung total imigran masing-masing negara untuk setiap tahun.\n",
    "• Buat stacked area chart yang menampilkan kontribusi kedua negara dari tahun ke tahun.\n",
    "• Jelaskan bagaimana tren migrasi Pakistan dan Afghanistan ke Kanada, apakah salah satu\n",
    "negara mendominasi, dan bagaimana perubahan dari waktu ke waktu"
   ]
  },
  {
   "cell_type": "markdown",
   "id": "3a8c4241",
   "metadata": {},
   "source": [
    "5. Insight"
   ]
  },
  {
   "cell_type": "markdown",
   "id": "264fa38b",
   "metadata": {},
   "source": [
    "• Negara mana paling banyak mengirim imigran?\n",
    "• Benua yang paling berkontribusi terhadap total migran ke Kanada?\n",
    "• Apakah jumlah migrasi cenderung naik dari tahun ke tahun?\n"
   ]
  },
  {
   "cell_type": "markdown",
   "id": "7eca1197",
   "metadata": {},
   "source": []
  }
 ],
 "metadata": {
  "kernelspec": {
   "display_name": "Python 3",
   "language": "python",
   "name": "python3"
  },
  "language_info": {
   "codemirror_mode": {
    "name": "ipython",
    "version": 3
   },
   "file_extension": ".py",
   "mimetype": "text/x-python",
   "name": "python",
   "nbconvert_exporter": "python",
   "pygments_lexer": "ipython3",
   "version": "3.11.9"
  }
 },
 "nbformat": 4,
 "nbformat_minor": 5
}
