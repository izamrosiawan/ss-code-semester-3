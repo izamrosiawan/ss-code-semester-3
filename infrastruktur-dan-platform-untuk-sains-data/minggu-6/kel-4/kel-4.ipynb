{
 "cells": [
  {
   "cell_type": "code",
   "execution_count": null,
   "id": "b4c59d32",
   "metadata": {},
   "outputs": [],
   "source": []
  }
 ],
 "metadata": {
  "language_info": {
   "name": "python"
  }
 },
 "nbformat": 4,
 "nbformat_minor": 5
}
