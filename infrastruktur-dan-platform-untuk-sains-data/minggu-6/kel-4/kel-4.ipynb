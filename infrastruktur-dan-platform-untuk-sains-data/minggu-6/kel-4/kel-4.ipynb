{
 "cells": [
  {
   "cell_type": "code",
   "execution_count": 1,
   "id": "b4c59d32",
   "metadata": {},
   "outputs": [],
   "source": [
    "import os\n",
    "import sqlite3\n",
    "import pandas as pd\n",
    "import seaborn as sns\n",
    "import numpy as np\n",
    "import matplotlib.pyplot as plt"
   ]
  },
  {
   "cell_type": "code",
   "execution_count": 2,
   "id": "ed625e30",
   "metadata": {},
   "outputs": [],
   "source": [
    "conn = sqlite3.connect('CoffeeShop_Dataset.db')"
   ]
  },
  {
   "cell_type": "code",
   "execution_count": 3,
   "id": "6d16161f",
   "metadata": {},
   "outputs": [
    {
     "data": {
      "application/vnd.microsoft.datawrangler.viewer.v0+json": {
       "columns": [
        {
         "name": "index",
         "rawType": "int64",
         "type": "integer"
        },
        {
         "name": "name",
         "rawType": "object",
         "type": "string"
        }
       ],
       "ref": "3bc75a1d-942c-48b9-a118-e2c0517d8882",
       "rows": [
        [
         "0",
         "sales outlet"
        ],
        [
         "1",
         "pastry inventory"
        ],
        [
         "2",
         "product"
        ],
        [
         "3",
         "generations"
        ],
        [
         "4",
         "sales reciepts"
        ],
        [
         "5",
         "customer"
        ]
       ],
       "shape": {
        "columns": 1,
        "rows": 6
       }
      },
      "text/html": [
       "<div>\n",
       "<style scoped>\n",
       "    .dataframe tbody tr th:only-of-type {\n",
       "        vertical-align: middle;\n",
       "    }\n",
       "\n",
       "    .dataframe tbody tr th {\n",
       "        vertical-align: top;\n",
       "    }\n",
       "\n",
       "    .dataframe thead th {\n",
       "        text-align: right;\n",
       "    }\n",
       "</style>\n",
       "<table border=\"1\" class=\"dataframe\">\n",
       "  <thead>\n",
       "    <tr style=\"text-align: right;\">\n",
       "      <th></th>\n",
       "      <th>name</th>\n",
       "    </tr>\n",
       "  </thead>\n",
       "  <tbody>\n",
       "    <tr>\n",
       "      <th>0</th>\n",
       "      <td>sales outlet</td>\n",
       "    </tr>\n",
       "    <tr>\n",
       "      <th>1</th>\n",
       "      <td>pastry inventory</td>\n",
       "    </tr>\n",
       "    <tr>\n",
       "      <th>2</th>\n",
       "      <td>product</td>\n",
       "    </tr>\n",
       "    <tr>\n",
       "      <th>3</th>\n",
       "      <td>generations</td>\n",
       "    </tr>\n",
       "    <tr>\n",
       "      <th>4</th>\n",
       "      <td>sales reciepts</td>\n",
       "    </tr>\n",
       "    <tr>\n",
       "      <th>5</th>\n",
       "      <td>customer</td>\n",
       "    </tr>\n",
       "  </tbody>\n",
       "</table>\n",
       "</div>"
      ],
      "text/plain": [
       "               name\n",
       "0      sales outlet\n",
       "1  pastry inventory\n",
       "2           product\n",
       "3       generations\n",
       "4    sales reciepts\n",
       "5          customer"
      ]
     },
     "execution_count": 3,
     "metadata": {},
     "output_type": "execute_result"
    }
   ],
   "source": [
    "df = pd.read_sql_query(\"SELECT name FROM sqlite_master WHERE type='table'\", conn)\n",
    "df"
   ]
  },
  {
   "cell_type": "code",
   "execution_count": 12,
   "id": "e960d5e7",
   "metadata": {},
   "outputs": [
    {
     "data": {
      "application/vnd.microsoft.datawrangler.viewer.v0+json": {
       "columns": [
        {
         "name": "index",
         "rawType": "int64",
         "type": "integer"
        },
        {
         "name": "product",
         "rawType": "object",
         "type": "string"
        }
       ],
       "ref": "76a2cbdf-ce7b-4b32-82f1-f1fe81b46623",
       "rows": [
        [
         "0",
         "Our Old Time Diner Blend Sm"
        ],
        [
         "1",
         "Our Old Time Diner Blend Rg"
        ],
        [
         "2",
         "Traditional Blend Chai Rg"
        ],
        [
         "3",
         "Sustainably Grown Organic Lg"
        ],
        [
         "4",
         "Brazilian Sm"
        ],
        [
         "5",
         "Morning Sunrise Chai Lg"
        ],
        [
         "6",
         "Ethiopia Lg"
        ],
        [
         "7",
         "Dark chocolate Lg"
        ],
        [
         "8",
         "Earl Grey Rg"
        ],
        [
         "9",
         "Serenity Green Tea Lg"
        ],
        [
         "10",
         "Columbian Medium Roast Rg"
        ],
        [
         "11",
         "Sustainably Grown Organic Rg"
        ],
        [
         "12",
         "Lemon Grass Rg"
        ],
        [
         "13",
         "Serenity Green Tea Rg"
        ],
        [
         "14",
         "English Breakfast Lg"
        ],
        [
         "15",
         "Spicy Eye Opener Chai Lg"
        ],
        [
         "16",
         "Peppermint Rg"
        ],
        [
         "17",
         "Latte"
        ],
        [
         "18",
         "Cappuccino"
        ],
        [
         "19",
         "Spicy Eye Opener Chai Rg"
        ],
        [
         "20",
         "Brazilian Rg"
        ],
        [
         "21",
         "Espresso shot"
        ],
        [
         "22",
         "Columbian Medium Roast Lg"
        ],
        [
         "23",
         "English Breakfast Rg"
        ],
        [
         "24",
         "Morning Sunrise Chai Rg"
        ],
        [
         "25",
         "Traditional Blend Chai Lg"
        ],
        [
         "26",
         "Jamaican Coffee River Lg"
        ],
        [
         "27",
         "Latte Rg"
        ],
        [
         "28",
         "Jamaican Coffee River Sm"
        ],
        [
         "29",
         "Columbian Medium Roast Sm"
        ],
        [
         "30",
         "Cappuccino Lg"
        ],
        [
         "31",
         "Earl Grey Lg"
        ],
        [
         "32",
         "Peppermint Lg"
        ],
        [
         "33",
         "Dark chocolate Rg"
        ],
        [
         "34",
         "Lemon Grass Lg"
        ],
        [
         "35",
         "Ethiopia Rg"
        ],
        [
         "36",
         "Brazilian Lg"
        ],
        [
         "37",
         "Jamaican Coffee River Rg"
        ],
        [
         "38",
         "Ethiopia Sm"
        ],
        [
         "39",
         "Chocolate Croissant"
        ],
        [
         "40",
         "Our Old Time Diner Blend Lg"
        ],
        [
         "41",
         "Ginger Scone"
        ],
        [
         "42",
         "Hazelnut Biscotti"
        ],
        [
         "43",
         "Jumbo Savory Scone"
        ],
        [
         "44",
         "Ouro Brasileiro shot"
        ],
        [
         "45",
         "Almond Croissant"
        ],
        [
         "46",
         "Croissant"
        ],
        [
         "47",
         "Cranberry Scone"
        ],
        [
         "48",
         "Chocolate Chip Biscotti"
        ],
        [
         "49",
         "Oatmeal Scone"
        ]
       ],
       "shape": {
        "columns": 1,
        "rows": 80
       }
      },
      "text/html": [
       "<div>\n",
       "<style scoped>\n",
       "    .dataframe tbody tr th:only-of-type {\n",
       "        vertical-align: middle;\n",
       "    }\n",
       "\n",
       "    .dataframe tbody tr th {\n",
       "        vertical-align: top;\n",
       "    }\n",
       "\n",
       "    .dataframe thead th {\n",
       "        text-align: right;\n",
       "    }\n",
       "</style>\n",
       "<table border=\"1\" class=\"dataframe\">\n",
       "  <thead>\n",
       "    <tr style=\"text-align: right;\">\n",
       "      <th></th>\n",
       "      <th>product</th>\n",
       "    </tr>\n",
       "  </thead>\n",
       "  <tbody>\n",
       "    <tr>\n",
       "      <th>0</th>\n",
       "      <td>Our Old Time Diner Blend Sm</td>\n",
       "    </tr>\n",
       "    <tr>\n",
       "      <th>1</th>\n",
       "      <td>Our Old Time Diner Blend Rg</td>\n",
       "    </tr>\n",
       "    <tr>\n",
       "      <th>2</th>\n",
       "      <td>Traditional Blend Chai Rg</td>\n",
       "    </tr>\n",
       "    <tr>\n",
       "      <th>3</th>\n",
       "      <td>Sustainably Grown Organic Lg</td>\n",
       "    </tr>\n",
       "    <tr>\n",
       "      <th>4</th>\n",
       "      <td>Brazilian Sm</td>\n",
       "    </tr>\n",
       "    <tr>\n",
       "      <th>...</th>\n",
       "      <td>...</td>\n",
       "    </tr>\n",
       "    <tr>\n",
       "      <th>75</th>\n",
       "      <td>Lemon Grass</td>\n",
       "    </tr>\n",
       "    <tr>\n",
       "      <th>76</th>\n",
       "      <td>Primo Espresso Roast</td>\n",
       "    </tr>\n",
       "    <tr>\n",
       "      <th>77</th>\n",
       "      <td>Spicy Eye Opener Chai</td>\n",
       "    </tr>\n",
       "    <tr>\n",
       "      <th>78</th>\n",
       "      <td>Peppermint</td>\n",
       "    </tr>\n",
       "    <tr>\n",
       "      <th>79</th>\n",
       "      <td>Columbian Medium Roast</td>\n",
       "    </tr>\n",
       "  </tbody>\n",
       "</table>\n",
       "<p>80 rows × 1 columns</p>\n",
       "</div>"
      ],
      "text/plain": [
       "                         product\n",
       "0    Our Old Time Diner Blend Sm\n",
       "1    Our Old Time Diner Blend Rg\n",
       "2      Traditional Blend Chai Rg\n",
       "3   Sustainably Grown Organic Lg\n",
       "4                   Brazilian Sm\n",
       "..                           ...\n",
       "75                   Lemon Grass\n",
       "76          Primo Espresso Roast\n",
       "77         Spicy Eye Opener Chai\n",
       "78                    Peppermint\n",
       "79        Columbian Medium Roast\n",
       "\n",
       "[80 rows x 1 columns]"
      ]
     },
     "execution_count": 12,
     "metadata": {},
     "output_type": "execute_result"
    }
   ],
   "source": [
    "df = pd.read_sql_query(\"\"\"\n",
    "    SELECT p.product\n",
    "    FROM 'sales reciepts' sr\n",
    "    JOIN customer c ON sr.customer_id = c.customer_id\n",
    "    JOIN product p ON sr.product_id = p.product_id\n",
    "    WHERE c.gender = 'F'\n",
    "    GROUP BY p.product\n",
    "    ORDER BY COUNT(*) DESC \"\"\", conn)\n",
    "\n",
    "df"
   ]
  },
  {
   "cell_type": "code",
   "execution_count": 17,
   "id": "a77c243e",
   "metadata": {},
   "outputs": [
    {
     "data": {
      "application/vnd.microsoft.datawrangler.viewer.v0+json": {
       "columns": [
        {
         "name": "index",
         "rawType": "int64",
         "type": "integer"
        },
        {
         "name": "product",
         "rawType": "object",
         "type": "string"
        }
       ],
       "ref": "8c9898e7-a074-4b4f-addd-869cf305e623",
       "rows": [
        [
         "0",
         "Peppermint Rg"
        ],
        [
         "1",
         "Jamaican Coffee River Sm"
        ],
        [
         "2",
         "Morning Sunrise Chai Lg"
        ],
        [
         "3",
         "Brazilian Sm"
        ],
        [
         "4",
         "Spicy Eye Opener Chai Rg"
        ],
        [
         "5",
         "Our Old Time Diner Blend Lg"
        ],
        [
         "6",
         "Earl Grey Rg"
        ],
        [
         "7",
         "Spicy Eye Opener Chai Lg"
        ],
        [
         "8",
         "Peppermint Lg"
        ],
        [
         "9",
         "Sustainably Grown Organic Rg"
        ],
        [
         "10",
         "Latte"
        ],
        [
         "11",
         "Dark chocolate Lg"
        ],
        [
         "12",
         "Sustainably Grown Organic Lg"
        ],
        [
         "13",
         "Lemon Grass Rg"
        ],
        [
         "14",
         "Traditional Blend Chai Rg"
        ],
        [
         "15",
         "English Breakfast Lg"
        ],
        [
         "16",
         "Columbian Medium Roast Lg"
        ],
        [
         "17",
         "Brazilian Rg"
        ],
        [
         "18",
         "Ethiopia Rg"
        ],
        [
         "19",
         "Earl Grey Lg"
        ],
        [
         "20",
         "Lemon Grass Lg"
        ],
        [
         "21",
         "Serenity Green Tea Rg"
        ],
        [
         "22",
         "Morning Sunrise Chai Rg"
        ],
        [
         "23",
         "Brazilian Lg"
        ],
        [
         "24",
         "Latte Rg"
        ],
        [
         "25",
         "Ethiopia Lg"
        ],
        [
         "26",
         "English Breakfast Rg"
        ],
        [
         "27",
         "Cappuccino"
        ],
        [
         "28",
         "Our Old Time Diner Blend Rg"
        ],
        [
         "29",
         "Chocolate Croissant"
        ],
        [
         "30",
         "Jamaican Coffee River Rg"
        ],
        [
         "31",
         "Serenity Green Tea Lg"
        ],
        [
         "32",
         "Our Old Time Diner Blend Sm"
        ],
        [
         "33",
         "Ouro Brasileiro shot"
        ],
        [
         "34",
         "Oatmeal Scone"
        ],
        [
         "35",
         "Espresso shot"
        ],
        [
         "36",
         "Cappuccino Lg"
        ],
        [
         "37",
         "Dark chocolate Rg"
        ],
        [
         "38",
         "Columbian Medium Roast Rg"
        ],
        [
         "39",
         "Traditional Blend Chai Lg"
        ],
        [
         "40",
         "Jamaican Coffee River Lg"
        ],
        [
         "41",
         "Ethiopia Sm"
        ],
        [
         "42",
         "Ginger Scone"
        ],
        [
         "43",
         "Hazelnut Biscotti"
        ],
        [
         "44",
         "Cranberry Scone"
        ],
        [
         "45",
         "Jumbo Savory Scone"
        ],
        [
         "46",
         "Columbian Medium Roast Sm"
        ],
        [
         "47",
         "Croissant"
        ],
        [
         "48",
         "Chocolate Chip Biscotti"
        ],
        [
         "49",
         "Ginger Biscotti"
        ]
       ],
       "shape": {
        "columns": 1,
        "rows": 79
       }
      },
      "text/html": [
       "<div>\n",
       "<style scoped>\n",
       "    .dataframe tbody tr th:only-of-type {\n",
       "        vertical-align: middle;\n",
       "    }\n",
       "\n",
       "    .dataframe tbody tr th {\n",
       "        vertical-align: top;\n",
       "    }\n",
       "\n",
       "    .dataframe thead th {\n",
       "        text-align: right;\n",
       "    }\n",
       "</style>\n",
       "<table border=\"1\" class=\"dataframe\">\n",
       "  <thead>\n",
       "    <tr style=\"text-align: right;\">\n",
       "      <th></th>\n",
       "      <th>product</th>\n",
       "    </tr>\n",
       "  </thead>\n",
       "  <tbody>\n",
       "    <tr>\n",
       "      <th>0</th>\n",
       "      <td>Peppermint Rg</td>\n",
       "    </tr>\n",
       "    <tr>\n",
       "      <th>1</th>\n",
       "      <td>Jamaican Coffee River Sm</td>\n",
       "    </tr>\n",
       "    <tr>\n",
       "      <th>2</th>\n",
       "      <td>Morning Sunrise Chai Lg</td>\n",
       "    </tr>\n",
       "    <tr>\n",
       "      <th>3</th>\n",
       "      <td>Brazilian Sm</td>\n",
       "    </tr>\n",
       "    <tr>\n",
       "      <th>4</th>\n",
       "      <td>Spicy Eye Opener Chai Rg</td>\n",
       "    </tr>\n",
       "    <tr>\n",
       "      <th>...</th>\n",
       "      <td>...</td>\n",
       "    </tr>\n",
       "    <tr>\n",
       "      <th>74</th>\n",
       "      <td>Ethiopia</td>\n",
       "    </tr>\n",
       "    <tr>\n",
       "      <th>75</th>\n",
       "      <td>Espresso Roast</td>\n",
       "    </tr>\n",
       "    <tr>\n",
       "      <th>76</th>\n",
       "      <td>Columbian Medium Roast</td>\n",
       "    </tr>\n",
       "    <tr>\n",
       "      <th>77</th>\n",
       "      <td>Brazilian - Organic</td>\n",
       "    </tr>\n",
       "    <tr>\n",
       "      <th>78</th>\n",
       "      <td>I Need My Bean! Latte cup</td>\n",
       "    </tr>\n",
       "  </tbody>\n",
       "</table>\n",
       "<p>79 rows × 1 columns</p>\n",
       "</div>"
      ],
      "text/plain": [
       "                      product\n",
       "0               Peppermint Rg\n",
       "1    Jamaican Coffee River Sm\n",
       "2     Morning Sunrise Chai Lg\n",
       "3                Brazilian Sm\n",
       "4    Spicy Eye Opener Chai Rg\n",
       "..                        ...\n",
       "74                   Ethiopia\n",
       "75             Espresso Roast\n",
       "76     Columbian Medium Roast\n",
       "77        Brazilian - Organic\n",
       "78  I Need My Bean! Latte cup\n",
       "\n",
       "[79 rows x 1 columns]"
      ]
     },
     "execution_count": 17,
     "metadata": {},
     "output_type": "execute_result"
    }
   ],
   "source": [
    "df = pd.read_sql_query(\"\"\"\n",
    "    SELECT p.product\n",
    "    FROM 'sales reciepts' sr\n",
    "    JOIN customer c ON sr.customer_id = c.customer_id\n",
    "    JOIN generations g ON c.birth_year = g.birth_year\n",
    "    JOIN product p ON sr.product_id = p.product_id\n",
    "    WHERE g.generation = 'Gen Z'\n",
    "    GROUP BY p.product\n",
    "    ORDER BY COUNT(*) DESC \"\"\", conn)\n",
    "    \n",
    "df"
   ]
  },
  {
   "cell_type": "code",
   "execution_count": null,
   "id": "74f90d9e",
   "metadata": {},
   "outputs": [],
   "source": []
  }
 ],
 "metadata": {
  "kernelspec": {
   "display_name": "Python 3",
   "language": "python",
   "name": "python3"
  },
  "language_info": {
   "codemirror_mode": {
    "name": "ipython",
    "version": 3
   },
   "file_extension": ".py",
   "mimetype": "text/x-python",
   "name": "python",
   "nbconvert_exporter": "python",
   "pygments_lexer": "ipython3",
   "version": "3.11.9"
  }
 },
 "nbformat": 4,
 "nbformat_minor": 5
}
