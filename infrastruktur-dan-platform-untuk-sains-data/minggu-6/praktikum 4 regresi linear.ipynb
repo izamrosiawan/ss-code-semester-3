{
 "cells": [
  {
   "cell_type": "markdown",
   "metadata": {},
   "source": []
  },
  {
   "cell_type": "code",
   "execution_count": 181,
   "metadata": {},
   "outputs": [],
   "source": [
    "import numpy as np\n",
    "import pandas as pd\n",
    "import matplotlib.pyplot as plt\n",
    "import seaborn as sns\n",
    "from sklearn.model_selection import train_test_split\n",
    "from sklearn.linear_model import LinearRegression\n",
    "from sklearn.metrics import mean_squared_error, r2_score, mean_absolute_error"
   ]
  },
  {
   "cell_type": "code",
   "execution_count": 182,
   "metadata": {},
   "outputs": [
    {
     "data": {
      "application/vnd.microsoft.datawrangler.viewer.v0+json": {
       "columns": [
        {
         "name": "index",
         "rawType": "int64",
         "type": "integer"
        },
        {
         "name": "Temperature",
         "rawType": "float64",
         "type": "float"
        },
        {
         "name": "Revenue",
         "rawType": "float64",
         "type": "float"
        },
        {
         "name": "Unnamed: 2",
         "rawType": "float64",
         "type": "float"
        }
       ],
       "ref": "b19674ec-1f34-466d-825b-79de19b820c9",
       "rows": [
        [
         "0",
         "24.56688442",
         "534.7990284",
         null
        ],
        [
         "1",
         "26.00519115",
         "625.1901215",
         null
        ],
        [
         "2",
         "27.79055388",
         "660.6322888",
         null
        ],
        [
         "3",
         "20.59533505",
         "487.7069603",
         null
        ],
        [
         "4",
         "11.50349764",
         "316.2401944",
         null
        ],
        [
         "5",
         "14.35251388",
         "367.9407438",
         null
        ],
        [
         "6",
         "13.70777988",
         "308.8945179",
         null
        ],
        [
         "7",
         "30.83398474",
         "696.7166402",
         null
        ],
        [
         "8",
         "0.976869989",
         "55.39033824",
         null
        ],
        [
         "9",
         "31.66946458",
         "737.8008241",
         null
        ],
        [
         "10",
         "11.45525338",
         "325.9684084",
         null
        ],
        [
         "11",
         "3.664669577",
         "71.16015301",
         null
        ],
        [
         "12",
         "18.81182403",
         "467.4467066",
         null
        ],
        [
         "13",
         "13.62450892",
         "289.5409341",
         null
        ],
        [
         "14",
         "39.53990899",
         "905.4776043",
         null
        ],
        [
         "15",
         "18.48314099",
         "469.9090332",
         null
        ],
        [
         "16",
         "25.93537514",
         "648.2099977",
         null
        ],
        [
         "17",
         "42.51528041",
         "921.508275",
         null
        ],
        [
         "18",
         "29.58948056",
         "649.5611747",
         null
        ],
        [
         "19",
         "21.77594799",
         "534.6228653",
         null
        ],
        [
         "20",
         "25.45783637",
         "612.1539491",
         null
        ],
        [
         "21",
         "15.21456942",
         "353.3256334",
         null
        ],
        [
         "22",
         "22.61931574",
         "524.2361154",
         null
        ],
        [
         "23",
         "16.25872074",
         "374.231135",
         null
        ],
        [
         "24",
         "23.88172478",
         "523.1245467",
         null
        ],
        [
         "25",
         "18.97830025",
         "473.6043349",
         null
        ],
        [
         "26",
         "15.6614643",
         "402.4553204",
         null
        ],
        [
         "27",
         "29.18504465",
         "679.3177906",
         null
        ],
        [
         "28",
         "19.02461092",
         "517.5340283",
         null
        ],
        [
         "29",
         "35.12015142",
         "809.6720534",
         null
        ],
        [
         "30",
         "24.18393726",
         "528.3804165",
         null
        ],
        [
         "31",
         "15.23119012",
         "356.0980075",
         null
        ],
        [
         "32",
         "8.790952808",
         "237.7639106",
         null
        ],
        [
         "33",
         "18.23322784",
         "418.1372788",
         null
        ],
        [
         "34",
         "35.62892497",
         "809.4634112",
         null
        ],
        [
         "35",
         "37.05754246",
         "870.7659159",
         null
        ],
        [
         "36",
         "22.28455032",
         "550.2785159",
         null
        ],
        [
         "37",
         "17.51707397",
         "405.6614459",
         null
        ],
        [
         "38",
         "31.7379196",
         "740.9356848",
         null
        ],
        [
         "39",
         "17.04973761",
         "501.7329901",
         null
        ],
        [
         "40",
         "23.0034888",
         "539.6880057",
         null
        ],
        [
         "41",
         "8.755553938",
         "242.2362083",
         null
        ],
        [
         "42",
         "18.77535808",
         "421.621505",
         null
        ],
        [
         "43",
         "14.10966102",
         "358.0028493",
         null
        ],
        [
         "44",
         "18.63391286",
         "467.631063",
         null
        ],
        [
         "45",
         "15.67648661",
         "396.9356482",
         null
        ],
        [
         "46",
         "20.94791347",
         "500.9250645",
         null
        ],
        [
         "47",
         "30.6353071",
         "651.8615363",
         null
        ],
        [
         "48",
         "20.47359412",
         "451.4507843",
         null
        ],
        [
         "49",
         "31.22898848",
         "697.8339862",
         null
        ]
       ],
       "shape": {
        "columns": 3,
        "rows": 500
       }
      },
      "text/html": [
       "<div>\n",
       "<style scoped>\n",
       "    .dataframe tbody tr th:only-of-type {\n",
       "        vertical-align: middle;\n",
       "    }\n",
       "\n",
       "    .dataframe tbody tr th {\n",
       "        vertical-align: top;\n",
       "    }\n",
       "\n",
       "    .dataframe thead th {\n",
       "        text-align: right;\n",
       "    }\n",
       "</style>\n",
       "<table border=\"1\" class=\"dataframe\">\n",
       "  <thead>\n",
       "    <tr style=\"text-align: right;\">\n",
       "      <th></th>\n",
       "      <th>Temperature</th>\n",
       "      <th>Revenue</th>\n",
       "      <th>Unnamed: 2</th>\n",
       "    </tr>\n",
       "  </thead>\n",
       "  <tbody>\n",
       "    <tr>\n",
       "      <th>0</th>\n",
       "      <td>24.566884</td>\n",
       "      <td>534.799028</td>\n",
       "      <td>NaN</td>\n",
       "    </tr>\n",
       "    <tr>\n",
       "      <th>1</th>\n",
       "      <td>26.005191</td>\n",
       "      <td>625.190122</td>\n",
       "      <td>NaN</td>\n",
       "    </tr>\n",
       "    <tr>\n",
       "      <th>2</th>\n",
       "      <td>27.790554</td>\n",
       "      <td>660.632289</td>\n",
       "      <td>NaN</td>\n",
       "    </tr>\n",
       "    <tr>\n",
       "      <th>3</th>\n",
       "      <td>20.595335</td>\n",
       "      <td>487.706960</td>\n",
       "      <td>NaN</td>\n",
       "    </tr>\n",
       "    <tr>\n",
       "      <th>4</th>\n",
       "      <td>11.503498</td>\n",
       "      <td>316.240194</td>\n",
       "      <td>NaN</td>\n",
       "    </tr>\n",
       "    <tr>\n",
       "      <th>...</th>\n",
       "      <td>...</td>\n",
       "      <td>...</td>\n",
       "      <td>...</td>\n",
       "    </tr>\n",
       "    <tr>\n",
       "      <th>495</th>\n",
       "      <td>22.274899</td>\n",
       "      <td>524.746364</td>\n",
       "      <td>NaN</td>\n",
       "    </tr>\n",
       "    <tr>\n",
       "      <th>496</th>\n",
       "      <td>32.893092</td>\n",
       "      <td>755.818399</td>\n",
       "      <td>NaN</td>\n",
       "    </tr>\n",
       "    <tr>\n",
       "      <th>497</th>\n",
       "      <td>12.588157</td>\n",
       "      <td>306.090719</td>\n",
       "      <td>NaN</td>\n",
       "    </tr>\n",
       "    <tr>\n",
       "      <th>498</th>\n",
       "      <td>22.362402</td>\n",
       "      <td>566.217304</td>\n",
       "      <td>NaN</td>\n",
       "    </tr>\n",
       "    <tr>\n",
       "      <th>499</th>\n",
       "      <td>28.957736</td>\n",
       "      <td>655.660388</td>\n",
       "      <td>NaN</td>\n",
       "    </tr>\n",
       "  </tbody>\n",
       "</table>\n",
       "<p>500 rows × 3 columns</p>\n",
       "</div>"
      ],
      "text/plain": [
       "     Temperature     Revenue  Unnamed: 2\n",
       "0      24.566884  534.799028         NaN\n",
       "1      26.005191  625.190122         NaN\n",
       "2      27.790554  660.632289         NaN\n",
       "3      20.595335  487.706960         NaN\n",
       "4      11.503498  316.240194         NaN\n",
       "..           ...         ...         ...\n",
       "495    22.274899  524.746364         NaN\n",
       "496    32.893092  755.818399         NaN\n",
       "497    12.588157  306.090719         NaN\n",
       "498    22.362402  566.217304         NaN\n",
       "499    28.957736  655.660388         NaN\n",
       "\n",
       "[500 rows x 3 columns]"
      ]
     },
     "execution_count": 182,
     "metadata": {},
     "output_type": "execute_result"
    }
   ],
   "source": [
    "df= pd.read_csv('IceCreamData.csv')\n",
    "df"
   ]
  },
  {
   "cell_type": "code",
   "execution_count": 183,
   "metadata": {},
   "outputs": [
    {
     "data": {
      "application/vnd.microsoft.datawrangler.viewer.v0+json": {
       "columns": [
        {
         "name": "index",
         "rawType": "object",
         "type": "string"
        },
        {
         "name": "0",
         "rawType": "int64",
         "type": "integer"
        }
       ],
       "ref": "ef26aa53-472b-40c4-aa77-132c28e2c5ed",
       "rows": [
        [
         "Temperature",
         "1"
        ],
        [
         "Revenue",
         "1"
        ],
        [
         "Unnamed: 2",
         "500"
        ]
       ],
       "shape": {
        "columns": 1,
        "rows": 3
       }
      },
      "text/plain": [
       "Temperature      1\n",
       "Revenue          1\n",
       "Unnamed: 2     500\n",
       "dtype: int64"
      ]
     },
     "execution_count": 183,
     "metadata": {},
     "output_type": "execute_result"
    }
   ],
   "source": [
    "df.isnull().sum()"
   ]
  },
  {
   "cell_type": "code",
   "execution_count": null,
   "metadata": {},
   "outputs": [],
   "source": []
  },
  {
   "cell_type": "code",
   "execution_count": 184,
   "metadata": {},
   "outputs": [
    {
     "data": {
      "application/vnd.microsoft.datawrangler.viewer.v0+json": {
       "columns": [
        {
         "name": "index",
         "rawType": "int64",
         "type": "integer"
        },
        {
         "name": "Temperature",
         "rawType": "float64",
         "type": "float"
        },
        {
         "name": "Revenue",
         "rawType": "float64",
         "type": "float"
        }
       ],
       "ref": "dfb685bd-33eb-431e-bd57-56fb884ea52e",
       "rows": [
        [
         "0",
         "24.56688442",
         "534.7990284"
        ],
        [
         "1",
         "26.00519115",
         "625.1901215"
        ],
        [
         "2",
         "27.79055388",
         "660.6322888"
        ],
        [
         "3",
         "20.59533505",
         "487.7069603"
        ],
        [
         "4",
         "11.50349764",
         "316.2401944"
        ],
        [
         "5",
         "14.35251388",
         "367.9407438"
        ],
        [
         "6",
         "13.70777988",
         "308.8945179"
        ],
        [
         "7",
         "30.83398474",
         "696.7166402"
        ],
        [
         "8",
         "0.976869989",
         "55.39033824"
        ],
        [
         "9",
         "31.66946458",
         "737.8008241"
        ],
        [
         "10",
         "11.45525338",
         "325.9684084"
        ],
        [
         "11",
         "3.664669577",
         "71.16015301"
        ],
        [
         "12",
         "18.81182403",
         "467.4467066"
        ],
        [
         "13",
         "13.62450892",
         "289.5409341"
        ],
        [
         "14",
         "39.53990899",
         "905.4776043"
        ],
        [
         "15",
         "18.48314099",
         "469.9090332"
        ],
        [
         "16",
         "25.93537514",
         "648.2099977"
        ],
        [
         "17",
         "42.51528041",
         "921.508275"
        ],
        [
         "18",
         "29.58948056",
         "649.5611747"
        ],
        [
         "19",
         "21.77594799",
         "534.6228653"
        ],
        [
         "20",
         "25.45783637",
         "612.1539491"
        ],
        [
         "21",
         "15.21456942",
         "353.3256334"
        ],
        [
         "22",
         "22.61931574",
         "524.2361154"
        ],
        [
         "23",
         "16.25872074",
         "374.231135"
        ],
        [
         "24",
         "23.88172478",
         "523.1245467"
        ],
        [
         "25",
         "18.97830025",
         "473.6043349"
        ],
        [
         "26",
         "15.6614643",
         "402.4553204"
        ],
        [
         "27",
         "29.18504465",
         "679.3177906"
        ],
        [
         "28",
         "19.02461092",
         "517.5340283"
        ],
        [
         "29",
         "35.12015142",
         "809.6720534"
        ],
        [
         "30",
         "24.18393726",
         "528.3804165"
        ],
        [
         "31",
         "15.23119012",
         "356.0980075"
        ],
        [
         "32",
         "8.790952808",
         "237.7639106"
        ],
        [
         "33",
         "18.23322784",
         "418.1372788"
        ],
        [
         "34",
         "35.62892497",
         "809.4634112"
        ],
        [
         "35",
         "37.05754246",
         "870.7659159"
        ],
        [
         "36",
         "22.28455032",
         "550.2785159"
        ],
        [
         "37",
         "17.51707397",
         "405.6614459"
        ],
        [
         "38",
         "31.7379196",
         "740.9356848"
        ],
        [
         "39",
         "17.04973761",
         "501.7329901"
        ],
        [
         "40",
         "23.0034888",
         "539.6880057"
        ],
        [
         "41",
         "8.755553938",
         "242.2362083"
        ],
        [
         "42",
         "18.77535808",
         "421.621505"
        ],
        [
         "43",
         "14.10966102",
         "358.0028493"
        ],
        [
         "44",
         "18.63391286",
         "467.631063"
        ],
        [
         "45",
         "15.67648661",
         "396.9356482"
        ],
        [
         "46",
         "20.94791347",
         "500.9250645"
        ],
        [
         "47",
         "30.6353071",
         "651.8615363"
        ],
        [
         "48",
         "20.47359412",
         "451.4507843"
        ],
        [
         "49",
         "31.22898848",
         "697.8339862"
        ]
       ],
       "shape": {
        "columns": 2,
        "rows": 500
       }
      },
      "text/html": [
       "<div>\n",
       "<style scoped>\n",
       "    .dataframe tbody tr th:only-of-type {\n",
       "        vertical-align: middle;\n",
       "    }\n",
       "\n",
       "    .dataframe tbody tr th {\n",
       "        vertical-align: top;\n",
       "    }\n",
       "\n",
       "    .dataframe thead th {\n",
       "        text-align: right;\n",
       "    }\n",
       "</style>\n",
       "<table border=\"1\" class=\"dataframe\">\n",
       "  <thead>\n",
       "    <tr style=\"text-align: right;\">\n",
       "      <th></th>\n",
       "      <th>Temperature</th>\n",
       "      <th>Revenue</th>\n",
       "    </tr>\n",
       "  </thead>\n",
       "  <tbody>\n",
       "    <tr>\n",
       "      <th>0</th>\n",
       "      <td>24.566884</td>\n",
       "      <td>534.799028</td>\n",
       "    </tr>\n",
       "    <tr>\n",
       "      <th>1</th>\n",
       "      <td>26.005191</td>\n",
       "      <td>625.190122</td>\n",
       "    </tr>\n",
       "    <tr>\n",
       "      <th>2</th>\n",
       "      <td>27.790554</td>\n",
       "      <td>660.632289</td>\n",
       "    </tr>\n",
       "    <tr>\n",
       "      <th>3</th>\n",
       "      <td>20.595335</td>\n",
       "      <td>487.706960</td>\n",
       "    </tr>\n",
       "    <tr>\n",
       "      <th>4</th>\n",
       "      <td>11.503498</td>\n",
       "      <td>316.240194</td>\n",
       "    </tr>\n",
       "    <tr>\n",
       "      <th>...</th>\n",
       "      <td>...</td>\n",
       "      <td>...</td>\n",
       "    </tr>\n",
       "    <tr>\n",
       "      <th>495</th>\n",
       "      <td>22.274899</td>\n",
       "      <td>524.746364</td>\n",
       "    </tr>\n",
       "    <tr>\n",
       "      <th>496</th>\n",
       "      <td>32.893092</td>\n",
       "      <td>755.818399</td>\n",
       "    </tr>\n",
       "    <tr>\n",
       "      <th>497</th>\n",
       "      <td>12.588157</td>\n",
       "      <td>306.090719</td>\n",
       "    </tr>\n",
       "    <tr>\n",
       "      <th>498</th>\n",
       "      <td>22.362402</td>\n",
       "      <td>566.217304</td>\n",
       "    </tr>\n",
       "    <tr>\n",
       "      <th>499</th>\n",
       "      <td>28.957736</td>\n",
       "      <td>655.660388</td>\n",
       "    </tr>\n",
       "  </tbody>\n",
       "</table>\n",
       "<p>500 rows × 2 columns</p>\n",
       "</div>"
      ],
      "text/plain": [
       "     Temperature     Revenue\n",
       "0      24.566884  534.799028\n",
       "1      26.005191  625.190122\n",
       "2      27.790554  660.632289\n",
       "3      20.595335  487.706960\n",
       "4      11.503498  316.240194\n",
       "..           ...         ...\n",
       "495    22.274899  524.746364\n",
       "496    32.893092  755.818399\n",
       "497    12.588157  306.090719\n",
       "498    22.362402  566.217304\n",
       "499    28.957736  655.660388\n",
       "\n",
       "[500 rows x 2 columns]"
      ]
     },
     "execution_count": 184,
     "metadata": {},
     "output_type": "execute_result"
    }
   ],
   "source": [
    "df= df.drop('Unnamed: 2', axis=1)\n",
    "df"
   ]
  },
  {
   "cell_type": "code",
   "execution_count": 185,
   "metadata": {},
   "outputs": [
    {
     "data": {
      "application/vnd.microsoft.datawrangler.viewer.v0+json": {
       "columns": [
        {
         "name": "index",
         "rawType": "object",
         "type": "string"
        },
        {
         "name": "0",
         "rawType": "int64",
         "type": "integer"
        }
       ],
       "ref": "34ec5075-b9fe-4fcd-bd48-7d7e11891e98",
       "rows": [
        [
         "Temperature",
         "1"
        ],
        [
         "Revenue",
         "1"
        ]
       ],
       "shape": {
        "columns": 1,
        "rows": 2
       }
      },
      "text/plain": [
       "Temperature    1\n",
       "Revenue        1\n",
       "dtype: int64"
      ]
     },
     "execution_count": 185,
     "metadata": {},
     "output_type": "execute_result"
    }
   ],
   "source": [
    "df.isnull().sum()"
   ]
  },
  {
   "cell_type": "code",
   "execution_count": 186,
   "metadata": {},
   "outputs": [],
   "source": [
    "df = df.dropna()"
   ]
  },
  {
   "cell_type": "code",
   "execution_count": 187,
   "metadata": {},
   "outputs": [
    {
     "data": {
      "application/vnd.microsoft.datawrangler.viewer.v0+json": {
       "columns": [
        {
         "name": "index",
         "rawType": "object",
         "type": "string"
        },
        {
         "name": "0",
         "rawType": "int64",
         "type": "integer"
        }
       ],
       "ref": "d00436fc-8ecc-4057-9f88-63436a1b5cf8",
       "rows": [
        [
         "Temperature",
         "0"
        ],
        [
         "Revenue",
         "0"
        ]
       ],
       "shape": {
        "columns": 1,
        "rows": 2
       }
      },
      "text/plain": [
       "Temperature    0\n",
       "Revenue        0\n",
       "dtype: int64"
      ]
     },
     "execution_count": 187,
     "metadata": {},
     "output_type": "execute_result"
    }
   ],
   "source": [
    "df.isnull().sum()"
   ]
  },
  {
   "cell_type": "code",
   "execution_count": 188,
   "metadata": {},
   "outputs": [
    {
     "data": {
      "application/vnd.microsoft.datawrangler.viewer.v0+json": {
       "columns": [
        {
         "name": "index",
         "rawType": "object",
         "type": "string"
        },
        {
         "name": "Temperature",
         "rawType": "float64",
         "type": "float"
        },
        {
         "name": "Revenue",
         "rawType": "float64",
         "type": "float"
        }
       ],
       "ref": "b34b1376-75c4-4f4a-92f3-8286bcde423f",
       "rows": [
        [
         "count",
         "499.0",
         "499.0"
        ],
        [
         "mean",
         "22.18659831002405",
         "520.6120006929259"
        ],
        [
         "std",
         "8.039908451962358",
         "174.26433581008152"
        ],
        [
         "min",
         "0.0",
         "10.0"
        ],
        [
         "25%",
         "17.111719975",
         "405.45591635"
        ],
        [
         "50%",
         "22.38760374",
         "528.3804165"
        ],
        [
         "75%",
         "27.724419605",
         "641.62634"
        ],
        [
         "max",
         "42.51528041",
         "969.2916296"
        ]
       ],
       "shape": {
        "columns": 2,
        "rows": 8
       }
      },
      "text/html": [
       "<div>\n",
       "<style scoped>\n",
       "    .dataframe tbody tr th:only-of-type {\n",
       "        vertical-align: middle;\n",
       "    }\n",
       "\n",
       "    .dataframe tbody tr th {\n",
       "        vertical-align: top;\n",
       "    }\n",
       "\n",
       "    .dataframe thead th {\n",
       "        text-align: right;\n",
       "    }\n",
       "</style>\n",
       "<table border=\"1\" class=\"dataframe\">\n",
       "  <thead>\n",
       "    <tr style=\"text-align: right;\">\n",
       "      <th></th>\n",
       "      <th>Temperature</th>\n",
       "      <th>Revenue</th>\n",
       "    </tr>\n",
       "  </thead>\n",
       "  <tbody>\n",
       "    <tr>\n",
       "      <th>count</th>\n",
       "      <td>499.000000</td>\n",
       "      <td>499.000000</td>\n",
       "    </tr>\n",
       "    <tr>\n",
       "      <th>mean</th>\n",
       "      <td>22.186598</td>\n",
       "      <td>520.612001</td>\n",
       "    </tr>\n",
       "    <tr>\n",
       "      <th>std</th>\n",
       "      <td>8.039908</td>\n",
       "      <td>174.264336</td>\n",
       "    </tr>\n",
       "    <tr>\n",
       "      <th>min</th>\n",
       "      <td>0.000000</td>\n",
       "      <td>10.000000</td>\n",
       "    </tr>\n",
       "    <tr>\n",
       "      <th>25%</th>\n",
       "      <td>17.111720</td>\n",
       "      <td>405.455916</td>\n",
       "    </tr>\n",
       "    <tr>\n",
       "      <th>50%</th>\n",
       "      <td>22.387604</td>\n",
       "      <td>528.380417</td>\n",
       "    </tr>\n",
       "    <tr>\n",
       "      <th>75%</th>\n",
       "      <td>27.724420</td>\n",
       "      <td>641.626340</td>\n",
       "    </tr>\n",
       "    <tr>\n",
       "      <th>max</th>\n",
       "      <td>42.515280</td>\n",
       "      <td>969.291630</td>\n",
       "    </tr>\n",
       "  </tbody>\n",
       "</table>\n",
       "</div>"
      ],
      "text/plain": [
       "       Temperature     Revenue\n",
       "count   499.000000  499.000000\n",
       "mean     22.186598  520.612001\n",
       "std       8.039908  174.264336\n",
       "min       0.000000   10.000000\n",
       "25%      17.111720  405.455916\n",
       "50%      22.387604  528.380417\n",
       "75%      27.724420  641.626340\n",
       "max      42.515280  969.291630"
      ]
     },
     "execution_count": 188,
     "metadata": {},
     "output_type": "execute_result"
    }
   ],
   "source": [
    "df.describe()"
   ]
  },
  {
   "cell_type": "code",
   "execution_count": 189,
   "metadata": {},
   "outputs": [
    {
     "data": {
      "image/png": "[encoded data removed]",
      "text/plain": [
       "<Figure size 500x400 with 1 Axes>"
      ]
     },
     "metadata": {},
     "output_type": "display_data"
    },
    {
     "data": {
      "image/png": "[encoded data removed]",
      "text/plain": [
       "<Figure size 500x400 with 1 Axes>"
      ]
     },
     "metadata": {},
     "output_type": "display_data"
    }
   ],
   "source": [
    "for col in df:\n",
    "    plt.figure(figsize=(5,4))\n",
    "    sns.boxplot(df[col])\n",
    "    plt.title(f\"Boxplot {col}\")\n",
    "    plt.ylabel(col)\n",
    "    plt.show()"
   ]
  },
  {
   "cell_type": "code",
   "execution_count": 190,
   "metadata": {},
   "outputs": [],
   "source": [
    "cols = ['Temperature', 'Revenue']"
   ]
  },
  {
   "cell_type": "code",
   "execution_count": 191,
   "metadata": {},
   "outputs": [
    {
     "data": {
      "image/png": "[encoded data removed]",
      "text/plain": [
       "<Figure size 640x480 with 1 Axes>"
      ]
     },
     "metadata": {},
     "output_type": "display_data"
    },
    {
     "data": {
      "image/png": "[encoded data removed]",
      "text/plain": [
       "<Figure size 640x480 with 1 Axes>"
      ]
     },
     "metadata": {},
     "output_type": "display_data"
    }
   ],
   "source": [
    "for col in cols:\n",
    "    plt.hist(df[col], bins=10, edgecolor='black')\n",
    "    plt.title(f'Histogram of {col}')\n",
    "    plt.xlabel(col)\n",
    "    plt.ylabel('Frequency')\n",
    "    plt.show()"
   ]
  },
  {
   "cell_type": "code",
   "execution_count": 192,
   "metadata": {},
   "outputs": [
    {
     "data": {
      "application/vnd.microsoft.datawrangler.viewer.v0+json": {
       "columns": [
        {
         "name": "index",
         "rawType": "object",
         "type": "string"
        },
        {
         "name": "Temperature",
         "rawType": "float64",
         "type": "float"
        },
        {
         "name": "Revenue",
         "rawType": "float64",
         "type": "float"
        }
       ],
       "ref": "824e4338-5d39-49df-af2d-7a5ae067a39c",
       "rows": [
        [
         "count",
         "499.0",
         "499.0"
        ],
        [
         "mean",
         "22.18659831002405",
         "520.6120006929259"
        ],
        [
         "std",
         "8.039908451962358",
         "174.26433581008152"
        ],
        [
         "min",
         "0.0",
         "10.0"
        ],
        [
         "25%",
         "17.111719975",
         "405.45591635"
        ],
        [
         "50%",
         "22.38760374",
         "528.3804165"
        ],
        [
         "75%",
         "27.724419605",
         "641.62634"
        ],
        [
         "max",
         "42.51528041",
         "969.2916296"
        ]
       ],
       "shape": {
        "columns": 2,
        "rows": 8
       }
      },
      "text/html": [
       "<div>\n",
       "<style scoped>\n",
       "    .dataframe tbody tr th:only-of-type {\n",
       "        vertical-align: middle;\n",
       "    }\n",
       "\n",
       "    .dataframe tbody tr th {\n",
       "        vertical-align: top;\n",
       "    }\n",
       "\n",
       "    .dataframe thead th {\n",
       "        text-align: right;\n",
       "    }\n",
       "</style>\n",
       "<table border=\"1\" class=\"dataframe\">\n",
       "  <thead>\n",
       "    <tr style=\"text-align: right;\">\n",
       "      <th></th>\n",
       "      <th>Temperature</th>\n",
       "      <th>Revenue</th>\n",
       "    </tr>\n",
       "  </thead>\n",
       "  <tbody>\n",
       "    <tr>\n",
       "      <th>count</th>\n",
       "      <td>499.000000</td>\n",
       "      <td>499.000000</td>\n",
       "    </tr>\n",
       "    <tr>\n",
       "      <th>mean</th>\n",
       "      <td>22.186598</td>\n",
       "      <td>520.612001</td>\n",
       "    </tr>\n",
       "    <tr>\n",
       "      <th>std</th>\n",
       "      <td>8.039908</td>\n",
       "      <td>174.264336</td>\n",
       "    </tr>\n",
       "    <tr>\n",
       "      <th>min</th>\n",
       "      <td>0.000000</td>\n",
       "      <td>10.000000</td>\n",
       "    </tr>\n",
       "    <tr>\n",
       "      <th>25%</th>\n",
       "      <td>17.111720</td>\n",
       "      <td>405.455916</td>\n",
       "    </tr>\n",
       "    <tr>\n",
       "      <th>50%</th>\n",
       "      <td>22.387604</td>\n",
       "      <td>528.380417</td>\n",
       "    </tr>\n",
       "    <tr>\n",
       "      <th>75%</th>\n",
       "      <td>27.724420</td>\n",
       "      <td>641.626340</td>\n",
       "    </tr>\n",
       "    <tr>\n",
       "      <th>max</th>\n",
       "      <td>42.515280</td>\n",
       "      <td>969.291630</td>\n",
       "    </tr>\n",
       "  </tbody>\n",
       "</table>\n",
       "</div>"
      ],
      "text/plain": [
       "       Temperature     Revenue\n",
       "count   499.000000  499.000000\n",
       "mean     22.186598  520.612001\n",
       "std       8.039908  174.264336\n",
       "min       0.000000   10.000000\n",
       "25%      17.111720  405.455916\n",
       "50%      22.387604  528.380417\n",
       "75%      27.724420  641.626340\n",
       "max      42.515280  969.291630"
      ]
     },
     "execution_count": 192,
     "metadata": {},
     "output_type": "execute_result"
    }
   ],
   "source": [
    "df.describe()"
   ]
  },
  {
   "cell_type": "code",
   "execution_count": 193,
   "metadata": {},
   "outputs": [
    {
     "data": {
      "image/png": "[encoded data removed]",
      "text/plain": [
       "<Figure size 600x400 with 1 Axes>"
      ]
     },
     "metadata": {},
     "output_type": "display_data"
    }
   ],
   "source": [
    "plt.figure(figsize=(6, 4))\n",
    "plt.scatter(df['Temperature'], df['Revenue'], color='blue')\n",
    "plt.title('Scatter Plot: Temperature vs Revenue')\n",
    "plt.xlabel('Temperature')\n",
    "plt.ylabel('Revenue')\n",
    "plt.grid(True)\n",
    "plt.show()"
   ]
  },
  {
   "cell_type": "code",
   "execution_count": 194,
   "metadata": {},
   "outputs": [
    {
     "data": {
      "image/png": "[encoded data removed]",
      "text/plain": [
       "<Figure size 640x480 with 1 Axes>"
      ]
     },
     "metadata": {},
     "output_type": "display_data"
    },
    {
     "data": {
      "image/png": "[encoded data removed]",
      "text/plain": [
       "<Figure size 640x480 with 1 Axes>"
      ]
     },
     "metadata": {},
     "output_type": "display_data"
    }
   ],
   "source": [
    "for col in cols:\n",
    "    sns.kdeplot(df[col], fill=True)\n",
    "    plt.title(f'Density Plot untuk {col}')\n",
    "    plt.show()"
   ]
  },
  {
   "cell_type": "code",
   "execution_count": 195,
   "metadata": {},
   "outputs": [
    {
     "data": {
      "application/vnd.microsoft.datawrangler.viewer.v0+json": {
       "columns": [
        {
         "name": "index",
         "rawType": "object",
         "type": "string"
        },
        {
         "name": "0",
         "rawType": "int64",
         "type": "integer"
        }
       ],
       "ref": "6d4a99e0-a5b0-4b67-aabd-22d25a59aaa3",
       "rows": [
        [
         "Temperature",
         "0"
        ],
        [
         "Revenue",
         "0"
        ]
       ],
       "shape": {
        "columns": 1,
        "rows": 2
       }
      },
      "text/plain": [
       "Temperature    0\n",
       "Revenue        0\n",
       "dtype: int64"
      ]
     },
     "execution_count": 195,
     "metadata": {},
     "output_type": "execute_result"
    }
   ],
   "source": [
    "df.isnull().sum()"
   ]
  },
  {
   "cell_type": "code",
   "execution_count": 196,
   "metadata": {},
   "outputs": [
    {
     "data": {
      "image/png": "[encoded data removed]",
      "text/plain": [
       "<Figure size 640x480 with 1 Axes>"
      ]
     },
     "metadata": {},
     "output_type": "display_data"
    },
    {
     "name": "stdout",
     "output_type": "stream",
     "text": [
      "Mean Squared Error (MSE) pada data uji: 0.0006128093234056637\n",
      "Root Mean Squared Error (RMSE) pada data uji: 0.024754985829235767\n",
      "Mean Absolute Error (MAE) pada data uji: 0.018542376965198844\n",
      "R-squared (R2) pada data uji: 0.9783581642446455\n",
      "Koefisien (slope): 0.9512061604901917\n",
      "Intercept: 0.03648519846114562\n"
     ]
    }
   ],
   "source": [
    "from sklearn.preprocessing import MinMaxScaler\n",
    "\n",
    "# Normalisasi menggunakan Min-Max Scaler\n",
    "scaler = MinMaxScaler()\n",
    "df_normalized = df.copy()\n",
    "df_normalized[['Temperature', 'Revenue']] = scaler.fit_transform(df[['Temperature', 'Revenue']])\n",
    "\n",
    "# Memisahkan fitur dan target\n",
    "X = df_normalized[['Temperature']].values  # Fitur\n",
    "y = df_normalized['Revenue'].values  # Target\n",
    "\n",
    "# Membagi dataset menjadi data latih dan uji\n",
    "X_train, X_test, y_train, y_test = train_test_split(X, y, test_size=0.2, random_state=42)\n",
    "\n",
    "# Membuat model regresi linear\n",
    "model_linear = LinearRegression()\n",
    "\n",
    "# Melatih model\n",
    "model_linear.fit(X_train, y_train)\n",
    "\n",
    "# Prediksi pada data uji\n",
    "y_pred_test = model_linear.predict(X_test)\n",
    "\n",
    "# Visualisasi hasil regresi linear pada seluruh dataset\n",
    "plt.scatter(X, y, color='blue', label='Data Asli')\n",
    "plt.plot(X, model_linear.predict(X), color='red', label='Regresi Linear')\n",
    "plt.title('Regresi Linear: Temperature vs Revenue (Normalisasi)')\n",
    "plt.xlabel('Temperature (Dinormalisasi)')\n",
    "plt.ylabel('Revenue (Dinormalisasi)')\n",
    "plt.legend()\n",
    "plt.grid(True)\n",
    "plt.show()\n",
    "\n",
    "# Evaluasi model\n",
    "mse = mean_squared_error(y_test, y_pred_test)  # Mean Squared Error\n",
    "rmse = np.sqrt(mse)   # Root Mean Squared Error\n",
    "mae = mean_absolute_error(y_test, y_pred_test)  # Mean Absolute Error\n",
    "r2 = r2_score(y_test, y_pred_test)   # R-squared\n",
    "\n",
    "# Output hasil\n",
    "print(\"Mean Squared Error (MSE) pada data uji:\", mse)\n",
    "print(\"Root Mean Squared Error (RMSE) pada data uji:\", rmse)\n",
    "print(\"Mean Absolute Error (MAE) pada data uji:\", mae)\n",
    "print(\"R-squared (R2) pada data uji:\", r2)\n",
    "print(\"Koefisien (slope):\", model_linear.coef_[0])\n",
    "print(\"Intercept:\", model_linear.intercept_)"
   ]
  },
  {
   "cell_type": "code",
   "execution_count": 197,
   "metadata": {},
   "outputs": [
    {
     "data": {
      "image/png": "[encoded data removed]",
      "text/plain": [
       "<Figure size 640x480 with 1 Axes>"
      ]
     },
     "metadata": {},
     "output_type": "display_data"
    },
    {
     "name": "stdout",
     "output_type": "stream",
     "text": [
      "Mean Squared Error (MSE) pada data uji: 0.018607192313110487\n",
      "Root Mean Squared Error (RMSE) pada data uji: 0.13640818272050428\n",
      "Mean Absolute Error (MAE) pada data uji: 0.10217464726455872\n",
      "R-squared (R2) pada data uji: 0.9783581642446455\n",
      "Koefisien (slope): 0.9901998352811744\n",
      "Intercept: 0.003261307743533358\n"
     ]
    }
   ],
   "source": [
    "from sklearn.preprocessing import StandardScaler\n",
    "\n",
    "# Standarisasi menggunakan StandardScaler\n",
    "scaler = StandardScaler()\n",
    "df_standardized = df.copy()\n",
    "df_standardized[['Temperature', 'Revenue']] = scaler.fit_transform(df[['Temperature', 'Revenue']])\n",
    "\n",
    "# Memisahkan fitur dan target\n",
    "X = df_standardized[['Temperature']].values  # Fitur\n",
    "y = df_standardized['Revenue'].values  # Target\n",
    "\n",
    "# Membagi dataset menjadi data latih dan uji\n",
    "X_train, X_test, y_train, y_test = train_test_split(X, y, test_size=0.2, random_state=42)\n",
    "\n",
    "# Membuat model regresi linear\n",
    "model_linear = LinearRegression()\n",
    "\n",
    "# Melatih model\n",
    "model_linear.fit(X_train, y_train)\n",
    "\n",
    "# Prediksi pada data uji\n",
    "y_pred_test = model_linear.predict(X_test)\n",
    "\n",
    "# Visualisasi hasil regresi linear pada seluruh dataset\n",
    "plt.scatter(X, y, color='blue', label='Data Asli')\n",
    "plt.plot(X, model_linear.predict(X), color='red', label='Regresi Linear')\n",
    "plt.title('Regresi Linear: Temperature vs Revenue (Standarisasi)')\n",
    "plt.xlabel('Temperature (Distandarisasi)')\n",
    "plt.ylabel('Revenue (Distandarisasi)')\n",
    "plt.legend()\n",
    "plt.grid(True)\n",
    "plt.show()\n",
    "\n",
    "# Evaluasi model\n",
    "mse = mean_squared_error(y_test, y_pred_test)  # Mean Squared Error\n",
    "rmse = np.sqrt(mse)   # Root Mean Squared Error\n",
    "mae = mean_absolute_error(y_test, y_pred_test)  # Mean Absolute Error\n",
    "r2 = r2_score(y_test, y_pred_test)   # R-squared\n",
    "\n",
    "# Output hasil\n",
    "print(\"Mean Squared Error (MSE) pada data uji:\", mse)\n",
    "print(\"Root Mean Squared Error (RMSE) pada data uji:\", rmse)\n",
    "print(\"Mean Absolute Error (MAE) pada data uji:\", mae)\n",
    "print(\"R-squared (R2) pada data uji:\", r2)\n",
    "print(\"Koefisien (slope):\", model_linear.coef_[0])\n",
    "print(\"Intercept:\", model_linear.intercept_)"
   ]
  },
  {
   "cell_type": "code",
   "execution_count": 198,
   "metadata": {},
   "outputs": [
    {
     "data": {
      "image/png": "[encoded data removed]",
      "text/plain": [
       "<Figure size 640x480 with 1 Axes>"
      ]
     },
     "metadata": {},
     "output_type": "display_data"
    },
    {
     "name": "stdout",
     "output_type": "stream",
     "text": [
      "Mean Squared Error (MSE) pada data uji: 563.9319156591603\n",
      "Root Mean Squared Error (RMSE) pada data uji: 23.747250696852472\n",
      "Mean Absolute Error (MAE) pada data uji: 17.787547015603092\n",
      "R-squared (R2) pada data uji: 0.9783581642446455\n",
      "Koefisien (slope): 21.46249769453642\n",
      "Intercept: 44.999945488072115\n"
     ]
    }
   ],
   "source": [
    "# Memisahkan fitur dan target (tanpa normalisasi)\n",
    "X = df[['Temperature']].values  # Fitur\n",
    "y = df['Revenue'].values             # Target\n",
    "\n",
    "# Membagi dataset menjadi data latih dan uji\n",
    "X_train, X_test, y_train, y_test = train_test_split(\n",
    "    X, y, test_size=0.2, random_state=42\n",
    ")\n",
    "\n",
    "# Membuat model regresi linear\n",
    "model_linear = LinearRegression()\n",
    "\n",
    "# Melatih model\n",
    "model_linear.fit(X_train, y_train)\n",
    "\n",
    "# Prediksi pada data uji\n",
    "y_pred_test = model_linear.predict(X_test)\n",
    "\n",
    "# Visualisasi hasil regresi linear pada seluruh dataset\n",
    "plt.scatter(X, y, color='blue', label='Data Asli')\n",
    "plt.plot(X, model_linear.predict(X), color='red', label='Regresi Linear')\n",
    "plt.title('Regresi Linear: Temperature vs Revenue (Tanpa Normalisasi)')\n",
    "plt.xlabel('Temperature')\n",
    "plt.ylabel('Revenue')\n",
    "plt.legend()\n",
    "plt.grid(True)\n",
    "plt.show()\n",
    "\n",
    "# Evaluasi model\n",
    "mse = mean_squared_error(y_test, y_pred_test)   # Mean Squared Error\n",
    "rmse = np.sqrt(mse)                              # Root Mean Squared Error\n",
    "mae  = mean_absolute_error(y_test, y_pred_test)  # Mean Absolute Error\n",
    "r2   = r2_score(y_test, y_pred_test)             # R-squared\n",
    "\n",
    "# Output hasil\n",
    "print(\"Mean Squared Error (MSE) pada data uji:\", mse)\n",
    "print(\"Root Mean Squared Error (RMSE) pada data uji:\", rmse)\n",
    "print(\"Mean Absolute Error (MAE) pada data uji:\", mae)\n",
    "print(\"R-squared (R2) pada data uji:\", r2)\n",
    "print(\"Koefisien (slope):\", model_linear.coef_[0])\n",
    "print(\"Intercept:\", model_linear.intercept_)"
   ]
  },
  {
   "cell_type": "markdown",
   "metadata": {},
   "source": [
    "1. Apa arti nilai intercept (b₀) dari model regresi linear yang kamu dapatkan?"
   ]
  },
  {
   "cell_type": "markdown",
   "metadata": {},
   "source": [
    "Intercept (b₀) menunjukkan prediksi pendapatan Revenue jika suhu Temperature = 0°C. Secara praktis, ini adalah baseline revenue saat suhu sangat rendah."
   ]
  },
  {
   "cell_type": "markdown",
   "metadata": {},
   "source": [
    "2. Apa arti nilai koefisien/slope (b₁) pada model regresi?"
   ]
  },
  {
   "cell_type": "markdown",
   "metadata": {},
   "source": [
    "3. Apakah hubungan antara Temperature dan Revenue bersifat positif atau negatif?"
   ]
  },
  {
   "cell_type": "markdown",
   "metadata": {},
   "source": [
    "4. Berapa nilai \n",
    "R\n",
    "2\n",
    " yang kamu peroleh, dan apa artinya?"
   ]
  },
  {
   "cell_type": "markdown",
   "metadata": {},
   "source": [
    "5. Apa makna dari nilai MSE dan RMSE?"
   ]
  },
  {
   "cell_type": "markdown",
   "metadata": {},
   "source": []
  }
 ],
 "metadata": {
  "kernelspec": {
   "display_name": "Python 3",
   "language": "python",
   "name": "python3"
  },
  "language_info": {
   "codemirror_mode": {
    "name": "ipython",
    "version": 3
   },
   "file_extension": ".py",
   "mimetype": "text/x-python",
   "name": "python",
   "nbconvert_exporter": "python",
   "pygments_lexer": "ipython3",
   "version": "3.11.9"
  }
 },
 "nbformat": 4,
 "nbformat_minor": 2
}
