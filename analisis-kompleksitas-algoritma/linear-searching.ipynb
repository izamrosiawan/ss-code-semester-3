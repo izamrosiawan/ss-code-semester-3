{
 "cells": [
  {
   "cell_type": "markdown",
   "id": "7ecb4290",
   "metadata": {},
   "source": [
    "### NAMA : IZAM ROSIAWAN\n",
    "### NIM : 103102400049"
   ]
  },
  {
   "cell_type": "markdown",
   "id": "56c8fdd8",
   "metadata": {},
   "source": [
    "---"
   ]
  },
  {
   "cell_type": "code",
   "execution_count": 1,
   "id": "4d72d4b1",
   "metadata": {},
   "outputs": [
    {
     "name": "stdout",
     "output_type": "stream",
     "text": [
      "Nilai 15 ditemukan di indeks: 3\n"
     ]
    }
   ],
   "source": [
    "def linear_search(data_list, target_value):\n",
    "    for index, value in enumerate(data_list):\n",
    "        if value == target_value:\n",
    "            return index\n",
    "    return -1\n",
    "\n",
    "\n",
    "data = [10, 5, 20, 15, 30] \n",
    "target1 = 15\n",
    "hasil1 = linear_search(data, target1)\n",
    "print(f\"Nilai {target1} ditemukan di indeks: {hasil1}\")"
   ]
  }
 ],
 "metadata": {
  "kernelspec": {
   "display_name": "Python 3",
   "language": "python",
   "name": "python3"
  },
  "language_info": {
   "codemirror_mode": {
    "name": "ipython",
    "version": 3
   },
   "file_extension": ".py",
   "mimetype": "text/x-python",
   "name": "python",
   "nbconvert_exporter": "python",
   "pygments_lexer": "ipython3",
   "version": "3.11.9"
  }
 },
 "nbformat": 4,
 "nbformat_minor": 5
}
