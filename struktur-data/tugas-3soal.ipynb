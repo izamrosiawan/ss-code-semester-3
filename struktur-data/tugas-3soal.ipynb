{
 "cells": [
  {
   "cell_type": "code",
   "execution_count": null,
   "id": "0144c8cf",
   "metadata": {},
   "outputs": [
    {
     "name": "stdout",
     "output_type": "stream",
     "text": [
      "deque(['C', 'A', 'B'])\n"
     ]
    }
   ],
   "source": [
    "from collections import deque\n",
    "\n",
    "my_list = deque()\n",
    "\n",
    "my_list.append(\"A\")\n",
    "my_list.append(\"B\")\n",
    "my_list.appendleft(\"C\")\n",
    "\n",
    "print(my_list)"
   ]
  },
  {
   "cell_type": "code",
   "execution_count": 2,
   "id": "32a2bef1",
   "metadata": {},
   "outputs": [
    {
     "name": "stdout",
     "output_type": "stream",
     "text": [
      "[5, 10, 20]\n"
     ]
    }
   ],
   "source": [
    "class SortedList:\n",
    "    def __init__(self):\n",
    "        self.items = []\n",
    "\n",
    "    def insert(self, data):\n",
    "        self.items.append(data)\n",
    "        self.items.sort()\n",
    "\n",
    "    def __str__(self):\n",
    "        return str(self.items)\n",
    "\n",
    "\n",
    "my_list = SortedList()\n",
    "my_list.insert(10)\n",
    "my_list.insert(5)\n",
    "my_list.insert(20)\n",
    "\n",
    "print(my_list)"
   ]
  },
  {
   "cell_type": "code",
   "execution_count": 3,
   "id": "7e06ecf4",
   "metadata": {},
   "outputs": [
    {
     "name": "stdout",
     "output_type": "stream",
     "text": [
      "A\n"
     ]
    }
   ],
   "source": [
    "my_list = [\"A\", \"B\", \"C\"]\n",
    "\n",
    "indeks_sekarang = 2\n",
    "\n",
    "\n",
    "indeks_berikutnya = (indeks_sekarang + 1) % len(my_list)\n",
    "\n",
    "print(my_list[indeks_berikutnya])"
   ]
  },
  {
   "cell_type": "code",
   "execution_count": null,
   "id": "74849726",
   "metadata": {},
   "outputs": [],
   "source": []
  }
 ],
 "metadata": {
  "kernelspec": {
   "display_name": "Python 3",
   "language": "python",
   "name": "python3"
  },
  "language_info": {
   "codemirror_mode": {
    "name": "ipython",
    "version": 3
   },
   "file_extension": ".py",
   "mimetype": "text/x-python",
   "name": "python",
   "nbconvert_exporter": "python",
   "pygments_lexer": "ipython3",
   "version": "3.11.9"
  }
 },
 "nbformat": 4,
 "nbformat_minor": 5
}
