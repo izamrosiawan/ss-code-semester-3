{
 "cells": [
  {
   "cell_type": "markdown",
   "id": "5aa81ce7",
   "metadata": {},
   "source": [
    "### Nama = Izam Rosiawan\n",
    "### Nim = 103102400049"
   ]
  },
  {
   "cell_type": "markdown",
   "id": "8f4d380b",
   "metadata": {},
   "source": [
    "PERTANYAAN 1\n",
    "Terdapat serangkaian bilangan bulat pada masukan. Buatlah program untuk mencari berapa banyak bilangan positif\n",
    "dan negatif, serta mana yang lebih banyak daripada yang lain (antara bilangan positif dan negatif).\n",
    "Masukan berisi serangkaian bilangan bulat positif dan negatif yang diakhiri dengan 0 sebagai nilai tengah.\n",
    "Keluaran berisi dua bilangan bulat dan satu string. String pertama menyatakan jumlah bilangan bulat negatif.\n",
    "String kedua menyatakan jumlah bilangan bulat positif. String ketiga menyatakan mana yang lebih banyak\n",
    "di antara keduanya; \"negatif\" jika bilangan bulat negatif lebih banyak daripada bilangan positif, \"positif\" jika\n",
    "bilangan bulat positif lebih banyak daripada bilangan negatif, dan \"sama\" jika jumlah antara keduanya\n",
    "sama."
   ]
  },
  {
   "cell_type": "code",
   "execution_count": null,
   "id": "42f4ec06",
   "metadata": {},
   "outputs": [],
   "source": [
    "positif = 0\n",
    "negatif = 0\n",
    "\n",
    "n = int(input(\"masukan n:\"))\n",
    "\n",
    "while n != 0:\n",
    "    if n > 0:\n",
    "        positif += 1\n",
    "    elif n < 0:\n",
    "        negatif += 1\n",
    "    n = int(input(\"masukan n:\"))\n",
    "    \n",
    "print(negatif)\n",
    "print(positif)\n",
    "if negatif > positif:\n",
    "    print(\"negatif\")\n",
    "elif positif > negatif:\n",
    "    print(\"positif\")\n",
    "else:\n",
    "    print(\"sama\")"
   ]
  },
  {
   "cell_type": "markdown",
   "id": "df34b5a9",
   "metadata": {},
   "source": [
    "PERTANYAAN 2\n",
    "Terdapat serangkaian bilangan bulat positif pada masukan. Buatlah program untuk mencari berapa banyak\n",
    "bilangan bulat kejadian di dalamnya, dan berapa banyak bilangan bulat genap yang muncul.\n",
    "Masukan berisi serangkaian bilangan bulat yang diakhiri dengan 0 sebagai sentinel. Asumsi: Minimal\n",
    "ada 1 bilangan bulat genap pada masukan.\n",
    "Keluaran berisi 2 angka. Angka pertama menyatakan jumlah bilangan bulat genap. Angka kedua\n",
    "menyatakan bilangan bulat terbesar di antara bilangan bulat genap tersebut."
   ]
  },
  {
   "cell_type": "code",
   "execution_count": null,
   "id": "5116f73a",
   "metadata": {},
   "outputs": [
    {
     "name": "stdout",
     "output_type": "stream",
     "text": [
      "5 12\n"
     ]
    }
   ],
   "source": [
    "angka = []\n",
    "    \n",
    "while True:\n",
    "    n = int(input())\n",
    "    if n == 0:\n",
    "        break\n",
    "    if n % 2 == 0:\n",
    "        angka.append(n)\n",
    "    \n",
    "print(len(angka), max(angka))"
   ]
  },
  {
   "cell_type": "markdown",
   "id": "dd3e4b58",
   "metadata": {},
   "source": [
    "PERTANYAAN 3\n",
    "Sebuah bilangan bulat positif diberikan sebagai input. Tulis program untuk menentukan apakah bilangan tersebut merupakan bilangan prima atau bukan.\n",
    "Masukkan bilangan bulat positif.\n",
    "Keluaran harus berupa string \"prima\" jika bilangan tersebut merupakan bilangan prima, dan \"bukan prima\" jika bukan bilangan prima."
   ]
  },
  {
   "cell_type": "code",
   "execution_count": null,
   "id": "7ef90579",
   "metadata": {},
   "outputs": [
    {
     "name": "stdout",
     "output_type": "stream",
     "text": [
      "10 bilangan prima\n"
     ]
    }
   ],
   "source": [
    "n = int(input(\"masukan n:\"))\n",
    "if n > 1:\n",
    "    for i in range(2, n):\n",
    "        if (n % 2) == 0:\n",
    "            print(n, \"bilangan prima\")\n",
    "            break\n",
    "    else:\n",
    "        print(n, \"bukan bilangan prima\")\n",
    "else:\n",
    "    print(n, \"bilangan error\")\n"
   ]
  },
  {
   "cell_type": "markdown",
   "id": "bb88b616",
   "metadata": {},
   "source": [
    "PERTANYAAN 4\n",
    "Tulis program untuk menentukan apakah suatu bilangan bulat positif merupakan bilangan sempurna atau bukan (bilangan sempurna adalah bilangan yang sama dengan jumlah pembagi positifnya, kecuali bilangan itu sendiri).\n",
    "Masukkan bilangan bulat positif.\n",
    "Keluaran harus berupa string \"sempurna\" jika bilangan tersebut sempurna, dan \"tidak sempurna\" jika bukan."
   ]
  },
  {
   "cell_type": "code",
   "execution_count": null,
   "id": "1e3d5404",
   "metadata": {},
   "outputs": [],
   "source": [
    "n = int(input())\n",
    "total = 0\n",
    "\n",
    "for i in range(1, n - 1):\n",
    "    if n % i == 0:\n",
    "        total += i\n",
    "\n",
    "if total == n:\n",
    "    print(\"perfect\")\n",
    "else:\n",
    "    print(\"not perfect\")"
   ]
  }
 ],
 "metadata": {
  "kernelspec": {
   "display_name": "Python 3",
   "language": "python",
   "name": "python3"
  },
  "language_info": {
   "codemirror_mode": {
    "name": "ipython",
    "version": 3
   },
   "file_extension": ".py",
   "mimetype": "text/x-python",
   "name": "python",
   "nbconvert_exporter": "python",
   "pygments_lexer": "ipython3",
   "version": "3.11.9"
  }
 },
 "nbformat": 4,
 "nbformat_minor": 5
}
