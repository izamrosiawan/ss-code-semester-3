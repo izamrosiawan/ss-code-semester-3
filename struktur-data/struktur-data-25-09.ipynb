{
 "cells": [
  {
   "cell_type": "markdown",
   "id": "88bdf447",
   "metadata": {},
   "source": [
    "### praktikum-struktur-data"
   ]
  },
  {
   "cell_type": "code",
   "execution_count": 1,
   "id": "f5a3d8f8",
   "metadata": {},
   "outputs": [
    {
     "name": "stdout",
     "output_type": "stream",
     "text": [
      "makan\n"
     ]
    }
   ],
   "source": [
    "print(\"makan\")"
   ]
  },
  {
   "cell_type": "code",
   "execution_count": 2,
   "id": "8a544871",
   "metadata": {},
   "outputs": [
    {
     "name": "stdout",
     "output_type": "stream",
     "text": [
      "zeta ganteng\n"
     ]
    }
   ],
   "source": [
    "print(\"zeta ganteng\")"
   ]
  },
  {
   "cell_type": "code",
   "execution_count": 1,
   "id": "ac5e3abd",
   "metadata": {},
   "outputs": [],
   "source": [
    "def basic_operator(status):\n",
    "    print(not status)\n",
    "    print(0> 1 and 1>2)\n",
    "    print(0>1 or 1>2)\n",
    "    print(10^9, \"l\", status ^ (not status))"
   ]
  },
  {
   "cell_type": "code",
   "execution_count": 6,
   "id": "b636fcdb",
   "metadata": {},
   "outputs": [
    {
     "name": "stdout",
     "output_type": "stream",
     "text": [
      "6\n"
     ]
    }
   ],
   "source": [
    "a = 6%8\n",
    "print(a)"
   ]
  },
  {
   "cell_type": "code",
   "execution_count": 8,
   "id": "daaadb63",
   "metadata": {},
   "outputs": [
    {
     "name": "stdout",
     "output_type": "stream",
     "text": [
      "1\n"
     ]
    }
   ],
   "source": [
    "a = 10//6\n",
    "print(a)"
   ]
  },
  {
   "cell_type": "code",
   "execution_count": null,
   "id": "5b4c2082",
   "metadata": {},
   "outputs": [
    {
     "name": "stdout",
     "output_type": "stream",
     "text": [
      "condition True\n"
     ]
    }
   ],
   "source": [
    "if True:\n",
    "    print(\"condition\", 0 == True or not 1 == False)\n",
    "elif(True and False == False):\n",
    "    print(\"condition\", 0 == True and not 1 == False)\n",
    "else:\n",
    "    print(\"False\")"
   ]
  },
  {
   "cell_type": "code",
   "execution_count": null,
   "id": "873e0ad5",
   "metadata": {},
   "outputs": [
    {
     "name": "stdout",
     "output_type": "stream",
     "text": [
      "2 0\n"
     ]
    }
   ],
   "source": [
    "tuple = (True, 25, 9, 2025, \"DS0402\")\n",
    "\n",
    "\n",
    "print(2,0)"
   ]
  },
  {
   "cell_type": "code",
   "execution_count": 22,
   "id": "632a52db",
   "metadata": {},
   "outputs": [
    {
     "name": "stdout",
     "output_type": "stream",
     "text": [
      "\t a\n"
     ]
    }
   ],
   "source": [
    "print(\"\\t a\")"
   ]
  },
  {
   "cell_type": "code",
   "execution_count": 27,
   "id": "fa92bfc7",
   "metadata": {},
   "outputs": [
    {
     "name": "stdout",
     "output_type": "stream",
     "text": [
      "[1, 4, 6, 7, 4, 6]\n",
      "6\n"
     ]
    }
   ],
   "source": [
    "angka = [1,4,6,7,4,6]\n",
    "print(angka)\n",
    "\n",
    "print(angka[2])"
   ]
  },
  {
   "cell_type": "code",
   "execution_count": 33,
   "id": "4130ab30",
   "metadata": {},
   "outputs": [
    {
     "name": "stdout",
     "output_type": "stream",
     "text": [
      "ini adalah 1\n"
     ]
    }
   ],
   "source": [
    "n = 1\n",
    "match n:\n",
    "    case 1:\n",
    "        print(\"ini adalah\", 1)\n",
    "    case 2:\n",
    "        print(\"ini adalah\", 2)"
   ]
  },
  {
   "cell_type": "code",
   "execution_count": 34,
   "id": "9fa96d5f",
   "metadata": {},
   "outputs": [],
   "source": [
    "n = int(input(\"masukan n:\"))\n",
    "match n:\n",
    "    case 1:\n",
    "        print(\"ini adalah\", 1)\n",
    "    case 2:\n",
    "        print(\"ini adalah\", 2)"
   ]
  },
  {
   "cell_type": "code",
   "execution_count": 36,
   "id": "6dfdef80",
   "metadata": {},
   "outputs": [
    {
     "name": "stdout",
     "output_type": "stream",
     "text": [
      "<class 'str'>\n"
     ]
    }
   ],
   "source": [
    "n = input(\"masukan:\")\n",
    "print(type(n))"
   ]
  },
  {
   "cell_type": "markdown",
   "id": "5d3574fc",
   "metadata": {},
   "source": [
    "A. Pertanyaan Jurnal\n",
    "PERTANYAAN 1\n",
    "Terdapat serangkaian bilangan bulat pada masukan. Buatlah program untuk mencari berapa banyak bilangan positif\n",
    "dan negatif, serta mana yang lebih banyak daripada yang lain (antara bilangan positif dan negatif).\n",
    "Masukan berisi serangkaian bilangan bulat positif dan negatif yang diakhiri dengan 0 sebagai nilai tengah.\n",
    "Keluaran berisi dua bilangan bulat dan satu string. String pertama menyatakan jumlah bilangan bulat negatif.\n",
    "String kedua menyatakan jumlah bilangan bulat positif. String ketiga menyatakan mana yang lebih banyak\n",
    "di antara keduanya; \"negatif\" jika bilangan bulat negatif lebih banyak daripada bilangan positif, \"positif\" jika\n",
    "bilangan bulat positif lebih banyak daripada bilangan negatif, dan \"sama\" jika jumlah antara keduanya\n",
    "sama.\n",
    "Contoh masukan dan keluaran:\n",
    "\n",
    "Number Input Output\n",
    "1 -1\n",
    "1\n",
    "0\n",
    "1 1 equal\n",
    "2 1\n",
    "2\n",
    "3\n",
    "0\n",
    "0 3 positive"
   ]
  },
  {
   "cell_type": "code",
   "execution_count": null,
   "id": "c7fa20fc",
   "metadata": {},
   "outputs": [
    {
     "name": "stdout",
     "output_type": "stream",
     "text": [
      "kedua bilangan genap\n"
     ]
    }
   ],
   "source": [
    "def bilangan(angka, keterangan):\n",
    "    if keterangan == \"positif\":\n",
    "        angka % 2 == 0\n",
    "        print(\"bilangan genap\")\n",
    "    elif keterangan == \"ganjil\":\n",
    "        angka % 2 != 0\n",
    "        print(\"kedua bilangan ganjil\")\n",
    "    else:\n",
    "        print(\"salah\")\n",
    "\n",
    "bilangan(4, \"genap\")\n"
   ]
  },
  {
   "cell_type": "markdown",
   "id": "6b7f7737",
   "metadata": {},
   "source": [
    "PERTANYAAN 1\n",
    "Terdapat serangkaian bilangan bulat pada masukan. Buatlah program untuk mencari berapa banyak bilangan positif\n",
    "dan negatif, serta mana yang lebih banyak daripada yang lain (antara bilangan positif dan negatif).\n",
    "Masukan berisi serangkaian bilangan bulat positif dan negatif yang diakhiri dengan 0 sebagai nilai tengah.\n",
    "Keluaran berisi dua bilangan bulat dan satu string. String pertama menyatakan jumlah bilangan bulat negatif.\n",
    "String kedua menyatakan jumlah bilangan bulat positif. String ketiga menyatakan mana yang lebih banyak\n",
    "di antara keduanya; \"negatif\" jika bilangan bulat negatif lebih banyak daripada bilangan positif, \"positif\" jika\n",
    "bilangan bulat positif lebih banyak daripada bilangan negatif, dan \"sama\" jika jumlah antara keduanya\n",
    "sama."
   ]
  },
  {
   "cell_type": "code",
   "execution_count": 7,
   "id": "bbe55210",
   "metadata": {},
   "outputs": [],
   "source": [
    "# = int(input(\"masukan n:\"))\n",
    "\n",
    "for i in range(n):\n",
    "    n = int(input(\"masukan n:\"))\n",
    "    if n > 0:\n",
    "        print(\"positif\")\n",
    "    elif n < 0:\n",
    "        print(\"negatif\")\n",
    "    elif 0 == n:\n",
    "        print(\"nol\")\n"
   ]
  },
  {
   "cell_type": "code",
   "execution_count": 8,
   "id": "cb29a5a6",
   "metadata": {},
   "outputs": [],
   "source": [
    "n = int(input(\"masukan n:\"))\n",
    "\n",
    "while n ==0:\n",
    "    print(\"Nilai n adalah\")\n",
    "    if n > 0:\n",
    "        print(\"positif\")\n",
    "    elif n < 0:\n",
    "        print(\"negatif\")\n",
    "    elif 0 == n:\n",
    "        print(\"nol\")"
   ]
  },
  {
   "cell_type": "code",
   "execution_count": 14,
   "id": "65fc00ce",
   "metadata": {},
   "outputs": [
    {
     "name": "stdout",
     "output_type": "stream",
     "text": [
      "2\n",
      "2\n",
      "sama\n"
     ]
    }
   ],
   "source": [
    "#soal 1\n",
    "positif = 0\n",
    "negatif = 0\n",
    "\n",
    "n = int(input(\"masukan n:\"))\n",
    "\n",
    "while n != 0:\n",
    "    if n > 0:\n",
    "        positif += 1\n",
    "    elif n < 0:\n",
    "        negatif += 1\n",
    "    n = int(input(\"masukan n:\"))\n",
    "    \n",
    "print(negatif)\n",
    "print(positif)\n",
    "if negatif > positif:\n",
    "    print(\"negatif\")\n",
    "elif positif > negatif:\n",
    "    print(\"positif\")\n",
    "else:\n",
    "    print(\"sama\")\n"
   ]
  },
  {
   "cell_type": "markdown",
   "id": "9a8f6a06",
   "metadata": {},
   "source": [
    "Terdapat serangkaian bilangan bulat positif pada masukan. Buatlah program untuk mencari berapa banyak\n",
    "bilangan bulat kejadian di dalamnya, dan berapa banyak bilangan bulat genap yang muncul.\n",
    "Masukan berisi serangkaian bilangan bulat yang diakhiri dengan 0 sebagai sentinel. Asumsi: Minimal\n",
    "ada 1 bilangan bulat genap pada masukan.\n",
    "Keluaran berisi 2 angka. Angka pertama menyatakan jumlah bilangan bulat genap. Angka kedua\n",
    "menyatakan bilangan bulat terbesar di antara bilangan bulat genap tersebut."
   ]
  },
  {
   "cell_type": "code",
   "execution_count": 33,
   "id": "5c599603",
   "metadata": {},
   "outputs": [
    {
     "name": "stdout",
     "output_type": "stream",
     "text": [
      "4 12\n"
     ]
    }
   ],
   "source": [
    "#soal 2\n",
    "angka = []\n",
    "    \n",
    "while True:\n",
    "    n = int(input())\n",
    "    if n == 0:\n",
    "        break\n",
    "    if n % 2 == 0:\n",
    "        angka.append(n)\n",
    "    \n",
    "print(len(angka), max(angka))"
   ]
  },
  {
   "cell_type": "markdown",
   "id": "96b2c9b9",
   "metadata": {},
   "source": [
    "PERTANYAAN 3\n",
    "Sebuah bilangan bulat positif diberikan sebagai input. Tulis program untuk menentukan apakah bilangan tersebut merupakan bilangan prima atau bukan.\n",
    "Masukkan bilangan bulat positif.\n",
    "Keluaran harus berupa string \"prima\" jika bilangan tersebut merupakan bilangan prima, dan \"bukan prima\" jika bukan bilangan prima."
   ]
  },
  {
   "cell_type": "code",
   "execution_count": 51,
   "id": "f13559f1",
   "metadata": {},
   "outputs": [
    {
     "name": "stdout",
     "output_type": "stream",
     "text": [
      "10 bilangan prima\n"
     ]
    }
   ],
   "source": [
    "#soal 3\n",
    "n = int(input(\"masukan n:\"))\n",
    "if n > 1:\n",
    "    for i in range(2, n):\n",
    "        if (n % 2) == 0:\n",
    "            print(n, \"bilangan prima\")\n",
    "            break\n",
    "    else:\n",
    "        print(n, \"bukan bilangan prima\")\n",
    "else:\n",
    "    print(n, \"bilangan error\")\n",
    "\n"
   ]
  },
  {
   "cell_type": "markdown",
   "id": "b73a039c",
   "metadata": {},
   "source": [
    "\n",
    "Tulis program untuk menentukan apakah suatu bilangan bulat positif merupakan bilangan sempurna atau bukan (bilangan sempurna adalah bilangan yang sama dengan jumlah pembagi positifnya, kecuali bilangan itu sendiri).\n",
    "Masukkan bilangan bulat positif.\n",
    "Keluaran harus berupa string \"sempurna\" jika bilangan tersebut sempurna, dan \"tidak sempurna\" jika bukan."
   ]
  },
  {
   "cell_type": "code",
   "execution_count": 52,
   "id": "bc611aaf",
   "metadata": {},
   "outputs": [
    {
     "name": "stdout",
     "output_type": "stream",
     "text": [
      "not perfect\n"
     ]
    }
   ],
   "source": [
    "n = int(input())\n",
    "total = 0\n",
    "\n",
    "for i in range(1, n - 1):\n",
    "    if n % i == 0:\n",
    "        total += i\n",
    "\n",
    "if total == n:\n",
    "    print(\"perfect\")\n",
    "else:\n",
    "    print(\"not perfect\")"
   ]
  },
  {
   "cell_type": "code",
   "execution_count": null,
   "id": "7411f2d1",
   "metadata": {},
   "outputs": [],
   "source": []
  }
 ],
 "metadata": {
  "kernelspec": {
   "display_name": "Python 3",
   "language": "python",
   "name": "python3"
  },
  "language_info": {
   "codemirror_mode": {
    "name": "ipython",
    "version": 3
   },
   "file_extension": ".py",
   "mimetype": "text/x-python",
   "name": "python",
   "nbconvert_exporter": "python",
   "pygments_lexer": "ipython3",
   "version": "3.11.9"
  }
 },
 "nbformat": 4,
 "nbformat_minor": 5
}
