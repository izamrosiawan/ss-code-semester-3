{
 "cells": [
  {
   "cell_type": "code",
   "execution_count": 1,
   "id": "314822b6",
   "metadata": {},
   "outputs": [
    {
     "name": "stdout",
     "output_type": "stream",
     "text": [
      "Rata-rata dari tiga angka tersebut adalah: 85.33333333333333\n"
     ]
    }
   ],
   "source": [
    "def hitung_rata_rata(angka1, angka2, angka3):\n",
    "    total = angka1 + angka2 + angka3\n",
    "    rata_rata = total / 3\n",
    "    return rata_rata\n",
    "\n",
    "def tampilkan_hasil(rata_rata):\n",
    "    print(f\"Rata-rata dari tiga angka tersebut adalah: {rata_rata}\")\n",
    "\n",
    "if __name__ == \"__main__\":\n",
    "    try:\n",
    "        angka1 = float(input(\"Masukkan angka pertama: \"))\n",
    "        angka2 = float(input(\"Masukkan angka kedua: \"))\n",
    "        angka3 = float(input(\"Masukkan angka ketiga: \"))\n",
    "        \n",
    "        rata_rata = hitung_rata_rata(angka1, angka2, angka3)\n",
    "        tampilkan_hasil(rata_rata)\n",
    "    except ValueError:\n",
    "        print(\"Input tidak valid. Harap masukkan angka yang benar.\")\n",
    "\n"
   ]
  },
  {
   "cell_type": "code",
   "execution_count": null,
   "id": "c0d92d54",
   "metadata": {},
   "outputs": [],
   "source": [
    "class mahasiswa:\n",
    "    def __init__(self, nama, nim, jurusan):\n",
    "        self.nama = nama\n",
    "        self.nim = nim\n",
    "        self.jurusan = jurusan\n",
    "\n",
    "    def hitung_rata"
   ]
  }
 ],
 "metadata": {
  "kernelspec": {
   "display_name": "Python 3",
   "language": "python",
   "name": "python3"
  },
  "language_info": {
   "codemirror_mode": {
    "name": "ipython",
    "version": 3
   },
   "file_extension": ".py",
   "mimetype": "text/x-python",
   "name": "python",
   "nbconvert_exporter": "python",
   "pygments_lexer": "ipython3",
   "version": "3.11.9"
  }
 },
 "nbformat": 4,
 "nbformat_minor": 5
}
