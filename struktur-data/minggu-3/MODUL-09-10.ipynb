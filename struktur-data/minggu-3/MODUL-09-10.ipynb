{
  "cells": [
    {
      "cell_type": "markdown",
      "metadata": {
        "id": "1M9GTk5pk1HQ"
      },
      "source": [
        "Pada file MODUL.ipynb berikut berisi tentang segala kebutuhan syntax dan fitur struktur data pada Python yang perlu kalian ketahui untuk Struktur Data di Python, Namun perlu diingat bahwa tidak seluruh fitur yang ada pada Python akan dibahas dalam satu file .ipynb, untuk itu perlunya pembelajar lebih lanjut secara mandiri.\n",
        "\n",
        "Referensi:\n",
        "https://docs.python.org/3/tutorial/datastructures.html\n",
        "\n",
        "---\n",
        "**Pembahasan Pertama**:\n",
        "\n",
        "- Tipe Data\n",
        "\n",
        "- Operator Logika Sederhana\n",
        "\n",
        "- Operator Perbandingan\n",
        "\n",
        "- Operator Perulangan\n",
        "\n",
        "- Operator yang digunakan untuk menyimpan nilai\n",
        "\n",
        "- Fungsi dan Prosedur\n",
        "\n",
        "---\n",
        "**Pembahasan Kedua**:\n",
        "\n",
        "- Class & Object\n",
        "\n",
        "- Metode\n",
        "---\n",
        "**Pembahasan Ketiga**:\n",
        "\n",
        "- Lingked List Sederhana"
      ]
    },
    {
      "cell_type": "markdown",
      "metadata": {
        "id": "bce9jX8_tZkU"
      },
      "source": [
        "# Pembahsan Pertama:\n",
        "\n",
        "- Tipe Data\n",
        "\n",
        "- Operator Logika Sederhana\n",
        "\n",
        "- Operator Perbandingan\n",
        "\n",
        "- Operator Perulangan\n",
        "\n",
        "- Operator yang digunakan untuk menyimpan nilai\n",
        "\n",
        "- Fungsi dan Prosedur"
      ]
    },
    {
      "cell_type": "code",
      "execution_count": null,
      "metadata": {
        "id": "OOUEvDKDkvnv"
      },
      "outputs": [],
      "source": [
        "# Syntax Menyimpan Nilai Sederhana di Python\n",
        "nama   = \"bramasta\" + \" jaya\"\n",
        "number = 30\n",
        "weight = 61.5621025\n",
        "grade  = 'A'\n",
        "status = False"
      ]
    },
    {
      "cell_type": "code",
      "execution_count": null,
      "metadata": {
        "colab": {
          "base_uri": "https://localhost:8080/"
        },
        "id": "YbXmajf2n0Dh",
        "outputId": "aca91d9a-cff1-4670-ec47-1f1f9ce88e88"
      },
      "outputs": [
        {
          "name": "stdout",
          "output_type": "stream",
          "text": [
            "nama saya\t: bramasta jaya\n",
            "nama saya\t:bramasta jaya\n",
            "Nama\t\t:  bramasta jaya \n",
            "Usia\t\t:  30 years old \n",
            "Berat Badan\t:  61.5621025\n",
            "Berat Badan jika dibulatkan : 61.56\n"
          ]
        }
      ],
      "source": [
        "# Syntax Print Sederhana di Python\n",
        "print(\"nama saya\\t:\", nama)\n",
        "\n",
        "print(f\"nama saya\\t: {nama}\")\n",
        "\n",
        "print( \"Nama\\t\\t: \",nama,\n",
        "       \"\\nUsia\\t\\t: \",number,\"years old\",\n",
        "       \"\\nBerat Badan\\t: \", weight)\n",
        "\n",
        "print(f\"Berat Badan jika dibulatkan : {round(weight, 2)}\")\n",
        "# round( float variabel , .n )"
      ]
    },
    {
      "cell_type": "code",
      "execution_count": null,
      "metadata": {
        "colab": {
          "base_uri": "https://localhost:8080/"
        },
        "id": "EvB_2SK7ony8",
        "outputId": "99364b5c-37da-4296-f1ce-5e71f54fb284"
      },
      "outputs": [
        {
          "name": "stdout",
          "output_type": "stream",
          "text": [
            "True\n",
            "False\n",
            "False\n",
            "3  |  True\n",
            "<class 'str'>\n",
            "79\n",
            "70\n",
            "3.142857142857143\n",
            "154\n",
            "3\n",
            "1\n",
            "5929\n",
            "2.0\n",
            "True\n",
            "True\n",
            "False\n",
            "True\n",
            "False\n",
            "False\n"
          ]
        }
      ],
      "source": [
        "# Syntax Operator Logika Sederhana di Python\n",
        "print( not status )      # NEGASI\n",
        "print( 0 > 1 and 1 > 2 ) # AND\n",
        "print( 0 > 1 or 1 > 2 )  # OR\n",
        "print( 10 ^ 9 ,\" | \", status ^ (not status) )\n",
        "\n",
        "\n",
        "print( type(nama) )  # type of data\n",
        "print( 77 + 2 )      # Pertamabahan\n",
        "print( 77 - 7 )      # Pengurangan\n",
        "print( 22 / 7 )      # Pembagian\n",
        "print( 22 * 7 )      # Perkalian\n",
        "print( 10 % 7 )      # Modulus\n",
        "print( 10 // 6 )     # Floor Division\n",
        "print( 77 ** 2 )     # Pangkat\n",
        "\n",
        "print( (13 // 6 ) * 2/2 ) # Operasi Perkalian\n",
        "\n",
        "# Syntax Operator Perbandingan Sederhana di Python\n",
        "print( 'main' == 'main' )\n",
        "print( 22 >= 7 )\n",
        "print( 22 <= 7 )\n",
        "print( 22 > 7 )\n",
        "print( 22 < 7 )\n",
        "print( 25 != 25 )"
      ]
    },
    {
      "cell_type": "code",
      "execution_count": null,
      "metadata": {
        "colab": {
          "base_uri": "https://localhost:8080/"
        },
        "id": "vGLXbXljpp5W",
        "outputId": "303d5e96-6264-4fbb-e6da-4da14a2af032"
      },
      "outputs": [
        {
          "name": "stdout",
          "output_type": "stream",
          "text": [
            "condition:  True\n"
          ]
        }
      ],
      "source": [
        "# Syntax If-Else Sederhana di Python\n",
        "\"\"\"\n",
        "    0 = False\n",
        "    1 = True\n",
        "\"\"\"\n",
        "\n",
        "if True:\n",
        "    print(\"condition: \", 0 == True or not 1 == False )\n",
        "elif(True and False == False):\n",
        "    print(\"condition: \", 0 == True and not 1 == False)\n",
        "else:\n",
        "    print(\"False\")\n",
        "\n"
      ]
    },
    {
      "cell_type": "code",
      "execution_count": null,
      "metadata": {
        "colab": {
          "base_uri": "https://localhost:8080/"
        },
        "id": "8BF2cLKVp3Te",
        "outputId": "9e53783f-577a-4dc7-b420-1604c3ff8389"
      },
      "outputs": [
        {
          "name": "stdout",
          "output_type": "stream",
          "text": [
            "Input n: 12\n",
            "Positive\n",
            "Genap\n"
          ]
        }
      ],
      "source": [
        "# Syntax Operator Ternary Sederhana\n",
        "\n",
        "n = int(input(\"Input n: \"))\n",
        "\n",
        "# If nested using ternary syntax\n",
        "tern = \"Positive\" if n > 0 else \"Negative\" if n < 0 else \"Zero\"\n",
        "\n",
        "print(tern)\n",
        "\n",
        "tern2 = (\"Ganjil\", \"Genap\")[n%2==0]\n",
        "\n",
        "print(tern2)"
      ]
    },
    {
      "cell_type": "code",
      "execution_count": null,
      "metadata": {
        "colab": {
          "base_uri": "https://localhost:8080/"
        },
        "id": "hxdcRo1GqSZH",
        "outputId": "40e07b39-c603-43c0-8769-8883411f8773"
      },
      "outputs": [
        {
          "output_type": "stream",
          "name": "stdout",
          "text": [
            "3\n",
            "LIST setelag APPEND [0, False, 2, 3, '4', 'Pertama']\n",
            "LIST setelah REMOVE [0, False, 2, 3, '4']\n",
            "LIST setelah INSERT [0, False, 12, 2, 3, '4']\n",
            "LIST setelah POP [0, False, 12, 2, 3]\n",
            "LIST setelah DELETE []\n",
            "True\n",
            "['Budi', 'Ahmad', 'Sahroni']\n",
            "2025\n",
            "Kumpulan nilai set1: {'l', 'a', 'n', 'k', 't', 'u', 'e'}\n",
            "Kumpulan nilai set2: {'y', 'l', 'm', 'r', 's', 'a', 'b', 'k', 'o', 't', 'u', 'e'}\n",
            "Kumpulan nilai set3: {50, 20, 40, 10, 30}\n",
            "Contoh set1 - set2:  {'n'}\n",
            "Contoh set1 & set2:  {'l', 'a', 'k', 't', 'u', 'e'}\n",
            "Contoh set1 | set2:  {'l', 'm', 'k', 'o', 't', 'u', 'y', 'r', 'a', 'b', 'n', 's', 'e'}\n",
            "Contoh set1 ^ set2:  {'y', 'm', 'r', 's', 'b', 'n', 'o'}\n"
          ]
        }
      ],
      "source": [
        "    # LIST\n",
        "list_ = [0,False,2,3,\"4\"]\n",
        "\n",
        "# Bersifat Mutable, artinya tipe data yang dapat menyimpan lebih dari satu tipe data dan dapat dimanipulasi (Add, Delete, Update)\n",
        "\n",
        "j=len(list_)-1 # j mengambil panjang LIST\n",
        "\n",
        "print(list_[3]) # Mengakses nilai list menggunakan index [3]\n",
        "\n",
        "list_.append('Pertama') # menambahkan nilai 'False' ke dalam LIST\n",
        "print(\"LIST setelag APPEND\",list_)\n",
        "\n",
        "list_.remove('Pertama')\n",
        "print(\"LIST setelah REMOVE\", list_)\n",
        "\n",
        "list_.insert(-3,12)\n",
        "print(\"LIST setelah INSERT\",list_)\n",
        "\n",
        "list_.pop()\n",
        "print(\"LIST setelah POP\", list_)\n",
        "\n",
        "list_.clear()\n",
        "print(\"LIST setelah DELETE\", list_)\n",
        "\n",
        "\n",
        "\n",
        "\n",
        "    # TUPLE\n",
        "tuple_ = (True, 25, 9, 2025, \"DS-04-05\")\n",
        "\n",
        "# Bersifat Immutable, sama seperti LIST dapat menyimpan berbagai tipe data, namun nilai yang sudah dibuat tidak dapat di manipulasi\n",
        "\n",
        "print(tuple_[0]) # Mengakses TUPLE menggunakan index [0]\n",
        "\n",
        "#tuple.append('ABC') <- Jika dijalankan akan mengalami ERROR karena TUPLE tidak menerima operasi yang menyebabkan data berubah\n",
        "\n",
        "\n",
        "\n",
        "\n",
        "    # DICTIONARY\n",
        "dictionary_ = {\n",
        "    'kelas': 'Struktur Data Python',\n",
        "    'angkatan':2025,\n",
        "    'aktif': True,\n",
        "    1: ['Budi', 'Ahmad', 'Sahroni']} # LIST di dalam DICTIONARY\n",
        "\n",
        "# Bersifat Mutable, sama seperti LIST dan TUPLE dapat menyimpan berbagai tipe data, namun DICTIONARY menggunakan kunci khusus yang bersifat unik dan dapat digunakan sebagai index untuk menyimpan nilai secara terpisah\n",
        "\n",
        "print(dictionary_[1]) # Mengakses DICTIONARY menggunakan key [1]\n",
        "print(dictionary_['angkatan'])\n",
        "\n",
        "\n",
        "\n",
        "\n",
        "    # SETS\n",
        "set1 = set('akuanaktel')\n",
        "set2 = set('telkomsurabaya')\n",
        "set3 = {10,20,30,40,50}\n",
        "# set() adalah koleksi tak berurut tanpa elemen duplikat. set pada dasarnya digunakan untuk pengujian keanggotaan dan sets tidak menerima duplikasi nilai.\n",
        "\n",
        "\n",
        "# Contoh\n",
        "print(f\"Kumpulan nilai set1: {set1}\")\n",
        "print(f\"Kumpulan nilai set2: {set2}\")\n",
        "print(f\"Kumpulan nilai set3: {set3}\")\n",
        "# Jika kumpulan nilai sets di print, maka dapat dilihat bahwa nilai-nilai yang disimpan tidak terurut atau bersifat acak dan sets tidak menyimpan nilai yang sama lebih dari satu\n",
        "\n",
        "\n",
        "# Sets umumnya digunakan untuk uji coba anggota nilai seperti berikut:\n",
        "print(\"Contoh set1 - set2: \",set1 - set2)\n",
        "print(\"Contoh set1 & set2: \",set1 & set2)\n",
        "print(\"Contoh set1 | set2: \",set1 | set2)\n",
        "print(\"Contoh set1 ^ set2: \",set1 ^ set2)"
      ]
    },
    {
      "cell_type": "code",
      "execution_count": null,
      "metadata": {
        "colab": {
          "base_uri": "https://localhost:8080/"
        },
        "id": "Eh48UChCAK9S",
        "outputId": "977a0c44-e07f-4cca-95ea-946423ba0a4a"
      },
      "outputs": [
        {
          "name": "stdout",
          "output_type": "stream",
          "text": [
            "Perulangan FOR:\n",
            "50\n",
            "20\n",
            "40\n",
            "10\n",
            "30\n",
            "--------------------\n",
            "Perulangan WHILE:\n",
            "--------------------\n",
            "Perulangan FOR pada DICTIONARY:\n",
            "Key: a, Value: 1\n",
            "Key: b, Value: 2\n",
            "Key: c, Value: 3\n",
            "--------------------\n",
            "Perulangan WHILE pada DICTIONARY:\n",
            "Key: a, Value: 1\n",
            "Key: b, Value: 2\n",
            "Key: c, Value: 3\n"
          ]
        }
      ],
      "source": [
        "# Contoh perulangan for pada List\n",
        "print(\"Perulangan FOR:\")\n",
        "for item in list_:\n",
        "    print(item)\n",
        "\n",
        "sets = {10, 20, 30, 40, 50}\n",
        "for item in sets:\n",
        "    print(item)\n",
        "\n",
        "print(\"-\" * 20) # garis pemisah ----------\n",
        "\n",
        "\n",
        "\n",
        "\n",
        "print(\"Perulangan WHILE:\")\n",
        "i = 0\n",
        "while i < len(list_):\n",
        "    print(list_[i])\n",
        "    i+1\n",
        "\n",
        "while True:\n",
        "  i+=1\n",
        "  if i == 5:\n",
        "    break\n",
        "# Kondisi while akan terus berulang hingga kondisi terpenuhi atau diberhentikan secara paksa menggunakan break\n",
        "print(\"-\" * 20) # garis pemisah ----------\n",
        "\n",
        "\n",
        "\n",
        "\n",
        "# Contoh perulangan lain FOR menggunakan DICTIONARY\n",
        "my_dict = {'a': 1,\n",
        "           'b': 2,\n",
        "           'c': 3}\n",
        "\n",
        "print(\"Perulangan FOR pada DICTIONARY:\")\n",
        "for key, value in my_dict.items():\n",
        "    print(f\"Key: {key}, Value: {value}\")\n",
        "# KEY mengambil nilai sebelah kiri\n",
        "# VALUE mengambil nilai berdasarkan KEY\n",
        "print(\"-\" * 20)\n",
        "\n",
        "\n",
        "# Contoh perulangan while pada Dictionary\n",
        "print(\"Perulangan WHILE pada DICTIONARY:\")\n",
        "dict_keys = list(my_dict.keys())\n",
        "j = 0\n",
        "while j < len(dict_keys):\n",
        "    key = dict_keys[j]\n",
        "    value = my_dict[key]\n",
        "    print(f\"Key: {key}, Value: {value}\")\n",
        "    j += 1"
      ]
    },
    {
      "cell_type": "markdown",
      "metadata": {
        "id": "InHnbzytuGSo"
      },
      "source": [
        "**Function** atau **Prosedur** adalah subprogram yang digunakan untuk memisahkan operasi dari program utama, Function dan Prosedur sering digunakan untuk memodulasi sebuah program menjadi beberapa subprogram yang terpisah sehingga mengurangi redudansi dan memudahkan abstraksi pada program utama"
      ]
    },
    {
      "cell_type": "code",
      "execution_count": null,
      "metadata": {
        "colab": {
          "base_uri": "https://localhost:8080/"
        },
        "id": "kwg9oEt3tkPu",
        "outputId": "762dc13a-93c5-4021-cae4-8ab2ee03be20"
      },
      "outputs": [
        {
          "name": "stdout",
          "output_type": "stream",
          "text": [
            "Pemanggilan func: Positive\n",
            "Terdapat Mahasiswa bernama Budi Ariawati\n",
            "Contoh Rekursi Function Metode Fibonacci:\n",
            "\n",
            "Hasil Finbonacci 10 : 34\n"
          ]
        }
      ],
      "source": [
        "# Syntax Function dan Prosedur Sederhana di Python\n",
        "\n",
        "# Contoh Function\n",
        "def func(a: int, b: int):\n",
        "  sum = a + b\n",
        "  if sum < 0:\n",
        "    return \"Negative\"\n",
        "  else:\n",
        "    return \"Positive\"\n",
        "\n",
        "result = func(12,  -1)\n",
        "print(f\"Pemanggilan func: {result}\")\n",
        "\n",
        "\n",
        "# Contoh Prosedur\n",
        "def procedure(n):\n",
        "  name = \"Mahasiswa bernama \" + n\n",
        "  print(f\"Terdapat {name}\")\n",
        "\n",
        "procedure(\"Budi Ariawati\")\n",
        "\n",
        "\n",
        "# Contoh Rekursif Function\n",
        "def Fibonacci(n):\n",
        "  if n == 0:\n",
        "    return 1\n",
        "  elif n == 1:\n",
        "    return 0\n",
        "\n",
        "  return Fibonacci(n-1) + Fibonacci(n-2)\n",
        "\n",
        "n = 10\n",
        "print(\"Contoh Rekursi Function Metode Fibonacci:\\n\")\n",
        "print(f\"Hasil Finbonacci {n} : {Fibonacci(n)}\")\n"
      ]
    },
    {
      "cell_type": "markdown",
      "metadata": {
        "id": "zhIVdCnFtBNR"
      },
      "source": [
        "# Pembahasan Kedua:\n",
        "\n",
        "- Class & Object\n",
        "\n",
        "- Metode"
      ]
    },
    {
      "cell_type": "markdown",
      "metadata": {
        "id": "e4hyHqGXFfyg"
      },
      "source": [
        "**Class** adalah sebuah kode template yang berfungsi untuk menyimpan variabel dan banyak metode ke dalam sebuah **Object**\n",
        "\n",
        "Lihat contoh berikut:\n",
        "\n"
      ]
    },
    {
      "cell_type": "code",
      "execution_count": null,
      "metadata": {
        "id": "tL398qPwysjS"
      },
      "outputs": [],
      "source": [
        "class Province:    # Province adalah Class\n",
        "  None\n",
        "\n",
        "Orang = Province # Orang adalah Object\n",
        "\n",
        "# Object Orang menyimpan template dari Class Province dan Object dapat menggunakan semua variabel dan semua metode yang ada di Class tersebut"
      ]
    },
    {
      "cell_type": "markdown",
      "metadata": {
        "id": "WPXmejyPLKEk"
      },
      "source": [
        "Kalian dapat menyimpan banyak variabel dan metode ke dalam **Class** dan kemudian digunakan oleh object yang menyimpan **Class** tersebut"
      ]
    },
    {
      "cell_type": "code",
      "execution_count": null,
      "metadata": {
        "colab": {
          "base_uri": "https://localhost:8080/"
        },
        "id": "3IK9tfhVLJjE",
        "outputId": "a60a692a-174f-43f4-d549-6155367cd67c"
      },
      "outputs": [
        {
          "name": "stdout",
          "output_type": "stream",
          "text": [
            "Saya tinggal di Indonesia, tepatnya di Provinsi Jawa Barat\n",
            "Saya tinggal di Indonesia, tepatnya di Provinsi Jawa Barat\n"
          ]
        }
      ],
      "source": [
        "class Province:\n",
        "  nama_provinsi = \"Jawa Barat\"\n",
        "  # nama_provinsi dapat digunakan di seluruh metode di dalam Class Province\n",
        "\n",
        "  def merge():  # Class Province memiliki metode bernama merge()\n",
        "    print(\"Saya tinggal di Indonesia, tepatnya di Provinsi \" + Province.nama_provinsi)\n",
        "\n",
        "\n",
        "Orang1 = Province\n",
        "Orang1.merge()\n",
        "\n",
        "Orang2 = Province\n",
        "Orang2.merge()"
      ]
    },
    {
      "cell_type": "markdown",
      "metadata": {
        "id": "h9ObxBpvQw1D"
      },
      "source": [
        "Namun permasalahan kode di atas adalah semua **Object** yang mengambil template **Class** memiliki nilai yang sama, yaitu setiap **Objek** memiliki variabel nama_provinsi dengan nilai \"Jawa Barat\", ini menyebabkan redudansi data dalam Class dan kurangnya nilai unik yang membedakan nilai **Objek** 1 dengan **Objek** 2.\n",
        "Untuk menyelesaikan permasalahan tersebut kita harus mengetahui cara kerja sebuah **Class**."
      ]
    },
    {
      "cell_type": "markdown",
      "metadata": {
        "id": "3IaYE6agGha4"
      },
      "source": [
        "Ketika **Class** di panggil untuk pertama kalinya, hal pertama yang dibaca oleh **Class** adalah **Contructor**.\n",
        "**Contructor** adalah sebuah metode spesial yang pertama kali dibaca oleh **Class** guna mengetahui variabel apa saja yang akan disimpan ke dalam **Class** itu sendiri.\n",
        "\n",
        "\n",
        "---\n",
        "\n",
        "\n",
        "Pada setiap metode yang ada di dalam **Class** mengambil parameter pertama berupa 'self', yang merupakan referensi nilai dari **Class** itu sendiri. Fungsi self digunakan untuk menyimpan nilai ke dalam **Object**, self digunakan untuk membedakan nilai object 1 dengan object lainnya.\n",
        "\n",
        "Lihat contoh berikut:"
      ]
    },
    {
      "cell_type": "code",
      "execution_count": null,
      "metadata": {
        "colab": {
          "base_uri": "https://localhost:8080/"
        },
        "id": "R90U9mJfGhAf",
        "outputId": "622a384f-c6a6-459e-f6e8-3b5f1c3ed2bd"
      },
      "outputs": [
        {
          "name": "stdout",
          "output_type": "stream",
          "text": [
            "Asal Kota: Surabaya\n",
            "Kota saya di  Surabaya\n"
          ]
        }
      ],
      "source": [
        "class Province:\n",
        "  def __init__(self): # __init__ adalah nama spesial untuk Contructor\n",
        "    self.n = \"\"\n",
        "\n",
        "  def InputKota(self):\n",
        "    self.n = input(\"Asal Kota: \")\n",
        "\n",
        "  def PrintKota(self):\n",
        "    print(\"Kota saya di \", self.n)\n",
        "\n",
        "\n",
        "Orang1 = Province()\n",
        "Orang1.InputKota()\n",
        "Orang1.PrintKota()\n",
        "\n",
        "# Walaupun kita menggunakan self sebagai parameter pertama di fungsi Class, namun parameter self tersebut tidak gunakan saat pemanggilan fungsi, hal itu karena self hanya sebagai jembatan untuk menyimpan data ke dalam Objek secara otomatis.\n",
        "\n",
        "\n",
        "    #ERROR\n",
        "Orang2 = Province\n",
        "Orang2.PrintKota()\n",
        "# Jika di run akan mengalami error, karena nilai yang ada di Object 'Orang2' berbeda dengan Object 'Orang1'"
      ]
    },
    {
      "cell_type": "markdown",
      "metadata": {
        "id": "cr0-hDT0TtSM"
      },
      "source": [
        "Jadi dapat disimpulkan bahwa self digunakan sebagai parameter pertama di sebuah metode dalam **Class** untuk membedakan nilai dari **Object** 1 dengan **Object** lainnya.\n",
        "\n",
        "Penggunaan contoh lain dari self dapat dilihat melalui program berikut:"
      ]
    },
    {
      "cell_type": "code",
      "execution_count": null,
      "metadata": {
        "colab": {
          "base_uri": "https://localhost:8080/"
        },
        "id": "VktlgoHkTJiJ",
        "outputId": "fd929071-39bb-433d-ad4e-843db620fc69"
      },
      "outputs": [
        {
          "name": "stdout",
          "output_type": "stream",
          "text": [
            "Input NIM: 123456\n",
            "Umur saya adalah   :\t 23\n",
            "Status saya adalah :\t Sudah Nikah\n",
            "Tanggal lahir saya adalah : 10 Januari 2001\n",
            "NIM saya adalah :\t 123456\n",
            "\n",
            "\n"
          ]
        }
      ],
      "source": [
        "# Program memiliki Class bernama Identitas\n",
        "class Identitas:\n",
        "  def __init__(self, nama, umur, status, tanggal_lahir):\n",
        "    self.nama = nama      # nilai nama disimpan di variabel name\n",
        "    self.umur = umur      # nilai umur disimpan di variabel age\n",
        "    self.status = status  # nilai status disimpan di variabel state\n",
        "    self.tanggal_lahir = tanggal_lahir # nilai tanggal_lahir disimpan di variabel birthday\n",
        "    self.NIM = None\n",
        "\n",
        "  # self dapat diakses di seluruh metode di dalam Class Identitas\n",
        "  def printIdentitas(self):\n",
        "    self.orang = 'budi'\n",
        "    nama = self.orang\n",
        "    print(f\"Umur saya adalah   :\\t {self.umur}\")\n",
        "    print(f\"Status saya adalah :\\t {self.status}\")\n",
        "    print(f\"Tanggal lahir saya adalah : {self.tanggal_lahir}\")\n",
        "    print(f\"NIM saya adalah :\\t {self.NIM}\")\n",
        "\n",
        "  def InputNIM(self):\n",
        "    self.NIM = int(input(\"Input NIM: \"))\n",
        "    self.printIdentitas()\n",
        "\n",
        "# Program memiliki 2 Object bernama Orang1 dan Orang2\n",
        "Orang1 = Identitas(\"Budi\", 23, \"Sudah Nikah\", \"10 Januari 2001\")\n",
        "Orang1.InputNIM()\n",
        "\n",
        "print('\\n')\n",
        "\n",
        "#Orang2 = Identitas(\"Maria\", 21, \"Belum Nikah\", \"19 April 2004\")\n",
        "#Orang2.printIdentitas()"
      ]
    },
    {
      "cell_type": "markdown",
      "metadata": {
        "id": "t0kDETMyZ_9E"
      },
      "source": [
        "Program di atas merupakan implementasi sederhana dari **Class**, tentunya setiap Metode di dalam **Class** dapat dimodifikasi sesuai kebutuhan programmer. Metode sendiri dapat berupa function yang mengembalikan nilai spesifik menggunakan 'return' atau berupa prosedur yang hanya menjalankan instruksi yang diberikan."
      ]
    },
    {
      "cell_type": "markdown",
      "metadata": {
        "id": "-VRqBV-DOofQ"
      },
      "source": [
        "Pada pembahasan terakhir mengenai **Class**, kita akan mencari penggunaan Class di dalam Class atau bisa disebut **Nested Class**, **Nested Class** paling umum digunakan pada struktur data Linked List, dimana **Class** pertama merupakan List"
      ]
    },
    {
      "cell_type": "code",
      "execution_count": null,
      "metadata": {
        "colab": {
          "background_save": true
        },
        "id": "4PFUk9uhiamv"
      },
      "outputs": [],
      "source": [
        "class kelas:\n",
        "  def __init__(self, nama_kelas):\n",
        "    self.nama_kelas = nama_kelas\n",
        "    self.list_student = []\n",
        "\n",
        "  class Student:\n",
        "    def __init__(self, nama_mhs, umur, NIM):\n",
        "      self.nama_mhs = nama_mhs\n",
        "      self.umur = umur\n",
        "      self.NIM = NIM\n",
        "\n",
        "  def InsertMHS(self, nama, umur, NIM):\n",
        "    mhs = self.Student(nama, umur, NIM)\n",
        "    self.list_student.append(mhs)\n",
        "\n",
        "  def Print(self):\n",
        "    print(f\"List of student: \\n\")\n",
        "    while self.list_student :\n",
        "      print(\"Mahasiswa: \", self.list_student)\n",
        "\n",
        "kelas = kelas(\"Data Sains\")\n",
        "kelas.InsertMHS(\"Dio\", 12, 1204230006)\n",
        "kelas.Print()"
      ]
    },
    {
      "cell_type": "markdown",
      "source": [
        "# Pembahasan Ketiga\n",
        "\n",
        "- Single Linked List"
      ],
      "metadata": {
        "id": "3dQnHYqo5V9S"
      }
    },
    {
      "cell_type": "code",
      "source": [
        "class Node:\n",
        "  def __init__(self, data):\n",
        "    self.data = data\n",
        "    self.next = None\n",
        "\n",
        "class LinkedList:\n",
        "  def __init__(self, nama):\n",
        "    self.head = None\n",
        "    self.nama = nama\n",
        "\n",
        "  def append(self, data):\n",
        "    node = Node(data)\n",
        "\n",
        "    if self.head is None:\n",
        "      self.head = node\n",
        "      return\n",
        "\n",
        "    current = self.head\n",
        "\n",
        "    while current.next:\n",
        "        current = current.next\n",
        "\n",
        "    current.next = node\n",
        "\n",
        "  def display(self):\n",
        "    current = self.head\n",
        "    while current:\n",
        "      print(current.data, end=\" → \")\n",
        "      current = current.next\n",
        "    print(\"None\")\n",
        "\n",
        "\n",
        "obj = LinkedList(\"Linked List Awal\")\n",
        "obj.append(12)\n",
        "obj.append(1222)\n",
        "obj.display()\n",
        "\n"
      ],
      "metadata": {
        "colab": {
          "base_uri": "https://localhost:8080/"
        },
        "id": "rxydPXsv5UnU",
        "outputId": "d7a5820b-a938-451a-f418-8151577120e2"
      },
      "execution_count": null,
      "outputs": [
        {
          "output_type": "stream",
          "name": "stdout",
          "text": [
            "12 → 1222 → None\n"
          ]
        }
      ]
    }
  ],
  "metadata": {
    "colab": {
      "provenance": []
    },
    "kernelspec": {
      "display_name": "Python 3",
      "name": "python3"
    },
    "language_info": {
      "name": "python"
    }
  },
  "nbformat": 4,
  "nbformat_minor": 0
}