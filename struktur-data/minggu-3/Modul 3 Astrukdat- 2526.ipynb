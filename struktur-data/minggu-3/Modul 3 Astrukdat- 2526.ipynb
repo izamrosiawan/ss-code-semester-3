{
  "cells": [
    {
      "cell_type": "markdown",
      "metadata": {
        "id": "MiXX2tL3yLig"
      },
      "source": [
        "**ABSTRAK DATA TYPE**"
      ]
    },
    {
      "cell_type": "markdown",
      "metadata": {
        "id": "T8sV7zZUyE0l"
      },
      "source": [
        "Abstract Data Type (ADT) dalam Python\n",
        "ADT adalah TYPE dan sekumpulan PRIMITIF (operasi dasar) terhadap TYPE tersebut. Selain itu, dalam sebuah ADT yang lengkap, disertakan pula definisi invarian dari TYPE dan aksioma yang berlaku. ADT merupakan definisi STATIK."
      ]
    },
    {
      "cell_type": "markdown",
      "metadata": {
        "id": "TdVR3H_Jz7jv"
      },
      "source": [
        "TYPE diterjemahkan menjadi class dalam Python. PRIMITIF dalam konteks Python diterjemahkan menjadi method dalam class. PRIMITIF dikelompokan menjadi:\n",
        "\n",
        "\n",
        "\n",
        "*  Konstruktor (__init__), pembentukan nilai type. Semua objek (variabel) bertype tersebut harus melalui konstruktor.\n",
        "*   Selector, untuk mengakses komponen type (biasanya menggunakan method getter atau properti)\n",
        "\n",
        "\n",
        "*   Mutator, untuk mengubah nilai komponen (biasanya menggunakan method setter)\n",
        "\n",
        "*   Validator, untuk mengetes apakah dapat membentuk type sesuai dengan batasan\n",
        "\n",
        "\n",
        "*  Destructor (__del__), untuk menghancurkan nilai objek/variabel\n",
        "*   Baca/Tulis, untuk interface dengan input/output device\n",
        "\n",
        "\n",
        "*   Operator relasional, untuk mendefinisikan perbandingan antara objek\n",
        "\n",
        "*   Operasi aritmatika, untuk mendefinisikan operasi matematika pada type tersebut\n",
        "\n",
        "\n",
        "*   Konversi type, untuk konversi dari dan ke type dasar\n",
        "\n",
        "ADT dalam Python biasanya diimplementasikan dalam satu modul utama (file .py) yang berisi definisi class dan method-methodnya."
      ]
    },
    {
      "cell_type": "markdown",
      "metadata": {
        "id": "Lm1aX-Q8_Wxv"
      },
      "source": [
        "**Subprogram** adalah istilah umum untuk bagian kode yang bisa dipanggil/dieksekusi secara terpisah dari program utama."
      ]
    },
    {
      "cell_type": "markdown",
      "metadata": {
        "id": "E7-pncYA_aZS"
      },
      "source": [
        "Di Python, subprogram direpresentasikan dengan function menggunakan kata kunci def (misalnya def tambah(a, b):).\n",
        "\n",
        "Jadi intinya, subprogram = function/procedure, yaitu blok kode yang diberi nama, bisa menerima input (parameter), dan bisa mengembalikan output (return value)."
      ]
    },
    {
      "cell_type": "code",
      "execution_count": 5,
      "metadata": {
        "colab": {
          "base_uri": "https://localhost:8080/"
        },
        "id": "ksV9TiwvAJz0",
        "outputId": "f046d2d1-975c-41c0-daba-d2e5d304692a"
      },
      "outputs": [
        {
          "name": "stdout",
          "output_type": "stream",
          "text": [
            "NIM: 13012002, Nilai: 70, 85\n",
            "Rata-rata: 77.5\n"
          ]
        }
      ],
      "source": [
        "# FUNGSI - mengembalikan nilai (menggantikan function)\n",
        "def hitung_rata_rata(nilai1, nilai2):\n",
        "    \"\"\"Fungsi untuk menghitung rata-rata\"\"\"\n",
        "    return (nilai1 + nilai2) / 2\n",
        "\n",
        "# PROSEDUR - tidak mengembalikan nilai (menggantikan procedure)\n",
        "def tampilkan_data(mahasiswa):\n",
        "    \"\"\"Prosedur untuk menampilkan data mahasiswa\"\"\"\n",
        "    print(f\"NIM: {mahasiswa.nim}\")\n",
        "    print(f\"Nilai 1: {mahasiswa.nilai1}\")\n",
        "    print(f\"Nilai 2: {mahasiswa.nilai2}\")\n",
        "    print(f\"Rata-rata: {hitung_rata_rata(mahasiswa.nilai1, mahasiswa.nilai2)}\")\n",
        "\n",
        "# Method dalam class (gabungan konsep)\n",
        "class Mahasiswa:\n",
        "    def __init__(self, nim, nilai1, nilai2):\n",
        "        self.nim = nim\n",
        "        self.nilai1 = nilai1\n",
        "        self.nilai2 = nilai2\n",
        "\n",
        "    # Method seperti prosedur\n",
        "    def display_info(self):\n",
        "        print(f\"NIM: {self.nim}, Nilai: {self.nilai1}, {self.nilai2}\")\n",
        "\n",
        "    # Method seperti fungsi\n",
        "    def get_rata_rata(self):\n",
        "        return (self.nilai1 + self.nilai2) / 2\n",
        "\n",
        "#print(hitung_rata_rata(80, 90))\n",
        "#mhs = Mahasiswa(\"13012001\", 80, 90)\n",
        "#tampilkan_data(mhs)\n",
        "\n",
        "\n",
        "mhs = Mahasiswa(\"13012002\", 70, 85)\n",
        "\n",
        "#method seperti prosedur\n",
        "mhs.display_info()\n",
        "\n",
        "# method seperti fungsi\n",
        "print(\"Rata-rata:\", mhs.get_rata_rata())\n",
        "\n",
        "\n"
      ]
    },
    {
      "cell_type": "code",
      "execution_count": 1,
      "metadata": {
        "colab": {
          "base_uri": "https://localhost:8080/"
        },
        "id": "kUP73EBjx5Ta",
        "outputId": "0a9bd166-bf2b-4b94-ae92-c7931550a2d4"
      },
      "outputs": [
        {
          "name": "stdout",
          "output_type": "stream",
          "text": [
            "rata-rata = 95.0\n"
          ]
        }
      ],
      "source": [
        "# File: mahasiswa.py - Menggabungkan definisi dan implementasi\n",
        "\n",
        "class Mahasiswa:\n",
        "    # Konstruktor\n",
        "    def __init__(self):\n",
        "        self.nim = \"\"          # menggantikan char nim[10]\n",
        "        self.nilai1 = 0        # menggantikan int nilai1\n",
        "        self.nilai2 = 0        # menggantikan int nilai2\n",
        "\n",
        "    # Primitif: Prosedur input (menggantikan procedure inputMhs)\n",
        "    def input_mhs(self):\n",
        "        \"\"\"Prosedur untuk input data mahasiswa\"\"\"\n",
        "        self.nim = input(\"input nama = \")\n",
        "        self.nilai1 = int(input(\"input nilai1 = \"))\n",
        "        self.nilai2 = int(input(\"input nilai2 = \"))\n",
        "\n",
        "    # Primitif: Fungsi rata-rata (menggantikan function rata2)\n",
        "    def rata2(self):\n",
        "        \"\"\"Fungsi untuk menghitung rata-rata nilai\"\"\"\n",
        "        return (self.nilai1 + self.nilai2) / 2\n",
        "\n",
        "# Program utama\n",
        "def main():\n",
        "    # Membuat objek mahasiswa (menggantikan mahasiswa mhs;)\n",
        "    mhs = Mahasiswa()\n",
        "\n",
        "    # Memanggil prosedur input\n",
        "    mhs.input_mhs()\n",
        "\n",
        "    # Memanggil fungsi rata-rata dan menampilkan hasil\n",
        "    print(f\"rata-rata = {mhs.rata2()}\")\n",
        "\n",
        "if __name__ == \"__main__\":\n",
        "    main()"
      ]
    },
    {
      "cell_type": "markdown",
      "metadata": {
        "id": "Ai1JglxPRehR"
      },
      "source": [
        "**ARRAY**"
      ]
    },
    {
      "cell_type": "markdown",
      "metadata": {
        "id": "rlHnM3VLRjyL"
      },
      "source": [
        "Di Python, array bisa direpresentasikan dengan beberapa cara:\n",
        "\n",
        "List → struktur bawaan Python yang fleksibel.\n",
        "\n",
        "Array dari modul array → lebih hemat memori untuk tipe data yang sama.\n",
        "\n",
        "Numpy Array (numpy.ndarray) → dipakai untuk komputasi numerik dan data sains."
      ]
    },
    {
      "cell_type": "code",
      "execution_count": 2,
      "metadata": {
        "colab": {
          "base_uri": "https://localhost:8080/"
        },
        "id": "sMkkaayW0uBj",
        "outputId": "5869b2fb-bfd3-4082-d701-fe4b15cbf52a"
      },
      "outputs": [
        {
          "name": "stdout",
          "output_type": "stream",
          "text": [
            "Elemen pertama: 10\n",
            "Elemen terakhir: 50\n",
            "Setelah ditambah: [10, 20, 30, 40, 50, 60]\n",
            "Setelah dihapus: [10, 20, 40, 50, 60]\n"
          ]
        }
      ],
      "source": [
        "# Array dengan list (bisa berisi tipe campuran, tapi biasanya sejenis)\n",
        "angka = [10, 20, 30, 40, 50]\n",
        "\n",
        "# Mengakses elemen\n",
        "print(\"Elemen pertama:\", angka[0])\n",
        "print(\"Elemen terakhir:\", angka[-1])\n",
        "\n",
        "# Menambah elemen\n",
        "angka.append(60)\n",
        "print(\"Setelah ditambah:\", angka)\n",
        "\n",
        "# Menghapus elemen\n",
        "angka.remove(30)\n",
        "print(\"Setelah dihapus:\", angka)\n"
      ]
    },
    {
      "cell_type": "markdown",
      "metadata": {
        "id": "dyZax5VXUKEG"
      },
      "source": [
        "Contoh Array dari Modul Array"
      ]
    },
    {
      "cell_type": "code",
      "execution_count": 1,
      "metadata": {
        "colab": {
          "base_uri": "https://localhost:8080/"
        },
        "id": "6vC5kfJxT_Wk",
        "outputId": "58fc3728-ec5d-44ba-ec07-04c317824d8f"
      },
      "outputs": [
        {
          "name": "stdout",
          "output_type": "stream",
          "text": [
            "Isi array: array('i', [1, 2, 3, 4, 5])\n",
            "Setelah append: array('i', [1, 2, 3, 4, 5, 6])\n",
            "Elemen ke-2: 2\n"
          ]
        }
      ],
      "source": [
        "import array as arr\n",
        "\n",
        "# Array bertipe integer\n",
        "angka = arr.array('i', [1, 2, 3, 4, 5])   # 'i' berarti integer\n",
        "\n",
        "print(\"Isi array:\", angka)\n",
        "\n",
        "# Menambahkan elemen\n",
        "angka.append(6)\n",
        "print(\"Setelah append:\", angka)\n",
        "\n",
        "# Mengakses elemen\n",
        "print(\"Elemen ke-2:\", angka[1])\n"
      ]
    },
    {
      "cell_type": "markdown",
      "metadata": {
        "id": "mSCVD7nvUbYA"
      },
      "source": [
        "Numpy Array"
      ]
    },
    {
      "cell_type": "code",
      "execution_count": 8,
      "metadata": {
        "colab": {
          "base_uri": "https://localhost:8080/"
        },
        "id": "pFcyhKP-UPgn",
        "outputId": "ea35e6ee-764a-4bce-bca5-bf108eee96ef"
      },
      "outputs": [
        {
          "name": "stdout",
          "output_type": "stream",
          "text": [
            "Array numpy: [1 2 3 4 5]\n",
            "Tipe data: int64\n",
            "Rata-rata: 3.0\n",
            "Jumlah elemen: 5\n",
            "Matrix:\n",
            " [[1 2 3]\n",
            " [4 5 6]]\n"
          ]
        }
      ],
      "source": [
        "import numpy as np\n",
        "\n",
        "# Membuat numpy array\n",
        "angka = np.array([1, 2, 3, 4, 5])\n",
        "\n",
        "print(\"Array numpy:\", angka)\n",
        "print(\"Tipe data:\", angka.dtype)\n",
        "print(\"Rata-rata:\", np.mean(angka))\n",
        "print(\"Jumlah elemen:\", angka.size)\n",
        "\n",
        "# Array 2 dimensi (matrix)\n",
        "matrix = np.array([[1, 2, 3], [4, 5, 6]])\n",
        "print(\"Matrix:\\n\", matrix)\n"
      ]
    },
    {
      "cell_type": "markdown",
      "metadata": {
        "id": "3lYrcU0GZ3Eu"
      },
      "source": [
        "Python tidak punya pointer eksplisit (seperti int *ptr di C/C++).\n",
        "\n",
        "Tapi kita bisa mensimulasikan pointer dengan list satu elemen, karena list di Python adalah mutable (bisa diubah isinya).\n",
        "\n",
        "Jadi, ketika sebuah list dikirim ke fungsi, yang dikirim sebenarnya adalah referensinya, sehingga perubahan di dalam fungsi akan memengaruhi data aslinya."
      ]
    },
    {
      "cell_type": "code",
      "execution_count": 9,
      "metadata": {
        "colab": {
          "base_uri": "https://localhost:8080/"
        },
        "id": "KgwMwBStUd_o",
        "outputId": "e47ddcee-d5e8-44f2-c572-0250067e1a0f"
      },
      "outputs": [
        {
          "name": "stdout",
          "output_type": "stream",
          "text": [
            "Sebelum: a = 10, b = 20\n",
            "Sesudah: a = 20, b = 10\n"
          ]
        }
      ],
      "source": [
        "def tukar_nilai_pointer(ptr1, ptr2):\n",
        "    \"\"\"Menukar nilai yang ditunjuk oleh 'pointer'\"\"\"\n",
        "    temp = ptr1[0]       # ambil nilai dari ptr1\n",
        "    ptr1[0] = ptr2[0]    # masukkan nilai ptr2 ke ptr1\n",
        "    ptr2[0] = temp       # masukkan nilai lama ptr1 ke ptr2\n",
        "\n",
        "\n",
        "a = [10]  # Simulasi pointer ke integer\n",
        "b = [20]  # Simulasi pointer ke integer\n",
        "\n",
        "print(f\"Sebelum: a = {a[0]}, b = {b[0]}\")\n",
        "tukar_nilai_pointer(a, b)\n",
        "print(f\"Sesudah: a = {a[0]}, b = {b[0]}\")\n"
      ]
    },
    {
      "cell_type": "code",
      "execution_count": null,
      "metadata": {
        "id": "Yj_d-_QvZ8pB"
      },
      "outputs": [],
      "source": []
    }
  ],
  "metadata": {
    "colab": {
      "provenance": [],
      "toc_visible": true
    },
    "kernelspec": {
      "display_name": "Python 3",
      "name": "python3"
    },
    "language_info": {
      "codemirror_mode": {
        "name": "ipython",
        "version": 3
      },
      "file_extension": ".py",
      "mimetype": "text/x-python",
      "name": "python",
      "nbconvert_exporter": "python",
      "pygments_lexer": "ipython3",
      "version": "3.11.9"
    }
  },
  "nbformat": 4,
  "nbformat_minor": 0
}
