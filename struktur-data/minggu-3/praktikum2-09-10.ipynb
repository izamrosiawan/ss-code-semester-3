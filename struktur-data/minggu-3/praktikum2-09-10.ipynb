{
 "cells": [
  {
   "cell_type": "code",
   "execution_count": 1,
   "id": "c152cc48",
   "metadata": {},
   "outputs": [
    {
     "name": "stdout",
     "output_type": "stream",
     "text": [
      "Nama: Andi\n",
      "Jurusan: Informatika\n",
      "NIM: 123456789\n"
     ]
    }
   ],
   "source": [
    "class Kelas:\n",
    "    def __init__(self, nama, jurusan, nim):\n",
    "        self.nama = nama\n",
    "        self.jurusan = jurusan\n",
    "        self.nim = nim\n",
    "\n",
    "    def tampilkan_info(self):\n",
    "        print(f\"Nama: {self.nama}\")\n",
    "        print(f\"Jurusan: {self.jurusan}\")\n",
    "        print(f\"NIM: {self.nim}\")\n",
    "\n",
    "# Contoh penggunaan kelas\n",
    "mahasiswa = Kelas(\"Andi\", \"Informatika\", \"123456789\")\n",
    "mahasiswa.tampilkan_info()\n"
   ]
  },
  {
   "cell_type": "code",
   "execution_count": 2,
   "id": "8a422650",
   "metadata": {},
   "outputs": [
    {
     "name": "stdout",
     "output_type": "stream",
     "text": [
      "NIM: 123456789\n",
      "Nama: izaam\n",
      "\n",
      "NIM: 987654321\n",
      "Nama: budi\n",
      "\n"
     ]
    }
   ],
   "source": [
    "class Mahasiswa:\n",
    "    def __init__(self, nim, nama):\n",
    "        self.nim = nim\n",
    "        self.nama = nama\n",
    "\n",
    "    def tampilkan_info(self):\n",
    "        print(f\"NIM: {self.nim}\")\n",
    "        print(f\"Nama: {self.nama}\")\n",
    "        print()\n",
    "# Contoh penggunaan kelas\n",
    "mhs1 = Mahasiswa(\"123456789\", \"izaam\")\n",
    "mhs2 = Mahasiswa(\"987654321\", \"budi\")\n",
    "\n",
    "mhs1.tampilkan_info()\n",
    "mhs2.tampilkan_info()"
   ]
  },
  {
   "cell_type": "code",
   "execution_count": null,
   "id": "c50efd00",
   "metadata": {},
   "outputs": [
    {
     "name": "stdout",
     "output_type": "stream",
     "text": [
      "izaam\n",
      "8983938\n",
      "novel\n"
     ]
    }
   ],
   "source": [
    "class Perpustakaan:\n",
    "    def __init__(self, nama, nim, jenis_buku):\n",
    "        self.nama = nama\n",
    "        self.nim = nim\n",
    "        self.jenis_buku = jenis_buku\n",
    "        self.list_buku = []\n",
    "\n",
    "    def insert(self):\n",
    "        self.list_buku.append(self.nama)\n",
    "        self.list_buku.append(self.nim)\n",
    "        self.list_buku.append(self.jenis_buku)\n",
    "\n",
    "    def display(self):\n",
    "        for i in self.list_buku:\n",
    "            print(i)\n",
    "\n",
    "Perpustakaan = Perpustakaan(\"izaam\", 8983938, \"novel\")\n",
    "Perpustakaan.insert()\n",
    "Perpustakaan.display()\n",
    "    "
   ]
  },
  {
   "cell_type": "code",
   "execution_count": 4,
   "id": "0d472e58",
   "metadata": {},
   "outputs": [
    {
     "name": "stdout",
     "output_type": "stream",
     "text": [
      "makanan saya nasi goreng dan minuman saya teh manis\n"
     ]
    }
   ],
   "source": [
    "makanan = \"nasi goreng\"\n",
    "minuman = \"teh manis\"\n",
    "print(f\"makanan saya {makanan} dan minuman saya {minuman}\")"
   ]
  },
  {
   "cell_type": "code",
   "execution_count": null,
   "id": "6ceb5541",
   "metadata": {},
   "outputs": [],
   "source": []
  }
 ],
 "metadata": {
  "kernelspec": {
   "display_name": "Python 3",
   "language": "python",
   "name": "python3"
  },
  "language_info": {
   "codemirror_mode": {
    "name": "ipython",
    "version": 3
   },
   "file_extension": ".py",
   "mimetype": "text/x-python",
   "name": "python",
   "nbconvert_exporter": "python",
   "pygments_lexer": "ipython3",
   "version": "3.11.9"
  }
 },
 "nbformat": 4,
 "nbformat_minor": 5
}
