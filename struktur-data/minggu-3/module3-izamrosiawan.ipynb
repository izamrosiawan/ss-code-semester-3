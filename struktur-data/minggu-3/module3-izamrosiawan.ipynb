{
 "cells": [
  {
   "cell_type": "markdown",
   "id": "3576a14d",
   "metadata": {},
   "source": [
    "### NAMA : IZAM ROSIAWAN\n",
    "### NIM : 103102400049\n",
    "### KELAS : DS 04-02"
   ]
  },
  {
   "cell_type": "markdown",
   "id": "b535164c",
   "metadata": {},
   "source": [
    "Deskripsi Soal: Buatlah sebuah program Python yang menggunakan ADT Stack untuk membalikkan\n",
    "sebuah string yang dimasukkan oleh pengguna. Program harus memiliki kelas Stack dengan operasi\n",
    "dasar seperti push, pop, is_empty, dan size. Gunakan stack tersebut untuk menyimpan setiap karakter\n",
    "string, lalu keluarkan karakter satu per satu untuk membentuk string terbalik. Program harus menerima\n",
    "input string dari pengguna dan menampilkan hasil string yang telah dibalik."
   ]
  },
  {
   "cell_type": "code",
   "execution_count": null,
   "id": "0972108f",
   "metadata": {},
   "outputs": [
    {
     "name": "stdout",
     "output_type": "stream",
     "text": [
      "mazi\n"
     ]
    }
   ],
   "source": [
    "class Stack:\n",
    "    def __init__(self):\n",
    "        self.stack = []\n",
    "\n",
    "    def push(self, item):\n",
    "        self.stack.append(item)\n",
    "\n",
    "    def pop(self):\n",
    "        if not self.is_empty():\n",
    "            return self.stack.pop()\n",
    "        return None\n",
    "\n",
    "    def is_empty(self):\n",
    "        return len(self.stack) == 0\n",
    "\n",
    "    def size(self):\n",
    "        return len(self.stack)\n",
    "\n",
    "    def reverse_string(self):\n",
    "        return self.stack[::-1]\n",
    "    \n",
    "input_string = input(\"Masukkan string yang ingin dibalik: \")\n",
    "stack = Stack()\n",
    "for char in input_string:\n",
    "    stack.push(char)\n",
    "reversed_string = ''\n",
    "while not stack.is_empty():\n",
    "    reversed_string += stack.pop()\n",
    "print(reversed_string)\n",
    "\n"
   ]
  },
  {
   "cell_type": "markdown",
   "id": "4a42fcff",
   "metadata": {},
   "source": [
    "Deskripsi Soal: Buatlah sebuah program Python yang mengimplementasikan ADT Queue untuk\n",
    "mensimulasikan sistem antrian tiket di loket. Program harus memiliki kelas Queue dengan operasi dasar\n",
    "seperti enqueue, dequeue, is_empty, dan size. Selain itu, buat kelas Ticket yang menyimpan informasi\n",
    "nomor tiket (unik) dan nama pelanggan. Program harus mendukung:\n",
    "• Menambahkan pelanggan baru ke antrian dengan nomor tiket otomatis (dimulai dari 1).\n",
    "• Memproses antrian dengan mengeluarkan pelanggan dari depan antrian dan menampilkan\n",
    "informasi tiket.\n",
    "• Menampilkan daftar semua pelanggan yang masih di antrian.\n",
    "• Menghitung jumlah pelanggan dalam antrian. Program harus memiliki antarmuka berbasis teks\n",
    "sederhana yang memungkinkan pengguna memilih opsi: (1) Tambah pelanggan, (2) Proses\n",
    "antrian, (3) Tampilkan antrian, (4) Keluar"
   ]
  },
  {
   "cell_type": "code",
   "execution_count": 32,
   "id": "23a7ae70",
   "metadata": {},
   "outputs": [
    {
     "name": "stdout",
     "output_type": "stream",
     "text": [
      "Elemen dalam antrian:\n",
      "budi\n",
      "izam\n"
     ]
    }
   ],
   "source": [
    "class Queue:\n",
    "    def __init__(self):\n",
    "        self.items = []\n",
    "\n",
    "    def enqueue(self, item):\n",
    "        self.items.insert(0, item)\n",
    "\n",
    "    def dequeue(self):\n",
    "        if not self.is_empty():\n",
    "            return self.items.pop()\n",
    "        else:\n",
    "            return None\n",
    "\n",
    "    def is_empty(self):\n",
    "        return len(self.items) == 0\n",
    "        \n",
    "\n",
    "    def size(self):\n",
    "        return len(self.items)\n",
    "    \n",
    "    def input(self):\n",
    "        n = int(input(\"Masukkan jumlah elemen dalam antrian: \"))\n",
    "        for i in range(n):\n",
    "            item = input(f\"Masukkan elemen ke-{i+1}: \")\n",
    "            self.enqueue(item)\n",
    "        print(\"Elemen dalam antrian:\")\n",
    "        while not self.is_empty():\n",
    "            print(self.dequeue())\n",
    "            \n",
    "\n",
    "                \n",
    "\n",
    "\n",
    "Queue().input()\n",
    "\n",
    "                \n",
    "    \n"
   ]
  },
  {
   "cell_type": "code",
   "execution_count": null,
   "id": "9e8d303e",
   "metadata": {},
   "outputs": [],
   "source": []
  }
 ],
 "metadata": {
  "kernelspec": {
   "display_name": "Python 3",
   "language": "python",
   "name": "python3"
  },
  "language_info": {
   "codemirror_mode": {
    "name": "ipython",
    "version": 3
   },
   "file_extension": ".py",
   "mimetype": "text/x-python",
   "name": "python",
   "nbconvert_exporter": "python",
   "pygments_lexer": "ipython3",
   "version": "3.11.9"
  }
 },
 "nbformat": 4,
 "nbformat_minor": 5
}
