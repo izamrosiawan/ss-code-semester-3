{
 "cells": [
  {
   "cell_type": "markdown",
   "id": "e8edf87c",
   "metadata": {},
   "source": [
    "### Nama : Izam Rosiawan\n",
    "### Nim : 103102400049\n",
    "### Kelas : DS 04-02"
   ]
  },
  {
   "cell_type": "markdown",
   "id": "db005078",
   "metadata": {},
   "source": [
    "---"
   ]
  },
  {
   "cell_type": "markdown",
   "id": "7880a2c2",
   "metadata": {},
   "source": [
    "1. Dampak Fungsi Rekursif Tak Terbatas pada Memori Komputer"
   ]
  },
  {
   "cell_type": "markdown",
   "id": "27ccda13",
   "metadata": {},
   "source": [
    "Ketika sebuah fungsi rekursif dijalankan tanpa henti dalam kondisi loop tak terbatas, memori komputer dapat mengalami kegagalan yang disebut Stack Overflow. Setiap kali fungsi dipanggil, sistem operasi mengalokasikan ruang pada call stack untuk menyimpan variabel lokal dan alamat pengembalian fungsi tersebut. Pada proses rekursi yang berjalan secara normal, fungsi yang telah selesai akan dibersihkan dari tumpukan (pop), sehingga memori bisa digunakan kembali. Namun, jika rekursi terjadi tanpa adanya kondisi berhenti (base case), fungsi akan terus memanggil dirinya sendiri tanpa pernah keluar, menyebabkan call stack semakin penuh dengan pemanggilan baru (push)."
   ]
  },
  {
   "cell_type": "markdown",
   "id": "7c9f7a5e",
   "metadata": {},
   "source": [
    "2. Cara Menghentikan Program dalam Kondisi Infinite Loop"
   ]
  },
  {
   "cell_type": "markdown",
   "id": "33f21fe8",
   "metadata": {},
   "source": [
    "Ketika sebuah program sudah terjebak dalam kondisi infinite loop rekursif, ia tidak dapat dihentikan dari dalam kode itu sendiri karena program dalam keadaan tidak responsif. Satu-satunya cara untuk keluar dari kondisi ini adalah dengan menghentikan eksekusi program secara paksa dari luar. Metode yang paling umum digunakan adalah dengan mengirimkan sinyal interupsi ke sistem operasi. "
   ]
  },
  {
   "cell_type": "code",
   "execution_count": null,
   "id": "0dfca903",
   "metadata": {},
   "outputs": [
    {
     "name": "stdout",
     "output_type": "stream",
     "text": [
      "1. Rekursi tak terbatas\n",
      "2. Loop bisa dihentikan\n",
      "3. Rekursi aman\n"
     ]
    }
   ],
   "source": [
    "def infinite_recurse():\n",
    "    def f():\n",
    "        print(\"rekursi tak terbatas\")\n",
    "        f()\n",
    "    f()\n",
    "\n",
    "def stoppable_loop():\n",
    "    try:\n",
    "        while True:\n",
    "            print(\"loop berjalan\")\n",
    "    except KeyboardInterrupt:\n",
    "        print(\"dihentikan\")\n",
    "\n",
    "def safe_recurse(n):\n",
    "    if n <= 0:\n",
    "        print(\"selesai\")\n",
    "        return\n",
    "    print(n)\n",
    "    safe_recurse(n-1)\n",
    "\n",
    "print(\"1. Rekursi tak terbatas\")\n",
    "print(\"2. Loop bisa dihentikan\")\n",
    "print(\"3. Rekursi aman\")\n",
    "pilih = input(\"Pilih: \")\n",
    "if pilih == \"1\":\n",
    "    infinite_recurse()\n",
    "elif pilih == \"2\":\n",
    "    stoppable_loop()\n",
    "elif pilih == \"3\":\n",
    "    safe_recurse(5)"
   ]
  },
  {
   "cell_type": "code",
   "execution_count": null,
   "id": "4d290766",
   "metadata": {},
   "outputs": [],
   "source": []
  }
 ],
 "metadata": {
  "kernelspec": {
   "display_name": "Python 3",
   "language": "python",
   "name": "python3"
  },
  "language_info": {
   "codemirror_mode": {
    "name": "ipython",
    "version": 3
   },
   "file_extension": ".py",
   "mimetype": "text/x-python",
   "name": "python",
   "nbconvert_exporter": "python",
   "pygments_lexer": "ipython3",
   "version": "3.11.9"
  }
 },
 "nbformat": 4,
 "nbformat_minor": 5
}
