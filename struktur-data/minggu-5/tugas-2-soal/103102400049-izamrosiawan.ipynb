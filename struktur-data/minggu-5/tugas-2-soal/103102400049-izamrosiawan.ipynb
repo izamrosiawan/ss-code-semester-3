{
 "cells": [
  {
   "cell_type": "markdown",
   "id": "e8edf87c",
   "metadata": {},
   "source": [
    "### Nama : Izam Rosiawan\n",
    "### Nim : 103102400049\n",
    "### Kelas : DS 04-02"
   ]
  },
  {
   "cell_type": "markdown",
   "id": "db005078",
   "metadata": {},
   "source": [
    "---"
   ]
  },
  {
   "cell_type": "markdown",
   "id": "7880a2c2",
   "metadata": {},
   "source": [
    "1. Dampak Fungsi Rekursif Tak Terbatas pada Memori Komputer"
   ]
  },
  {
   "cell_type": "markdown",
   "id": "27ccda13",
   "metadata": {},
   "source": [
    "Ketika sebuah fungsi rekursif dijalankan tanpa henti dalam kondisi loop tak terbatas, memori komputer dapat mengalami kegagalan yang disebut Stack Overflow. Setiap kali fungsi dipanggil, sistem operasi mengalokasikan ruang pada call stack untuk menyimpan variabel lokal dan alamat pengembalian fungsi tersebut. Pada proses rekursi yang berjalan secara normal, fungsi yang telah selesai akan dibersihkan dari tumpukan (pop), sehingga memori bisa digunakan kembali. Namun, jika rekursi terjadi tanpa adanya kondisi berhenti (base case), fungsi akan terus memanggil dirinya sendiri tanpa pernah keluar, menyebabkan call stack semakin penuh dengan pemanggilan baru (push)."
   ]
  },
  {
   "cell_type": "code",
   "execution_count": null,
   "id": "a00e144d",
   "metadata": {},
   "outputs": [],
   "source": [
    "def infinite_recurse():\n",
    "    return infinite_recurse()"
   ]
  },
  {
   "cell_type": "markdown",
   "id": "7c9f7a5e",
   "metadata": {},
   "source": [
    "2. Cara Menghentikan Program dalam Kondisi Infinite Loop"
   ]
  },
  {
   "cell_type": "markdown",
   "id": "33f21fe8",
   "metadata": {},
   "source": [
    "Ketika sebuah program sudah terjebak dalam kondisi infinite loop rekursif, ia tidak dapat dihentikan dari dalam kode itu sendiri karena program dalam keadaan tidak responsif. Satu-satunya cara untuk keluar dari kondisi ini adalah dengan menghentikan eksekusi program secara paksa dari luar. Metode yang paling umum digunakan adalah dengan mengirimkan sinyal interupsi ke sistem operasi. "
   ]
  },
  {
   "cell_type": "code",
   "execution_count": null,
   "id": "0dfca903",
   "metadata": {},
   "outputs": [],
   "source": [
    "def infinite_recurse():\n",
    "    return infinite_recurse()\n",
    "\n",
    "def stoppable_loop():\n",
    "    while True:\n",
    "        print(\"loop berjalan\")\n",
    "\n",
    "def safe_recurse(n):\n",
    "    if n == 0:\n",
    "        print(\"selesai\")\n",
    "        return\n",
    "    print(n)\n",
    "    safe_recurse(n-1)\n",
    "\n",
    "pilih = input(\"Pilih (1:rekursi tak terbatas, 2:loop, 3:rekursi aman): \")\n",
    "if pilih == \"1\":\n",
    "    infinite_recurse()\n",
    "elif pilih == \"2\":\n",
    "    stoppable_loop()\n",
    "elif pilih == \"3\":\n",
    "    safe_recurse(5)"
   ]
  }
 ],
 "metadata": {
  "kernelspec": {
   "display_name": "Python 3",
   "language": "python",
   "name": "python3"
  },
  "language_info": {
   "codemirror_mode": {
    "name": "ipython",
    "version": 3
   },
   "file_extension": ".py",
   "mimetype": "text/x-python",
   "name": "python",
   "nbconvert_exporter": "python",
   "pygments_lexer": "ipython3",
   "version": "3.11.9"
  }
 },
 "nbformat": 4,
 "nbformat_minor": 5
}
