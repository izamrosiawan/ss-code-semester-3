{
 "cells": [
  {
   "cell_type": "markdown",
   "id": "e8edf87c",
   "metadata": {},
   "source": [
    "### Nama : Izam Rosiawan\n",
    "### Nim : 103102400049\n",
    "### Kelas : DS 04-02"
   ]
  },
  {
   "cell_type": "markdown",
   "id": "db005078",
   "metadata": {},
   "source": [
    "---"
   ]
  },
  {
   "cell_type": "markdown",
   "id": "7880a2c2",
   "metadata": {},
   "source": [
    "1. Dampak Fungsi Rekursif Tak Terbatas pada Memori Komputer"
   ]
  },
  {
   "cell_type": "markdown",
   "id": "27ccda13",
   "metadata": {},
   "source": [
    "Ketika sebuah fungsi rekursif dijalankan tanpa henti dalam kondisi loop tak terbatas, memori komputer dapat mengalami kegagalan yang disebut Stack Overflow. Namun, jika rekursi terjadi tanpa adanya kondisi berhenti (base case), fungsi akan terus memanggil dirinya sendiri tanpa pernah keluar, menyebabkan call stack semakin penuh dengan pemanggilan baru (push)."
   ]
  },
  {
   "cell_type": "code",
   "execution_count": null,
   "id": "a00e144d",
   "metadata": {},
   "outputs": [],
   "source": [
    "def infinite_recurse():\n",
    "    print(\"P Balap\")\n",
    "    return infinite_recurse()\n",
    "\n",
    "infinite_recurse()"
   ]
  },
  {
   "cell_type": "markdown",
   "id": "7c9f7a5e",
   "metadata": {},
   "source": [
    "2. Cara Menghentikan Program dalam Kondisi Infinite Loop"
   ]
  },
  {
   "cell_type": "markdown",
   "id": "33f21fe8",
   "metadata": {},
   "source": [
    "Ketika sebuah program sudah terjebak dalam kondisi infinite loop rekursif, ia tidak dapat dihentikan dari dalam kode itu sendiri karena program dalam keadaan tidak responsif. Satu-satunya cara untuk keluar dari kondisi ini adalah dengan menghentikan eksekusi program secara paksa dari luar. Metode yang paling umum digunakan adalah dengan mengirimkan sinyal interupsi ke sistem operasi. "
   ]
  },
  {
   "cell_type": "code",
   "execution_count": 14,
   "id": "0dfca903",
   "metadata": {},
   "outputs": [
    {
     "name": "stdout",
     "output_type": "stream",
     "text": [
      "5\n",
      "4\n",
      "3\n",
      "2\n",
      "1\n",
      "selesai\n"
     ]
    }
   ],
   "source": [
    "def infinite_recurse():\n",
    "    print(\"P Balap\")\n",
    "    return infinite_recurse()\n",
    "\n",
    "def safe_recurse(n):\n",
    "    if n == 0:\n",
    "        print(\"selesai\")\n",
    "        return\n",
    "    print(n)\n",
    "    safe_recurse(n-1)\n",
    "\n",
    "safe_recurse(5)"
   ]
  },
  {
   "cell_type": "code",
   "execution_count": null,
   "id": "5ad670c5",
   "metadata": {},
   "outputs": [],
   "source": []
  }
 ],
 "metadata": {
  "kernelspec": {
   "display_name": "Python 3",
   "language": "python",
   "name": "python3"
  },
  "language_info": {
   "codemirror_mode": {
    "name": "ipython",
    "version": 3
   },
   "file_extension": ".py",
   "mimetype": "text/x-python",
   "name": "python",
   "nbconvert_exporter": "python",
   "pygments_lexer": "ipython3",
   "version": "3.11.9"
  }
 },
 "nbformat": 4,
 "nbformat_minor": 5
}
