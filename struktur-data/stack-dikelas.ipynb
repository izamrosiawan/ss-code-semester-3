{
 "cells": [
  {
   "cell_type": "code",
   "execution_count": 1,
   "id": "f9075420",
   "metadata": {},
   "outputs": [
    {
     "name": "stdout",
     "output_type": "stream",
     "text": [
      "0\n",
      "Full stack: False\n",
      "Stack size: 3\n",
      "c\n",
      "b\n",
      "a\n",
      "Empty stack: True\n",
      "Stack size after popping: 0\n"
     ]
    }
   ],
   "source": [
    "from queue import LifoQueue\n",
    "\n",
    "stack = LifoQueue(maxsize=5)\n",
    "\n",
    "print(stack.qsize())\n",
    "\n",
    "stack.put(\"a\")\n",
    "stack.put(\"b\")\n",
    "stack.put(\"c\")\n",
    "\n",
    "print(\"Full stack:\", stack.full())\n",
    "print(\"Stack size:\", stack.qsize())\n",
    "\n",
    "print(stack.get())\n",
    "print(stack.get())\n",
    "print(stack.get())\n",
    "\n",
    "print(\"Empty stack:\", stack.empty())\n",
    "print(\"Stack size after popping:\", stack.qsize())\n"
   ]
  },
  {
   "cell_type": "code",
   "execution_count": null,
   "id": "056c9269",
   "metadata": {},
   "outputs": [],
   "source": []
  }
 ],
 "metadata": {
  "kernelspec": {
   "display_name": "Python 3",
   "language": "python",
   "name": "python3"
  },
  "language_info": {
   "codemirror_mode": {
    "name": "ipython",
    "version": 3
   },
   "file_extension": ".py",
   "mimetype": "text/x-python",
   "name": "python",
   "nbconvert_exporter": "python",
   "pygments_lexer": "ipython3",
   "version": "3.11.9"
  }
 },
 "nbformat": 4,
 "nbformat_minor": 5
}
