{
 "cells": [
  {
   "cell_type": "markdown",
   "id": "76f94336",
   "metadata": {},
   "source": [
    "### Nama : Izam Rosiawan\n",
    "### Nim : 103102400049\n",
    "### Kelas : DS 04-02"
   ]
  },
  {
   "cell_type": "markdown",
   "id": "a377b2b2",
   "metadata": {},
   "source": [
    "---"
   ]
  },
  {
   "cell_type": "code",
   "execution_count": null,
   "id": "374558d8",
   "metadata": {},
   "outputs": [
    {
     "name": "stdout",
     "output_type": "stream",
     "text": [
      "VALID\n"
     ]
    }
   ],
   "source": [
    "class Stack:\n",
    "    def __init__(self):\n",
    "        self.items = []\n",
    "\n",
    "    def push(self, data):\n",
    "        self.items.append(data)\n",
    "\n",
    "    def pop(self):\n",
    "        if not self.is_empty():\n",
    "            return self.items.pop()\n",
    "        return None\n",
    "\n",
    "    def is_empty(self):\n",
    "        return len(self.items) == 0\n",
    "\n",
    "    def peek(self):\n",
    "        if not self.is_empty():\n",
    "            return self.items[-1]\n",
    "        return None\n",
    "\n",
    "def cek_kurung(input_str):\n",
    "    stack = Stack()\n",
    "    pasangan = {'(': ')', '{': '}', '[': ']'}\n",
    "    for char in input_str:\n",
    "        if char in \"({[\":\n",
    "            stack.push(char)\n",
    "        elif char in \")}]\":\n",
    "            if stack.is_empty():\n",
    "                return \"Invalid\"\n",
    "            atas = stack.pop()\n",
    "            if pasangan[atas] != char:\n",
    "                return \"Invalid\"\n",
    "\n",
    "    if stack.is_empty():\n",
    "        return \"Valid\"\n",
    "    else:\n",
    "        return \"Invalid\"\n",
    "\n",
    "user_input = input(\"Masukkan tanda kurung: \")\n",
    "print(cek_kurung(user_input))"
   ]
  },
  {
   "cell_type": "code",
   "execution_count": null,
   "id": "6cdaac1c",
   "metadata": {},
   "outputs": [],
   "source": []
  }
 ],
 "metadata": {
  "kernelspec": {
   "display_name": "Python 3",
   "language": "python",
   "name": "python3"
  },
  "language_info": {
   "codemirror_mode": {
    "name": "ipython",
    "version": 3
   },
   "file_extension": ".py",
   "mimetype": "text/x-python",
   "name": "python",
   "nbconvert_exporter": "python",
   "pygments_lexer": "ipython3",
   "version": "3.11.9"
  }
 },
 "nbformat": 4,
 "nbformat_minor": 5
}
