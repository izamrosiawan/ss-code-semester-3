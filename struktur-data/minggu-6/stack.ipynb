{
 "cells": [
  {
   "cell_type": "code",
   "execution_count": 2,
   "id": "db391420",
   "metadata": {},
   "outputs": [
    {
     "name": "stdout",
     "output_type": "stream",
     "text": [
      "[10, 20, 30]\n",
      "Top element is: 30\n",
      "Popped element is: 30\n",
      "[10, 20]\n"
     ]
    }
   ],
   "source": [
    "class stack:\n",
    "    def __init__(self):\n",
    "        self.items = []\n",
    "\n",
    "    def is_empty(self):\n",
    "        return len(self.items) == 0\n",
    "\n",
    "    def push(self, item):\n",
    "        self.items.append(item)\n",
    "\n",
    "    def pop(self):\n",
    "        if not self.is_empty():\n",
    "            return self.items.pop()\n",
    "        raise IndexError(\"pop from empty stack\")\n",
    "\n",
    "    def peek(self):\n",
    "        if not self.is_empty():\n",
    "            return self.items[-1]\n",
    "        raise IndexError(\"peek from empty stack\")\n",
    "    \n",
    "    def display(self):\n",
    "        print(self.items)\n",
    "\n",
    "stack = stack()\n",
    "stack.push(10)\n",
    "stack.push(20)\n",
    "stack.push(30)\n",
    "\n",
    "stack.display()\n",
    "\n",
    "print(\"Top element is:\", stack.peek())\n",
    "print(\"Popped element is:\", stack.pop())\n",
    "stack.display()"
   ]
  },
  {
   "cell_type": "code",
   "execution_count": null,
   "id": "fefb740d",
   "metadata": {},
   "outputs": [
    {
     "ename": "NameError",
     "evalue": "name 'stack' is not defined",
     "output_type": "error",
     "traceback": [
      "\u001b[1;31m---------------------------------------------------------------------------\u001b[0m",
      "\u001b[1;31mNameError\u001b[0m                                 Traceback (most recent call last)",
      "Cell \u001b[1;32mIn[14], line 14\u001b[0m\n\u001b[0;32m     11\u001b[0m     \u001b[38;5;28;01mreturn\u001b[39;00m \u001b[38;5;124m\"\u001b[39m\u001b[38;5;124mValid\u001b[39m\u001b[38;5;124m\"\u001b[39m \u001b[38;5;28;01mif\u001b[39;00m stack\u001b[38;5;241m.\u001b[39mis_empty() \u001b[38;5;28;01melse\u001b[39;00m \u001b[38;5;124m\"\u001b[39m\u001b[38;5;124mInvalid\u001b[39m\u001b[38;5;124m\"\u001b[39m\n\u001b[0;32m     13\u001b[0m expression \u001b[38;5;241m=\u001b[39m \u001b[38;5;124m\"\u001b[39m\u001b[38;5;124m{\u001b[39m\u001b[38;5;124m[()]}\u001b[39m\u001b[38;5;124m\"\u001b[39m\n\u001b[1;32m---> 14\u001b[0m cekKurung(\u001b[43mstack\u001b[49m)\n",
      "\u001b[1;31mNameError\u001b[0m: name 'stack' is not defined"
     ]
    }
   ],
   "source": [
    "def cekKurung(stack):\n",
    "    for char in \"{[()]}\":\n",
    "        if char in \"{[(\":\n",
    "            stack.push(char)\n",
    "        else:\n",
    "            if stack.is_empty():\n",
    "                return False\n",
    "            top = stack.pop()\n",
    "            if (top == '(' and char != ')') or (top == '{' and char != '}') or (top == '[' and char != ']'):\n",
    "                return False\n",
    "    return \"Valid\" if stack.is_empty() else \"Invalid\"\n",
    "\n",
    "kurung = \"{[()]}\"\n",
    "cekKurung(stack)"
   ]
  },
  {
   "cell_type": "code",
   "execution_count": 24,
   "id": "bb71eb72",
   "metadata": {},
   "outputs": [
    {
     "data": {
      "text/plain": [
       "'Valid'"
      ]
     },
     "execution_count": 24,
     "metadata": {},
     "output_type": "execute_result"
    }
   ],
   "source": [
    "class cekKurung:\n",
    "    def __init__(self, kurung):\n",
    "        self.kurung = kurung\n",
    "        self.stack = []\n",
    "    \n",
    "    def cek(self):\n",
    "        for char in self.kurung:\n",
    "            if char in \"{[(\":\n",
    "                self.stack.append(char)\n",
    "            else:\n",
    "                if not self.stack:\n",
    "                    return False\n",
    "                top = self.stack.pop()\n",
    "                if (top == '(' and char != ')') or (top == '{' and char != '}') or (top == '[' and char != ']'):\n",
    "                    return False\n",
    "        return \"Valid\" if not self.stack else \"Invalid\"\n",
    "\n",
    "kurung = \"{[()]}\"\n",
    "checker = cekKurung(kurung)\n",
    "checker.cek()"
   ]
  },
  {
   "cell_type": "code",
   "execution_count": 25,
   "id": "41ca62d8",
   "metadata": {},
   "outputs": [
    {
     "ename": "SyntaxError",
     "evalue": "invalid syntax (461155656.py, line 1)",
     "output_type": "error",
     "traceback": [
      "\u001b[1;36m  Cell \u001b[1;32mIn[25], line 1\u001b[1;36m\u001b[0m\n\u001b[1;33m    clas s Stack:\u001b[0m\n\u001b[1;37m         ^\u001b[0m\n\u001b[1;31mSyntaxError\u001b[0m\u001b[1;31m:\u001b[0m invalid syntax\n"
     ]
    }
   ],
   "source": [
    "clas s Stack:\n",
    "    def __init__(self): \n",
    "        self.items = []\n",
    "        \\"
   ]
  },
  {
   "cell_type": "code",
   "execution_count": null,
   "id": "d1ac11ee",
   "metadata": {},
   "outputs": [
    {
     "data": {
      "text/plain": [
       "'Valid'"
      ]
     },
     "execution_count": 27,
     "metadata": {},
     "output_type": "execute_result"
    }
   ],
   "source": [
    "def cekKurung(inputan):\n",
    "    stack = []\n",
    "    kurung = {'(': ')', '{': '}', '[': ']'}\n",
    "    \n",
    "    for i in inputan:\n",
    "        if i in kurung:\n",
    "            stack.append(i)\n",
    "        elif i in kurung.values():\n",
    "            if not stack or kurung[stack.pop()] != i:\n",
    "                return \"Invalid\"\n",
    "    return \"Valid\" if not stack else \"Invalid\"\n",
    "\n",
    "tes = \"{[()]}\"\n",
    "cekKurung(tes)"
   ]
  },
  {
   "cell_type": "code",
   "execution_count": null,
   "id": "1783def3",
   "metadata": {},
   "outputs": [],
   "source": []
  }
 ],
 "metadata": {
  "kernelspec": {
   "display_name": "Python 3",
   "language": "python",
   "name": "python3"
  },
  "language_info": {
   "codemirror_mode": {
    "name": "ipython",
    "version": 3
   },
   "file_extension": ".py",
   "mimetype": "text/x-python",
   "name": "python",
   "nbconvert_exporter": "python",
   "pygments_lexer": "ipython3",
   "version": "3.11.9"
  }
 },
 "nbformat": 4,
 "nbformat_minor": 5
}
