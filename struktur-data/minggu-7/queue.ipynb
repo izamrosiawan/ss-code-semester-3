{
 "cells": [
  {
   "cell_type": "code",
   "execution_count": 1,
   "id": "3361830d",
   "metadata": {},
   "outputs": [
    {
     "name": "stdout",
     "output_type": "stream",
     "text": [
      "10 ditambahkan ke queue\n",
      "20 ditambahkan ke queue\n",
      "30 ditambahkan ke queue\n",
      "Elemen depan queue: 10\n",
      "10 dikeluarkan dari queue\n",
      "20 dikeluarkan dari queue\n",
      "Apakah queue kosong? False\n",
      "Ukuran queue: 1\n"
     ]
    }
   ],
   "source": [
    "# Implementasi Lengkap Fungsi Queue menggunakan list\n",
    "class QueueList:\n",
    "    def __init__(self, max_size=None):\n",
    "        self.queue = []\n",
    "        self.max_size = max_size\n",
    "\n",
    "    def enqueue(self, item):\n",
    "        if self.max_size and len(self.queue) >= self.max_size:\n",
    "            print(\"Queue penuh!\")\n",
    "            return\n",
    "        self.queue.append(item)\n",
    "        print(f\"{item} ditambahkan ke queue\")\n",
    "\n",
    "    def dequeue(self):\n",
    "        if self.is_empty():\n",
    "            print(\"Queue kosong!\")\n",
    "            return None\n",
    "        item = self.queue.pop(0)\n",
    "        print(f\"{item} dikeluarkan dari queue\")\n",
    "        return item\n",
    "\n",
    "    def peek(self):\n",
    "        if self.is_empty():\n",
    "            print(\"Queue kosong!\")\n",
    "            return None\n",
    "        return self.queue[0]\n",
    "\n",
    "    def is_empty(self):\n",
    "        return len(self.queue) == 0\n",
    "\n",
    "    def is_full(self):\n",
    "        if self.max_size:\n",
    "            return len(self.queue) >= self.max_size\n",
    "        return False\n",
    "\n",
    "    def size(self):\n",
    "        return len(self.queue)\n",
    "\n",
    "# Contoh Penggunaan\n",
    "q = QueueList(max_size=5)\n",
    "q.enqueue(10)\n",
    "q.enqueue(20)\n",
    "q.enqueue(30)\n",
    "print(f\"Elemen depan queue: {q.peek()}\")\n",
    "q.dequeue()\n",
    "q.dequeue()\n",
    "print(f\"Apakah queue kosong? {q.is_empty()}\")\n",
    "print(f\"Ukuran queue: {q.size()}\")\n"
   ]
  },
  {
   "cell_type": "code",
   "execution_count": null,
   "id": "baeea1a3",
   "metadata": {},
   "outputs": [],
   "source": []
  }
 ],
 "metadata": {
  "kernelspec": {
   "display_name": "Python 3",
   "language": "python",
   "name": "python3"
  },
  "language_info": {
   "codemirror_mode": {
    "name": "ipython",
    "version": 3
   },
   "file_extension": ".py",
   "mimetype": "text/x-python",
   "name": "python",
   "nbconvert_exporter": "python",
   "pygments_lexer": "ipython3",
   "version": "3.11.9"
  }
 },
 "nbformat": 4,
 "nbformat_minor": 5
}
