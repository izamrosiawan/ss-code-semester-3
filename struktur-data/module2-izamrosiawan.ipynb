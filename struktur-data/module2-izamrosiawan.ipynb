{
 "cells": [
  {
   "cell_type": "markdown",
   "id": "f8a71d40",
   "metadata": {},
   "source": [
    "### NAMA : IZAM ROSIAWAN\n",
    "### NIM : 103102400049\n",
    "### KELAS : DS 04-02"
   ]
  },
  {
   "cell_type": "code",
   "execution_count": 2,
   "id": "cbff20b7",
   "metadata": {},
   "outputs": [
    {
     "name": "stdout",
     "output_type": "stream",
     "text": [
      "Total Kekuatan player 1 80.0\n",
      "Total Kekuatan player 2 127.5\n"
     ]
    }
   ],
   "source": [
    "#nomor 2\n",
    "\n",
    "def advanturer(physical, magic, defense,player):\n",
    "    total_kekuatan = (2 * physical) + (3 * magic) - (0.5 * defense)\n",
    "    return total_kekuatan\n",
    "\n",
    "def main():\n",
    "    player = int(input(\"Masukkan jumlah player: \"))\n",
    "    for i in range(player):\n",
    "        physical, magic, defense = map(int, input(\"Masukkan tiga nilai (physical, magic, defense): \").split())\n",
    "        total_kekuatan = advanturer(physical, magic, defense, player)\n",
    "        print(f\"Total Kekuatan player {i+1} {total_kekuatan}\")\n",
    "\n",
    "main()"
   ]
  },
  {
   "cell_type": "code",
   "execution_count": 9,
   "id": "c95cdb1a",
   "metadata": {},
   "outputs": [
    {
     "name": "stdout",
     "output_type": "stream",
     "text": [
      "Total Power mesin 1 74.0\n",
      "Total Power mesin 2 136.0\n"
     ]
    }
   ],
   "source": [
    "#nomor 3\n",
    "\n",
    "def robot(speed, endurance, precision, mesin):\n",
    "    total_power = (3 * speed) + (4 * endurance) - (2 * precision)\n",
    "\n",
    "def main():\n",
    "    mesin = int(input(\"Masukkan jumlah mesin: \"))\n",
    "    for i in range(mesin):\n",
    "        speed, endurance, precision = map(float, input(\"Masukkan tiga nilai (speed, endurance, precision): \").split())\n",
    "        total_power = (3 * speed) + (4 * endurance) - (2 * precision)\n",
    "        print(f\"Total Power mesin {i+1} {total_power}\")\n",
    "\n",
    "main()"
   ]
  },
  {
   "cell_type": "code",
   "execution_count": null,
   "id": "1c06fb6f",
   "metadata": {},
   "outputs": [],
   "source": []
  }
 ],
 "metadata": {
  "kernelspec": {
   "display_name": "Python 3",
   "language": "python",
   "name": "python3"
  },
  "language_info": {
   "codemirror_mode": {
    "name": "ipython",
    "version": 3
   },
   "file_extension": ".py",
   "mimetype": "text/x-python",
   "name": "python",
   "nbconvert_exporter": "python",
   "pygments_lexer": "ipython3",
   "version": "3.11.9"
  }
 },
 "nbformat": 4,
 "nbformat_minor": 5
}
