{
 "cells": [
  {
   "cell_type": "markdown",
   "metadata": {},
   "source": [
    "# Analisis Outlier Data Penjualan Produk Elektronik\n",
    "\n",
    "Mengacu pada repo: [Penjualan Produk Elektronik](https://github.com/izamrosiawan/infrastruktur-dan-platfrom-sains-data/tree/main/Pertemuan%202%20-%20Praprocessing%20Data/Post-Test)"
   ]
  },
  {
   "cell_type": "code",
   "metadata": {},
   "source": [
    "# Import Library\n",
    "import pandas as pd\n",
    "import numpy as np\n",
    "import matplotlib.pyplot as plt\n",
    "import seaborn as sns"
   ],
   "execution_count": 1,
   "outputs": []
  },
  {
   "cell_type": "code",
   "metadata": {},
   "source": [
    "# Load Data\n",
    "df = pd.read_csv('Penjualan_Produk_Elektronik.csv')\n",
    "df.head()"
   ],
   "execution_count": 2,
   "outputs": []
  },
  {
   "cell_type": "markdown",
   "metadata": {},
   "source": [
    "## 1. Visualisasi Data: Box Plot & Scatter Plot"
   ]
  },
  {
   "cell_type": "code",
   "metadata": {},
   "source": [
    "features = df.columns\n",
    "plt.figure(figsize=(16,8))\n",
    "for i, col in enumerate(features):\n",
    "    plt.subplot(2,2,i+1)\n",
    "    sns.boxplot(y=df[col])\n",
    "    plt.title(f'Boxplot {col}')\n",
    "plt.tight_layout()\n",
    "plt.show()"
   ],
   "execution_count": 3,
   "outputs": []
  },
  {
   "cell_type": "markdown",
   "metadata": {},
   "source": [
    "### Scatter Plot antar fitur\n",
    "Visualisasi untuk mendeteksi outlier secara visual."
   ]
  },
  {
   "cell_type": "code",
   "metadata": {},
   "source": [
    "plt.figure(figsize=(10,6))\n",
    "sns.scatterplot(x=df['Harga Produk (USD)'], y=df['Penjualan Harian (Unit)'])\n",
    "plt.title('Scatter Plot Harga Produk vs Penjualan Harian')\n",
    "plt.show()"
   ],
   "execution_count": 4,
   "outputs": []
  },
  {
   "cell_type": "code",
   "metadata": {},
   "source": [
    "# Scatter Plot untuk fitur Diskon vs Stok\n",
    "plt.figure(figsize=(10,6))\n",
    "sns.scatterplot(x=df['Diskon (%)'], y=df['Stok (Unit)'])\n",
    "plt.title('Scatter Plot Diskon vs Stok')\n",
    "plt.show()"
   ],
   "execution_count": 5,
   "outputs": []
  },
  {
   "cell_type": "markdown",
   "metadata": {},
   "source": [
    "#### Jawaban Pertanyaan Visualisasi:\n",
    "- Outlier pada boxplot umumnya terlihat sebagai titik yang jauh dari kotak utama.\n",
    "- Scatter plot dapat memperlihatkan data yang jauh dari kelompok utama."
   ]
  },
  {
   "cell_type": "markdown",
   "metadata": {},
   "source": [
    "## 2. Deteksi Outlier Menggunakan Statistik\n",
    "### a. Z-Score"
   ]
  },
  {
   "cell_type": "code",
   "metadata": {},
   "source": [
    "from scipy.stats import zscore\n",
    "z_scores = df.apply(zscore)\n",
    "\n",
    "outlier_z = {}\n",
    "for col in features:\n",
    "    outlier_z[col] = df[np.abs(z_scores[col]) > 3][col]\n",
    "    print(f'Jumlah outlier {col} (Z-Score > 3 atau < -3):', outlier_z[col].count())"
   ],
   "execution_count": 6,
   "outputs": []
  },
  {
   "cell_type": "markdown",
   "metadata": {},
   "source": [
    "### b. IQR"
   ]
  },
  {
   "cell_type": "code",
   "metadata": {},
   "source": [
    "outlier_iqr = {}\n",
    "for col in features:\n",
    "    Q1 = df[col].quantile(0.25)\n",
    "    Q3 = df[col].quantile(0.75)\n",
    "    IQR = Q3 - Q1\n",
    "    lower = Q1 - 1.5 * IQR\n",
    "    upper = Q3 + 1.5 * IQR\n",
    "    outlier_iqr[col] = df[(df[col] < lower) | (df[col] > upper)][col]\n",
    "    print(f'{col}: Q1={Q1:.2f}, Q3={Q3:.2f}, IQR={IQR:.2f}, Outlier={outlier_iqr[col].count()}')"
   ],
   "execution_count": 7,
   "outputs": []
  },
  {
   "cell_type": "markdown",
   "metadata": {},
   "source": [
    "#### Jawaban Statistik:\n",
    "- Jumlah dan lokasi outlier bisa berbeda antara Z-Score dan IQR."
   ]
  },
  {
   "cell_type": "markdown",
   "metadata": {},
   "source": [
    "## 3. Transformasi Data: Log Transformation"
   ]
  },
  {
   "cell_type": "code",
   "metadata": {},
   "source": [
    "df_log = df.copy()\n",
    "for col in ['Harga Produk (USD)','Penjualan Harian (Unit)']:\n",
    "    df_log[col] = np.log1p(df_log[col])\n",
    "\n",
    "plt.figure(figsize=(12,5))\n",
    "for i, col in enumerate(['Harga Produk (USD)','Penjualan Harian (Unit)']):\n",
    "    plt.subplot(1,2,i+1)\n",
    "    sns.boxplot(y=df_log[col])\n",
    "    plt.title(f'Boxplot Log {col}')\n",
    "plt.tight_layout()\n",
    "plt.show()"
   ],
   "execution_count": 8,
   "outputs": []
  },
  {
   "cell_type": "markdown",
   "metadata": {},
   "source": [
    "#### Jawaban Transformasi:\n",
    "- Log transformation biasanya mengurangi pengaruh outlier pada distribusi data."
   ]
  },
  {
   "cell_type": "markdown",
   "metadata": {},
   "source": [
    "## 4. Kesimpulan\n",
    "\n",
    "- Outlier masih bisa tetap ada setelah transformasi, namun pengaruhnya berkurang.\n",
    "- Transformasi data membuat distribusi lebih mendekati normal.\n",
    "- Transformasi data adalah salah satu solusi, namun penanganan outlier tergantung tujuan analisis dan konteks bisnis."
   ]
  }
 ],
 "metadata": {
  "kernelspec": {
   "display_name": "Python 3",
   "language": "python",
   "name": "python3"
  },
  "language_info": {
   "name": "python",
   "version": "3.8"
  }
 },
 "nbformat": 4,
 "nbformat_minor": 2
}