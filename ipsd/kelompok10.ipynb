{
  "nbformat": 4,
  "nbformat_minor": 0,
  "metadata": {
    "colab": {
      "provenance": []
    },
    "kernelspec": {
      "name": "python3",
      "display_name": "Python 3"
    },
    "language_info": {
      "name": "python"
    }
  },
  "cells": [
    {
      "cell_type": "markdown",
      "source": [
        "### KELOMPOK 10 :\n",
        "1. MUHAMMAD ADE SULISTIANSYAH - 103102400045\n",
        "2. IZAM ROSIAWAN - 103102400049\n",
        "3. NOVENA AURELIA LUISMA - 103102400050\n",
        "4. FEYSHA KAMILA PRACILYA - 103102400054"
      ],
      "metadata": {
        "id": "ynFJmB6yWw-j"
      }
    },
    {
      "cell_type": "markdown",
      "source": [
        "### Mengenali Karakteristik Data"
      ],
      "metadata": {
        "id": "QSpjTq7qjQq8"
      }
    },
    {
      "cell_type": "markdown",
      "source": [
        "Saat saya pertama kali melihat sebuah array, saya harus tahu dimensinya. Dimensi atau shape adalah jumlah baris dan kolom yang menyusun array saya. Misalnya, array dua dimensi 4x5 memiliki 4 baris dan 5 kolom. Untuk memeriksa ini, saya cukup menggunakan atribut pada objek array saya. Ukuran atau size adalah total jumlah elemen di dalam array, yang bisa didapatkan dari atribut."
      ],
      "metadata": {
        "id": "74FdBz_0jsGd"
      }
    },
    {
      "cell_type": "code",
      "source": [
        "import numpy as np\n",
        "\n",
        "# Membuat array 2x3\n",
        "data_matrix = np.array([[10, 20, 30], [40, 50, 60]])\n",
        "\n",
        "# Memeriksa karakteristik data\n",
        "print(\"Bentuk (Shape) array:\", data_matrix.shape)\n",
        "print(\"Ukuran (Size) array:\", data_matrix.size)\n",
        "print(\"Tipe data (Dtype) array:\", data_matrix.dtype)"
      ],
      "metadata": {
        "colab": {
          "base_uri": "https://localhost:8080/"
        },
        "id": "-mEDs477j_hD",
        "outputId": "29cbffbb-ece5-4998-d46d-2f247b6064a0"
      },
      "execution_count": 1,
      "outputs": [
        {
          "output_type": "stream",
          "name": "stdout",
          "text": [
            "Bentuk (Shape) array: (2, 3)\n",
            "Ukuran (Size) array: 6\n",
            "Tipe data (Dtype) array: int64\n"
          ]
        }
      ]
    },
    {
      "cell_type": "markdown",
      "source": [
        "### Tipe Data\n",
        "\n",
        "\n"
      ],
      "metadata": {
        "id": "RvKSNe49XsgB"
      }
    },
    {
      "cell_type": "markdown",
      "source": [
        "NumPy mendukung berbagai tipe data numerik yang efisien untuk komputasi ilmiah. Tipe data ini termasuk integer (int), unsigned integer (uint) untuk nilai non-negatif, float untuk bilangan desimal, complex untuk bilangan kompleks, dan bool untuk nilai logis. Anda bisa secara eksplisit menentukan tipe data saat membuat array dengan argumen dtype"
      ],
      "metadata": {
        "id": "tHQK2dLFkhlK"
      }
    },
    {
      "cell_type": "code",
      "source": [
        "# Membuat array dengan tipe data float eksplisit\n",
        "data_float = np.array([1, 2, 3], dtype=np.float64)\n",
        "print(\"Array float:\", data_float)\n",
        "print(\"Tipe data float:\", data_float.dtype)\n",
        "\n",
        "# Membuat array dengan tipe data integer eksplisit\n",
        "data_int = np.array([1.5, 2.8, 3.1], dtype=np.int64)\n",
        "print(\"Array integer dari float (terpotong):\", data_int)\n",
        "print(\"Tipe data integer:\", data_int.dtype)"
      ],
      "metadata": {
        "colab": {
          "base_uri": "https://localhost:8080/"
        },
        "id": "dCb0AA1zkmQj",
        "outputId": "6dde51e1-935a-4d65-a97b-acc99d4e27f8"
      },
      "execution_count": 2,
      "outputs": [
        {
          "output_type": "stream",
          "name": "stdout",
          "text": [
            "Array float: [1. 2. 3.]\n",
            "Tipe data float: float64\n",
            "Array integer dari float (terpotong): [1 2 3]\n",
            "Tipe data integer: int64\n"
          ]
        }
      ]
    },
    {
      "cell_type": "markdown",
      "source": [
        "### Membuat Array Dengan Berbagai Teknik"
      ],
      "metadata": {
        "id": "FJSEEtPpkr1h"
      }
    },
    {
      "cell_type": "markdown",
      "source": [
        "NumPy menyediakan berbagai fungsi untuk membuat array dengan cepat, yang sangat berguna dalam analisis data.\n",
        "\n",
        "* Dari List Python: Metode paling sederhana. Anda bisa membuat array satu dimensi dari list biasa, atau array multidimensi dari list bersarang (list di dalam list).\n",
        "\n",
        "* Array dengan Nilai Khusus:\n",
        "\n",
        "  * np.zeros((3, 3)) membuat matriks 3x3 yang semua elemennya nol.\n",
        "\n",
        "  * np.ones((2, 4)) membuat matriks 2x4 yang semua elemennya satu.\n",
        "\n",
        "  * np.full((3, 2), 7) membuat matriks 3x2 yang semua elemennya bernilai 7.\n",
        "\n",
        "* Array dengan Urutan Angka:\n",
        "\n",
        "  * np.arange(0, 10, 2) membuat array mulai dari 0 hingga kurang dari 10 dengan langkah 2.\n",
        "\n",
        "  * np.linspace(0, 1, 5) membuat array dengan 5 elemen yang terdistribusi merata antara 0 dan 1.\n",
        "\n",
        "* Array dengan Nilai Acak:\n",
        "\n",
        "  * np.random.rand(2, 2) membuat array acak dengan distribusi seragam.\n",
        "\n",
        "  * np.random.randn(3, 3) membuat array acak dengan distribusi normal standar."
      ],
      "metadata": {
        "id": "QX7VLkZwlPCP"
      }
    },
    {
      "cell_type": "code",
      "source": [
        "# Contoh membuat array dengan berbagai teknik\n",
        "print(\"Array nol:\\n\", np.zeros((2, 2)))\n",
        "print(\"\\nArray berurutan:\\n\", np.arange(0, 5))\n",
        "print(\"\\nArray acak normal:\\n\", np.random.randn(2, 2))"
      ],
      "metadata": {
        "colab": {
          "base_uri": "https://localhost:8080/"
        },
        "id": "TIzAR9hDlxPy",
        "outputId": "4ec391ad-6cc4-436b-f21d-9138c9a0c884"
      },
      "execution_count": 3,
      "outputs": [
        {
          "output_type": "stream",
          "name": "stdout",
          "text": [
            "Array nol:\n",
            " [[0. 0.]\n",
            " [0. 0.]]\n",
            "\n",
            "Array berurutan:\n",
            " [0 1 2 3 4]\n",
            "\n",
            "Array acak normal:\n",
            " [[0.0088917  0.26891899]\n",
            " [0.23005806 0.71639042]]\n"
          ]
        }
      ]
    },
    {
      "cell_type": "markdown",
      "source": [
        "### Membuat Matriks"
      ],
      "metadata": {
        "id": "mxiVu87Gl4IN"
      }
    },
    {
      "cell_type": "markdown",
      "source": [
        "Matriks adalah array dua dimensi. NumPy memiliki beberapa fungsi khusus untuk membuat matriks dengan struktur tertentu yang sering muncul dalam aljabar linear.\n",
        "\n",
        "* Matriks Identitas (np.identity): Matriks ini memiliki nilai 1 di diagonal utamanya dan 0 di tempat lain. Berguna dalam banyak operasi matriks.\n",
        "\n",
        "* Matriks Diagonal (np.diag): Membuat matriks dengan elemen yang diberikan hanya pada diagonal utama."
      ],
      "metadata": {
        "id": "Yqwry60mmE_I"
      }
    },
    {
      "cell_type": "code",
      "source": [
        "# Contoh membuat matriks\n",
        "print(\"Matriks Identitas 4x4:\\n\", np.identity(4))\n",
        "print(\"\\nMatriks Diagonal dari [10, 20, 30]:\\n\", np.diag([10, 20, 30]))"
      ],
      "metadata": {
        "colab": {
          "base_uri": "https://localhost:8080/"
        },
        "id": "YPCJvwB4mKgP",
        "outputId": "a209fce4-fdcd-47de-e0b0-7f4318d57b90"
      },
      "execution_count": 4,
      "outputs": [
        {
          "output_type": "stream",
          "name": "stdout",
          "text": [
            "Matriks Identitas 4x4:\n",
            " [[1. 0. 0. 0.]\n",
            " [0. 1. 0. 0.]\n",
            " [0. 0. 1. 0.]\n",
            " [0. 0. 0. 1.]]\n",
            "\n",
            "Matriks Diagonal dari [10, 20, 30]:\n",
            " [[10  0  0]\n",
            " [ 0 20  0]\n",
            " [ 0  0 30]]\n"
          ]
        }
      ]
    },
    {
      "cell_type": "markdown",
      "source": [
        "### MENGIMPLEMENTASIKAN OPERASI LOGIKA MATEMATIKA MENGGUNAKAN BOOLEAN"
      ],
      "metadata": {
        "id": "QHiR1pzycMop"
      }
    },
    {
      "cell_type": "code",
      "execution_count": null,
      "metadata": {
        "colab": {
          "base_uri": "https://localhost:8080/"
        },
        "id": "5Gc_FfI6WpZz",
        "outputId": "a1a3512d-51c7-419e-ef42-ef73c3ad27dc"
      },
      "outputs": [
        {
          "output_type": "stream",
          "name": "stdout",
          "text": [
            "A = True\n",
            "B = False\n",
            "A AND B = False\n",
            "A OR B  = True\n",
            "NOT A   = False\n",
            "A -> B  = False\n",
            "A ↔ B   = False\n"
          ]
        }
      ],
      "source": [
        "A = (2 > 1)   # True, karena 2 memang lebih besar dari 1\n",
        "B = (5 < 3)   # False, karena 5 tidak lebih kecil dari 3\n",
        "\n",
        "print(\"A =\", A)\n",
        "print(\"B =\", B)\n",
        "print(\"A AND B =\", A and B)     # AND: True kalau A dan B sama-sama True\n",
        "print(\"A OR B  =\", A or B)      # OR: True kalau salah satu True\n",
        "print(\"NOT A   =\", not A)       # NOT: membalik nilai A\n",
        "print(\"A -> B  =\", (not A) or B) # Implikasi: salah hanya kalau A True dan B False\n",
        "print(\"A ↔ B   =\", A == B)      # Ekuivalen: True kalau A dan B sama"
      ]
    },
    {
      "cell_type": "markdown",
      "source": [
        "Penjelasan:\n",
        "Mengimplementasikan operasi logika matematika menggunakan boolean artinya kita menerapkan aturan logika (benar–salah) ke dalam program komputer. Dalam matematika, sebuah pernyataan bisa bernilai benar atau salah. Misalnya: “2 lebih besar dari 1” adalah benar, sedangkan “5 lebih kecil dari 3” adalah salah. Pernyataan ini disebut boolean di pemrograman (True untuk benar, False untuk salah). Dengan boolean, kita bisa melakukan operasi logika seperti:\n",
        "\t•\tAND (dan): hasilnya benar kalau dua-duanya benar.\n",
        "\t•\tOR (atau): hasilnya benar kalau salah satu benar.\n",
        "\t•\tNOT (tidak): membalik nilai, yang benar jadi salah, yang salah jadi benar.\n",
        "\t•\tImplikasi: “jika A maka B”, salah hanya jika A benar tapi B salah.\n",
        "\t•\tEkuivalen: benar kalau A dan B sama nilainya."
      ],
      "metadata": {
        "id": "KHR97UwgcirU"
      }
    },
    {
      "cell_type": "code",
      "source": [],
      "metadata": {
        "id": "uYFDoI91cJMx"
      },
      "execution_count": null,
      "outputs": []
    }
  ]
}