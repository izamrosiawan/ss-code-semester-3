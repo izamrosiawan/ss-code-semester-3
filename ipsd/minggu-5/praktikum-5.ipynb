{
 "cells": [
  {
   "cell_type": "code",
   "execution_count": 101,
   "id": "f05ea0c6",
   "metadata": {},
   "outputs": [],
   "source": [
    "import pandas as pd\n",
    "import numpy as np\n",
    "import matplotlib.pyplot as plt\n",
    "import seaborn as sns"
   ]
  },
  {
   "cell_type": "code",
   "execution_count": 102,
   "id": "083970bc",
   "metadata": {},
   "outputs": [],
   "source": [
    "df = pd.read_csv(\"dataset.csv\")"
   ]
  },
  {
   "cell_type": "code",
   "execution_count": 103,
   "id": "fe3b533c",
   "metadata": {},
   "outputs": [
    {
     "data": {
      "application/vnd.microsoft.datawrangler.viewer.v0+json": {
       "columns": [
        {
         "name": "index",
         "rawType": "int64",
         "type": "integer"
        },
        {
         "name": "_id",
         "rawType": "object",
         "type": "string"
        },
        {
         "name": "Lokasi",
         "rawType": "object",
         "type": "string"
        },
        {
         "name": "Kecamatan",
         "rawType": "object",
         "type": "string"
        },
        {
         "name": "Kelurahan",
         "rawType": "object",
         "type": "string"
        },
        {
         "name": "Rayon",
         "rawType": "object",
         "type": "string"
        },
        {
         "name": "Luas genangan",
         "rawType": "float64",
         "type": "float"
        },
        {
         "name": "Tinggi genangan",
         "rawType": "float64",
         "type": "float"
        },
        {
         "name": "Lama genangan",
         "rawType": "float64",
         "type": "float"
        },
        {
         "name": "Skor Luas Genangan",
         "rawType": "float64",
         "type": "float"
        },
        {
         "name": "Skor Tinggi Genangan",
         "rawType": "float64",
         "type": "float"
        },
        {
         "name": "Skor Lama Genangan",
         "rawType": "float64",
         "type": "float"
        }
       ],
       "ref": "02a59c96-7285-4e15-9418-f21b86dcd490",
       "rows": [
        [
         "0",
         "1",
         "Jl. Pakis Agosari (Yamaha)",
         "Dukuh Pakis",
         "Dukuh Pakis",
         "Rayon Wiyung",
         "10.8",
         "10.0",
         "40.0",
         "100.0",
         "25.0",
         "25.0"
        ],
        [
         "1",
         "2",
         "Jl. Mayjend Sungkono - Darmo Park I",
         "Dukuh Pakis",
         "Dukuh Pakis",
         "Rayon Wiyung",
         "0.816236",
         "25.0",
         "58.0",
         "75.0",
         "50.0",
         "25.0"
        ],
        [
         "2",
         "3",
         "Jl. Mayjend Sungkono (Pom Bensin)",
         "Dukuh Pakis",
         "Dukuh Pakis",
         "Rayon Wiyung",
         "0.509047",
         "15.0",
         "16.0",
         "75.0",
         "50.0",
         "0.0"
        ],
        [
         "3",
         "4",
         "Kp. Kebraon",
         "Karangpilang",
         "Warugunung",
         "Rayon Wiyung",
         "0.785111",
         "10.0",
         "40.0",
         "75.0",
         "25.0",
         "25.0"
        ],
        [
         "4",
         "5",
         "Jl. Lakar Santri RW.001",
         "Lakarsantri",
         "Bangkingan",
         "Rayon Wiyung",
         "0.749717",
         "30.0",
         "16.0",
         "75.0",
         "50.0",
         "0.0"
        ],
        [
         "5",
         "6",
         "Lontar Lidah Kulon",
         "Lakarsantri",
         "Lidah Kulon",
         "Rayon Wiyung",
         "1.175965",
         "4.0",
         "16.0",
         "75.0",
         "0.0",
         "0.0"
        ],
        [
         "6",
         "7",
         "Jl. Babatan Indah",
         "Wiyung",
         "Babatan",
         "Rayon Wiyung",
         "8.1",
         "10.0",
         "16.0",
         "100.0",
         "25.0",
         "0.0"
        ],
        [
         "7",
         "8",
         "Perumahan Lembah Harapan",
         "Lakarsantri",
         "Lidah Wetan",
         "Rayon Wiyung",
         "0.182205",
         "10.0",
         "16.0",
         "50.0",
         "25.0",
         "0.0"
        ],
        [
         "8",
         "9",
         "Jl. Simo Hilir",
         "Sukomanunggal",
         "Simomulyo",
         "Rayon Tandes",
         "0.205258",
         "4.0",
         "16.0",
         "50.0",
         "0.0",
         "0.0"
        ],
        [
         "9",
         "10",
         "Jl. Kupang Baru",
         "Dukuh Pakis",
         "Dukuh Kupang",
         "Rayon Tandes",
         "0.258649",
         "25.0",
         "16.0",
         "50.0",
         "50.0",
         "0.0"
        ]
       ],
       "shape": {
        "columns": 11,
        "rows": 10
       }
      },
      "text/html": [
       "<div>\n",
       "<style scoped>\n",
       "    .dataframe tbody tr th:only-of-type {\n",
       "        vertical-align: middle;\n",
       "    }\n",
       "\n",
       "    .dataframe tbody tr th {\n",
       "        vertical-align: top;\n",
       "    }\n",
       "\n",
       "    .dataframe thead th {\n",
       "        text-align: right;\n",
       "    }\n",
       "</style>\n",
       "<table border=\"1\" class=\"dataframe\">\n",
       "  <thead>\n",
       "    <tr style=\"text-align: right;\">\n",
       "      <th></th>\n",
       "      <th>_id</th>\n",
       "      <th>Lokasi</th>\n",
       "      <th>Kecamatan</th>\n",
       "      <th>Kelurahan</th>\n",
       "      <th>Rayon</th>\n",
       "      <th>Luas genangan</th>\n",
       "      <th>Tinggi genangan</th>\n",
       "      <th>Lama genangan</th>\n",
       "      <th>Skor Luas Genangan</th>\n",
       "      <th>Skor Tinggi Genangan</th>\n",
       "      <th>Skor Lama Genangan</th>\n",
       "    </tr>\n",
       "  </thead>\n",
       "  <tbody>\n",
       "    <tr>\n",
       "      <th>0</th>\n",
       "      <td>1</td>\n",
       "      <td>Jl. Pakis Agosari (Yamaha)</td>\n",
       "      <td>Dukuh Pakis</td>\n",
       "      <td>Dukuh Pakis</td>\n",
       "      <td>Rayon Wiyung</td>\n",
       "      <td>10.800000</td>\n",
       "      <td>10.0</td>\n",
       "      <td>40.0</td>\n",
       "      <td>100.0</td>\n",
       "      <td>25.0</td>\n",
       "      <td>25.0</td>\n",
       "    </tr>\n",
       "    <tr>\n",
       "      <th>1</th>\n",
       "      <td>2</td>\n",
       "      <td>Jl. Mayjend Sungkono - Darmo Park I</td>\n",
       "      <td>Dukuh Pakis</td>\n",
       "      <td>Dukuh Pakis</td>\n",
       "      <td>Rayon Wiyung</td>\n",
       "      <td>0.816236</td>\n",
       "      <td>25.0</td>\n",
       "      <td>58.0</td>\n",
       "      <td>75.0</td>\n",
       "      <td>50.0</td>\n",
       "      <td>25.0</td>\n",
       "    </tr>\n",
       "    <tr>\n",
       "      <th>2</th>\n",
       "      <td>3</td>\n",
       "      <td>Jl. Mayjend Sungkono (Pom Bensin)</td>\n",
       "      <td>Dukuh Pakis</td>\n",
       "      <td>Dukuh Pakis</td>\n",
       "      <td>Rayon Wiyung</td>\n",
       "      <td>0.509047</td>\n",
       "      <td>15.0</td>\n",
       "      <td>16.0</td>\n",
       "      <td>75.0</td>\n",
       "      <td>50.0</td>\n",
       "      <td>0.0</td>\n",
       "    </tr>\n",
       "    <tr>\n",
       "      <th>3</th>\n",
       "      <td>4</td>\n",
       "      <td>Kp. Kebraon</td>\n",
       "      <td>Karangpilang</td>\n",
       "      <td>Warugunung</td>\n",
       "      <td>Rayon Wiyung</td>\n",
       "      <td>0.785111</td>\n",
       "      <td>10.0</td>\n",
       "      <td>40.0</td>\n",
       "      <td>75.0</td>\n",
       "      <td>25.0</td>\n",
       "      <td>25.0</td>\n",
       "    </tr>\n",
       "    <tr>\n",
       "      <th>4</th>\n",
       "      <td>5</td>\n",
       "      <td>Jl. Lakar Santri RW.001</td>\n",
       "      <td>Lakarsantri</td>\n",
       "      <td>Bangkingan</td>\n",
       "      <td>Rayon Wiyung</td>\n",
       "      <td>0.749717</td>\n",
       "      <td>30.0</td>\n",
       "      <td>16.0</td>\n",
       "      <td>75.0</td>\n",
       "      <td>50.0</td>\n",
       "      <td>0.0</td>\n",
       "    </tr>\n",
       "    <tr>\n",
       "      <th>5</th>\n",
       "      <td>6</td>\n",
       "      <td>Lontar Lidah Kulon</td>\n",
       "      <td>Lakarsantri</td>\n",
       "      <td>Lidah Kulon</td>\n",
       "      <td>Rayon Wiyung</td>\n",
       "      <td>1.175965</td>\n",
       "      <td>4.0</td>\n",
       "      <td>16.0</td>\n",
       "      <td>75.0</td>\n",
       "      <td>0.0</td>\n",
       "      <td>0.0</td>\n",
       "    </tr>\n",
       "    <tr>\n",
       "      <th>6</th>\n",
       "      <td>7</td>\n",
       "      <td>Jl. Babatan Indah</td>\n",
       "      <td>Wiyung</td>\n",
       "      <td>Babatan</td>\n",
       "      <td>Rayon Wiyung</td>\n",
       "      <td>8.100000</td>\n",
       "      <td>10.0</td>\n",
       "      <td>16.0</td>\n",
       "      <td>100.0</td>\n",
       "      <td>25.0</td>\n",
       "      <td>0.0</td>\n",
       "    </tr>\n",
       "    <tr>\n",
       "      <th>7</th>\n",
       "      <td>8</td>\n",
       "      <td>Perumahan Lembah Harapan</td>\n",
       "      <td>Lakarsantri</td>\n",
       "      <td>Lidah Wetan</td>\n",
       "      <td>Rayon Wiyung</td>\n",
       "      <td>0.182205</td>\n",
       "      <td>10.0</td>\n",
       "      <td>16.0</td>\n",
       "      <td>50.0</td>\n",
       "      <td>25.0</td>\n",
       "      <td>0.0</td>\n",
       "    </tr>\n",
       "    <tr>\n",
       "      <th>8</th>\n",
       "      <td>9</td>\n",
       "      <td>Jl. Simo Hilir</td>\n",
       "      <td>Sukomanunggal</td>\n",
       "      <td>Simomulyo</td>\n",
       "      <td>Rayon Tandes</td>\n",
       "      <td>0.205258</td>\n",
       "      <td>4.0</td>\n",
       "      <td>16.0</td>\n",
       "      <td>50.0</td>\n",
       "      <td>0.0</td>\n",
       "      <td>0.0</td>\n",
       "    </tr>\n",
       "    <tr>\n",
       "      <th>9</th>\n",
       "      <td>10</td>\n",
       "      <td>Jl. Kupang Baru</td>\n",
       "      <td>Dukuh Pakis</td>\n",
       "      <td>Dukuh Kupang</td>\n",
       "      <td>Rayon Tandes</td>\n",
       "      <td>0.258649</td>\n",
       "      <td>25.0</td>\n",
       "      <td>16.0</td>\n",
       "      <td>50.0</td>\n",
       "      <td>50.0</td>\n",
       "      <td>0.0</td>\n",
       "    </tr>\n",
       "  </tbody>\n",
       "</table>\n",
       "</div>"
      ],
      "text/plain": [
       "  _id                               Lokasi      Kecamatan     Kelurahan  \\\n",
       "0   1           Jl. Pakis Agosari (Yamaha)    Dukuh Pakis   Dukuh Pakis   \n",
       "1   2  Jl. Mayjend Sungkono - Darmo Park I    Dukuh Pakis   Dukuh Pakis   \n",
       "2   3    Jl. Mayjend Sungkono (Pom Bensin)    Dukuh Pakis   Dukuh Pakis   \n",
       "3   4                          Kp. Kebraon   Karangpilang    Warugunung   \n",
       "4   5              Jl. Lakar Santri RW.001    Lakarsantri    Bangkingan   \n",
       "5   6                   Lontar Lidah Kulon    Lakarsantri   Lidah Kulon   \n",
       "6   7                    Jl. Babatan Indah         Wiyung       Babatan   \n",
       "7   8             Perumahan Lembah Harapan    Lakarsantri   Lidah Wetan   \n",
       "8   9                       Jl. Simo Hilir  Sukomanunggal     Simomulyo   \n",
       "9  10                      Jl. Kupang Baru    Dukuh Pakis  Dukuh Kupang   \n",
       "\n",
       "          Rayon  Luas genangan  Tinggi genangan  Lama genangan  \\\n",
       "0  Rayon Wiyung      10.800000             10.0           40.0   \n",
       "1  Rayon Wiyung       0.816236             25.0           58.0   \n",
       "2  Rayon Wiyung       0.509047             15.0           16.0   \n",
       "3  Rayon Wiyung       0.785111             10.0           40.0   \n",
       "4  Rayon Wiyung       0.749717             30.0           16.0   \n",
       "5  Rayon Wiyung       1.175965              4.0           16.0   \n",
       "6  Rayon Wiyung       8.100000             10.0           16.0   \n",
       "7  Rayon Wiyung       0.182205             10.0           16.0   \n",
       "8  Rayon Tandes       0.205258              4.0           16.0   \n",
       "9  Rayon Tandes       0.258649             25.0           16.0   \n",
       "\n",
       "   Skor Luas Genangan  Skor Tinggi Genangan  Skor Lama Genangan  \n",
       "0               100.0                  25.0                25.0  \n",
       "1                75.0                  50.0                25.0  \n",
       "2                75.0                  50.0                 0.0  \n",
       "3                75.0                  25.0                25.0  \n",
       "4                75.0                  50.0                 0.0  \n",
       "5                75.0                   0.0                 0.0  \n",
       "6               100.0                  25.0                 0.0  \n",
       "7                50.0                  25.0                 0.0  \n",
       "8                50.0                   0.0                 0.0  \n",
       "9                50.0                  50.0                 0.0  "
      ]
     },
     "execution_count": 103,
     "metadata": {},
     "output_type": "execute_result"
    }
   ],
   "source": [
    "df.head(10)"
   ]
  },
  {
   "cell_type": "markdown",
   "id": "c665dc48",
   "metadata": {},
   "source": [
    "Missing Value"
   ]
  },
  {
   "cell_type": "code",
   "execution_count": 104,
   "id": "e1a5014b",
   "metadata": {},
   "outputs": [
    {
     "data": {
      "application/vnd.microsoft.datawrangler.viewer.v0+json": {
       "columns": [
        {
         "name": "index",
         "rawType": "int64",
         "type": "integer"
        },
        {
         "name": "_id",
         "rawType": "object",
         "type": "string"
        },
        {
         "name": "Lokasi",
         "rawType": "object",
         "type": "unknown"
        },
        {
         "name": "Kecamatan",
         "rawType": "object",
         "type": "unknown"
        },
        {
         "name": "Kelurahan",
         "rawType": "object",
         "type": "unknown"
        },
        {
         "name": "Rayon",
         "rawType": "object",
         "type": "unknown"
        },
        {
         "name": "Luas genangan",
         "rawType": "float64",
         "type": "float"
        },
        {
         "name": "Tinggi genangan",
         "rawType": "float64",
         "type": "float"
        },
        {
         "name": "Lama genangan",
         "rawType": "float64",
         "type": "float"
        },
        {
         "name": "Skor Luas Genangan",
         "rawType": "float64",
         "type": "float"
        },
        {
         "name": "Skor Tinggi Genangan",
         "rawType": "float64",
         "type": "float"
        },
        {
         "name": "Skor Lama Genangan",
         "rawType": "float64",
         "type": "float"
        }
       ],
       "ref": "ddbc6a71-161a-483e-adec-1f19057ff883",
       "rows": [
        [
         "61",
         "62,\"Kp. Simo Mulyo, Jl. Simo Mulyo\",Sukomanunggal,Simomulyo,Rayon Tandes,0.899891,9,16,75,25,0",
         null,
         null,
         null,
         null,
         null,
         null,
         null,
         null,
         null,
         null
        ],
        [
         "78",
         "79,\"Kp. Simo Mulyo, Jl. Gumuk Bogo\",Sukomanunggal,Simomulyo,Rayon Tandes,17.9,4,16,100,0,0",
         null,
         null,
         null,
         null,
         null,
         null,
         null,
         null,
         null,
         null
        ],
        [
         "79",
         "80,\"Kp. Simo Mulyo, Jl. Kali Kundang\",Sukomanunggal,Simomulyo,Rayon Tandes,17.9,10,16,100,25,0",
         null,
         null,
         null,
         null,
         null,
         null,
         null,
         null,
         null,
         null
        ],
        [
         "89",
         "90,\"Jl. Gayungan I,II dan sekitarnya\",Gayungan,Dukuh Menanggal,Rayon Jambangan,0.257308,4,40,50,0,25",
         null,
         null,
         null,
         null,
         null,
         null,
         null,
         null,
         null,
         null
        ],
        [
         "185",
         "186,\"Perempatan Jalan Dupak,Jalan Demak\",Bubutan,Gundih,Rayon Genteng,1.063949,4,48,75,0,25",
         null,
         null,
         null,
         null,
         null,
         null,
         null,
         null,
         null,
         null
        ],
        [
         "187",
         "188,\"Jalan Raya Dupak,PGS s/d Pom Bensin\",Bubutan,Gundih,Rayon Genteng,1.062551,9,48,75,25,25",
         null,
         null,
         null,
         null,
         null,
         null,
         null,
         null,
         null,
         null
        ]
       ],
       "shape": {
        "columns": 11,
        "rows": 6
       }
      },
      "text/html": [
       "<div>\n",
       "<style scoped>\n",
       "    .dataframe tbody tr th:only-of-type {\n",
       "        vertical-align: middle;\n",
       "    }\n",
       "\n",
       "    .dataframe tbody tr th {\n",
       "        vertical-align: top;\n",
       "    }\n",
       "\n",
       "    .dataframe thead th {\n",
       "        text-align: right;\n",
       "    }\n",
       "</style>\n",
       "<table border=\"1\" class=\"dataframe\">\n",
       "  <thead>\n",
       "    <tr style=\"text-align: right;\">\n",
       "      <th></th>\n",
       "      <th>_id</th>\n",
       "      <th>Lokasi</th>\n",
       "      <th>Kecamatan</th>\n",
       "      <th>Kelurahan</th>\n",
       "      <th>Rayon</th>\n",
       "      <th>Luas genangan</th>\n",
       "      <th>Tinggi genangan</th>\n",
       "      <th>Lama genangan</th>\n",
       "      <th>Skor Luas Genangan</th>\n",
       "      <th>Skor Tinggi Genangan</th>\n",
       "      <th>Skor Lama Genangan</th>\n",
       "    </tr>\n",
       "  </thead>\n",
       "  <tbody>\n",
       "    <tr>\n",
       "      <th>61</th>\n",
       "      <td>62,\"Kp. Simo Mulyo, Jl. Simo Mulyo\",Sukomanung...</td>\n",
       "      <td>NaN</td>\n",
       "      <td>NaN</td>\n",
       "      <td>NaN</td>\n",
       "      <td>NaN</td>\n",
       "      <td>NaN</td>\n",
       "      <td>NaN</td>\n",
       "      <td>NaN</td>\n",
       "      <td>NaN</td>\n",
       "      <td>NaN</td>\n",
       "      <td>NaN</td>\n",
       "    </tr>\n",
       "    <tr>\n",
       "      <th>78</th>\n",
       "      <td>79,\"Kp. Simo Mulyo, Jl. Gumuk Bogo\",Sukomanung...</td>\n",
       "      <td>NaN</td>\n",
       "      <td>NaN</td>\n",
       "      <td>NaN</td>\n",
       "      <td>NaN</td>\n",
       "      <td>NaN</td>\n",
       "      <td>NaN</td>\n",
       "      <td>NaN</td>\n",
       "      <td>NaN</td>\n",
       "      <td>NaN</td>\n",
       "      <td>NaN</td>\n",
       "    </tr>\n",
       "    <tr>\n",
       "      <th>79</th>\n",
       "      <td>80,\"Kp. Simo Mulyo, Jl. Kali Kundang\",Sukomanu...</td>\n",
       "      <td>NaN</td>\n",
       "      <td>NaN</td>\n",
       "      <td>NaN</td>\n",
       "      <td>NaN</td>\n",
       "      <td>NaN</td>\n",
       "      <td>NaN</td>\n",
       "      <td>NaN</td>\n",
       "      <td>NaN</td>\n",
       "      <td>NaN</td>\n",
       "      <td>NaN</td>\n",
       "    </tr>\n",
       "    <tr>\n",
       "      <th>89</th>\n",
       "      <td>90,\"Jl. Gayungan I,II dan sekitarnya\",Gayungan...</td>\n",
       "      <td>NaN</td>\n",
       "      <td>NaN</td>\n",
       "      <td>NaN</td>\n",
       "      <td>NaN</td>\n",
       "      <td>NaN</td>\n",
       "      <td>NaN</td>\n",
       "      <td>NaN</td>\n",
       "      <td>NaN</td>\n",
       "      <td>NaN</td>\n",
       "      <td>NaN</td>\n",
       "    </tr>\n",
       "    <tr>\n",
       "      <th>185</th>\n",
       "      <td>186,\"Perempatan Jalan Dupak,Jalan Demak\",Bubut...</td>\n",
       "      <td>NaN</td>\n",
       "      <td>NaN</td>\n",
       "      <td>NaN</td>\n",
       "      <td>NaN</td>\n",
       "      <td>NaN</td>\n",
       "      <td>NaN</td>\n",
       "      <td>NaN</td>\n",
       "      <td>NaN</td>\n",
       "      <td>NaN</td>\n",
       "      <td>NaN</td>\n",
       "    </tr>\n",
       "    <tr>\n",
       "      <th>187</th>\n",
       "      <td>188,\"Jalan Raya Dupak,PGS s/d Pom Bensin\",Bubu...</td>\n",
       "      <td>NaN</td>\n",
       "      <td>NaN</td>\n",
       "      <td>NaN</td>\n",
       "      <td>NaN</td>\n",
       "      <td>NaN</td>\n",
       "      <td>NaN</td>\n",
       "      <td>NaN</td>\n",
       "      <td>NaN</td>\n",
       "      <td>NaN</td>\n",
       "      <td>NaN</td>\n",
       "    </tr>\n",
       "  </tbody>\n",
       "</table>\n",
       "</div>"
      ],
      "text/plain": [
       "                                                   _id Lokasi Kecamatan  \\\n",
       "61   62,\"Kp. Simo Mulyo, Jl. Simo Mulyo\",Sukomanung...    NaN       NaN   \n",
       "78   79,\"Kp. Simo Mulyo, Jl. Gumuk Bogo\",Sukomanung...    NaN       NaN   \n",
       "79   80,\"Kp. Simo Mulyo, Jl. Kali Kundang\",Sukomanu...    NaN       NaN   \n",
       "89   90,\"Jl. Gayungan I,II dan sekitarnya\",Gayungan...    NaN       NaN   \n",
       "185  186,\"Perempatan Jalan Dupak,Jalan Demak\",Bubut...    NaN       NaN   \n",
       "187  188,\"Jalan Raya Dupak,PGS s/d Pom Bensin\",Bubu...    NaN       NaN   \n",
       "\n",
       "    Kelurahan Rayon  Luas genangan  Tinggi genangan  Lama genangan  \\\n",
       "61        NaN   NaN            NaN              NaN            NaN   \n",
       "78        NaN   NaN            NaN              NaN            NaN   \n",
       "79        NaN   NaN            NaN              NaN            NaN   \n",
       "89        NaN   NaN            NaN              NaN            NaN   \n",
       "185       NaN   NaN            NaN              NaN            NaN   \n",
       "187       NaN   NaN            NaN              NaN            NaN   \n",
       "\n",
       "     Skor Luas Genangan  Skor Tinggi Genangan  Skor Lama Genangan  \n",
       "61                  NaN                   NaN                 NaN  \n",
       "78                  NaN                   NaN                 NaN  \n",
       "79                  NaN                   NaN                 NaN  \n",
       "89                  NaN                   NaN                 NaN  \n",
       "185                 NaN                   NaN                 NaN  \n",
       "187                 NaN                   NaN                 NaN  "
      ]
     },
     "execution_count": 104,
     "metadata": {},
     "output_type": "execute_result"
    }
   ],
   "source": [
    "df[df.isna().any(axis=1)]"
   ]
  },
  {
   "cell_type": "code",
   "execution_count": 105,
   "id": "0e8a3f48",
   "metadata": {},
   "outputs": [
    {
     "data": {
      "application/vnd.microsoft.datawrangler.viewer.v0+json": {
       "columns": [
        {
         "name": "index",
         "rawType": "int64",
         "type": "integer"
        },
        {
         "name": "_id",
         "rawType": "object",
         "type": "string"
        },
        {
         "name": "Lokasi",
         "rawType": "object",
         "type": "unknown"
        },
        {
         "name": "Kecamatan",
         "rawType": "object",
         "type": "unknown"
        },
        {
         "name": "Kelurahan",
         "rawType": "object",
         "type": "unknown"
        },
        {
         "name": "Rayon",
         "rawType": "object",
         "type": "unknown"
        },
        {
         "name": "Luas genangan",
         "rawType": "float64",
         "type": "float"
        },
        {
         "name": "Tinggi genangan",
         "rawType": "float64",
         "type": "float"
        },
        {
         "name": "Lama genangan",
         "rawType": "float64",
         "type": "float"
        },
        {
         "name": "Skor Luas Genangan",
         "rawType": "float64",
         "type": "float"
        },
        {
         "name": "Skor Tinggi Genangan",
         "rawType": "float64",
         "type": "float"
        },
        {
         "name": "Skor Lama Genangan",
         "rawType": "float64",
         "type": "float"
        }
       ],
       "ref": "71af1ebd-3060-4afd-8f4d-8ec8fd99a5a2",
       "rows": [
        [
         "61",
         "62,\"Kp. Simo Mulyo, Jl. Simo Mulyo\",Sukomanunggal,Simomulyo,Rayon Tandes,0.899891,9,16,75,25,0",
         null,
         null,
         null,
         null,
         null,
         null,
         null,
         null,
         null,
         null
        ],
        [
         "78",
         "79,\"Kp. Simo Mulyo, Jl. Gumuk Bogo\",Sukomanunggal,Simomulyo,Rayon Tandes,17.9,4,16,100,0,0",
         null,
         null,
         null,
         null,
         null,
         null,
         null,
         null,
         null,
         null
        ],
        [
         "79",
         "80,\"Kp. Simo Mulyo, Jl. Kali Kundang\",Sukomanunggal,Simomulyo,Rayon Tandes,17.9,10,16,100,25,0",
         null,
         null,
         null,
         null,
         null,
         null,
         null,
         null,
         null,
         null
        ],
        [
         "89",
         "90,\"Jl. Gayungan I,II dan sekitarnya\",Gayungan,Dukuh Menanggal,Rayon Jambangan,0.257308,4,40,50,0,25",
         null,
         null,
         null,
         null,
         null,
         null,
         null,
         null,
         null,
         null
        ],
        [
         "185",
         "186,\"Perempatan Jalan Dupak,Jalan Demak\",Bubutan,Gundih,Rayon Genteng,1.063949,4,48,75,0,25",
         null,
         null,
         null,
         null,
         null,
         null,
         null,
         null,
         null,
         null
        ],
        [
         "187",
         "188,\"Jalan Raya Dupak,PGS s/d Pom Bensin\",Bubutan,Gundih,Rayon Genteng,1.062551,9,48,75,25,25",
         null,
         null,
         null,
         null,
         null,
         null,
         null,
         null,
         null,
         null
        ]
       ],
       "shape": {
        "columns": 11,
        "rows": 6
       }
      },
      "text/html": [
       "<div>\n",
       "<style scoped>\n",
       "    .dataframe tbody tr th:only-of-type {\n",
       "        vertical-align: middle;\n",
       "    }\n",
       "\n",
       "    .dataframe tbody tr th {\n",
       "        vertical-align: top;\n",
       "    }\n",
       "\n",
       "    .dataframe thead th {\n",
       "        text-align: right;\n",
       "    }\n",
       "</style>\n",
       "<table border=\"1\" class=\"dataframe\">\n",
       "  <thead>\n",
       "    <tr style=\"text-align: right;\">\n",
       "      <th></th>\n",
       "      <th>_id</th>\n",
       "      <th>Lokasi</th>\n",
       "      <th>Kecamatan</th>\n",
       "      <th>Kelurahan</th>\n",
       "      <th>Rayon</th>\n",
       "      <th>Luas genangan</th>\n",
       "      <th>Tinggi genangan</th>\n",
       "      <th>Lama genangan</th>\n",
       "      <th>Skor Luas Genangan</th>\n",
       "      <th>Skor Tinggi Genangan</th>\n",
       "      <th>Skor Lama Genangan</th>\n",
       "    </tr>\n",
       "  </thead>\n",
       "  <tbody>\n",
       "    <tr>\n",
       "      <th>61</th>\n",
       "      <td>62,\"Kp. Simo Mulyo, Jl. Simo Mulyo\",Sukomanung...</td>\n",
       "      <td>NaN</td>\n",
       "      <td>NaN</td>\n",
       "      <td>NaN</td>\n",
       "      <td>NaN</td>\n",
       "      <td>NaN</td>\n",
       "      <td>NaN</td>\n",
       "      <td>NaN</td>\n",
       "      <td>NaN</td>\n",
       "      <td>NaN</td>\n",
       "      <td>NaN</td>\n",
       "    </tr>\n",
       "    <tr>\n",
       "      <th>78</th>\n",
       "      <td>79,\"Kp. Simo Mulyo, Jl. Gumuk Bogo\",Sukomanung...</td>\n",
       "      <td>NaN</td>\n",
       "      <td>NaN</td>\n",
       "      <td>NaN</td>\n",
       "      <td>NaN</td>\n",
       "      <td>NaN</td>\n",
       "      <td>NaN</td>\n",
       "      <td>NaN</td>\n",
       "      <td>NaN</td>\n",
       "      <td>NaN</td>\n",
       "      <td>NaN</td>\n",
       "    </tr>\n",
       "    <tr>\n",
       "      <th>79</th>\n",
       "      <td>80,\"Kp. Simo Mulyo, Jl. Kali Kundang\",Sukomanu...</td>\n",
       "      <td>NaN</td>\n",
       "      <td>NaN</td>\n",
       "      <td>NaN</td>\n",
       "      <td>NaN</td>\n",
       "      <td>NaN</td>\n",
       "      <td>NaN</td>\n",
       "      <td>NaN</td>\n",
       "      <td>NaN</td>\n",
       "      <td>NaN</td>\n",
       "      <td>NaN</td>\n",
       "    </tr>\n",
       "    <tr>\n",
       "      <th>89</th>\n",
       "      <td>90,\"Jl. Gayungan I,II dan sekitarnya\",Gayungan...</td>\n",
       "      <td>NaN</td>\n",
       "      <td>NaN</td>\n",
       "      <td>NaN</td>\n",
       "      <td>NaN</td>\n",
       "      <td>NaN</td>\n",
       "      <td>NaN</td>\n",
       "      <td>NaN</td>\n",
       "      <td>NaN</td>\n",
       "      <td>NaN</td>\n",
       "      <td>NaN</td>\n",
       "    </tr>\n",
       "    <tr>\n",
       "      <th>185</th>\n",
       "      <td>186,\"Perempatan Jalan Dupak,Jalan Demak\",Bubut...</td>\n",
       "      <td>NaN</td>\n",
       "      <td>NaN</td>\n",
       "      <td>NaN</td>\n",
       "      <td>NaN</td>\n",
       "      <td>NaN</td>\n",
       "      <td>NaN</td>\n",
       "      <td>NaN</td>\n",
       "      <td>NaN</td>\n",
       "      <td>NaN</td>\n",
       "      <td>NaN</td>\n",
       "    </tr>\n",
       "    <tr>\n",
       "      <th>187</th>\n",
       "      <td>188,\"Jalan Raya Dupak,PGS s/d Pom Bensin\",Bubu...</td>\n",
       "      <td>NaN</td>\n",
       "      <td>NaN</td>\n",
       "      <td>NaN</td>\n",
       "      <td>NaN</td>\n",
       "      <td>NaN</td>\n",
       "      <td>NaN</td>\n",
       "      <td>NaN</td>\n",
       "      <td>NaN</td>\n",
       "      <td>NaN</td>\n",
       "      <td>NaN</td>\n",
       "    </tr>\n",
       "  </tbody>\n",
       "</table>\n",
       "</div>"
      ],
      "text/plain": [
       "                                                   _id Lokasi Kecamatan  \\\n",
       "61   62,\"Kp. Simo Mulyo, Jl. Simo Mulyo\",Sukomanung...    NaN       NaN   \n",
       "78   79,\"Kp. Simo Mulyo, Jl. Gumuk Bogo\",Sukomanung...    NaN       NaN   \n",
       "79   80,\"Kp. Simo Mulyo, Jl. Kali Kundang\",Sukomanu...    NaN       NaN   \n",
       "89   90,\"Jl. Gayungan I,II dan sekitarnya\",Gayungan...    NaN       NaN   \n",
       "185  186,\"Perempatan Jalan Dupak,Jalan Demak\",Bubut...    NaN       NaN   \n",
       "187  188,\"Jalan Raya Dupak,PGS s/d Pom Bensin\",Bubu...    NaN       NaN   \n",
       "\n",
       "    Kelurahan Rayon  Luas genangan  Tinggi genangan  Lama genangan  \\\n",
       "61        NaN   NaN            NaN              NaN            NaN   \n",
       "78        NaN   NaN            NaN              NaN            NaN   \n",
       "79        NaN   NaN            NaN              NaN            NaN   \n",
       "89        NaN   NaN            NaN              NaN            NaN   \n",
       "185       NaN   NaN            NaN              NaN            NaN   \n",
       "187       NaN   NaN            NaN              NaN            NaN   \n",
       "\n",
       "     Skor Luas Genangan  Skor Tinggi Genangan  Skor Lama Genangan  \n",
       "61                  NaN                   NaN                 NaN  \n",
       "78                  NaN                   NaN                 NaN  \n",
       "79                  NaN                   NaN                 NaN  \n",
       "89                  NaN                   NaN                 NaN  \n",
       "185                 NaN                   NaN                 NaN  \n",
       "187                 NaN                   NaN                 NaN  "
      ]
     },
     "execution_count": 105,
     "metadata": {},
     "output_type": "execute_result"
    }
   ],
   "source": [
    "df[df.isnull().any(axis=1)]"
   ]
  },
  {
   "cell_type": "code",
   "execution_count": 106,
   "id": "45bab945",
   "metadata": {},
   "outputs": [
    {
     "data": {
      "application/vnd.microsoft.datawrangler.viewer.v0+json": {
       "columns": [
        {
         "name": "index",
         "rawType": "object",
         "type": "string"
        },
        {
         "name": "0",
         "rawType": "bool",
         "type": "boolean"
        }
       ],
       "ref": "69165e69-94cc-4c7a-ad46-519da8b1a533",
       "rows": [
        [
         "_id",
         "False"
        ],
        [
         "Lokasi",
         "True"
        ],
        [
         "Kecamatan",
         "True"
        ],
        [
         "Kelurahan",
         "True"
        ],
        [
         "Rayon",
         "True"
        ],
        [
         "Luas genangan",
         "True"
        ],
        [
         "Tinggi genangan",
         "True"
        ],
        [
         "Lama genangan",
         "True"
        ],
        [
         "Skor Luas Genangan",
         "True"
        ],
        [
         "Skor Tinggi Genangan",
         "True"
        ],
        [
         "Skor Lama Genangan",
         "True"
        ]
       ],
       "shape": {
        "columns": 1,
        "rows": 11
       }
      },
      "text/plain": [
       "_id                     False\n",
       "Lokasi                   True\n",
       "Kecamatan                True\n",
       "Kelurahan                True\n",
       "Rayon                    True\n",
       "Luas genangan            True\n",
       "Tinggi genangan          True\n",
       "Lama genangan            True\n",
       "Skor Luas Genangan       True\n",
       "Skor Tinggi Genangan     True\n",
       "Skor Lama Genangan       True\n",
       "dtype: bool"
      ]
     },
     "execution_count": 106,
     "metadata": {},
     "output_type": "execute_result"
    }
   ],
   "source": [
    "df.isna().any(axis=0)"
   ]
  },
  {
   "cell_type": "code",
   "execution_count": 107,
   "id": "1b7e7e1c",
   "metadata": {},
   "outputs": [
    {
     "data": {
      "text/plain": [
       "Index(['Lokasi', 'Kecamatan', 'Kelurahan', 'Rayon', 'Luas genangan',\n",
       "       'Tinggi genangan', 'Lama genangan', 'Skor Luas Genangan',\n",
       "       'Skor Tinggi Genangan', 'Skor Lama Genangan'],\n",
       "      dtype='object')"
      ]
     },
     "execution_count": 107,
     "metadata": {},
     "output_type": "execute_result"
    }
   ],
   "source": [
    "df.columns[df.isna().any(axis=0)]"
   ]
  },
  {
   "cell_type": "code",
   "execution_count": 108,
   "id": "7b58462a",
   "metadata": {},
   "outputs": [
    {
     "data": {
      "application/vnd.microsoft.datawrangler.viewer.v0+json": {
       "columns": [
        {
         "name": "index",
         "rawType": "object",
         "type": "string"
        },
        {
         "name": "0",
         "rawType": "int64",
         "type": "integer"
        }
       ],
       "ref": "95f72387-1d97-40a3-9af2-be9684c5e5de",
       "rows": [
        [
         "_id",
         "0"
        ],
        [
         "Lokasi",
         "6"
        ],
        [
         "Kecamatan",
         "6"
        ],
        [
         "Kelurahan",
         "6"
        ],
        [
         "Rayon",
         "6"
        ],
        [
         "Luas genangan",
         "6"
        ],
        [
         "Tinggi genangan",
         "6"
        ],
        [
         "Lama genangan",
         "6"
        ],
        [
         "Skor Luas Genangan",
         "6"
        ],
        [
         "Skor Tinggi Genangan",
         "6"
        ],
        [
         "Skor Lama Genangan",
         "6"
        ]
       ],
       "shape": {
        "columns": 1,
        "rows": 11
       }
      },
      "text/plain": [
       "_id                     0\n",
       "Lokasi                  6\n",
       "Kecamatan               6\n",
       "Kelurahan               6\n",
       "Rayon                   6\n",
       "Luas genangan           6\n",
       "Tinggi genangan         6\n",
       "Lama genangan           6\n",
       "Skor Luas Genangan      6\n",
       "Skor Tinggi Genangan    6\n",
       "Skor Lama Genangan      6\n",
       "dtype: int64"
      ]
     },
     "execution_count": 108,
     "metadata": {},
     "output_type": "execute_result"
    }
   ],
   "source": [
    "df.isnull().sum()"
   ]
  },
  {
   "cell_type": "code",
   "execution_count": 109,
   "id": "43845653",
   "metadata": {},
   "outputs": [],
   "source": [
    "df.dropna(inplace=True)"
   ]
  },
  {
   "cell_type": "code",
   "execution_count": 110,
   "id": "02a4a5bb",
   "metadata": {},
   "outputs": [
    {
     "data": {
      "application/vnd.microsoft.datawrangler.viewer.v0+json": {
       "columns": [
        {
         "name": "index",
         "rawType": "object",
         "type": "string"
        },
        {
         "name": "0",
         "rawType": "int64",
         "type": "integer"
        }
       ],
       "ref": "209909ac-3fb5-4869-a864-cfb32720c85a",
       "rows": [
        [
         "_id",
         "0"
        ],
        [
         "Lokasi",
         "0"
        ],
        [
         "Kecamatan",
         "0"
        ],
        [
         "Kelurahan",
         "0"
        ],
        [
         "Rayon",
         "0"
        ],
        [
         "Luas genangan",
         "0"
        ],
        [
         "Tinggi genangan",
         "0"
        ],
        [
         "Lama genangan",
         "0"
        ],
        [
         "Skor Luas Genangan",
         "0"
        ],
        [
         "Skor Tinggi Genangan",
         "0"
        ],
        [
         "Skor Lama Genangan",
         "0"
        ]
       ],
       "shape": {
        "columns": 1,
        "rows": 11
       }
      },
      "text/plain": [
       "_id                     0\n",
       "Lokasi                  0\n",
       "Kecamatan               0\n",
       "Kelurahan               0\n",
       "Rayon                   0\n",
       "Luas genangan           0\n",
       "Tinggi genangan         0\n",
       "Lama genangan           0\n",
       "Skor Luas Genangan      0\n",
       "Skor Tinggi Genangan    0\n",
       "Skor Lama Genangan      0\n",
       "dtype: int64"
      ]
     },
     "execution_count": 110,
     "metadata": {},
     "output_type": "execute_result"
    }
   ],
   "source": [
    "df.isnull().sum()"
   ]
  },
  {
   "cell_type": "code",
   "execution_count": 111,
   "id": "7738a2ec",
   "metadata": {},
   "outputs": [
    {
     "data": {
      "application/vnd.microsoft.datawrangler.viewer.v0+json": {
       "columns": [
        {
         "name": "index",
         "rawType": "object",
         "type": "string"
        },
        {
         "name": "0",
         "rawType": "object",
         "type": "unknown"
        }
       ],
       "ref": "d65079ee-3fdd-49a7-8670-367a5802a3f5",
       "rows": [
        [
         "_id",
         "object"
        ],
        [
         "Lokasi",
         "object"
        ],
        [
         "Kecamatan",
         "object"
        ],
        [
         "Kelurahan",
         "object"
        ],
        [
         "Rayon",
         "object"
        ],
        [
         "Luas genangan",
         "float64"
        ],
        [
         "Tinggi genangan",
         "float64"
        ],
        [
         "Lama genangan",
         "float64"
        ],
        [
         "Skor Luas Genangan",
         "float64"
        ],
        [
         "Skor Tinggi Genangan",
         "float64"
        ],
        [
         "Skor Lama Genangan",
         "float64"
        ]
       ],
       "shape": {
        "columns": 1,
        "rows": 11
       }
      },
      "text/plain": [
       "_id                      object\n",
       "Lokasi                   object\n",
       "Kecamatan                object\n",
       "Kelurahan                object\n",
       "Rayon                    object\n",
       "Luas genangan           float64\n",
       "Tinggi genangan         float64\n",
       "Lama genangan           float64\n",
       "Skor Luas Genangan      float64\n",
       "Skor Tinggi Genangan    float64\n",
       "Skor Lama Genangan      float64\n",
       "dtype: object"
      ]
     },
     "execution_count": 111,
     "metadata": {},
     "output_type": "execute_result"
    }
   ],
   "source": [
    "df.dtypes"
   ]
  },
  {
   "cell_type": "code",
   "execution_count": 112,
   "id": "c9cdb00a",
   "metadata": {},
   "outputs": [
    {
     "name": "stdout",
     "output_type": "stream",
     "text": [
      "<class 'pandas.core.frame.DataFrame'>\n",
      "Index: 238 entries, 0 to 243\n",
      "Data columns (total 11 columns):\n",
      " #   Column                Non-Null Count  Dtype  \n",
      "---  ------                --------------  -----  \n",
      " 0   _id                   238 non-null    object \n",
      " 1   Lokasi                238 non-null    object \n",
      " 2   Kecamatan             238 non-null    object \n",
      " 3   Kelurahan             238 non-null    object \n",
      " 4   Rayon                 238 non-null    object \n",
      " 5   Luas genangan         238 non-null    float64\n",
      " 6   Tinggi genangan       238 non-null    float64\n",
      " 7   Lama genangan         238 non-null    float64\n",
      " 8   Skor Luas Genangan    238 non-null    float64\n",
      " 9   Skor Tinggi Genangan  238 non-null    float64\n",
      " 10  Skor Lama Genangan    238 non-null    float64\n",
      "dtypes: float64(6), object(5)\n",
      "memory usage: 22.3+ KB\n"
     ]
    }
   ],
   "source": [
    "df.info()"
   ]
  },
  {
   "cell_type": "code",
   "execution_count": 113,
   "id": "c8f74811",
   "metadata": {},
   "outputs": [
    {
     "data": {
      "text/plain": [
       "(238, 11)"
      ]
     },
     "execution_count": 113,
     "metadata": {},
     "output_type": "execute_result"
    }
   ],
   "source": [
    "df.shape"
   ]
  },
  {
   "cell_type": "code",
   "execution_count": 114,
   "id": "73bb8bc0",
   "metadata": {},
   "outputs": [
    {
     "data": {
      "application/vnd.microsoft.datawrangler.viewer.v0+json": {
       "columns": [
        {
         "name": "index",
         "rawType": "object",
         "type": "string"
        },
        {
         "name": "Luas genangan",
         "rawType": "float64",
         "type": "float"
        },
        {
         "name": "Tinggi genangan",
         "rawType": "float64",
         "type": "float"
        },
        {
         "name": "Lama genangan",
         "rawType": "float64",
         "type": "float"
        },
        {
         "name": "Skor Luas Genangan",
         "rawType": "float64",
         "type": "float"
        },
        {
         "name": "Skor Tinggi Genangan",
         "rawType": "float64",
         "type": "float"
        },
        {
         "name": "Skor Lama Genangan",
         "rawType": "float64",
         "type": "float"
        }
       ],
       "ref": "0be8d842-02e2-4479-8c0b-965e89b3870e",
       "rows": [
        [
         "count",
         "238.0",
         "238.0",
         "238.0",
         "238.0",
         "238.0",
         "238.0"
        ],
        [
         "mean",
         "1.7373188949579832",
         "11.029411764705882",
         "21.823529411764707",
         "67.01680672268908",
         "25.105042016806724",
         "7.03781512605042"
        ],
        [
         "std",
         "3.485018175471771",
         "7.190826938369643",
         "16.512441062833854",
         "18.3532993818216",
         "18.15572278455063",
         "12.593391151370458"
        ],
        [
         "min",
         "0.131661",
         "3.0",
         "3.0",
         "50.0",
         "0.0",
         "0.0"
        ],
        [
         "25%",
         "0.3247745",
         "4.0",
         "15.0",
         "50.0",
         "0.0",
         "0.0"
        ],
        [
         "50%",
         "0.512739",
         "9.0",
         "16.0",
         "75.0",
         "25.0",
         "0.0"
        ],
        [
         "75%",
         "0.9249945",
         "14.0",
         "31.0",
         "75.0",
         "50.0",
         "25.0"
        ],
        [
         "max",
         "19.98",
         "50.0",
         "90.0",
         "100.0",
         "75.0",
         "50.0"
        ]
       ],
       "shape": {
        "columns": 6,
        "rows": 8
       }
      },
      "text/html": [
       "<div>\n",
       "<style scoped>\n",
       "    .dataframe tbody tr th:only-of-type {\n",
       "        vertical-align: middle;\n",
       "    }\n",
       "\n",
       "    .dataframe tbody tr th {\n",
       "        vertical-align: top;\n",
       "    }\n",
       "\n",
       "    .dataframe thead th {\n",
       "        text-align: right;\n",
       "    }\n",
       "</style>\n",
       "<table border=\"1\" class=\"dataframe\">\n",
       "  <thead>\n",
       "    <tr style=\"text-align: right;\">\n",
       "      <th></th>\n",
       "      <th>Luas genangan</th>\n",
       "      <th>Tinggi genangan</th>\n",
       "      <th>Lama genangan</th>\n",
       "      <th>Skor Luas Genangan</th>\n",
       "      <th>Skor Tinggi Genangan</th>\n",
       "      <th>Skor Lama Genangan</th>\n",
       "    </tr>\n",
       "  </thead>\n",
       "  <tbody>\n",
       "    <tr>\n",
       "      <th>count</th>\n",
       "      <td>238.000000</td>\n",
       "      <td>238.000000</td>\n",
       "      <td>238.000000</td>\n",
       "      <td>238.000000</td>\n",
       "      <td>238.000000</td>\n",
       "      <td>238.000000</td>\n",
       "    </tr>\n",
       "    <tr>\n",
       "      <th>mean</th>\n",
       "      <td>1.737319</td>\n",
       "      <td>11.029412</td>\n",
       "      <td>21.823529</td>\n",
       "      <td>67.016807</td>\n",
       "      <td>25.105042</td>\n",
       "      <td>7.037815</td>\n",
       "    </tr>\n",
       "    <tr>\n",
       "      <th>std</th>\n",
       "      <td>3.485018</td>\n",
       "      <td>7.190827</td>\n",
       "      <td>16.512441</td>\n",
       "      <td>18.353299</td>\n",
       "      <td>18.155723</td>\n",
       "      <td>12.593391</td>\n",
       "    </tr>\n",
       "    <tr>\n",
       "      <th>min</th>\n",
       "      <td>0.131661</td>\n",
       "      <td>3.000000</td>\n",
       "      <td>3.000000</td>\n",
       "      <td>50.000000</td>\n",
       "      <td>0.000000</td>\n",
       "      <td>0.000000</td>\n",
       "    </tr>\n",
       "    <tr>\n",
       "      <th>25%</th>\n",
       "      <td>0.324775</td>\n",
       "      <td>4.000000</td>\n",
       "      <td>15.000000</td>\n",
       "      <td>50.000000</td>\n",
       "      <td>0.000000</td>\n",
       "      <td>0.000000</td>\n",
       "    </tr>\n",
       "    <tr>\n",
       "      <th>50%</th>\n",
       "      <td>0.512739</td>\n",
       "      <td>9.000000</td>\n",
       "      <td>16.000000</td>\n",
       "      <td>75.000000</td>\n",
       "      <td>25.000000</td>\n",
       "      <td>0.000000</td>\n",
       "    </tr>\n",
       "    <tr>\n",
       "      <th>75%</th>\n",
       "      <td>0.924995</td>\n",
       "      <td>14.000000</td>\n",
       "      <td>31.000000</td>\n",
       "      <td>75.000000</td>\n",
       "      <td>50.000000</td>\n",
       "      <td>25.000000</td>\n",
       "    </tr>\n",
       "    <tr>\n",
       "      <th>max</th>\n",
       "      <td>19.980000</td>\n",
       "      <td>50.000000</td>\n",
       "      <td>90.000000</td>\n",
       "      <td>100.000000</td>\n",
       "      <td>75.000000</td>\n",
       "      <td>50.000000</td>\n",
       "    </tr>\n",
       "  </tbody>\n",
       "</table>\n",
       "</div>"
      ],
      "text/plain": [
       "       Luas genangan  Tinggi genangan  Lama genangan  Skor Luas Genangan  \\\n",
       "count     238.000000       238.000000     238.000000          238.000000   \n",
       "mean        1.737319        11.029412      21.823529           67.016807   \n",
       "std         3.485018         7.190827      16.512441           18.353299   \n",
       "min         0.131661         3.000000       3.000000           50.000000   \n",
       "25%         0.324775         4.000000      15.000000           50.000000   \n",
       "50%         0.512739         9.000000      16.000000           75.000000   \n",
       "75%         0.924995        14.000000      31.000000           75.000000   \n",
       "max        19.980000        50.000000      90.000000          100.000000   \n",
       "\n",
       "       Skor Tinggi Genangan  Skor Lama Genangan  \n",
       "count            238.000000          238.000000  \n",
       "mean              25.105042            7.037815  \n",
       "std               18.155723           12.593391  \n",
       "min                0.000000            0.000000  \n",
       "25%                0.000000            0.000000  \n",
       "50%               25.000000            0.000000  \n",
       "75%               50.000000           25.000000  \n",
       "max               75.000000           50.000000  "
      ]
     },
     "execution_count": 114,
     "metadata": {},
     "output_type": "execute_result"
    }
   ],
   "source": [
    "df.describe()"
   ]
  },
  {
   "cell_type": "code",
   "execution_count": 115,
   "id": "09036e85",
   "metadata": {},
   "outputs": [
    {
     "data": {
      "application/vnd.microsoft.datawrangler.viewer.v0+json": {
       "columns": [
        {
         "name": "index",
         "rawType": "int64",
         "type": "integer"
        },
        {
         "name": "Luas genangan",
         "rawType": "float64",
         "type": "float"
        },
        {
         "name": "Tinggi genangan",
         "rawType": "float64",
         "type": "float"
        },
        {
         "name": "Lama genangan",
         "rawType": "float64",
         "type": "float"
        },
        {
         "name": "Skor Luas Genangan",
         "rawType": "float64",
         "type": "float"
        },
        {
         "name": "Skor Tinggi Genangan",
         "rawType": "float64",
         "type": "float"
        },
        {
         "name": "Skor Lama Genangan",
         "rawType": "float64",
         "type": "float"
        }
       ],
       "ref": "f597db02-752a-4010-ad57-9f142aa75f6a",
       "rows": [
        [
         "0",
         "10.8",
         "10.0",
         "40.0",
         "100.0",
         "25.0",
         "25.0"
        ],
        [
         "1",
         "0.816236",
         "25.0",
         "58.0",
         "75.0",
         "50.0",
         "25.0"
        ],
        [
         "2",
         "0.509047",
         "15.0",
         "16.0",
         "75.0",
         "50.0",
         "0.0"
        ],
        [
         "3",
         "0.785111",
         "10.0",
         "40.0",
         "75.0",
         "25.0",
         "25.0"
        ],
        [
         "4",
         "0.749717",
         "30.0",
         "16.0",
         "75.0",
         "50.0",
         "0.0"
        ],
        [
         "5",
         "1.175965",
         "4.0",
         "16.0",
         "75.0",
         "0.0",
         "0.0"
        ],
        [
         "6",
         "8.1",
         "10.0",
         "16.0",
         "100.0",
         "25.0",
         "0.0"
        ],
        [
         "7",
         "0.182205",
         "10.0",
         "16.0",
         "50.0",
         "25.0",
         "0.0"
        ],
        [
         "8",
         "0.205258",
         "4.0",
         "16.0",
         "50.0",
         "0.0",
         "0.0"
        ],
        [
         "9",
         "0.258649",
         "25.0",
         "16.0",
         "50.0",
         "50.0",
         "0.0"
        ],
        [
         "10",
         "0.22065",
         "25.0",
         "16.0",
         "50.0",
         "50.0",
         "0.0"
        ],
        [
         "11",
         "0.1855",
         "25.0",
         "16.0",
         "50.0",
         "50.0",
         "0.0"
        ],
        [
         "12",
         "0.394008",
         "15.0",
         "40.0",
         "50.0",
         "50.0",
         "25.0"
        ],
        [
         "13",
         "1.120918",
         "10.0",
         "40.0",
         "75.0",
         "25.0",
         "25.0"
        ],
        [
         "14",
         "0.546206",
         "50.0",
         "80.0",
         "75.0",
         "75.0",
         "50.0"
        ],
        [
         "15",
         "0.69076",
         "30.0",
         "50.0",
         "75.0",
         "50.0",
         "25.0"
        ],
        [
         "16",
         "0.224743",
         "25.0",
         "40.0",
         "50.0",
         "50.0",
         "25.0"
        ],
        [
         "17",
         "10.0",
         "10.0",
         "31.0",
         "100.0",
         "25.0",
         "25.0"
        ],
        [
         "18",
         "0.166687",
         "10.0",
         "16.0",
         "50.0",
         "25.0",
         "0.0"
        ],
        [
         "19",
         "0.308184",
         "10.0",
         "40.0",
         "50.0",
         "25.0",
         "25.0"
        ],
        [
         "20",
         "0.488274",
         "15.0",
         "16.0",
         "50.0",
         "50.0",
         "0.0"
        ],
        [
         "21",
         "9.6",
         "25.0",
         "16.0",
         "100.0",
         "50.0",
         "0.0"
        ],
        [
         "22",
         "0.36091",
         "25.0",
         "31.0",
         "50.0",
         "50.0",
         "25.0"
        ],
        [
         "23",
         "0.212653",
         "25.0",
         "16.0",
         "50.0",
         "50.0",
         "0.0"
        ],
        [
         "24",
         "0.413372",
         "25.0",
         "16.0",
         "50.0",
         "50.0",
         "0.0"
        ],
        [
         "25",
         "0.13233",
         "30.0",
         "16.0",
         "50.0",
         "50.0",
         "0.0"
        ],
        [
         "26",
         "0.762466",
         "4.0",
         "16.0",
         "75.0",
         "0.0",
         "0.0"
        ],
        [
         "27",
         "1.018027",
         "4.0",
         "16.0",
         "75.0",
         "0.0",
         "0.0"
        ],
        [
         "28",
         "0.156225",
         "9.0",
         "16.0",
         "50.0",
         "25.0",
         "0.0"
        ],
        [
         "29",
         "0.237901",
         "10.0",
         "16.0",
         "50.0",
         "25.0",
         "0.0"
        ],
        [
         "30",
         "0.315189",
         "10.0",
         "16.0",
         "50.0",
         "25.0",
         "0.0"
        ],
        [
         "31",
         "2.909585",
         "25.0",
         "16.0",
         "100.0",
         "50.0",
         "0.0"
        ],
        [
         "32",
         "0.612675",
         "15.0",
         "16.0",
         "75.0",
         "50.0",
         "0.0"
        ],
        [
         "33",
         "0.232645",
         "4.0",
         "5.0",
         "50.0",
         "0.0",
         "0.0"
        ],
        [
         "34",
         "0.927409",
         "9.0",
         "16.0",
         "75.0",
         "25.0",
         "0.0"
        ],
        [
         "35",
         "0.76946",
         "9.0",
         "16.0",
         "75.0",
         "25.0",
         "0.0"
        ],
        [
         "36",
         "1.959712",
         "4.0",
         "16.0",
         "100.0",
         "0.0",
         "0.0"
        ],
        [
         "37",
         "0.761763",
         "15.0",
         "16.0",
         "75.0",
         "50.0",
         "0.0"
        ],
        [
         "38",
         "0.226172",
         "9.0",
         "40.0",
         "50.0",
         "25.0",
         "25.0"
        ],
        [
         "39",
         "1.622856",
         "10.0",
         "31.0",
         "100.0",
         "25.0",
         "25.0"
        ],
        [
         "40",
         "0.971342",
         "25.0",
         "31.0",
         "75.0",
         "50.0",
         "25.0"
        ],
        [
         "41",
         "0.860051",
         "10.0",
         "16.0",
         "75.0",
         "25.0",
         "0.0"
        ],
        [
         "42",
         "1.539918",
         "9.0",
         "16.0",
         "100.0",
         "25.0",
         "0.0"
        ],
        [
         "43",
         "1.17728",
         "15.0",
         "16.0",
         "75.0",
         "50.0",
         "0.0"
        ],
        [
         "44",
         "0.770196",
         "15.0",
         "16.0",
         "75.0",
         "50.0",
         "0.0"
        ],
        [
         "45",
         "0.472986",
         "15.0",
         "16.0",
         "50.0",
         "50.0",
         "0.0"
        ],
        [
         "46",
         "0.494582",
         "25.0",
         "31.0",
         "50.0",
         "50.0",
         "25.0"
        ],
        [
         "47",
         "0.555119",
         "25.0",
         "31.0",
         "75.0",
         "50.0",
         "25.0"
        ],
        [
         "48",
         "0.629668",
         "25.0",
         "16.0",
         "75.0",
         "50.0",
         "0.0"
        ],
        [
         "49",
         "0.152239",
         "4.0",
         "16.0",
         "50.0",
         "0.0",
         "0.0"
        ]
       ],
       "shape": {
        "columns": 6,
        "rows": 238
       }
      },
      "text/html": [
       "<div>\n",
       "<style scoped>\n",
       "    .dataframe tbody tr th:only-of-type {\n",
       "        vertical-align: middle;\n",
       "    }\n",
       "\n",
       "    .dataframe tbody tr th {\n",
       "        vertical-align: top;\n",
       "    }\n",
       "\n",
       "    .dataframe thead th {\n",
       "        text-align: right;\n",
       "    }\n",
       "</style>\n",
       "<table border=\"1\" class=\"dataframe\">\n",
       "  <thead>\n",
       "    <tr style=\"text-align: right;\">\n",
       "      <th></th>\n",
       "      <th>Luas genangan</th>\n",
       "      <th>Tinggi genangan</th>\n",
       "      <th>Lama genangan</th>\n",
       "      <th>Skor Luas Genangan</th>\n",
       "      <th>Skor Tinggi Genangan</th>\n",
       "      <th>Skor Lama Genangan</th>\n",
       "    </tr>\n",
       "  </thead>\n",
       "  <tbody>\n",
       "    <tr>\n",
       "      <th>0</th>\n",
       "      <td>10.800000</td>\n",
       "      <td>10.0</td>\n",
       "      <td>40.0</td>\n",
       "      <td>100.0</td>\n",
       "      <td>25.0</td>\n",
       "      <td>25.0</td>\n",
       "    </tr>\n",
       "    <tr>\n",
       "      <th>1</th>\n",
       "      <td>0.816236</td>\n",
       "      <td>25.0</td>\n",
       "      <td>58.0</td>\n",
       "      <td>75.0</td>\n",
       "      <td>50.0</td>\n",
       "      <td>25.0</td>\n",
       "    </tr>\n",
       "    <tr>\n",
       "      <th>2</th>\n",
       "      <td>0.509047</td>\n",
       "      <td>15.0</td>\n",
       "      <td>16.0</td>\n",
       "      <td>75.0</td>\n",
       "      <td>50.0</td>\n",
       "      <td>0.0</td>\n",
       "    </tr>\n",
       "    <tr>\n",
       "      <th>3</th>\n",
       "      <td>0.785111</td>\n",
       "      <td>10.0</td>\n",
       "      <td>40.0</td>\n",
       "      <td>75.0</td>\n",
       "      <td>25.0</td>\n",
       "      <td>25.0</td>\n",
       "    </tr>\n",
       "    <tr>\n",
       "      <th>4</th>\n",
       "      <td>0.749717</td>\n",
       "      <td>30.0</td>\n",
       "      <td>16.0</td>\n",
       "      <td>75.0</td>\n",
       "      <td>50.0</td>\n",
       "      <td>0.0</td>\n",
       "    </tr>\n",
       "    <tr>\n",
       "      <th>...</th>\n",
       "      <td>...</td>\n",
       "      <td>...</td>\n",
       "      <td>...</td>\n",
       "      <td>...</td>\n",
       "      <td>...</td>\n",
       "      <td>...</td>\n",
       "    </tr>\n",
       "    <tr>\n",
       "      <th>239</th>\n",
       "      <td>0.334177</td>\n",
       "      <td>9.0</td>\n",
       "      <td>3.0</td>\n",
       "      <td>50.0</td>\n",
       "      <td>25.0</td>\n",
       "      <td>0.0</td>\n",
       "    </tr>\n",
       "    <tr>\n",
       "      <th>240</th>\n",
       "      <td>0.851371</td>\n",
       "      <td>9.0</td>\n",
       "      <td>3.0</td>\n",
       "      <td>75.0</td>\n",
       "      <td>25.0</td>\n",
       "      <td>0.0</td>\n",
       "    </tr>\n",
       "    <tr>\n",
       "      <th>241</th>\n",
       "      <td>19.980000</td>\n",
       "      <td>9.0</td>\n",
       "      <td>15.0</td>\n",
       "      <td>100.0</td>\n",
       "      <td>25.0</td>\n",
       "      <td>0.0</td>\n",
       "    </tr>\n",
       "    <tr>\n",
       "      <th>242</th>\n",
       "      <td>15.830000</td>\n",
       "      <td>9.0</td>\n",
       "      <td>20.0</td>\n",
       "      <td>100.0</td>\n",
       "      <td>25.0</td>\n",
       "      <td>0.0</td>\n",
       "    </tr>\n",
       "    <tr>\n",
       "      <th>243</th>\n",
       "      <td>16.410000</td>\n",
       "      <td>4.0</td>\n",
       "      <td>15.0</td>\n",
       "      <td>100.0</td>\n",
       "      <td>0.0</td>\n",
       "      <td>0.0</td>\n",
       "    </tr>\n",
       "  </tbody>\n",
       "</table>\n",
       "<p>238 rows × 6 columns</p>\n",
       "</div>"
      ],
      "text/plain": [
       "     Luas genangan  Tinggi genangan  Lama genangan  Skor Luas Genangan  \\\n",
       "0        10.800000             10.0           40.0               100.0   \n",
       "1         0.816236             25.0           58.0                75.0   \n",
       "2         0.509047             15.0           16.0                75.0   \n",
       "3         0.785111             10.0           40.0                75.0   \n",
       "4         0.749717             30.0           16.0                75.0   \n",
       "..             ...              ...            ...                 ...   \n",
       "239       0.334177              9.0            3.0                50.0   \n",
       "240       0.851371              9.0            3.0                75.0   \n",
       "241      19.980000              9.0           15.0               100.0   \n",
       "242      15.830000              9.0           20.0               100.0   \n",
       "243      16.410000              4.0           15.0               100.0   \n",
       "\n",
       "     Skor Tinggi Genangan  Skor Lama Genangan  \n",
       "0                    25.0                25.0  \n",
       "1                    50.0                25.0  \n",
       "2                    50.0                 0.0  \n",
       "3                    25.0                25.0  \n",
       "4                    50.0                 0.0  \n",
       "..                    ...                 ...  \n",
       "239                  25.0                 0.0  \n",
       "240                  25.0                 0.0  \n",
       "241                  25.0                 0.0  \n",
       "242                  25.0                 0.0  \n",
       "243                   0.0                 0.0  \n",
       "\n",
       "[238 rows x 6 columns]"
      ]
     },
     "execution_count": 115,
     "metadata": {},
     "output_type": "execute_result"
    }
   ],
   "source": [
    "df_num = df.select_dtypes(include='number')\n",
    "df_num"
   ]
  },
  {
   "cell_type": "code",
   "execution_count": 116,
   "id": "b09a34cc",
   "metadata": {},
   "outputs": [
    {
     "data": {
      "application/vnd.microsoft.datawrangler.viewer.v0+json": {
       "columns": [
        {
         "name": "index",
         "rawType": "int64",
         "type": "integer"
        },
        {
         "name": "_id",
         "rawType": "object",
         "type": "string"
        },
        {
         "name": "Lokasi",
         "rawType": "object",
         "type": "string"
        },
        {
         "name": "Kecamatan",
         "rawType": "object",
         "type": "string"
        },
        {
         "name": "Kelurahan",
         "rawType": "object",
         "type": "string"
        },
        {
         "name": "Rayon",
         "rawType": "object",
         "type": "string"
        }
       ],
       "ref": "a92de67d-6601-46ff-8a63-822afb533ef5",
       "rows": [
        [
         "0",
         "1",
         "Jl. Pakis Agosari (Yamaha)",
         "Dukuh Pakis",
         "Dukuh Pakis",
         "Rayon Wiyung"
        ],
        [
         "1",
         "2",
         "Jl. Mayjend Sungkono - Darmo Park I",
         "Dukuh Pakis",
         "Dukuh Pakis",
         "Rayon Wiyung"
        ],
        [
         "2",
         "3",
         "Jl. Mayjend Sungkono (Pom Bensin)",
         "Dukuh Pakis",
         "Dukuh Pakis",
         "Rayon Wiyung"
        ],
        [
         "3",
         "4",
         "Kp. Kebraon",
         "Karangpilang",
         "Warugunung",
         "Rayon Wiyung"
        ],
        [
         "4",
         "5",
         "Jl. Lakar Santri RW.001",
         "Lakarsantri",
         "Bangkingan",
         "Rayon Wiyung"
        ],
        [
         "5",
         "6",
         "Lontar Lidah Kulon",
         "Lakarsantri",
         "Lidah Kulon",
         "Rayon Wiyung"
        ],
        [
         "6",
         "7",
         "Jl. Babatan Indah",
         "Wiyung",
         "Babatan",
         "Rayon Wiyung"
        ],
        [
         "7",
         "8",
         "Perumahan Lembah Harapan",
         "Lakarsantri",
         "Lidah Wetan",
         "Rayon Wiyung"
        ],
        [
         "8",
         "9",
         "Jl. Simo Hilir",
         "Sukomanunggal",
         "Simomulyo",
         "Rayon Tandes"
        ],
        [
         "9",
         "10",
         "Jl. Kupang Baru",
         "Dukuh Pakis",
         "Dukuh Kupang",
         "Rayon Tandes"
        ],
        [
         "10",
         "11",
         "Kp. Babatan dan sekitarnya",
         "Wiyung",
         "Babatan",
         "Rayon Wiyung"
        ],
        [
         "11",
         "12",
         "Jl. Wiyung (Gg. DPR)",
         "Wiyung",
         "Wiyung",
         "Rayon Wiyung"
        ],
        [
         "12",
         "13",
         "Jl. Hayam Wuruk",
         "Wonokromo",
         "Sawunggaling",
         "Rayon Wiyung"
        ],
        [
         "13",
         "14",
         "Jl. Adityawarman",
         "Wonokromo",
         "Wonokromo",
         "Rayon Wiyung"
        ],
        [
         "14",
         "15",
         "Jl. Jajar Tunggal",
         "Wiyung",
         "Jajar Tunggal",
         "Rayon Wiyung"
        ],
        [
         "15",
         "16",
         "Jl. H. Abdul Wahab Siamin",
         "Dukuh Pakis",
         "Dukuh Pakis",
         "Rayon Wiyung"
        ],
        [
         "16",
         "17",
         "Jl. Gajah Mada",
         "Wonokromo",
         "Sawunggaling",
         "Rayon Wiyung"
        ],
        [
         "17",
         "18",
         "Jl. Simo Rejo",
         "Sukomanunggal",
         "Simomulyo",
         "Rayon Tandes"
        ],
        [
         "18",
         "19",
         "Jl. Simo Langit",
         "Sukomanunggal",
         "Simomulyo",
         "Rayon Tandes"
        ],
        [
         "19",
         "20",
         "Jl. Dukuh Menanggal",
         "Gayungan",
         "Dukuh Menanggal",
         "Rayon Jambangan"
        ],
        [
         "20",
         "21",
         "Jl. Bangkingan",
         "Lakarsantri",
         "Bangkingan",
         "Rayon Wiyung"
        ],
        [
         "21",
         "22",
         "Jl. Lakarsantri (Jembatan Perbatasan)",
         "Lakarsantri",
         "Bangkingan",
         "Rayon Wiyung"
        ],
        [
         "22",
         "23",
         "Jl. Dukuh Pakis",
         "Dukuh Pakis",
         "Dukuh Pakis",
         "Rayon Wiyung"
        ],
        [
         "23",
         "24",
         "Jl. Waru Gunung (Kedawung)",
         "Karangpilang",
         "Warugunung",
         "Rayon Wiyung"
        ],
        [
         "24",
         "25",
         "Jl. Waru Gunung (Rusun)",
         "Karangpilang",
         "Warugunung",
         "Rayon Wiyung"
        ],
        [
         "25",
         "26",
         "Kp. Lidah Kulon RW.005",
         "Lakarsantri",
         "Lidah Kulon",
         "Rayon Wiyung"
        ],
        [
         "26",
         "27",
         "Jl. Raya Simo Jawar",
         "Sukomanunggal",
         "Simomulyo",
         "Rayon Tandes"
        ],
        [
         "27",
         "28",
         "Jl. Suko Manunggal s/d Simo Jawar",
         "Sukomanunggal",
         "Simomulyo",
         "Rayon Tandes"
        ],
        [
         "28",
         "29",
         "Jl. Pattimura",
         "Sukomanunggal",
         "Sono Kwijenan",
         "Rayon Tandes"
        ],
        [
         "29",
         "30",
         "Jl. Satelit Selatan",
         "Sukomanunggal",
         "Tanjungsari",
         "Rayon Tandes"
        ],
        [
         "30",
         "31",
         "Jl. Satelit Indah",
         "Sukomanunggal",
         "Tanjungsari",
         "Rayon Tandes"
        ],
        [
         "31",
         "32",
         "Jl. Darmo Indah Timur (Darmo Harapan)",
         "Sukomanunggal",
         "Tanjungsari",
         "Rayon Tandes"
        ],
        [
         "32",
         "33",
         "Kp. Kandangan",
         "Benowo",
         "Kandangan",
         "Rayon Tandes"
        ],
        [
         "33",
         "34",
         "Jl. Samudera",
         "Pabean Cantikan",
         "Bongkaran",
         "Rayon Gubeng"
        ],
        [
         "34",
         "35",
         "Kp. Balongsari",
         "Tandes",
         "Balongsari",
         "Rayon Tandes"
        ],
        [
         "35",
         "36",
         "Kp. Manukan Kulon",
         "Tandes",
         "Manukan Kulon",
         "Rayon Tandes"
        ],
        [
         "36",
         "37",
         "Jl. Margomulyo (Bawah Jalan Tol))",
         "Tandes",
         "Tandes",
         "Rayon Tandes"
        ],
        [
         "37",
         "38",
         "Jl. Darmo Permai Timur",
         "Dukuh Pakis",
         "Pradah Kali Kendal",
         "Rayon Tandes"
        ],
        [
         "38",
         "39",
         "Gayungsari",
         "Gayungan",
         "Dukuh Menanggal",
         "Rayon Jambangan"
        ],
        [
         "39",
         "40",
         "Jl. Tambak Mayor",
         "Asemrowo",
         "Asemrowo",
         "Rayon Tandes"
        ],
        [
         "40",
         "41",
         "Kp. Dukuh Langkir Babat Jerawat",
         "Benowo",
         "Babat Jerawat",
         "Rayon Tandes"
        ],
        [
         "41",
         "42",
         "Wisma Tengger",
         "Benowo",
         "Kandangan",
         "Rayon Tandes"
        ],
        [
         "42",
         "43",
         "Kp. Babat Jerawat",
         "Benowo",
         "Babat Jerawat",
         "Rayon Tandes"
        ],
        [
         "43",
         "44",
         "Kp. Benowo",
         "Benowo",
         "Benowo",
         "Rayon Tandes"
        ],
        [
         "44",
         "45",
         "Jl. Simpang Darmo Permai",
         "Dukuh Pakis",
         "Pradah Kali Kendal",
         "Rayon Tandes"
        ],
        [
         "45",
         "46",
         "Jl. Raya Sawo",
         "Sambikerep",
         "Bringin",
         "Rayon Tandes"
        ],
        [
         "46",
         "47",
         "Jl. Raya Bringin Indah",
         "Sambikerep",
         "Bringin",
         "Rayon Tandes"
        ],
        [
         "47",
         "48",
         "Kp.Candi Lempung",
         "Sambikerep",
         "Lontar",
         "Rayon Tandes"
        ],
        [
         "48",
         "49",
         "Kp. Simo Gunung",
         "Sawahan",
         "Banyuurip",
         "Rayon Tandes"
        ],
        [
         "49",
         "50",
         "Jl. Simo Rukun VIII",
         "Sukomanunggal",
         "Simomulyo",
         "Rayon Tandes"
        ]
       ],
       "shape": {
        "columns": 5,
        "rows": 238
       }
      },
      "text/html": [
       "<div>\n",
       "<style scoped>\n",
       "    .dataframe tbody tr th:only-of-type {\n",
       "        vertical-align: middle;\n",
       "    }\n",
       "\n",
       "    .dataframe tbody tr th {\n",
       "        vertical-align: top;\n",
       "    }\n",
       "\n",
       "    .dataframe thead th {\n",
       "        text-align: right;\n",
       "    }\n",
       "</style>\n",
       "<table border=\"1\" class=\"dataframe\">\n",
       "  <thead>\n",
       "    <tr style=\"text-align: right;\">\n",
       "      <th></th>\n",
       "      <th>_id</th>\n",
       "      <th>Lokasi</th>\n",
       "      <th>Kecamatan</th>\n",
       "      <th>Kelurahan</th>\n",
       "      <th>Rayon</th>\n",
       "    </tr>\n",
       "  </thead>\n",
       "  <tbody>\n",
       "    <tr>\n",
       "      <th>0</th>\n",
       "      <td>1</td>\n",
       "      <td>Jl. Pakis Agosari (Yamaha)</td>\n",
       "      <td>Dukuh Pakis</td>\n",
       "      <td>Dukuh Pakis</td>\n",
       "      <td>Rayon Wiyung</td>\n",
       "    </tr>\n",
       "    <tr>\n",
       "      <th>1</th>\n",
       "      <td>2</td>\n",
       "      <td>Jl. Mayjend Sungkono - Darmo Park I</td>\n",
       "      <td>Dukuh Pakis</td>\n",
       "      <td>Dukuh Pakis</td>\n",
       "      <td>Rayon Wiyung</td>\n",
       "    </tr>\n",
       "    <tr>\n",
       "      <th>2</th>\n",
       "      <td>3</td>\n",
       "      <td>Jl. Mayjend Sungkono (Pom Bensin)</td>\n",
       "      <td>Dukuh Pakis</td>\n",
       "      <td>Dukuh Pakis</td>\n",
       "      <td>Rayon Wiyung</td>\n",
       "    </tr>\n",
       "    <tr>\n",
       "      <th>3</th>\n",
       "      <td>4</td>\n",
       "      <td>Kp. Kebraon</td>\n",
       "      <td>Karangpilang</td>\n",
       "      <td>Warugunung</td>\n",
       "      <td>Rayon Wiyung</td>\n",
       "    </tr>\n",
       "    <tr>\n",
       "      <th>4</th>\n",
       "      <td>5</td>\n",
       "      <td>Jl. Lakar Santri RW.001</td>\n",
       "      <td>Lakarsantri</td>\n",
       "      <td>Bangkingan</td>\n",
       "      <td>Rayon Wiyung</td>\n",
       "    </tr>\n",
       "    <tr>\n",
       "      <th>...</th>\n",
       "      <td>...</td>\n",
       "      <td>...</td>\n",
       "      <td>...</td>\n",
       "      <td>...</td>\n",
       "      <td>...</td>\n",
       "    </tr>\n",
       "    <tr>\n",
       "      <th>239</th>\n",
       "      <td>240</td>\n",
       "      <td>Jl. Kanwa</td>\n",
       "      <td>WONOKROMO</td>\n",
       "      <td>DARMO</td>\n",
       "      <td>Rayon Genteng</td>\n",
       "    </tr>\n",
       "    <tr>\n",
       "      <th>240</th>\n",
       "      <td>241</td>\n",
       "      <td>Per. Rungkut Harapan</td>\n",
       "      <td>Rungkut</td>\n",
       "      <td>Rungkut Kidul</td>\n",
       "      <td>Rayon Jambangan</td>\n",
       "    </tr>\n",
       "    <tr>\n",
       "      <th>241</th>\n",
       "      <td>242</td>\n",
       "      <td>TANJUNGSARI I</td>\n",
       "      <td>SUKOMANUNGGAL</td>\n",
       "      <td>TANJUNGSARI</td>\n",
       "      <td>Rayon Tandes</td>\n",
       "    </tr>\n",
       "    <tr>\n",
       "      <th>242</th>\n",
       "      <td>243</td>\n",
       "      <td>Jl. Karangrejo</td>\n",
       "      <td>Wonokromo</td>\n",
       "      <td>Wonokromo</td>\n",
       "      <td>Rayon Jambangan</td>\n",
       "    </tr>\n",
       "    <tr>\n",
       "      <th>243</th>\n",
       "      <td>244</td>\n",
       "      <td>Kp. Tambakdono</td>\n",
       "      <td>Benowo</td>\n",
       "      <td>Tambakdono</td>\n",
       "      <td>Rayon Tandes</td>\n",
       "    </tr>\n",
       "  </tbody>\n",
       "</table>\n",
       "<p>238 rows × 5 columns</p>\n",
       "</div>"
      ],
      "text/plain": [
       "     _id                               Lokasi      Kecamatan      Kelurahan  \\\n",
       "0      1           Jl. Pakis Agosari (Yamaha)    Dukuh Pakis    Dukuh Pakis   \n",
       "1      2  Jl. Mayjend Sungkono - Darmo Park I    Dukuh Pakis    Dukuh Pakis   \n",
       "2      3    Jl. Mayjend Sungkono (Pom Bensin)    Dukuh Pakis    Dukuh Pakis   \n",
       "3      4                          Kp. Kebraon   Karangpilang     Warugunung   \n",
       "4      5              Jl. Lakar Santri RW.001    Lakarsantri     Bangkingan   \n",
       "..   ...                                  ...            ...            ...   \n",
       "239  240                            Jl. Kanwa      WONOKROMO          DARMO   \n",
       "240  241                 Per. Rungkut Harapan        Rungkut  Rungkut Kidul   \n",
       "241  242                        TANJUNGSARI I  SUKOMANUNGGAL    TANJUNGSARI   \n",
       "242  243                       Jl. Karangrejo      Wonokromo      Wonokromo   \n",
       "243  244                       Kp. Tambakdono         Benowo     Tambakdono   \n",
       "\n",
       "               Rayon  \n",
       "0       Rayon Wiyung  \n",
       "1       Rayon Wiyung  \n",
       "2       Rayon Wiyung  \n",
       "3       Rayon Wiyung  \n",
       "4       Rayon Wiyung  \n",
       "..               ...  \n",
       "239    Rayon Genteng  \n",
       "240  Rayon Jambangan  \n",
       "241     Rayon Tandes  \n",
       "242  Rayon Jambangan  \n",
       "243     Rayon Tandes  \n",
       "\n",
       "[238 rows x 5 columns]"
      ]
     },
     "execution_count": 116,
     "metadata": {},
     "output_type": "execute_result"
    }
   ],
   "source": [
    "df_num2 = df.select_dtypes(include='object')\n",
    "df_num2"
   ]
  },
  {
   "cell_type": "code",
   "execution_count": 117,
   "id": "98b18f32",
   "metadata": {},
   "outputs": [
    {
     "data": {
      "application/vnd.microsoft.datawrangler.viewer.v0+json": {
       "columns": [
        {
         "name": "index",
         "rawType": "object",
         "type": "string"
        },
        {
         "name": "Luas genangan",
         "rawType": "float64",
         "type": "float"
        },
        {
         "name": "Tinggi genangan",
         "rawType": "float64",
         "type": "float"
        },
        {
         "name": "Lama genangan",
         "rawType": "float64",
         "type": "float"
        },
        {
         "name": "Skor Luas Genangan",
         "rawType": "float64",
         "type": "float"
        },
        {
         "name": "Skor Tinggi Genangan",
         "rawType": "float64",
         "type": "float"
        },
        {
         "name": "Skor Lama Genangan",
         "rawType": "float64",
         "type": "float"
        }
       ],
       "ref": "9a6b3958-5045-4b8b-b8d5-505ad3b9bbd9",
       "rows": [
        [
         "Luas genangan",
         "1.0",
         "-0.053392579835399696",
         "0.09358645443438841",
         "0.6679016004326713",
         "-0.011175938629922019",
         "0.06929415120292567"
        ],
        [
         "Tinggi genangan",
         "-0.053392579835399696",
         "1.0",
         "0.3557179842285713",
         "0.05054267458128241",
         "0.8855196084914817",
         "0.32153295591313164"
        ],
        [
         "Lama genangan",
         "0.09358645443438841",
         "0.3557179842285713",
         "1.0",
         "0.11506775166379482",
         "0.2822518247362982",
         "0.8891517422582466"
        ],
        [
         "Skor Luas Genangan",
         "0.6679016004326713",
         "0.05054267458128241",
         "0.11506775166379482",
         "1.0",
         "0.05792621782205058",
         "0.13001323295714373"
        ],
        [
         "Skor Tinggi Genangan",
         "-0.011175938629922019",
         "0.8855196084914817",
         "0.2822518247362982",
         "0.05792621782205058",
         "1.0",
         "0.25049843139380623"
        ],
        [
         "Skor Lama Genangan",
         "0.06929415120292567",
         "0.32153295591313164",
         "0.8891517422582466",
         "0.13001323295714373",
         "0.25049843139380623",
         "1.0"
        ]
       ],
       "shape": {
        "columns": 6,
        "rows": 6
       }
      },
      "text/html": [
       "<div>\n",
       "<style scoped>\n",
       "    .dataframe tbody tr th:only-of-type {\n",
       "        vertical-align: middle;\n",
       "    }\n",
       "\n",
       "    .dataframe tbody tr th {\n",
       "        vertical-align: top;\n",
       "    }\n",
       "\n",
       "    .dataframe thead th {\n",
       "        text-align: right;\n",
       "    }\n",
       "</style>\n",
       "<table border=\"1\" class=\"dataframe\">\n",
       "  <thead>\n",
       "    <tr style=\"text-align: right;\">\n",
       "      <th></th>\n",
       "      <th>Luas genangan</th>\n",
       "      <th>Tinggi genangan</th>\n",
       "      <th>Lama genangan</th>\n",
       "      <th>Skor Luas Genangan</th>\n",
       "      <th>Skor Tinggi Genangan</th>\n",
       "      <th>Skor Lama Genangan</th>\n",
       "    </tr>\n",
       "  </thead>\n",
       "  <tbody>\n",
       "    <tr>\n",
       "      <th>Luas genangan</th>\n",
       "      <td>1.000000</td>\n",
       "      <td>-0.053393</td>\n",
       "      <td>0.093586</td>\n",
       "      <td>0.667902</td>\n",
       "      <td>-0.011176</td>\n",
       "      <td>0.069294</td>\n",
       "    </tr>\n",
       "    <tr>\n",
       "      <th>Tinggi genangan</th>\n",
       "      <td>-0.053393</td>\n",
       "      <td>1.000000</td>\n",
       "      <td>0.355718</td>\n",
       "      <td>0.050543</td>\n",
       "      <td>0.885520</td>\n",
       "      <td>0.321533</td>\n",
       "    </tr>\n",
       "    <tr>\n",
       "      <th>Lama genangan</th>\n",
       "      <td>0.093586</td>\n",
       "      <td>0.355718</td>\n",
       "      <td>1.000000</td>\n",
       "      <td>0.115068</td>\n",
       "      <td>0.282252</td>\n",
       "      <td>0.889152</td>\n",
       "    </tr>\n",
       "    <tr>\n",
       "      <th>Skor Luas Genangan</th>\n",
       "      <td>0.667902</td>\n",
       "      <td>0.050543</td>\n",
       "      <td>0.115068</td>\n",
       "      <td>1.000000</td>\n",
       "      <td>0.057926</td>\n",
       "      <td>0.130013</td>\n",
       "    </tr>\n",
       "    <tr>\n",
       "      <th>Skor Tinggi Genangan</th>\n",
       "      <td>-0.011176</td>\n",
       "      <td>0.885520</td>\n",
       "      <td>0.282252</td>\n",
       "      <td>0.057926</td>\n",
       "      <td>1.000000</td>\n",
       "      <td>0.250498</td>\n",
       "    </tr>\n",
       "    <tr>\n",
       "      <th>Skor Lama Genangan</th>\n",
       "      <td>0.069294</td>\n",
       "      <td>0.321533</td>\n",
       "      <td>0.889152</td>\n",
       "      <td>0.130013</td>\n",
       "      <td>0.250498</td>\n",
       "      <td>1.000000</td>\n",
       "    </tr>\n",
       "  </tbody>\n",
       "</table>\n",
       "</div>"
      ],
      "text/plain": [
       "                      Luas genangan  Tinggi genangan  Lama genangan  \\\n",
       "Luas genangan              1.000000        -0.053393       0.093586   \n",
       "Tinggi genangan           -0.053393         1.000000       0.355718   \n",
       "Lama genangan              0.093586         0.355718       1.000000   \n",
       "Skor Luas Genangan         0.667902         0.050543       0.115068   \n",
       "Skor Tinggi Genangan      -0.011176         0.885520       0.282252   \n",
       "Skor Lama Genangan         0.069294         0.321533       0.889152   \n",
       "\n",
       "                      Skor Luas Genangan  Skor Tinggi Genangan  \\\n",
       "Luas genangan                   0.667902             -0.011176   \n",
       "Tinggi genangan                 0.050543              0.885520   \n",
       "Lama genangan                   0.115068              0.282252   \n",
       "Skor Luas Genangan              1.000000              0.057926   \n",
       "Skor Tinggi Genangan            0.057926              1.000000   \n",
       "Skor Lama Genangan              0.130013              0.250498   \n",
       "\n",
       "                      Skor Lama Genangan  \n",
       "Luas genangan                   0.069294  \n",
       "Tinggi genangan                 0.321533  \n",
       "Lama genangan                   0.889152  \n",
       "Skor Luas Genangan              0.130013  \n",
       "Skor Tinggi Genangan            0.250498  \n",
       "Skor Lama Genangan              1.000000  "
      ]
     },
     "execution_count": 117,
     "metadata": {},
     "output_type": "execute_result"
    }
   ],
   "source": [
    "cm = df_num.corr()\n",
    "cm"
   ]
  },
  {
   "cell_type": "code",
   "execution_count": 118,
   "id": "a4091c39",
   "metadata": {},
   "outputs": [
    {
     "data": {
      "text/plain": [
       "Text(0.5, 1.0, 'korelasi-antar-kolom')"
      ]
     },
     "execution_count": 118,
     "metadata": {},
     "output_type": "execute_result"
    },
    {
     "data": {
      "image/png": "[encoded data removed]",
      "text/plain": [
       "<Figure size 1000x600 with 2 Axes>"
      ]
     },
     "metadata": {},
     "output_type": "display_data"
    }
   ],
   "source": [
    "plt.figure(figsize=(10, 6))\n",
    "sns.heatmap(cm, annot=True, fmt='.2f', cmap='coolwarm')\n",
    "plt.title('korelasi-antar-kolom')"
   ]
  },
  {
   "cell_type": "code",
   "execution_count": 119,
   "id": "10f535d9",
   "metadata": {},
   "outputs": [
    {
     "data": {
      "text/plain": [
       "np.int64(0)"
      ]
     },
     "execution_count": 119,
     "metadata": {},
     "output_type": "execute_result"
    }
   ],
   "source": [
    "df.duplicated().sum()"
   ]
  },
  {
   "cell_type": "code",
   "execution_count": 120,
   "id": "3e11363b",
   "metadata": {},
   "outputs": [
    {
     "data": {
      "text/plain": [
       "array(['Rayon Wiyung', 'Rayon Tandes', 'Rayon Jambangan', 'Rayon Gubeng',\n",
       "       'Rayon Genteng'], dtype=object)"
      ]
     },
     "execution_count": 120,
     "metadata": {},
     "output_type": "execute_result"
    }
   ],
   "source": [
    "df['Rayon'].unique()"
   ]
  },
  {
   "cell_type": "code",
   "execution_count": 121,
   "id": "e7c77084",
   "metadata": {},
   "outputs": [
    {
     "data": {
      "text/plain": [
       "5"
      ]
     },
     "execution_count": 121,
     "metadata": {},
     "output_type": "execute_result"
    }
   ],
   "source": [
    "df['Rayon'].nunique()"
   ]
  },
  {
   "cell_type": "code",
   "execution_count": 122,
   "id": "f938b3ee",
   "metadata": {},
   "outputs": [
    {
     "data": {
      "application/vnd.microsoft.datawrangler.viewer.v0+json": {
       "columns": [
        {
         "name": "Rayon",
         "rawType": "object",
         "type": "string"
        },
        {
         "name": "count",
         "rawType": "int64",
         "type": "integer"
        }
       ],
       "ref": "5e03bf72-31f9-4128-adcc-84473398b5bb",
       "rows": [
        [
         "Rayon Gubeng",
         "76"
        ],
        [
         "Rayon Tandes",
         "53"
        ],
        [
         "Rayon Genteng",
         "42"
        ],
        [
         "Rayon Jambangan",
         "41"
        ],
        [
         "Rayon Wiyung",
         "26"
        ]
       ],
       "shape": {
        "columns": 1,
        "rows": 5
       }
      },
      "text/plain": [
       "Rayon\n",
       "Rayon Gubeng       76\n",
       "Rayon Tandes       53\n",
       "Rayon Genteng      42\n",
       "Rayon Jambangan    41\n",
       "Rayon Wiyung       26\n",
       "Name: count, dtype: int64"
      ]
     },
     "execution_count": 122,
     "metadata": {},
     "output_type": "execute_result"
    }
   ],
   "source": [
    "rayon = df['Rayon'].value_counts()\n",
    "rayon"
   ]
  },
  {
   "cell_type": "code",
   "execution_count": 123,
   "id": "535ffbdc",
   "metadata": {},
   "outputs": [
    {
     "data": {
      "text/plain": [
       "np.int64(238)"
      ]
     },
     "execution_count": 123,
     "metadata": {},
     "output_type": "execute_result"
    }
   ],
   "source": [
    "df['Rayon'].value_counts().sum()"
   ]
  },
  {
   "cell_type": "code",
   "execution_count": 124,
   "id": "ac4193b1",
   "metadata": {},
   "outputs": [
    {
     "data": {
      "application/vnd.microsoft.datawrangler.viewer.v0+json": {
       "columns": [
        {
         "name": "Kecamatan",
         "rawType": "object",
         "type": "string"
        },
        {
         "name": "count",
         "rawType": "int64",
         "type": "integer"
        }
       ],
       "ref": "cf09a585-77d2-47a8-95fa-580078b72c4d",
       "rows": [
        [
         "Sawahan",
         "16"
        ],
        [
         "Semampir",
         "16"
        ],
        [
         "Gubeng",
         "15"
        ],
        [
         "Sukomanunggal",
         "13"
        ],
        [
         "Tambaksari",
         "12"
        ],
        [
         "Wonokromo",
         "11"
        ],
        [
         "Sukolilo",
         "11"
        ],
        [
         "Benowo",
         "11"
        ],
        [
         "Gayungan",
         "10"
        ],
        [
         "Rungkut",
         "9"
        ],
        [
         "Pabean Cantikan",
         "8"
        ],
        [
         "Tegalsari",
         "8"
        ],
        [
         "Dukuh Pakis",
         "8"
        ],
        [
         "Mulyorejo",
         "8"
        ],
        [
         "Kenjeran",
         "8"
        ],
        [
         "Bubutan",
         "7"
        ],
        [
         "Lakarsantri",
         "6"
        ],
        [
         "Krembangan",
         "6"
        ],
        [
         "Tandes",
         "6"
        ],
        [
         "Genteng",
         "5"
        ],
        [
         "Sambikerep",
         "5"
        ],
        [
         "Wiyung",
         "4"
        ],
        [
         "Karangpilang",
         "3"
        ],
        [
         "WONOKROMO",
         "3"
        ],
        [
         "Bulak",
         "3"
        ],
        [
         "Jambangan",
         "2"
        ],
        [
         "Pakal",
         "2"
        ],
        [
         "LAKARSANTRI",
         "2"
        ],
        [
         "Tenggilis Mejoyo",
         "2"
        ],
        [
         "Wonocolo",
         "2"
        ],
        [
         "Siwalan Kerto",
         "2"
        ],
        [
         "Simokerto",
         "2"
        ],
        [
         "SAWAHAN",
         "2"
        ],
        [
         "Asemrowo",
         "1"
        ],
        [
         "Ketintang",
         "1"
        ],
        [
         "KREMBANGAN",
         "1"
        ],
        [
         "Wonokoromo",
         "1"
        ],
        [
         "WIYUNG",
         "1"
        ],
        [
         "GENTENG",
         "1"
        ],
        [
         "MULYOREJO",
         "1"
        ],
        [
         "SUKOLILO",
         "1"
        ],
        [
         "GUBENG",
         "1"
        ],
        [
         "SUKOMANUNGGAL",
         "1"
        ]
       ],
       "shape": {
        "columns": 1,
        "rows": 43
       }
      },
      "text/plain": [
       "Kecamatan\n",
       "Sawahan             16\n",
       "Semampir            16\n",
       "Gubeng              15\n",
       "Sukomanunggal       13\n",
       "Tambaksari          12\n",
       "Wonokromo           11\n",
       "Sukolilo            11\n",
       "Benowo              11\n",
       "Gayungan            10\n",
       "Rungkut              9\n",
       "Pabean Cantikan      8\n",
       "Tegalsari            8\n",
       "Dukuh Pakis          8\n",
       "Mulyorejo            8\n",
       "Kenjeran             8\n",
       "Bubutan              7\n",
       "Lakarsantri          6\n",
       "Krembangan           6\n",
       "Tandes               6\n",
       "Genteng              5\n",
       "Sambikerep           5\n",
       "Wiyung               4\n",
       "Karangpilang         3\n",
       "WONOKROMO            3\n",
       "Bulak                3\n",
       "Jambangan            2\n",
       "Pakal                2\n",
       "LAKARSANTRI          2\n",
       "Tenggilis Mejoyo     2\n",
       "Wonocolo             2\n",
       "Siwalan Kerto        2\n",
       "Simokerto            2\n",
       "SAWAHAN              2\n",
       "Asemrowo             1\n",
       "Ketintang            1\n",
       "KREMBANGAN           1\n",
       "Wonokoromo           1\n",
       "WIYUNG               1\n",
       "GENTENG              1\n",
       "MULYOREJO            1\n",
       "SUKOLILO             1\n",
       "GUBENG               1\n",
       "SUKOMANUNGGAL        1\n",
       "Name: count, dtype: int64"
      ]
     },
     "execution_count": 124,
     "metadata": {},
     "output_type": "execute_result"
    }
   ],
   "source": [
    "df['Kecamatan'].value_counts()"
   ]
  },
  {
   "cell_type": "code",
   "execution_count": 125,
   "id": "fd49d557",
   "metadata": {},
   "outputs": [
    {
     "data": {
      "text/plain": [
       "([<matplotlib.patches.Wedge at 0x1b253e033d0>,\n",
       "  <matplotlib.patches.Wedge at 0x1b253e66550>,\n",
       "  <matplotlib.patches.Wedge at 0x1b253e67dd0>,\n",
       "  <matplotlib.patches.Wedge at 0x1b253e675d0>,\n",
       "  <matplotlib.patches.Wedge at 0x1b253e7ab10>],\n",
       " [Text(0.5913696817882198, 0.9275138271000061, 'Rayon Gubeng'),\n",
       "  Text(-0.9972793103535292, 0.4641486584498433, 'Rayon Tandes'),\n",
       "  Text(-0.7517305289627504, -0.8030574150242208, 'Rayon Genteng'),\n",
       "  Text(0.37015165257315535, -1.035851221989607, 'Rayon Jambangan'),\n",
       "  Text(1.0358514676248283, -0.3701509651743318, 'Rayon Wiyung')],\n",
       " [Text(0.32256528097539255, 0.5059166329636396, '31.9%'),\n",
       "  Text(-0.5439705329201068, 0.2531719955180963, '22.3%'),\n",
       "  Text(-0.410034833979682, -0.4380313172859386, '17.6%'),\n",
       "  Text(0.20190090140353925, -0.5650097574488765, '17.2%'),\n",
       "  Text(0.5650098914317244, -0.20190052645872641, '10.9%')])"
      ]
     },
     "execution_count": 125,
     "metadata": {},
     "output_type": "execute_result"
    },
    {
     "data": {
      "image/png": "[encoded data removed]",
      "text/plain": [
       "<Figure size 1000x600 with 1 Axes>"
      ]
     },
     "metadata": {},
     "output_type": "display_data"
    }
   ],
   "source": [
    "plt.figure(figsize=(10, 6))\n",
    "plt.pie(rayon, labels=rayon.index, autopct='%.1f%%')"
   ]
  },
  {
   "cell_type": "code",
   "execution_count": 130,
   "id": "5e8d1d8d",
   "metadata": {},
   "outputs": [
    {
     "data": {
      "image/png": "[encoded data removed]",
      "text/plain": [
       "<Figure size 640x480 with 1 Axes>"
      ]
     },
     "metadata": {},
     "output_type": "display_data"
    }
   ],
   "source": [
    "plt.boxplot(df[\"Tinggi genangan\"])\n",
    "plt.title(\"Boxplot Tinggi Genangan\")\n",
    "plt.ylabel(\"Tinggi genangan (cm)\")\n",
    "\n",
    "plt.tight_layout()\n",
    "plt.show()"
   ]
  },
  {
   "cell_type": "code",
   "execution_count": 134,
   "id": "0bcd6c48",
   "metadata": {},
   "outputs": [
    {
     "data": {
      "image/png": "[encoded data removed]",
      "text/plain": [
       "<Figure size 800x400 with 1 Axes>"
      ]
     },
     "metadata": {},
     "output_type": "display_data"
    },
    {
     "data": {
      "image/png": "[encoded data removed]",
      "text/plain": [
       "<Figure size 800x400 with 1 Axes>"
      ]
     },
     "metadata": {},
     "output_type": "display_data"
    },
    {
     "data": {
      "image/png": "[encoded data removed]",
      "text/plain": [
       "<Figure size 800x400 with 1 Axes>"
      ]
     },
     "metadata": {},
     "output_type": "display_data"
    },
    {
     "data": {
      "image/png": "[encoded data removed]",
      "text/plain": [
       "<Figure size 800x400 with 1 Axes>"
      ]
     },
     "metadata": {},
     "output_type": "display_data"
    },
    {
     "data": {
      "image/png": "[encoded data removed]",
      "text/plain": [
       "<Figure size 800x400 with 1 Axes>"
      ]
     },
     "metadata": {},
     "output_type": "display_data"
    },
    {
     "data": {
      "image/png": "[encoded data removed]",
      "text/plain": [
       "<Figure size 800x400 with 1 Axes>"
      ]
     },
     "metadata": {},
     "output_type": "display_data"
    }
   ],
   "source": [
    "for col in df_num:\n",
    "    plt.figure(figsize=(8, 4))\n",
    "    sns.boxplot(df[col])\n",
    "    plt.title(f'Boxplot of {col}')\n",
    "    plt.xlabel(col)\n",
    "    plt.ylabel('Value')\n",
    "    plt.show()"
   ]
  },
  {
   "cell_type": "code",
   "execution_count": null,
   "id": "745901ea",
   "metadata": {},
   "outputs": [],
   "source": []
  }
 ],
 "metadata": {
  "kernelspec": {
   "display_name": "Python 3",
   "language": "python",
   "name": "python3"
  },
  "language_info": {
   "codemirror_mode": {
    "name": "ipython",
    "version": 3
   },
   "file_extension": ".py",
   "mimetype": "text/x-python",
   "name": "python",
   "nbconvert_exporter": "python",
   "pygments_lexer": "ipython3",
   "version": "3.11.9"
  }
 },
 "nbformat": 4,
 "nbformat_minor": 5
}
