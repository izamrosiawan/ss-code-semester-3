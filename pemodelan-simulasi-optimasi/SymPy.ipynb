{
 "cells": [
  {
   "cell_type": "markdown",
   "metadata": {
    "id": "w1shyrob-7eR"
   },
   "source": [
    "#Live Coding: DS 04-02"
   ]
  },
  {
   "cell_type": "code",
   "execution_count": 2,
   "metadata": {
    "colab": {
     "base_uri": "https://localhost:8080/",
     "height": 38
    },
    "id": "8XPbVJTtgNX9",
    "outputId": "1de6ea62-197c-4a56-db5a-417ae7c1472c"
   },
   "outputs": [
    {
     "data": {
      "text/latex": [
       "$\\displaystyle 3 x^{2} + 5 x - 2$"
      ],
      "text/plain": [
       "3*x**2 + 5*x - 2"
      ]
     },
     "execution_count": 2,
     "metadata": {},
     "output_type": "execute_result"
    }
   ],
   "source": [
    "from sympy import *\n",
    "x = symbols(\"x\")\n",
    "\n",
    "f = 3*x**2 + 5*x - 2\n",
    "f"
   ]
  },
  {
   "cell_type": "code",
   "execution_count": 3,
   "metadata": {
    "colab": {
     "base_uri": "https://localhost:8080/",
     "height": 38
    },
    "id": "yMoe9NJFjtss",
    "outputId": "2d02e871-496e-40c0-ee26-1b08f6cb4f6c"
   },
   "outputs": [
    {
     "data": {
      "text/latex": [
       "$\\displaystyle apa + 3$"
      ],
      "text/plain": [
       "apa + 3"
      ]
     },
     "execution_count": 3,
     "metadata": {},
     "output_type": "execute_result"
    }
   ],
   "source": [
    "variabel = symbols(\"apa\")\n",
    "f = variabel + 3\n",
    "f"
   ]
  },
  {
   "cell_type": "markdown",
   "metadata": {
    "id": "r0L27FMmkDAp"
   },
   "source": [
    "Substitusi"
   ]
  },
  {
   "cell_type": "code",
   "execution_count": 4,
   "metadata": {
    "colab": {
     "base_uri": "https://localhost:8080/",
     "height": 37
    },
    "id": "AwFjK9oyj3vF",
    "outputId": "af56dd0b-7157-4502-ecce-e299143446a9"
   },
   "outputs": [
    {
     "data": {
      "text/latex": [
       "$\\displaystyle 7$"
      ],
      "text/plain": [
       "7"
      ]
     },
     "execution_count": 4,
     "metadata": {},
     "output_type": "execute_result"
    }
   ],
   "source": [
    "f = 3*x - 2\n",
    "f.subs(x,3)"
   ]
  },
  {
   "cell_type": "code",
   "execution_count": 5,
   "metadata": {
    "colab": {
     "base_uri": "https://localhost:8080/",
     "height": 38
    },
    "id": "7zM1HJTwkXoq",
    "outputId": "1c7baf3e-e0d8-4360-a65e-a3c4b1e2b5d5"
   },
   "outputs": [
    {
     "data": {
      "text/latex": [
       "$\\displaystyle 3 t - 2$"
      ],
      "text/plain": [
       "3*t - 2"
      ]
     },
     "execution_count": 5,
     "metadata": {},
     "output_type": "execute_result"
    }
   ],
   "source": [
    "t = symbols(\"t\")\n",
    "f.subs(x,t)"
   ]
  },
  {
   "cell_type": "code",
   "execution_count": 6,
   "metadata": {
    "colab": {
     "base_uri": "https://localhost:8080/",
     "height": 38
    },
    "id": "5QJEqiUAkfjL",
    "outputId": "6b34c0e4-0674-4424-8932-17c331d80f57"
   },
   "outputs": [
    {
     "data": {
      "text/latex": [
       "$\\displaystyle 3 x^{2} - 2$"
      ],
      "text/plain": [
       "3*x**2 - 2"
      ]
     },
     "execution_count": 6,
     "metadata": {},
     "output_type": "execute_result"
    }
   ],
   "source": [
    "f.subs(x,x**2)"
   ]
  },
  {
   "cell_type": "code",
   "execution_count": 7,
   "metadata": {
    "colab": {
     "base_uri": "https://localhost:8080/",
     "height": 38
    },
    "id": "FsGLuLH5kzaE",
    "outputId": "dd80500b-84e9-43fa-b516-1f5a8fdaab9e"
   },
   "outputs": [
    {
     "data": {
      "text/latex": [
       "$\\displaystyle \\sin{\\left(0.1 \\pi \\right)}$"
      ],
      "text/plain": [
       "sin(0.1*pi)"
      ]
     },
     "execution_count": 7,
     "metadata": {},
     "output_type": "execute_result"
    }
   ],
   "source": [
    "f = sin(x)\n",
    "f.subs(x,0.1*pi)"
   ]
  },
  {
   "cell_type": "markdown",
   "metadata": {
    "id": "5lqU8_Q_lMG_"
   },
   "source": [
    "Menghitung secara desimal (float)"
   ]
  },
  {
   "cell_type": "code",
   "execution_count": 8,
   "metadata": {
    "colab": {
     "base_uri": "https://localhost:8080/",
     "height": 37
    },
    "id": "Ee8gcvDAlP_F",
    "outputId": "97f64d67-47b7-4801-c87e-6c1da27b1b43"
   },
   "outputs": [
    {
     "data": {
      "text/latex": [
       "$\\displaystyle 3.14159265358979$"
      ],
      "text/plain": [
       "3.14159265358979"
      ]
     },
     "execution_count": 8,
     "metadata": {},
     "output_type": "execute_result"
    }
   ],
   "source": [
    "pi.evalf()"
   ]
  },
  {
   "cell_type": "code",
   "execution_count": 9,
   "metadata": {
    "colab": {
     "base_uri": "https://localhost:8080/",
     "height": 37
    },
    "id": "xDt7Ms_ElX43",
    "outputId": "ae80b4de-3a7d-448e-b285-d44f66e95ad3"
   },
   "outputs": [
    {
     "data": {
      "text/latex": [
       "$\\displaystyle 3.14$"
      ],
      "text/plain": [
       "3.14"
      ]
     },
     "execution_count": 9,
     "metadata": {},
     "output_type": "execute_result"
    }
   ],
   "source": [
    "pi.evalf(3)"
   ]
  },
  {
   "cell_type": "code",
   "execution_count": 10,
   "metadata": {
    "colab": {
     "base_uri": "https://localhost:8080/",
     "height": 37
    },
    "id": "xicxZ5Z5lg7L",
    "outputId": "c0af50d6-d011-4480-c89e-b50ee1f165b0"
   },
   "outputs": [
    {
     "data": {
      "text/latex": [
       "$\\displaystyle 0.309016994374947$"
      ],
      "text/plain": [
       "0.309016994374947"
      ]
     },
     "execution_count": 10,
     "metadata": {},
     "output_type": "execute_result"
    }
   ],
   "source": [
    "f.subs(x,0.1*pi).evalf()"
   ]
  },
  {
   "cell_type": "markdown",
   "metadata": {
    "id": "1fP1l51EDOpF"
   },
   "source": [
    "Ekspansi dan Faktorisasi"
   ]
  },
  {
   "cell_type": "code",
   "execution_count": 11,
   "metadata": {
    "colab": {
     "base_uri": "https://localhost:8080/",
     "height": 39
    },
    "id": "akjYJlW1Eftq",
    "outputId": "a82660b6-a6b6-443a-edb8-28dbde7f7bdd"
   },
   "outputs": [
    {
     "data": {
      "text/latex": [
       "$\\displaystyle \\left(x - 1\\right) \\left(x + 1\\right)^{2}$"
      ],
      "text/plain": [
       "(x - 1)*(x + 1)**2"
      ]
     },
     "execution_count": 11,
     "metadata": {},
     "output_type": "execute_result"
    }
   ],
   "source": [
    "(x + 1)**2*(x-1)"
   ]
  },
  {
   "cell_type": "code",
   "execution_count": 12,
   "metadata": {
    "colab": {
     "base_uri": "https://localhost:8080/",
     "height": 38
    },
    "id": "299lTeC2DFUT",
    "outputId": "3faba6f2-258e-43d6-d270-b4b77333eff2"
   },
   "outputs": [
    {
     "data": {
      "text/latex": [
       "$\\displaystyle x^{3} + x^{2} - x - 1$"
      ],
      "text/plain": [
       "x**3 + x**2 - x - 1"
      ]
     },
     "execution_count": 12,
     "metadata": {},
     "output_type": "execute_result"
    }
   ],
   "source": [
    "expand((x + 1)**2*(x-1))"
   ]
  },
  {
   "cell_type": "code",
   "execution_count": 13,
   "metadata": {
    "colab": {
     "base_uri": "https://localhost:8080/",
     "height": 38
    },
    "id": "hK6amcxkEhwA",
    "outputId": "5fb8ed6a-d00d-4793-b41e-d7d09c61c0f3"
   },
   "outputs": [
    {
     "data": {
      "text/latex": [
       "$\\displaystyle 2 x^{2} + 5 x + 3$"
      ],
      "text/plain": [
       "2*x**2 + 5*x + 3"
      ]
     },
     "execution_count": 13,
     "metadata": {},
     "output_type": "execute_result"
    }
   ],
   "source": [
    "2*x**2 + 5*x + 3"
   ]
  },
  {
   "cell_type": "code",
   "execution_count": 14,
   "metadata": {
    "colab": {
     "base_uri": "https://localhost:8080/",
     "height": 38
    },
    "id": "sN0d6Di2DSi_",
    "outputId": "1ae9f2f9-379b-48de-e0a2-1c5969f9d9b2"
   },
   "outputs": [
    {
     "data": {
      "text/latex": [
       "$\\displaystyle \\left(x + 1\\right) \\left(2 x + 3\\right)$"
      ],
      "text/plain": [
       "(x + 1)*(2*x + 3)"
      ]
     },
     "execution_count": 14,
     "metadata": {},
     "output_type": "execute_result"
    }
   ],
   "source": [
    "factor(2*x**2 + 5*x + 3)"
   ]
  },
  {
   "cell_type": "code",
   "execution_count": 15,
   "metadata": {
    "colab": {
     "base_uri": "https://localhost:8080/",
     "height": 55
    },
    "id": "hnSIj7HMEUsf",
    "outputId": "0dadb269-0c28-4403-b51c-79b8cda42722"
   },
   "outputs": [
    {
     "data": {
      "text/latex": [
       "$\\displaystyle \\frac{x^{2} - 1}{x + 1}$"
      ],
      "text/plain": [
       "(x**2 - 1)/(x + 1)"
      ]
     },
     "execution_count": 15,
     "metadata": {},
     "output_type": "execute_result"
    }
   ],
   "source": [
    "(x**2-1)/(x+1)"
   ]
  },
  {
   "cell_type": "code",
   "execution_count": 16,
   "metadata": {
    "colab": {
     "base_uri": "https://localhost:8080/",
     "height": 38
    },
    "id": "sBxz2wENEp9Q",
    "outputId": "b4fe0543-15a5-4930-edb3-b2e9163482f2"
   },
   "outputs": [
    {
     "data": {
      "text/latex": [
       "$\\displaystyle x - 1$"
      ],
      "text/plain": [
       "x - 1"
      ]
     },
     "execution_count": 16,
     "metadata": {},
     "output_type": "execute_result"
    }
   ],
   "source": [
    "cancel((x**2-1)/(x+1))"
   ]
  },
  {
   "cell_type": "markdown",
   "metadata": {
    "id": "g3r4-8eYcGfF"
   },
   "source": [
    "Turunan"
   ]
  },
  {
   "cell_type": "code",
   "execution_count": 17,
   "metadata": {
    "colab": {
     "base_uri": "https://localhost:8080/",
     "height": 17
    },
    "id": "MPkXTdVPl8kk",
    "outputId": "07eb10b0-f24c-4344-dce9-55a6027935ad"
   },
   "outputs": [
    {
     "data": {
      "text/latex": [
       "$\\displaystyle 3 x^{2} - 2$"
      ],
      "text/plain": [
       "3*x**2 - 2"
      ]
     },
     "execution_count": 17,
     "metadata": {},
     "output_type": "execute_result"
    }
   ],
   "source": [
    "f = x**3 - 2*x + 1\n",
    "\n",
    "f.diff(x)"
   ]
  },
  {
   "cell_type": "markdown",
   "metadata": {
    "id": "vvBCF9_nnUNR"
   },
   "source": [
    "Turunan ke-$n$"
   ]
  },
  {
   "cell_type": "code",
   "execution_count": 18,
   "metadata": {
    "colab": {
     "base_uri": "https://localhost:8080/",
     "height": 38
    },
    "id": "VElH3Gq0mu5W",
    "outputId": "a99e49c4-2eed-4dd5-e5a9-9ebd05f6c41e"
   },
   "outputs": [
    {
     "data": {
      "text/latex": [
       "$\\displaystyle - 49 \\cos{\\left(7 x \\right)}$"
      ],
      "text/plain": [
       "-49*cos(7*x)"
      ]
     },
     "execution_count": 18,
     "metadata": {},
     "output_type": "execute_result"
    }
   ],
   "source": [
    "f = cos(7*x)\n",
    "\n",
    "f.diff(x,2)"
   ]
  },
  {
   "cell_type": "markdown",
   "metadata": {
    "id": "Th_iQde0_BUE"
   },
   "source": [
    "#Live Coding: DS 04-01"
   ]
  },
  {
   "cell_type": "code",
   "execution_count": 19,
   "metadata": {
    "colab": {
     "base_uri": "https://localhost:8080/",
     "height": 51
    },
    "id": "AuSF-3kh_Ejn",
    "outputId": "01038ad1-1026-43a2-e836-6ec4f9b69190"
   },
   "outputs": [
    {
     "data": {
      "text/latex": [
       "$\\displaystyle x^{2} + \\frac{12800}{x}$"
      ],
      "text/plain": [
       "x**2 + 12800/x"
      ]
     },
     "execution_count": 19,
     "metadata": {},
     "output_type": "execute_result"
    }
   ],
   "source": [
    "from sympy import *\n",
    "\n",
    "# buat variabel\n",
    "x = symbols('x')\n",
    "\n",
    "# buat fungsi\n",
    "f = x**2 + 12800/x\n",
    "\n",
    "# tampilan fungsi\n",
    "f"
   ]
  },
  {
   "cell_type": "code",
   "execution_count": 20,
   "metadata": {
    "colab": {
     "base_uri": "https://localhost:8080/",
     "height": 38
    },
    "id": "6nPTNS0B_w-E",
    "outputId": "18704c0e-ff72-4a89-bf6b-c61607549374"
   },
   "outputs": [
    {
     "data": {
      "text/latex": [
       "$\\displaystyle apa + 3$"
      ],
      "text/plain": [
       "apa + 3"
      ]
     },
     "execution_count": 20,
     "metadata": {},
     "output_type": "execute_result"
    }
   ],
   "source": [
    "# variabel tidak harus sama namanya\n",
    "variabel = symbols(\"apa\")\n",
    "\n",
    "variabel + 3"
   ]
  },
  {
   "cell_type": "code",
   "execution_count": 21,
   "metadata": {
    "colab": {
     "base_uri": "https://localhost:8080/",
     "height": 37
    },
    "id": "JX9CmLPk__I2",
    "outputId": "0977bab1-3f10-44a5-841e-cd9a84825394"
   },
   "outputs": [
    {
     "data": {
      "text/latex": [
       "$\\displaystyle 10128$"
      ],
      "text/plain": [
       "10128"
      ]
     },
     "execution_count": 21,
     "metadata": {},
     "output_type": "execute_result"
    }
   ],
   "source": [
    "# substitusi\n",
    "f.subs(x,100)"
   ]
  },
  {
   "cell_type": "code",
   "execution_count": 22,
   "metadata": {
    "colab": {
     "base_uri": "https://localhost:8080/",
     "height": 51
    },
    "id": "UKJGi9ZgAafD",
    "outputId": "f61fdb22-7bf8-4293-a995-ff4d4fdffa80"
   },
   "outputs": [
    {
     "data": {
      "text/latex": [
       "$\\displaystyle t^{2} + \\frac{12800}{t}$"
      ],
      "text/plain": [
       "t**2 + 12800/t"
      ]
     },
     "execution_count": 22,
     "metadata": {},
     "output_type": "execute_result"
    }
   ],
   "source": [
    "t = symbols(\"t\")\n",
    "f.subs(x,t)"
   ]
  },
  {
   "cell_type": "code",
   "execution_count": 23,
   "metadata": {
    "colab": {
     "base_uri": "https://localhost:8080/",
     "height": 51
    },
    "id": "ej9K3BRwA3Nb",
    "outputId": "6f07e830-6cc4-4a71-8482-ddedf6e3a88b"
   },
   "outputs": [
    {
     "data": {
      "text/latex": [
       "$\\displaystyle x^{2} + \\frac{12800}{x}$"
      ],
      "text/plain": [
       "x**2 + 12800/x"
      ]
     },
     "execution_count": 23,
     "metadata": {},
     "output_type": "execute_result"
    }
   ],
   "source": [
    "f"
   ]
  },
  {
   "cell_type": "code",
   "execution_count": 24,
   "metadata": {
    "colab": {
     "base_uri": "https://localhost:8080/",
     "height": 52
    },
    "id": "oTYRPm_XAwtx",
    "outputId": "6e63da1e-df9b-40f1-916e-542f9335e6bb"
   },
   "outputs": [
    {
     "data": {
      "text/latex": [
       "$\\displaystyle \\left(x^{2} + 1\\right)^{2} + \\frac{12800}{x^{2} + 1}$"
      ],
      "text/plain": [
       "(x**2 + 1)**2 + 12800/(x**2 + 1)"
      ]
     },
     "execution_count": 24,
     "metadata": {},
     "output_type": "execute_result"
    }
   ],
   "source": [
    "f.subs(x,x**2+1)"
   ]
  },
  {
   "cell_type": "markdown",
   "metadata": {
    "id": "hLG1bmaMBAZr"
   },
   "source": [
    "Evaluasi desimal"
   ]
  },
  {
   "cell_type": "code",
   "execution_count": 25,
   "metadata": {
    "colab": {
     "base_uri": "https://localhost:8080/",
     "height": 38
    },
    "id": "GGZSfi-4A9PB",
    "outputId": "b358ed5c-4039-449e-a780-7d00d5218870"
   },
   "outputs": [
    {
     "data": {
      "text/latex": [
       "$\\displaystyle \\pi$"
      ],
      "text/plain": [
       "pi"
      ]
     },
     "execution_count": 25,
     "metadata": {},
     "output_type": "execute_result"
    }
   ],
   "source": [
    "pi"
   ]
  },
  {
   "cell_type": "code",
   "execution_count": 26,
   "metadata": {
    "colab": {
     "base_uri": "https://localhost:8080/",
     "height": 37
    },
    "id": "_NQNJ3pOBDpC",
    "outputId": "c3f38d78-622c-477d-807e-056fc4f7575c"
   },
   "outputs": [
    {
     "data": {
      "text/latex": [
       "$\\displaystyle 3.14159265358979$"
      ],
      "text/plain": [
       "3.14159265358979"
      ]
     },
     "execution_count": 26,
     "metadata": {},
     "output_type": "execute_result"
    }
   ],
   "source": [
    "pi.evalf()"
   ]
  },
  {
   "cell_type": "code",
   "execution_count": 27,
   "metadata": {
    "colab": {
     "base_uri": "https://localhost:8080/",
     "height": 37
    },
    "id": "UcjzWO37BHeh",
    "outputId": "5cc04334-3406-43e4-925c-618b16c895af"
   },
   "outputs": [
    {
     "data": {
      "text/latex": [
       "$\\displaystyle 3.14$"
      ],
      "text/plain": [
       "3.14"
      ]
     },
     "execution_count": 27,
     "metadata": {},
     "output_type": "execute_result"
    }
   ],
   "source": [
    "pi.evalf(3)"
   ]
  },
  {
   "cell_type": "markdown",
   "metadata": {
    "id": "65lhkQunBVuI"
   },
   "source": [
    "Ekspansi dan Faktorisasi"
   ]
  },
  {
   "cell_type": "code",
   "execution_count": 28,
   "metadata": {
    "colab": {
     "base_uri": "https://localhost:8080/",
     "height": 39
    },
    "id": "3F3eo7-RBVuJ",
    "outputId": "1a751f24-2731-4af1-af50-e3c9bd005ef7"
   },
   "outputs": [
    {
     "data": {
      "text/latex": [
       "$\\displaystyle \\left(x - 1\\right) \\left(x + 1\\right)^{2}$"
      ],
      "text/plain": [
       "(x - 1)*(x + 1)**2"
      ]
     },
     "execution_count": 28,
     "metadata": {},
     "output_type": "execute_result"
    }
   ],
   "source": [
    "(x + 1)**2*(x-1)"
   ]
  },
  {
   "cell_type": "code",
   "execution_count": 29,
   "metadata": {
    "colab": {
     "base_uri": "https://localhost:8080/",
     "height": 38
    },
    "id": "Abi_23fjBVuK",
    "outputId": "3b42578d-41bc-4242-a1cd-f5f641a4893d"
   },
   "outputs": [
    {
     "data": {
      "text/latex": [
       "$\\displaystyle x^{3} + x^{2} - x - 1$"
      ],
      "text/plain": [
       "x**3 + x**2 - x - 1"
      ]
     },
     "execution_count": 29,
     "metadata": {},
     "output_type": "execute_result"
    }
   ],
   "source": [
    "expand((x + 1)**2*(x-1))"
   ]
  },
  {
   "cell_type": "code",
   "execution_count": 30,
   "metadata": {
    "colab": {
     "base_uri": "https://localhost:8080/",
     "height": 38
    },
    "id": "SQoM7kSHBVuK",
    "outputId": "2a545d9f-5054-40cc-f26c-aba4b090345a"
   },
   "outputs": [
    {
     "data": {
      "text/latex": [
       "$\\displaystyle 2 x^{2} + 5 x + 3$"
      ],
      "text/plain": [
       "2*x**2 + 5*x + 3"
      ]
     },
     "execution_count": 30,
     "metadata": {},
     "output_type": "execute_result"
    }
   ],
   "source": [
    "2*x**2 + 5*x + 3"
   ]
  },
  {
   "cell_type": "code",
   "execution_count": 31,
   "metadata": {
    "colab": {
     "base_uri": "https://localhost:8080/",
     "height": 38
    },
    "id": "8Y94VhYuBVuK",
    "outputId": "d5e86e41-175a-4fae-86d4-2389bdfde4de"
   },
   "outputs": [
    {
     "data": {
      "text/latex": [
       "$\\displaystyle \\left(x + 1\\right) \\left(2 x + 3\\right)$"
      ],
      "text/plain": [
       "(x + 1)*(2*x + 3)"
      ]
     },
     "execution_count": 31,
     "metadata": {},
     "output_type": "execute_result"
    }
   ],
   "source": [
    "factor(2*x**2 + 5*x + 3)"
   ]
  },
  {
   "cell_type": "code",
   "execution_count": 32,
   "metadata": {
    "colab": {
     "base_uri": "https://localhost:8080/",
     "height": 55
    },
    "id": "HI35iaC8BVuL",
    "outputId": "165f8d5f-3a82-41b6-895b-14636eca5812"
   },
   "outputs": [
    {
     "data": {
      "text/latex": [
       "$\\displaystyle \\frac{x^{2} - 1}{x + 1}$"
      ],
      "text/plain": [
       "(x**2 - 1)/(x + 1)"
      ]
     },
     "execution_count": 32,
     "metadata": {},
     "output_type": "execute_result"
    }
   ],
   "source": [
    "(x**2-1)/(x+1)"
   ]
  },
  {
   "cell_type": "code",
   "execution_count": 33,
   "metadata": {
    "colab": {
     "base_uri": "https://localhost:8080/",
     "height": 38
    },
    "id": "kyK7arJ2BVuL",
    "outputId": "b03ba075-d2d9-4477-cbc1-3710ced413b1"
   },
   "outputs": [
    {
     "data": {
      "text/latex": [
       "$\\displaystyle x - 1$"
      ],
      "text/plain": [
       "x - 1"
      ]
     },
     "execution_count": 33,
     "metadata": {},
     "output_type": "execute_result"
    }
   ],
   "source": [
    "cancel((x**2-1)/(x+1))"
   ]
  },
  {
   "cell_type": "markdown",
   "metadata": {
    "id": "tHsuzvzYBL0y"
   },
   "source": [
    "Turunan"
   ]
  },
  {
   "cell_type": "code",
   "execution_count": 34,
   "metadata": {
    "colab": {
     "base_uri": "https://localhost:8080/",
     "height": 37
    },
    "id": "JDWV5SSmCCx6",
    "outputId": "cf4945fa-05b1-43f2-b212-4a0492ac347c"
   },
   "outputs": [
    {
     "data": {
      "text/latex": [
       "$\\displaystyle 2 x - \\frac{12800}{x^{2}}$"
      ],
      "text/plain": [
       "2*x - 12800/x**2"
      ]
     },
     "execution_count": 34,
     "metadata": {},
     "output_type": "execute_result"
    }
   ],
   "source": [
    "f = x**2 + 12800/x\n",
    "\n",
    "f.diff(x)"
   ]
  },
  {
   "cell_type": "code",
   "execution_count": 35,
   "metadata": {
    "colab": {
     "base_uri": "https://localhost:8080/",
     "height": 58
    },
    "id": "AqEHfs9wCbeG",
    "outputId": "c4ba6c5e-5f06-4abe-96c3-df7db30c2eef"
   },
   "outputs": [
    {
     "data": {
      "text/latex": [
       "$\\displaystyle 2 \\left(1 + \\frac{12800}{x^{3}}\\right)$"
      ],
      "text/plain": [
       "2*(1 + 12800/x**3)"
      ]
     },
     "execution_count": 35,
     "metadata": {},
     "output_type": "execute_result"
    }
   ],
   "source": [
    "f.diff(x,2)"
   ]
  },
  {
   "cell_type": "markdown",
   "metadata": {},
   "source": []
  },
  {
   "cell_type": "code",
   "execution_count": 37,
   "metadata": {},
   "outputs": [
    {
     "data": {
      "text/latex": [
       "$\\displaystyle x - \\cos{\\left(x \\right)}$"
      ],
      "text/plain": [
       "x - cos(x)"
      ]
     },
     "execution_count": 37,
     "metadata": {},
     "output_type": "execute_result"
    }
   ],
   "source": [
    "#tentukan lokasi akar dari f(x)=x-cos(x), interval [0,1]\n",
    "x = symbols('x')\n",
    "g = x - cos(x)\n",
    "g"
   ]
  },
  {
   "cell_type": "code",
   "execution_count": 38,
   "metadata": {},
   "outputs": [
    {
     "data": {
      "text/latex": [
       "$\\displaystyle x - \\cos{\\left(x \\right)}$"
      ],
      "text/plain": [
       "x - cos(x)"
      ]
     },
     "execution_count": 38,
     "metadata": {},
     "output_type": "execute_result"
    }
   ],
   "source": [
    "g = x - cos(x)\n",
    "g\n"
   ]
  },
  {
   "cell_type": "code",
   "execution_count": 40,
   "metadata": {},
   "outputs": [
    {
     "name": "stdout",
     "output_type": "stream",
     "text": [
      "Tidak ada akar di interval [0, 0.1]\n"
     ]
    }
   ],
   "source": [
    "#tentukan lokasi akar dari f(x)=x-cos(x), interval [0,1]\n",
    "\n",
    "for i in range(0, 1):\n",
    "    c = i - cos(i)\n",
    "    d = (i + 0.1) - cos(i + 0.1)\n",
    "    if c * d < 0:\n",
    "        print(f\"Akar terletak di interval [{i}, {i + 0.1}]\")\n",
    "    else:\n",
    "        print(f\"Tidak ada akar di interval [{i}, {i + 0.1}]\")\n"
   ]
  },
  {
   "cell_type": "code",
   "execution_count": 43,
   "metadata": {},
   "outputs": [
    {
     "name": "stdout",
     "output_type": "stream",
     "text": [
      "Akar terletak di interval [0, 0.1]\n"
     ]
    }
   ],
   "source": [
    "#tentukan lokasi akar dari f(x)=x-cos(x), interval [0,1]\n",
    "\n",
    "for i in range(0, 1):\n",
    "    c = i - cos(i)\n",
    "    if c * d < 0:\n",
    "        a = c\n",
    "        print(f\"Akar terletak di interval [{i}, {i + 0.1}]\")\n",
    "    else:\n",
    "        a = d\n",
    "        print(f\"Tidak ada akar di interval [{i}, {i + 0.1}]\")\n"
   ]
  },
  {
   "cell_type": "code",
   "execution_count": 47,
   "metadata": {},
   "outputs": [
    {
     "name": "stdout",
     "output_type": "stream",
     "text": [
      "0.7390851974487305 1.07502076684973e-7\n"
     ]
    }
   ],
   "source": [
    "from sympy import *\n",
    "\n",
    "x = symbols('x')\n",
    "f = x - cos(x)\n",
    "\n",
    "a = 0\n",
    "b = 1\n",
    "eps = 1e-6\n",
    "max_iter = 300\n",
    "i = 1\n",
    "\n",
    "while i < max_iter and b-a > eps:\n",
    "    c = (a + b) / 2\n",
    "    if f.subs(x,a) * f.subs(x,c) < 0:\n",
    "        b = c\n",
    "    else:\n",
    "        a = c\n",
    "\n",
    "print(c, f.subs(x,c))"
   ]
  },
  {
   "cell_type": "code",
   "execution_count": 51,
   "metadata": {},
   "outputs": [
    {
     "name": "stdout",
     "output_type": "stream",
     "text": [
      "0.7390851332151609 4.44089209850063e-16\n"
     ]
    }
   ],
   "source": [
    "x = symbols('x')\n",
    "g = x - cos(x)\n",
    "\n",
    "a = 0\n",
    "b = 1\n",
    "eps = 1e-6\n",
    "max_iter = 300\n",
    "\n",
    "for i in range(1, max_iter):\n",
    "    c = (a + b) / 2\n",
    "    if f.subs(x,a) * f.subs(x,c) < 0:\n",
    "        b = c\n",
    "    else:\n",
    "        a = c\n",
    "\n",
    "print(c, f.subs(x,c))"
   ]
  },
  {
   "cell_type": "markdown",
   "metadata": {},
   "source": [
    "f(x)=x^2 - sin(x), 0<x<1"
   ]
  },
  {
   "cell_type": "code",
   "execution_count": 52,
   "metadata": {},
   "outputs": [
    {
     "name": "stdout",
     "output_type": "stream",
     "text": [
      "0.8767271041870117 9.89921099425750e-7\n"
     ]
    }
   ],
   "source": [
    "x = symbols('x')\n",
    "g = x**2 - sin(x)\n",
    "\n",
    "a = 0\n",
    "b = 1\n",
    "eps = 1e-6\n",
    "max_iter = 300\n",
    "i = 1\n",
    "\n",
    "while i < max_iter and b-a > eps:\n",
    "    c = (a + b) / 2\n",
    "    if g.subs(x,a) * g.subs(x,c) < 0:\n",
    "        b = c\n",
    "    else:\n",
    "        a = c\n",
    "    i += 1\n",
    "\n",
    "print(c, g.subs(x,c))"
   ]
  },
  {
   "cell_type": "code",
   "execution_count": 62,
   "metadata": {},
   "outputs": [
    {
     "name": "stdout",
     "output_type": "stream",
     "text": [
      "0.4501829147338867 -0.450184610950823 -1.69621693590916e-6\n"
     ]
    }
   ],
   "source": [
    "x = symbols('x')\n",
    "g = x**2 - sin(x)\n",
    "df = g.diff(x)\n",
    "\n",
    "a = 0\n",
    "b = 1\n",
    "eps = 1e-6\n",
    "max_iter = 300\n",
    "i = 1\n",
    "\n",
    "while i < max_iter and b-a > eps:\n",
    "    c = (a + b) / 2\n",
    "    if df.subs(x,a) * df.subs(x,c) < 0:\n",
    "        b = c\n",
    "    else:\n",
    "        a = c\n",
    "    i += 1\n",
    "\n",
    "print(c, f.subs(x,c), df.subs(x,c))"
   ]
  },
  {
   "cell_type": "code",
   "execution_count": null,
   "metadata": {},
   "outputs": [],
   "source": []
  }
 ],
 "metadata": {
  "colab": {
   "provenance": []
  },
  "kernelspec": {
   "display_name": "Python 3",
   "name": "python3"
  },
  "language_info": {
   "codemirror_mode": {
    "name": "ipython",
    "version": 3
   },
   "file_extension": ".py",
   "mimetype": "text/x-python",
   "name": "python",
   "nbconvert_exporter": "python",
   "pygments_lexer": "ipython3",
   "version": "3.11.9"
  }
 },
 "nbformat": 4,
 "nbformat_minor": 0
}
