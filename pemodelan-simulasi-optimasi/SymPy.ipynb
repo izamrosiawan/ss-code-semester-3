{
  "nbformat": 4,
  "nbformat_minor": 0,
  "metadata": {
    "colab": {
      "provenance": []
    },
    "kernelspec": {
      "name": "python3",
      "display_name": "Python 3"
    },
    "language_info": {
      "name": "python"
    }
  },
  "cells": [
    {
      "cell_type": "markdown",
      "source": [
        "#Live Coding: DS 04-02"
      ],
      "metadata": {
        "id": "w1shyrob-7eR"
      }
    },
    {
      "cell_type": "code",
      "execution_count": null,
      "metadata": {
        "id": "8XPbVJTtgNX9",
        "colab": {
          "base_uri": "https://localhost:8080/",
          "height": 38
        },
        "outputId": "1de6ea62-197c-4a56-db5a-417ae7c1472c"
      },
      "outputs": [
        {
          "output_type": "execute_result",
          "data": {
            "text/plain": [
              "3*x**2 + 5*x - 2"
            ],
            "text/latex": "$\\displaystyle 3 x^{2} + 5 x - 2$"
          },
          "metadata": {},
          "execution_count": 4
        }
      ],
      "source": [
        "from sympy import *\n",
        "x = symbols(\"x\")\n",
        "\n",
        "f = 3*x**2 + 5*x - 2\n",
        "f"
      ]
    },
    {
      "cell_type": "code",
      "source": [
        "variabel = symbols(\"apa\")\n",
        "f = variabel + 3\n",
        "f"
      ],
      "metadata": {
        "colab": {
          "base_uri": "https://localhost:8080/",
          "height": 38
        },
        "id": "yMoe9NJFjtss",
        "outputId": "2d02e871-496e-40c0-ee26-1b08f6cb4f6c"
      },
      "execution_count": null,
      "outputs": [
        {
          "output_type": "execute_result",
          "data": {
            "text/plain": [
              "apa + 3"
            ],
            "text/latex": "$\\displaystyle apa + 3$"
          },
          "metadata": {},
          "execution_count": 5
        }
      ]
    },
    {
      "cell_type": "markdown",
      "source": [
        "Substitusi"
      ],
      "metadata": {
        "id": "r0L27FMmkDAp"
      }
    },
    {
      "cell_type": "code",
      "source": [
        "f = 3*x - 2\n",
        "f.subs(x,3)"
      ],
      "metadata": {
        "colab": {
          "base_uri": "https://localhost:8080/",
          "height": 37
        },
        "id": "AwFjK9oyj3vF",
        "outputId": "af56dd0b-7157-4502-ecce-e299143446a9"
      },
      "execution_count": null,
      "outputs": [
        {
          "output_type": "execute_result",
          "data": {
            "text/plain": [
              "7"
            ],
            "text/latex": "$\\displaystyle 7$"
          },
          "metadata": {},
          "execution_count": 6
        }
      ]
    },
    {
      "cell_type": "code",
      "source": [
        "t = symbols(\"t\")\n",
        "f.subs(x,t)"
      ],
      "metadata": {
        "colab": {
          "base_uri": "https://localhost:8080/",
          "height": 38
        },
        "id": "7zM1HJTwkXoq",
        "outputId": "1c7baf3e-e0d8-4360-a65e-a3c4b1e2b5d5"
      },
      "execution_count": null,
      "outputs": [
        {
          "output_type": "execute_result",
          "data": {
            "text/plain": [
              "3*t - 2"
            ],
            "text/latex": "$\\displaystyle 3 t - 2$"
          },
          "metadata": {},
          "execution_count": 7
        }
      ]
    },
    {
      "cell_type": "code",
      "source": [
        "f.subs(x,x**2)"
      ],
      "metadata": {
        "colab": {
          "base_uri": "https://localhost:8080/",
          "height": 38
        },
        "id": "5QJEqiUAkfjL",
        "outputId": "6b34c0e4-0674-4424-8932-17c331d80f57"
      },
      "execution_count": null,
      "outputs": [
        {
          "output_type": "execute_result",
          "data": {
            "text/plain": [
              "3*x**2 - 2"
            ],
            "text/latex": "$\\displaystyle 3 x^{2} - 2$"
          },
          "metadata": {},
          "execution_count": 10
        }
      ]
    },
    {
      "cell_type": "code",
      "source": [
        "f = sin(x)\n",
        "f.subs(x,0.1*pi)"
      ],
      "metadata": {
        "colab": {
          "base_uri": "https://localhost:8080/",
          "height": 38
        },
        "id": "FsGLuLH5kzaE",
        "outputId": "dd80500b-84e9-43fa-b516-1f5a8fdaab9e"
      },
      "execution_count": null,
      "outputs": [
        {
          "output_type": "execute_result",
          "data": {
            "text/plain": [
              "sin(0.1*pi)"
            ],
            "text/latex": "$\\displaystyle \\sin{\\left(0.1 \\pi \\right)}$"
          },
          "metadata": {},
          "execution_count": 16
        }
      ]
    },
    {
      "cell_type": "markdown",
      "source": [
        "Menghitung secara desimal (float)"
      ],
      "metadata": {
        "id": "5lqU8_Q_lMG_"
      }
    },
    {
      "cell_type": "code",
      "source": [
        "pi.evalf()"
      ],
      "metadata": {
        "colab": {
          "base_uri": "https://localhost:8080/",
          "height": 37
        },
        "id": "Ee8gcvDAlP_F",
        "outputId": "97f64d67-47b7-4801-c87e-6c1da27b1b43"
      },
      "execution_count": null,
      "outputs": [
        {
          "output_type": "execute_result",
          "data": {
            "text/plain": [
              "3.14159265358979"
            ],
            "text/latex": "$\\displaystyle 3.14159265358979$"
          },
          "metadata": {},
          "execution_count": 17
        }
      ]
    },
    {
      "cell_type": "code",
      "source": [
        "pi.evalf(3)"
      ],
      "metadata": {
        "colab": {
          "base_uri": "https://localhost:8080/",
          "height": 37
        },
        "id": "xDt7Ms_ElX43",
        "outputId": "ae80b4de-3a7d-448e-b285-d44f66e95ad3"
      },
      "execution_count": null,
      "outputs": [
        {
          "output_type": "execute_result",
          "data": {
            "text/plain": [
              "3.14"
            ],
            "text/latex": "$\\displaystyle 3.14$"
          },
          "metadata": {},
          "execution_count": 18
        }
      ]
    },
    {
      "cell_type": "code",
      "source": [
        "f.subs(x,0.1*pi).evalf()"
      ],
      "metadata": {
        "colab": {
          "base_uri": "https://localhost:8080/",
          "height": 37
        },
        "id": "xicxZ5Z5lg7L",
        "outputId": "c0af50d6-d011-4480-c89e-b50ee1f165b0"
      },
      "execution_count": null,
      "outputs": [
        {
          "output_type": "execute_result",
          "data": {
            "text/plain": [
              "0.309016994374947"
            ],
            "text/latex": "$\\displaystyle 0.309016994374947$"
          },
          "metadata": {},
          "execution_count": 19
        }
      ]
    },
    {
      "cell_type": "markdown",
      "source": [
        "Ekspansi dan Faktorisasi"
      ],
      "metadata": {
        "id": "1fP1l51EDOpF"
      }
    },
    {
      "cell_type": "code",
      "source": [
        "(x + 1)**2*(x-1)"
      ],
      "metadata": {
        "colab": {
          "base_uri": "https://localhost:8080/",
          "height": 39
        },
        "id": "akjYJlW1Eftq",
        "outputId": "a82660b6-a6b6-443a-edb8-28dbde7f7bdd"
      },
      "execution_count": null,
      "outputs": [
        {
          "output_type": "execute_result",
          "data": {
            "text/plain": [
              "(x - 1)*(x + 1)**2"
            ],
            "text/latex": "$\\displaystyle \\left(x - 1\\right) \\left(x + 1\\right)^{2}$"
          },
          "metadata": {},
          "execution_count": 14
        }
      ]
    },
    {
      "cell_type": "code",
      "source": [
        "expand((x + 1)**2*(x-1))"
      ],
      "metadata": {
        "colab": {
          "base_uri": "https://localhost:8080/",
          "height": 38
        },
        "id": "299lTeC2DFUT",
        "outputId": "3faba6f2-258e-43d6-d270-b4b77333eff2"
      },
      "execution_count": null,
      "outputs": [
        {
          "output_type": "execute_result",
          "data": {
            "text/plain": [
              "x**3 + x**2 - x - 1"
            ],
            "text/latex": "$\\displaystyle x^{3} + x^{2} - x - 1$"
          },
          "metadata": {},
          "execution_count": 5
        }
      ]
    },
    {
      "cell_type": "code",
      "source": [
        "2*x**2 + 5*x + 3"
      ],
      "metadata": {
        "colab": {
          "base_uri": "https://localhost:8080/",
          "height": 38
        },
        "id": "hK6amcxkEhwA",
        "outputId": "5fb8ed6a-d00d-4793-b41e-d7d09c61c0f3"
      },
      "execution_count": null,
      "outputs": [
        {
          "output_type": "execute_result",
          "data": {
            "text/plain": [
              "2*x**2 + 5*x + 3"
            ],
            "text/latex": "$\\displaystyle 2 x^{2} + 5 x + 3$"
          },
          "metadata": {},
          "execution_count": 15
        }
      ]
    },
    {
      "cell_type": "code",
      "source": [
        "factor(2*x**2 + 5*x + 3)"
      ],
      "metadata": {
        "colab": {
          "base_uri": "https://localhost:8080/",
          "height": 38
        },
        "id": "sN0d6Di2DSi_",
        "outputId": "1ae9f2f9-379b-48de-e0a2-1c5969f9d9b2"
      },
      "execution_count": null,
      "outputs": [
        {
          "output_type": "execute_result",
          "data": {
            "text/plain": [
              "(x + 1)*(2*x + 3)"
            ],
            "text/latex": "$\\displaystyle \\left(x + 1\\right) \\left(2 x + 3\\right)$"
          },
          "metadata": {},
          "execution_count": 3
        }
      ]
    },
    {
      "cell_type": "code",
      "source": [
        "(x**2-1)/(x+1)"
      ],
      "metadata": {
        "colab": {
          "base_uri": "https://localhost:8080/",
          "height": 55
        },
        "id": "hnSIj7HMEUsf",
        "outputId": "0dadb269-0c28-4403-b51c-79b8cda42722"
      },
      "execution_count": null,
      "outputs": [
        {
          "output_type": "execute_result",
          "data": {
            "text/plain": [
              "(x**2 - 1)/(x + 1)"
            ],
            "text/latex": "$\\displaystyle \\frac{x^{2} - 1}{x + 1}$"
          },
          "metadata": {},
          "execution_count": 16
        }
      ]
    },
    {
      "cell_type": "code",
      "source": [
        "cancel((x**2-1)/(x+1))"
      ],
      "metadata": {
        "colab": {
          "base_uri": "https://localhost:8080/",
          "height": 38
        },
        "id": "sBxz2wENEp9Q",
        "outputId": "b4fe0543-15a5-4930-edb3-b2e9163482f2"
      },
      "execution_count": null,
      "outputs": [
        {
          "output_type": "execute_result",
          "data": {
            "text/plain": [
              "x - 1"
            ],
            "text/latex": "$\\displaystyle x - 1$"
          },
          "metadata": {},
          "execution_count": 17
        }
      ]
    },
    {
      "cell_type": "markdown",
      "source": [
        "Turunan"
      ],
      "metadata": {
        "id": "g3r4-8eYcGfF"
      }
    },
    {
      "cell_type": "code",
      "source": [
        "f = x**3 - 2*x + 1\n",
        "\n",
        "f.diff(x)"
      ],
      "metadata": {
        "colab": {
          "base_uri": "https://localhost:8080/",
          "height": 17
        },
        "id": "MPkXTdVPl8kk",
        "outputId": "07eb10b0-f24c-4344-dce9-55a6027935ad"
      },
      "execution_count": null,
      "outputs": [
        {
          "output_type": "execute_result",
          "data": {
            "text/plain": [
              "   2    \n",
              "3⋅x  - 2"
            ],
            "text/latex": "$\\displaystyle 3 x^{2} - 2$"
          },
          "metadata": {},
          "execution_count": 71
        }
      ]
    },
    {
      "cell_type": "markdown",
      "source": [
        "Turunan ke-$n$"
      ],
      "metadata": {
        "id": "vvBCF9_nnUNR"
      }
    },
    {
      "cell_type": "code",
      "source": [
        "f = cos(7*x)\n",
        "\n",
        "f.diff(x,2)"
      ],
      "metadata": {
        "colab": {
          "base_uri": "https://localhost:8080/",
          "height": 38
        },
        "id": "VElH3Gq0mu5W",
        "outputId": "a99e49c4-2eed-4dd5-e5a9-9ebd05f6c41e"
      },
      "execution_count": null,
      "outputs": [
        {
          "output_type": "execute_result",
          "data": {
            "text/plain": [
              "-49*cos(7*x)"
            ],
            "text/latex": "$\\displaystyle - 49 \\cos{\\left(7 x \\right)}$"
          },
          "metadata": {},
          "execution_count": 20
        }
      ]
    },
    {
      "cell_type": "markdown",
      "source": [
        "#Live Coding: DS 04-01"
      ],
      "metadata": {
        "id": "Th_iQde0_BUE"
      }
    },
    {
      "cell_type": "code",
      "source": [
        "from sympy import *\n",
        "\n",
        "# buat variabel\n",
        "x = symbols('x')\n",
        "\n",
        "# buat fungsi\n",
        "f = x**2 + 12800/x\n",
        "\n",
        "# tampilan fungsi\n",
        "f"
      ],
      "metadata": {
        "colab": {
          "base_uri": "https://localhost:8080/",
          "height": 51
        },
        "id": "AuSF-3kh_Ejn",
        "outputId": "01038ad1-1026-43a2-e836-6ec4f9b69190"
      },
      "execution_count": null,
      "outputs": [
        {
          "output_type": "execute_result",
          "data": {
            "text/plain": [
              "x**2 + 12800/x"
            ],
            "text/latex": "$\\displaystyle x^{2} + \\frac{12800}{x}$"
          },
          "metadata": {},
          "execution_count": 10
        }
      ]
    },
    {
      "cell_type": "code",
      "source": [
        "# variabel tidak harus sama namanya\n",
        "variabel = symbols(\"apa\")\n",
        "\n",
        "variabel + 3"
      ],
      "metadata": {
        "colab": {
          "base_uri": "https://localhost:8080/",
          "height": 38
        },
        "id": "6nPTNS0B_w-E",
        "outputId": "18704c0e-ff72-4a89-bf6b-c61607549374"
      },
      "execution_count": null,
      "outputs": [
        {
          "output_type": "execute_result",
          "data": {
            "text/plain": [
              "apa + 3"
            ],
            "text/latex": "$\\displaystyle apa + 3$"
          },
          "metadata": {},
          "execution_count": 2
        }
      ]
    },
    {
      "cell_type": "code",
      "source": [
        "# substitusi\n",
        "f.subs(x,100)"
      ],
      "metadata": {
        "colab": {
          "base_uri": "https://localhost:8080/",
          "height": 37
        },
        "id": "JX9CmLPk__I2",
        "outputId": "0977bab1-3f10-44a5-841e-cd9a84825394"
      },
      "execution_count": null,
      "outputs": [
        {
          "output_type": "execute_result",
          "data": {
            "text/plain": [
              "10128"
            ],
            "text/latex": "$\\displaystyle 10128$"
          },
          "metadata": {},
          "execution_count": 9
        }
      ]
    },
    {
      "cell_type": "code",
      "source": [
        "t = symbols(\"t\")\n",
        "f.subs(x,t)"
      ],
      "metadata": {
        "colab": {
          "base_uri": "https://localhost:8080/",
          "height": 51
        },
        "id": "UKJGi9ZgAafD",
        "outputId": "f61fdb22-7bf8-4293-a995-ff4d4fdffa80"
      },
      "execution_count": null,
      "outputs": [
        {
          "output_type": "execute_result",
          "data": {
            "text/plain": [
              "t**2 + 12800/t"
            ],
            "text/latex": "$\\displaystyle t^{2} + \\frac{12800}{t}$"
          },
          "metadata": {},
          "execution_count": 11
        }
      ]
    },
    {
      "cell_type": "code",
      "source": [
        "f"
      ],
      "metadata": {
        "colab": {
          "base_uri": "https://localhost:8080/",
          "height": 51
        },
        "id": "ej9K3BRwA3Nb",
        "outputId": "6f07e830-6cc4-4a71-8482-ddedf6e3a88b"
      },
      "execution_count": null,
      "outputs": [
        {
          "output_type": "execute_result",
          "data": {
            "text/plain": [
              "x**2 + 12800/x"
            ],
            "text/latex": "$\\displaystyle x^{2} + \\frac{12800}{x}$"
          },
          "metadata": {},
          "execution_count": 13
        }
      ]
    },
    {
      "cell_type": "code",
      "source": [
        "f.subs(x,x**2+1)"
      ],
      "metadata": {
        "colab": {
          "base_uri": "https://localhost:8080/",
          "height": 52
        },
        "id": "oTYRPm_XAwtx",
        "outputId": "6e63da1e-df9b-40f1-916e-542f9335e6bb"
      },
      "execution_count": null,
      "outputs": [
        {
          "output_type": "execute_result",
          "data": {
            "text/plain": [
              "(x**2 + 1)**2 + 12800/(x**2 + 1)"
            ],
            "text/latex": "$\\displaystyle \\left(x^{2} + 1\\right)^{2} + \\frac{12800}{x^{2} + 1}$"
          },
          "metadata": {},
          "execution_count": 12
        }
      ]
    },
    {
      "cell_type": "markdown",
      "source": [
        "Evaluasi desimal"
      ],
      "metadata": {
        "id": "hLG1bmaMBAZr"
      }
    },
    {
      "cell_type": "code",
      "source": [
        "pi"
      ],
      "metadata": {
        "colab": {
          "base_uri": "https://localhost:8080/",
          "height": 38
        },
        "id": "GGZSfi-4A9PB",
        "outputId": "b358ed5c-4039-449e-a780-7d00d5218870"
      },
      "execution_count": null,
      "outputs": [
        {
          "output_type": "execute_result",
          "data": {
            "text/plain": [
              "pi"
            ],
            "text/latex": "$\\displaystyle \\pi$"
          },
          "metadata": {},
          "execution_count": 14
        }
      ]
    },
    {
      "cell_type": "code",
      "source": [
        "pi.evalf()"
      ],
      "metadata": {
        "colab": {
          "base_uri": "https://localhost:8080/",
          "height": 37
        },
        "id": "_NQNJ3pOBDpC",
        "outputId": "c3f38d78-622c-477d-807e-056fc4f7575c"
      },
      "execution_count": null,
      "outputs": [
        {
          "output_type": "execute_result",
          "data": {
            "text/plain": [
              "3.14159265358979"
            ],
            "text/latex": "$\\displaystyle 3.14159265358979$"
          },
          "metadata": {},
          "execution_count": 16
        }
      ]
    },
    {
      "cell_type": "code",
      "source": [
        "pi.evalf(3)"
      ],
      "metadata": {
        "colab": {
          "base_uri": "https://localhost:8080/",
          "height": 37
        },
        "id": "UcjzWO37BHeh",
        "outputId": "5cc04334-3406-43e4-925c-618b16c895af"
      },
      "execution_count": null,
      "outputs": [
        {
          "output_type": "execute_result",
          "data": {
            "text/plain": [
              "3.14"
            ],
            "text/latex": "$\\displaystyle 3.14$"
          },
          "metadata": {},
          "execution_count": 17
        }
      ]
    },
    {
      "cell_type": "markdown",
      "source": [
        "Ekspansi dan Faktorisasi"
      ],
      "metadata": {
        "id": "65lhkQunBVuI"
      }
    },
    {
      "cell_type": "code",
      "source": [
        "(x + 1)**2*(x-1)"
      ],
      "metadata": {
        "colab": {
          "base_uri": "https://localhost:8080/",
          "height": 39
        },
        "outputId": "1a751f24-2731-4af1-af50-e3c9bd005ef7",
        "id": "3F3eo7-RBVuJ"
      },
      "execution_count": null,
      "outputs": [
        {
          "output_type": "execute_result",
          "data": {
            "text/plain": [
              "(x - 1)*(x + 1)**2"
            ],
            "text/latex": "$\\displaystyle \\left(x - 1\\right) \\left(x + 1\\right)^{2}$"
          },
          "metadata": {},
          "execution_count": 18
        }
      ]
    },
    {
      "cell_type": "code",
      "source": [
        "expand((x + 1)**2*(x-1))"
      ],
      "metadata": {
        "colab": {
          "base_uri": "https://localhost:8080/",
          "height": 38
        },
        "outputId": "3b42578d-41bc-4242-a1cd-f5f641a4893d",
        "id": "Abi_23fjBVuK"
      },
      "execution_count": null,
      "outputs": [
        {
          "output_type": "execute_result",
          "data": {
            "text/plain": [
              "x**3 + x**2 - x - 1"
            ],
            "text/latex": "$\\displaystyle x^{3} + x^{2} - x - 1$"
          },
          "metadata": {},
          "execution_count": 19
        }
      ]
    },
    {
      "cell_type": "code",
      "source": [
        "2*x**2 + 5*x + 3"
      ],
      "metadata": {
        "colab": {
          "base_uri": "https://localhost:8080/",
          "height": 38
        },
        "outputId": "2a545d9f-5054-40cc-f26c-aba4b090345a",
        "id": "SQoM7kSHBVuK"
      },
      "execution_count": null,
      "outputs": [
        {
          "output_type": "execute_result",
          "data": {
            "text/plain": [
              "2*x**2 + 5*x + 3"
            ],
            "text/latex": "$\\displaystyle 2 x^{2} + 5 x + 3$"
          },
          "metadata": {},
          "execution_count": 20
        }
      ]
    },
    {
      "cell_type": "code",
      "source": [
        "factor(2*x**2 + 5*x + 3)"
      ],
      "metadata": {
        "colab": {
          "base_uri": "https://localhost:8080/",
          "height": 38
        },
        "outputId": "d5e86e41-175a-4fae-86d4-2389bdfde4de",
        "id": "8Y94VhYuBVuK"
      },
      "execution_count": null,
      "outputs": [
        {
          "output_type": "execute_result",
          "data": {
            "text/plain": [
              "(x + 1)*(2*x + 3)"
            ],
            "text/latex": "$\\displaystyle \\left(x + 1\\right) \\left(2 x + 3\\right)$"
          },
          "metadata": {},
          "execution_count": 21
        }
      ]
    },
    {
      "cell_type": "code",
      "source": [
        "(x**2-1)/(x+1)"
      ],
      "metadata": {
        "colab": {
          "base_uri": "https://localhost:8080/",
          "height": 55
        },
        "outputId": "165f8d5f-3a82-41b6-895b-14636eca5812",
        "id": "HI35iaC8BVuL"
      },
      "execution_count": null,
      "outputs": [
        {
          "output_type": "execute_result",
          "data": {
            "text/plain": [
              "(x**2 - 1)/(x + 1)"
            ],
            "text/latex": "$\\displaystyle \\frac{x^{2} - 1}{x + 1}$"
          },
          "metadata": {},
          "execution_count": 22
        }
      ]
    },
    {
      "cell_type": "code",
      "source": [
        "cancel((x**2-1)/(x+1))"
      ],
      "metadata": {
        "colab": {
          "base_uri": "https://localhost:8080/",
          "height": 38
        },
        "outputId": "b03ba075-d2d9-4477-cbc1-3710ced413b1",
        "id": "kyK7arJ2BVuL"
      },
      "execution_count": null,
      "outputs": [
        {
          "output_type": "execute_result",
          "data": {
            "text/plain": [
              "x - 1"
            ],
            "text/latex": "$\\displaystyle x - 1$"
          },
          "metadata": {},
          "execution_count": 23
        }
      ]
    },
    {
      "cell_type": "markdown",
      "source": [
        "Turunan"
      ],
      "metadata": {
        "id": "tHsuzvzYBL0y"
      }
    },
    {
      "cell_type": "code",
      "source": [
        "f = x**2 + 12800/x\n",
        "\n",
        "f.diff(x)"
      ],
      "metadata": {
        "colab": {
          "base_uri": "https://localhost:8080/",
          "height": 37
        },
        "id": "JDWV5SSmCCx6",
        "outputId": "cf4945fa-05b1-43f2-b212-4a0492ac347c"
      },
      "execution_count": null,
      "outputs": [
        {
          "output_type": "execute_result",
          "data": {
            "text/plain": [
              "-108"
            ],
            "text/latex": "$\\displaystyle -108$"
          },
          "metadata": {},
          "execution_count": 28
        }
      ]
    },
    {
      "cell_type": "code",
      "source": [
        "f.diff(x,2)"
      ],
      "metadata": {
        "colab": {
          "base_uri": "https://localhost:8080/",
          "height": 58
        },
        "id": "AqEHfs9wCbeG",
        "outputId": "c4ba6c5e-5f06-4abe-96c3-df7db30c2eef"
      },
      "execution_count": null,
      "outputs": [
        {
          "output_type": "execute_result",
          "data": {
            "text/plain": [
              "2*(1 + 12800/x**3)"
            ],
            "text/latex": "$\\displaystyle 2 \\left(1 + \\frac{12800}{x^{3}}\\right)$"
          },
          "metadata": {},
          "execution_count": 27
        }
      ]
    }
  ]
}