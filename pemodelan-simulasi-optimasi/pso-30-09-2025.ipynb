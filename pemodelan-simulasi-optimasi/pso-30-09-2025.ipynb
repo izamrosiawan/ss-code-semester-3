{
 "cells": [
  {
   "cell_type": "code",
   "execution_count": null,
   "id": "dbef60da",
   "metadata": {},
   "outputs": [
    {
     "name": "stdout",
     "output_type": "stream",
     "text": [
      "100 not found at index 0\n",
      "100 not found at index 1\n",
      "100 not found at index 2\n",
      "100 not found at index 3\n",
      "Found 100 at index 4\n"
     ]
    }
   ],
   "source": [
    "angka = [1,5,3,2,100,12,25,17,23,13]\n",
    "n = 100\n",
    "\n",
    "for i in range(len(angka)):\n",
    "    if angka[i] == n:\n",
    "        print(f\"Found {n} at index {i}\")\n",
    "        break\n",
    "    else:\n",
    "        print(f\"{n} not found at index {i}\")\n",
    "        "
   ]
  },
  {
   "cell_type": "code",
   "execution_count": 2,
   "id": "4acd0fd9",
   "metadata": {},
   "outputs": [
    {
     "name": "stdout",
     "output_type": "stream",
     "text": [
      "100 not found at index 0\n",
      "100 not found at index 1\n",
      "100 not found at index 2\n",
      "100 not found at index 3\n",
      "Found 100 at index 4\n",
      "100 not found at index 5\n",
      "100 not found at index 6\n",
      "100 not found at index 7\n",
      "100 not found at index 8\n",
      "100 not found at index 9\n"
     ]
    }
   ],
   "source": [
    "angka = [1,5,3,2,100,12,25,17,23,13]\n",
    "\n",
    "for i in angka:\n",
    "    if i == 100:\n",
    "        print(f\"Found {n} at index {angka.index(i)}\")\n",
    "    else:\n",
    "        print(f\"{n} not found at index {angka.index(i)}\")\n",
    "    "
   ]
  },
  {
   "cell_type": "code",
   "execution_count": 4,
   "id": "5585142d",
   "metadata": {},
   "outputs": [
    {
     "name": "stdout",
     "output_type": "stream",
     "text": [
      "Found 100 at index 9\n"
     ]
    }
   ],
   "source": [
    "angka = [1,5,3,2,100,12,25,17,23,13]\n",
    "\n",
    "def binary_search(arr, target):\n",
    "    low = 0\n",
    "    high = len(arr) - 1\n",
    "    \n",
    "    while low <= high:\n",
    "        mid = (low + high) // 2\n",
    "        guess = arr[mid]\n",
    "        \n",
    "        if guess == target:\n",
    "            return mid\n",
    "        if guess > target:\n",
    "            high = mid - 1\n",
    "        else:\n",
    "            low = mid + 1\n",
    "    return None\n",
    "\n",
    "result = binary_search(sorted(angka), 100)\n",
    "if result is not None:\n",
    "    print(f\"Found {n} at index {result}\")\n",
    "else:\n",
    "    print(f\"{n} not found in the list\")\n",
    "    "
   ]
  },
  {
   "cell_type": "code",
   "execution_count": 7,
   "id": "62994677",
   "metadata": {},
   "outputs": [
    {
     "name": "stdout",
     "output_type": "stream",
     "text": [
      "4\n"
     ]
    }
   ],
   "source": [
    "arr = [1,5,3,2,100,12,25,17,23,13]\n",
    "x = 100\n",
    "\n",
    "low = 0\n",
    "high = len(arr) - 1\n",
    "result = -1\n",
    "\n",
    "while low <= high:\n",
    "    mid = (low + high) // 2\n",
    "    if arr[mid] == x:\n",
    "        result = mid\n",
    "        break\n",
    "    elif arr[mid] < x:\n",
    "        low = mid + 1\n",
    "    else:\n",
    "        high = mid - 1\n",
    "\n",
    "print(result)"
   ]
  },
  {
   "cell_type": "code",
   "execution_count": null,
   "id": "cb2a1a07",
   "metadata": {},
   "outputs": [],
   "source": [
    "arr = [1,5,3,2,100,12,25,17,23,13]\n",
    "x = 100\n",
    "def binary_search_recursive(arr, low, high, x):\n",
    "    if high >= low:\n",
    "        mid = (low + high) // 2\n",
    "        if arr[mid] == x:\n",
    "            return mid\n",
    "        elif arr[mid] > x:\n",
    "            return binary_search_recursive(arr, low, mid - 1, x)\n",
    "        else:\n",
    "            return binary_search_recursive(arr, mid + 1, high, x)\n",
    "    else:\n",
    "        return -1"
   ]
  }
 ],
 "metadata": {
  "kernelspec": {
   "display_name": "Python 3",
   "language": "python",
   "name": "python3"
  },
  "language_info": {
   "codemirror_mode": {
    "name": "ipython",
    "version": 3
   },
   "file_extension": ".py",
   "mimetype": "text/x-python",
   "name": "python",
   "nbconvert_exporter": "python",
   "pygments_lexer": "ipython3",
   "version": "3.11.9"
  }
 },
 "nbformat": 4,
 "nbformat_minor": 5
}
